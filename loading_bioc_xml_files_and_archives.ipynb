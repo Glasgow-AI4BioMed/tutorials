{
  "nbformat": 4,
  "nbformat_minor": 0,
  "metadata": {
    "colab": {
      "provenance": []
    },
    "kernelspec": {
      "name": "python3",
      "display_name": "Python 3"
    },
    "language_info": {
      "name": "python"
    }
  },
  "cells": [
    {
      "cell_type": "markdown",
      "source": [
        "[![Colab Badge Link](https://img.shields.io/badge/open-in%20colab-blue)](https://colab.research.google.com/github/Glasgow-AI4BioMed/tutorials/blob/main/loading_bioc_xml_files_and_archives.ipynb)\n",
        "\n",
        "# Loading BioC XML files plus dealing with an archive of them\n",
        "\n",
        "This Colab runs through using the [bioc Python package](https://github.com/bionlplab/bioc) to load a BioC XML file with entity annotations. This should be helpful for working with the [large BioC XML files provided by PubTator](https://ftp.ncbi.nlm.nih.gov/pub/lu/PubTatorCentral/PubTatorCentral_BioCXML/)\n"
      ],
      "metadata": {
        "id": "3SZ6pZoRHTzP"
      }
    },
    {
      "cell_type": "markdown",
      "source": [
        "### Getting some data and installing the bioc package.\n",
        "\n",
        "I've predownloaded a couple BioC XML files from [PubTator Central](https://www.ncbi.nlm.nih.gov/research/pubtator/api.html) and put them into a gzipped tar archive. It's on [OneDrive](\n",
        "https://gla-my.sharepoint.com/:u:/g/personal/jake_lever_glasgow_ac_uk/EZJFs8-q_PZOvanwCq1PFxQBm_nHdxtrM9AlxNkb_hyW8Q?e=SKG2aU). Let's download it with the command below."
      ],
      "metadata": {
        "id": "2mtZmYXbJBHU"
      }
    },
    {
      "cell_type": "code",
      "execution_count": null,
      "metadata": {
        "id": "rfreaZZTAzf9"
      },
      "outputs": [],
      "source": [
        "!wget -O example_bioc_files.tar.gz https://gla-my.sharepoint.com/:u:/g/personal/jake_lever_glasgow_ac_uk/EZJFs8-q_PZOvanwCq1PFxQBm_nHdxtrM9AlxNkb_hyW8Q?download=1"
      ]
    },
    {
      "cell_type": "markdown",
      "source": [
        "You could decompress the archive with the command below. **However, this is a bad idea for very large files and we can deal with the compressed archive form directly - see the final part of this colab**."
      ],
      "metadata": {
        "id": "kgEIdrRmJPr6"
      }
    },
    {
      "cell_type": "code",
      "source": [
        "!tar xvf example_bioc_files.tar.gz"
      ],
      "metadata": {
        "id": "_g6DQho2A8xK"
      },
      "execution_count": null,
      "outputs": []
    },
    {
      "cell_type": "markdown",
      "source": [
        "We're going to use the [bioc](https://github.com/bionlplab/bioc) Python package to load the file. So let's install that:"
      ],
      "metadata": {
        "id": "MYLQaPnoJcRs"
      }
    },
    {
      "cell_type": "code",
      "source": [
        "!pip install bioc"
      ],
      "metadata": {
        "id": "twN6TJpiBJWw"
      },
      "execution_count": null,
      "outputs": []
    },
    {
      "cell_type": "markdown",
      "source": [
        "### Loading a single BioC XML file\n",
        "\n",
        "To load a single file, you could use the code below to load up the file that may contain multiple documents, along with annotations."
      ],
      "metadata": {
        "id": "NdHNXCqoJ0nF"
      }
    },
    {
      "cell_type": "code",
      "source": [
        "import bioc\n",
        "with open('selected_files/36066408.bioc.xml', 'r') as fp:\n",
        "  collection = bioc.biocxml.load(fp)\n",
        "len(collection.documents)"
      ],
      "metadata": {
        "id": "nJm9f8DSBLsb"
      },
      "execution_count": null,
      "outputs": []
    },
    {
      "cell_type": "markdown",
      "source": [
        "You can then iterate through the documents, the passages in each document that contain text and then the entity annotations within those passages. The code below illustrates how to access those different parts"
      ],
      "metadata": {
        "id": "Ws3geZN1KGFQ"
      }
    },
    {
      "cell_type": "code",
      "source": [
        "for document in collection.documents:\n",
        "  print(f\"{document.id=}\")\n",
        "  for passage in document.passages:\n",
        "    print(f\"{passage.offset=}\")\n",
        "    print(f\"{passage.text=}\")\n",
        "    for anno in passage.annotations:\n",
        "      start = anno.locations[0].offset\n",
        "      end = start + anno.locations[0].length\n",
        "      anno_type = anno.infons['type']\n",
        "      concept_id = anno.infons['identifier']\n",
        "\n",
        "      print(f\"{anno.text=} {start=} {end=} {anno_type=} {concept_id=}\")\n",
        "    print()"
      ],
      "metadata": {
        "id": "7fm213pIGHA8"
      },
      "execution_count": null,
      "outputs": []
    },
    {
      "cell_type": "markdown",
      "source": [
        "### Dealing with an archive of BioC XML files\n",
        "\n",
        "It is often a better idea to not extract all the BioC XML files before dealing with them, and instead work with the archive directly. You can do that using the tarfile package. For instance, to get a file-listing inside a tar.gz file:"
      ],
      "metadata": {
        "id": "T-YmYdSCKQlo"
      }
    },
    {
      "cell_type": "code",
      "source": [
        "import tarfile\n",
        "\n",
        "source = \"example_bioc_files.tar.gz\"\n",
        "\n",
        "with tarfile.open(source) as archive:\n",
        "  for member in archive:\n",
        "    print(f\"{member.name=} {member.isfile()=}\")"
      ],
      "metadata": {
        "id": "oPEacdHRE6aP"
      },
      "execution_count": null,
      "outputs": []
    },
    {
      "cell_type": "markdown",
      "source": [
        "Then, we can put the `bioc` and `tarfile` code together to iterate through all the files in the archive and extract out the document, passage and annotation information."
      ],
      "metadata": {
        "id": "tFouNeJMKdj4"
      }
    },
    {
      "cell_type": "code",
      "source": [
        "with tarfile.open(source) as archive:\n",
        "  for member in archive:\n",
        "    if member.isfile() and member.name.lower().endswith('xml'):\n",
        "      print(f\"{member.name=}\")\n",
        "\n",
        "      file_handle = archive.extractfile(member)\n",
        "      data = file_handle.read().decode('utf-8')\n",
        "\n",
        "      collection = bioc.biocxml.loads(data)\n",
        "\n",
        "      for document in collection.documents:\n",
        "        print(f\"{document.id=}\")\n",
        "        for passage in document.passages:\n",
        "          print(f\"{passage.text=}\")\n",
        "          for anno in passage.annotations:\n",
        "            print(f\"{anno=}\")"
      ],
      "metadata": {
        "id": "oNy95gliFK3G"
      },
      "execution_count": null,
      "outputs": []
    }
  ]
}