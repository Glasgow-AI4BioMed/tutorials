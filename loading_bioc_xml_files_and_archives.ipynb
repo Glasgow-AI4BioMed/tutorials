{
  "nbformat": 4,
  "nbformat_minor": 0,
  "metadata": {
    "colab": {
      "provenance": []
    },
    "kernelspec": {
      "name": "python3",
      "display_name": "Python 3"
    },
    "language_info": {
      "name": "python"
    }
  },
  "cells": [
    {
      "cell_type": "markdown",
      "source": [
        "[![Colab Badge Link](https://img.shields.io/badge/open-in%20colab-blue)](https://colab.research.google.com/github/Glasgow-AI4BioMed/tutorials/blob/main/loading_bioc_xml_files_and_archives.ipynb)\n",
        "\n",
        "# Loading BioC XML files plus dealing with an archive of them\n",
        "\n",
        "This Colab runs through using the [bioc Python package](https://github.com/bionlplab/bioc) to load a BioC XML file with entity annotations. This should be helpful for working with the [large BioC XML files provided by PubTator](https://ftp.ncbi.nlm.nih.gov/pub/lu/PubTatorCentral/PubTatorCentral_BioCXML/)\n"
      ],
      "metadata": {
        "id": "3SZ6pZoRHTzP"
      }
    },
    {
      "cell_type": "markdown",
      "source": [
        "### Getting some data and installing the bioc package.\n",
        "\n",
        "I've predownloaded a couple BioC XML files from [PubTator Central](https://www.ncbi.nlm.nih.gov/research/pubtator/api.html) and put them into a gzipped tar archive. It's on [OneDrive](\n",
        "https://gla-my.sharepoint.com/:u:/g/personal/jake_lever_glasgow_ac_uk/EZJFs8-q_PZOvanwCq1PFxQBm_nHdxtrM9AlxNkb_hyW8Q?e=SKG2aU). Let's download it with the command below."
      ],
      "metadata": {
        "id": "2mtZmYXbJBHU"
      }
    },
    {
      "cell_type": "code",
      "execution_count": 1,
      "metadata": {
        "colab": {
          "base_uri": "https://localhost:8080/"
        },
        "id": "rfreaZZTAzf9",
        "outputId": "f3716c86-c4ef-402d-d02a-f8b904924a95"
      },
      "outputs": [
        {
          "output_type": "stream",
          "name": "stdout",
          "text": [
            "--2025-07-12 19:58:15--  https://gla-my.sharepoint.com/:u:/g/personal/jake_lever_glasgow_ac_uk/EZJFs8-q_PZOvanwCq1PFxQBm_nHdxtrM9AlxNkb_hyW8Q?download=1\n",
            "Resolving gla-my.sharepoint.com (gla-my.sharepoint.com)... 52.107.249.1, 52.107.249.62, 52.107.249.63, ...\n",
            "Connecting to gla-my.sharepoint.com (gla-my.sharepoint.com)|52.107.249.1|:443... connected.\n",
            "HTTP request sent, awaiting response... 302 \n",
            "Location: /personal/jake_lever_glasgow_ac_uk/Documents/Data%20For%20Student%20Projects/example_bioc_files.tar.gz?ga=1 [following]\n",
            "--2025-07-12 19:58:16--  https://gla-my.sharepoint.com/personal/jake_lever_glasgow_ac_uk/Documents/Data%20For%20Student%20Projects/example_bioc_files.tar.gz?ga=1\n",
            "Reusing existing connection to gla-my.sharepoint.com:443.\n",
            "HTTP request sent, awaiting response... 200 OK\n",
            "Length: 2658 (2.6K) [application/x-gzip]\n",
            "Saving to: ‘example_bioc_files.tar.gz’\n",
            "\n",
            "example_bioc_files. 100%[===================>]   2.60K  --.-KB/s    in 0s      \n",
            "\n",
            "2025-07-12 19:58:16 (21.0 MB/s) - ‘example_bioc_files.tar.gz’ saved [2658/2658]\n",
            "\n"
          ]
        }
      ],
      "source": [
        "!wget -O example_bioc_files.tar.gz https://gla-my.sharepoint.com/:u:/g/personal/jake_lever_glasgow_ac_uk/EZJFs8-q_PZOvanwCq1PFxQBm_nHdxtrM9AlxNkb_hyW8Q?download=1"
      ]
    },
    {
      "cell_type": "markdown",
      "source": [
        "You could decompress the archive with the command below. **However, this is a bad idea for very large files and we can deal with the compressed archive form directly - see the final part of this colab**."
      ],
      "metadata": {
        "id": "kgEIdrRmJPr6"
      }
    },
    {
      "cell_type": "code",
      "source": [
        "!tar xvf example_bioc_files.tar.gz"
      ],
      "metadata": {
        "colab": {
          "base_uri": "https://localhost:8080/"
        },
        "id": "_g6DQho2A8xK",
        "outputId": "d1c611d3-1e2c-448f-bfc1-7a35010bb610"
      },
      "execution_count": 2,
      "outputs": [
        {
          "output_type": "stream",
          "name": "stdout",
          "text": [
            "selected_files/\n",
            "selected_files/17299597.bioc.xml\n",
            "selected_files/36066408.bioc.xml\n"
          ]
        }
      ]
    },
    {
      "cell_type": "markdown",
      "source": [
        "We're going to use the [bioc](https://github.com/bionlplab/bioc) Python package to load the file. So let's install that:"
      ],
      "metadata": {
        "id": "MYLQaPnoJcRs"
      }
    },
    {
      "cell_type": "code",
      "source": [
        "!pip install bioc"
      ],
      "metadata": {
        "colab": {
          "base_uri": "https://localhost:8080/"
        },
        "id": "twN6TJpiBJWw",
        "outputId": "3b46709b-cf7a-4a17-f290-5bcbb46ab140"
      },
      "execution_count": 3,
      "outputs": [
        {
          "output_type": "stream",
          "name": "stdout",
          "text": [
            "Collecting bioc\n",
            "  Downloading bioc-2.1-py3-none-any.whl.metadata (4.6 kB)\n",
            "Requirement already satisfied: lxml>=4.6.3 in /usr/local/lib/python3.11/dist-packages (from bioc) (5.4.0)\n",
            "Collecting jsonlines>=1.2.0 (from bioc)\n",
            "  Downloading jsonlines-4.0.0-py3-none-any.whl.metadata (1.6 kB)\n",
            "Collecting intervaltree (from bioc)\n",
            "  Downloading intervaltree-3.1.0.tar.gz (32 kB)\n",
            "  Preparing metadata (setup.py) ... \u001b[?25l\u001b[?25hdone\n",
            "Requirement already satisfied: tqdm in /usr/local/lib/python3.11/dist-packages (from bioc) (4.67.1)\n",
            "Collecting docopt (from bioc)\n",
            "  Downloading docopt-0.6.2.tar.gz (25 kB)\n",
            "  Preparing metadata (setup.py) ... \u001b[?25l\u001b[?25hdone\n",
            "Requirement already satisfied: attrs>=19.2.0 in /usr/local/lib/python3.11/dist-packages (from jsonlines>=1.2.0->bioc) (25.3.0)\n",
            "Requirement already satisfied: sortedcontainers<3.0,>=2.0 in /usr/local/lib/python3.11/dist-packages (from intervaltree->bioc) (2.4.0)\n",
            "Downloading bioc-2.1-py3-none-any.whl (33 kB)\n",
            "Downloading jsonlines-4.0.0-py3-none-any.whl (8.7 kB)\n",
            "Building wheels for collected packages: docopt, intervaltree\n",
            "  Building wheel for docopt (setup.py) ... \u001b[?25l\u001b[?25hdone\n",
            "  Created wheel for docopt: filename=docopt-0.6.2-py2.py3-none-any.whl size=13706 sha256=1165832aab06fd38c6cf166d41d98d130fdd9597efe7ae5a13300fbb80cccf10\n",
            "  Stored in directory: /root/.cache/pip/wheels/1a/b0/8c/4b75c4116c31f83c8f9f047231251e13cc74481cca4a78a9ce\n",
            "  Building wheel for intervaltree (setup.py) ... \u001b[?25l\u001b[?25hdone\n",
            "  Created wheel for intervaltree: filename=intervaltree-3.1.0-py2.py3-none-any.whl size=26098 sha256=1a8c0df14805b1fc3863fbf46da6e0787029022c7a95f3510be64b3fe6ba1d60\n",
            "  Stored in directory: /root/.cache/pip/wheels/31/d7/d9/eec6891f78cac19a693bd40ecb8365d2f4613318c145ec9816\n",
            "Successfully built docopt intervaltree\n",
            "Installing collected packages: docopt, jsonlines, intervaltree, bioc\n",
            "Successfully installed bioc-2.1 docopt-0.6.2 intervaltree-3.1.0 jsonlines-4.0.0\n"
          ]
        }
      ]
    },
    {
      "cell_type": "markdown",
      "source": [
        "### Loading a single BioC XML file\n",
        "\n",
        "To load a single file, you could use the code below to load up the file that may contain multiple documents, along with annotations."
      ],
      "metadata": {
        "id": "NdHNXCqoJ0nF"
      }
    },
    {
      "cell_type": "code",
      "source": [
        "import bioc\n",
        "with open('selected_files/36066408.bioc.xml', 'r') as fp:\n",
        "  collection = bioc.biocxml.load(fp)\n",
        "len(collection.documents)"
      ],
      "metadata": {
        "colab": {
          "base_uri": "https://localhost:8080/"
        },
        "id": "nJm9f8DSBLsb",
        "outputId": "af7fa8ba-9e46-45f0-beea-c6b67009d4ae"
      },
      "execution_count": 4,
      "outputs": [
        {
          "output_type": "execute_result",
          "data": {
            "text/plain": [
              "1"
            ]
          },
          "metadata": {},
          "execution_count": 4
        }
      ]
    },
    {
      "cell_type": "markdown",
      "source": [
        "You can then iterate through the documents, the passages in each document that contain text and then the entity annotations within those passages. The code below illustrates how to access those different parts"
      ],
      "metadata": {
        "id": "Ws3geZN1KGFQ"
      }
    },
    {
      "cell_type": "code",
      "source": [
        "for document in collection.documents:\n",
        "  print(f\"{document.id=}\")\n",
        "  for passage in document.passages:\n",
        "    print(f\"{passage.offset=}\")\n",
        "    print(f\"{passage.text=}\")\n",
        "    for anno in passage.annotations:\n",
        "      start = anno.locations[0].offset\n",
        "      end = start + anno.locations[0].length\n",
        "      anno_type = anno.infons['type']\n",
        "      concept_id = anno.infons['identifier']\n",
        "\n",
        "      print(f\"{anno.text=} {start=} {end=} {anno_type=} {concept_id=}\")\n",
        "    print()"
      ],
      "metadata": {
        "colab": {
          "base_uri": "https://localhost:8080/"
        },
        "id": "7fm213pIGHA8",
        "outputId": "36838f60-1508-4117-a5d8-83a06bceb4c9"
      },
      "execution_count": 5,
      "outputs": [
        {
          "output_type": "stream",
          "name": "stdout",
          "text": [
            "document.id='36066408'\n",
            "passage.offset=0\n",
            "passage.text='Inhibition of EGFR overcomes acquired lenvatinib resistance driven by STAT3-ABCB1 signaling in hepatocellular carcinoma.'\n",
            "anno.text='EGFR' start=14 end=18 anno_type='Gene' concept_id='1956'\n",
            "anno.text='lenvatinib' start=38 end=48 anno_type='Chemical' concept_id='MESH:C531958'\n",
            "anno.text='STAT3' start=70 end=75 anno_type='Gene' concept_id='6774'\n",
            "anno.text='ABCB1' start=76 end=81 anno_type='Gene' concept_id='5243'\n",
            "anno.text='hepatocellular carcinoma' start=95 end=119 anno_type='Disease' concept_id='MESH:D006528'\n",
            "\n",
            "passage.offset=121\n",
            "passage.text='Lenvatinib is an inhibitor of multiple receptor tyrosine kinases that was recently authorized for first-line treatment of hepatocellular carcinoma (HCC). However, the clinical benefits derived from lenvatinib are limited, highlighting the urgent need to understand mechanisms of resistance. We report here that HCC cells develop resistance to lenvatinib by activating epidermal growth factor receptor (EGFR) and stimulating the EGFR-STAT3-ABCB1 axis. Lenvatinib resistance was accompanied by aberrant cholesterol metabolism and lipid raft activation. ABCB1 was activated by EGFR in a lipid raft-dependent manner, which significantly enhanced the exocytosis of lenvatinib to mediate resistance. Furthermore, clinical specimens of HCC showed a correlation between the activation of the EGFR-STAT3-ABCB1 pathway and lenvatinib response. Erlotinib, an EGFR inhibitor that has also been shown to inhibit ABCB1, suppressed lenvatinib exocytosis, and combined treatment with lenvatinib and erlotinib demonstrated a significant synergistic effect on HCC both in vitro and in vivo. Taken together, these findings characterize a mechanism of resistance to a first-line treatment for HCC and offer a practical means to circumvent resistance and treat the disease.'\n",
            "anno.text='Lenvatinib' start=121 end=131 anno_type='Chemical' concept_id='MESH:C531958'\n",
            "anno.text='hepatocellular carcinoma' start=243 end=267 anno_type='Disease' concept_id='MESH:D006528'\n",
            "anno.text='lenvatinib' start=319 end=329 anno_type='Chemical' concept_id='MESH:C531958'\n",
            "anno.text='lenvatinib' start=464 end=474 anno_type='Chemical' concept_id='MESH:C531958'\n",
            "anno.text='epidermal growth factor receptor' start=489 end=521 anno_type='Gene' concept_id='1956'\n",
            "anno.text='EGFR' start=523 end=527 anno_type='Gene' concept_id='1956'\n",
            "anno.text='EGFR' start=549 end=553 anno_type='Gene' concept_id='1956'\n",
            "anno.text='STAT3' start=554 end=559 anno_type='Gene' concept_id='6774'\n",
            "anno.text='ABCB1' start=560 end=565 anno_type='Gene' concept_id='5243'\n",
            "anno.text='Lenvatinib' start=572 end=582 anno_type='Chemical' concept_id='MESH:C531958'\n",
            "anno.text='cholesterol' start=622 end=633 anno_type='Chemical' concept_id='MESH:D002784'\n",
            "anno.text='lipid' start=649 end=654 anno_type='Chemical' concept_id='MESH:D008055'\n",
            "anno.text='ABCB1' start=672 end=677 anno_type='Gene' concept_id='5243'\n",
            "anno.text='EGFR' start=695 end=699 anno_type='Gene' concept_id='1956'\n",
            "anno.text='lipid' start=705 end=710 anno_type='Chemical' concept_id='MESH:D008055'\n",
            "anno.text='lenvatinib' start=781 end=791 anno_type='Chemical' concept_id='MESH:C531958'\n",
            "anno.text='EGFR' start=905 end=909 anno_type='Gene' concept_id='1956'\n",
            "anno.text='STAT3' start=910 end=915 anno_type='Gene' concept_id='6774'\n",
            "anno.text='ABCB1' start=916 end=921 anno_type='Gene' concept_id='5243'\n",
            "anno.text='lenvatinib' start=934 end=944 anno_type='Chemical' concept_id='MESH:C531958'\n",
            "anno.text='Erlotinib' start=955 end=964 anno_type='Chemical' concept_id='MESH:D000069347'\n",
            "anno.text='EGFR' start=969 end=973 anno_type='Gene' concept_id='1956'\n",
            "anno.text='ABCB1' start=1020 end=1025 anno_type='Gene' concept_id='5243'\n",
            "anno.text='lenvatinib' start=1038 end=1048 anno_type='Chemical' concept_id='MESH:C531958'\n",
            "anno.text='lenvatinib' start=1089 end=1099 anno_type='Chemical' concept_id='MESH:C531958'\n",
            "anno.text='erlotinib' start=1104 end=1113 anno_type='Chemical' concept_id='MESH:D000069347'\n",
            "\n"
          ]
        }
      ]
    },
    {
      "cell_type": "markdown",
      "source": [
        "### Dealing with an archive of BioC XML files\n",
        "\n",
        "It is often a better idea to not extract all the BioC XML files before dealing with them, and instead work with the archive directly. You can do that using the tarfile package. For instance, to get a file-listing inside a tar.gz file:"
      ],
      "metadata": {
        "id": "T-YmYdSCKQlo"
      }
    },
    {
      "cell_type": "code",
      "source": [
        "import tarfile\n",
        "\n",
        "source = \"example_bioc_files.tar.gz\"\n",
        "\n",
        "with tarfile.open(source) as archive:\n",
        "  for member in archive:\n",
        "    print(f\"{member.name=} {member.isfile()=}\")"
      ],
      "metadata": {
        "colab": {
          "base_uri": "https://localhost:8080/"
        },
        "id": "oPEacdHRE6aP",
        "outputId": "981acd44-195d-4cff-b855-3720db309cc3"
      },
      "execution_count": 6,
      "outputs": [
        {
          "output_type": "stream",
          "name": "stdout",
          "text": [
            "member.name='selected_files' member.isfile()=False\n",
            "member.name='selected_files/17299597.bioc.xml' member.isfile()=True\n",
            "member.name='selected_files/36066408.bioc.xml' member.isfile()=True\n"
          ]
        }
      ]
    },
    {
      "cell_type": "markdown",
      "source": [
        "Then, we can put the `bioc` and `tarfile` code together to iterate through all the files in the archive and extract out the document, passage and annotation information."
      ],
      "metadata": {
        "id": "tFouNeJMKdj4"
      }
    },
    {
      "cell_type": "code",
      "source": [
        "with tarfile.open(source) as archive:\n",
        "  for member in archive:\n",
        "    if member.isfile() and member.name.lower().endswith('xml'):\n",
        "      print(f\"{member.name=}\")\n",
        "\n",
        "      file_handle = archive.extractfile(member)\n",
        "      data = file_handle.read().decode('utf-8')\n",
        "\n",
        "      collection = bioc.biocxml.loads(data)\n",
        "\n",
        "      for document in collection.documents:\n",
        "        print(f\"{document.id=}\")\n",
        "        for passage in document.passages:\n",
        "          print(f\"{passage.text=}\")\n",
        "          for anno in passage.annotations:\n",
        "            print(f\"{anno=}\")"
      ],
      "metadata": {
        "colab": {
          "base_uri": "https://localhost:8080/"
        },
        "id": "oNy95gliFK3G",
        "outputId": "9adc6fee-b4d8-4b3e-b59a-d55c1213d498"
      },
      "execution_count": 7,
      "outputs": [
        {
          "output_type": "stream",
          "name": "stdout",
          "text": [
            "member.name='selected_files/17299597.bioc.xml'\n",
            "document.id='17299597'\n",
            "passage.text='Quantifying organismal complexity using a population genetic approach.'\n",
            "passage.text=\"BACKGROUND: Various definitions of biological complexity have been proposed: the number of genes, cell types, or metabolic processes within an organism. As knowledge of biological systems has increased, it has become apparent that these metrics are often incongruent. METHODOLOGY: Here we propose an alternative complexity metric based on the number of genetically uncorrelated phenotypic traits contributing to an organism's fitness. This metric, phenotypic complexity, is more objective than previous suggestions, as complexity is measured from a fundamental biological perspective, that of natural selection. We utilize a model linking the equilibrium fitness (drift load) of a population to phenotypic complexity. We then use results from viral evolution experiments to compare the phenotypic complexities of two viruses, the bacteriophage X174 and vesicular stomatitis virus, and to illustrate the consistency of our approach and its applicability. CONCLUSIONS/SIGNIFICANCE: Because Darwinian evolution through natural selection is the fundamental element unifying all biological organisms, we propose that our metric of complexity is potentially a more relevant metric than others, based on the count of artificially defined set of objects.\"\n",
            "anno=BioCAnnotation[id=3,text='fitness',infons=[identifier=MESH:D012640,type=Disease],locations=[BioCLocation[offset=497,length=7]],]\n",
            "anno=BioCAnnotation[id=4,text='fitness',infons=[identifier=MESH:D012640,type=Disease],locations=[BioCLocation[offset=726,length=7]],]\n",
            "anno=BioCAnnotation[id=5,text='vesicular stomatitis virus',infons=[identifier=11276,type=Species],locations=[BioCLocation[offset=924,length=26]],]\n",
            "member.name='selected_files/36066408.bioc.xml'\n",
            "document.id='36066408'\n",
            "passage.text='Inhibition of EGFR overcomes acquired lenvatinib resistance driven by STAT3-ABCB1 signaling in hepatocellular carcinoma.'\n",
            "anno=BioCAnnotation[id=5,text='EGFR',infons=[identifier=1956,type=Gene,NCBI Homologene=74545],locations=[BioCLocation[offset=14,length=4]],]\n",
            "anno=BioCAnnotation[id=6,text='lenvatinib',infons=[identifier=MESH:C531958,type=Chemical],locations=[BioCLocation[offset=38,length=10]],]\n",
            "anno=BioCAnnotation[id=7,text='STAT3',infons=[identifier=6774,type=Gene,NCBI Homologene=7960],locations=[BioCLocation[offset=70,length=5]],]\n",
            "anno=BioCAnnotation[id=8,text='ABCB1',infons=[identifier=5243,type=Gene,NCBI Homologene=55496],locations=[BioCLocation[offset=76,length=5]],]\n",
            "anno=BioCAnnotation[id=9,text='hepatocellular carcinoma',infons=[identifier=MESH:D006528,type=Disease],locations=[BioCLocation[offset=95,length=24]],]\n",
            "passage.text='Lenvatinib is an inhibitor of multiple receptor tyrosine kinases that was recently authorized for first-line treatment of hepatocellular carcinoma (HCC). However, the clinical benefits derived from lenvatinib are limited, highlighting the urgent need to understand mechanisms of resistance. We report here that HCC cells develop resistance to lenvatinib by activating epidermal growth factor receptor (EGFR) and stimulating the EGFR-STAT3-ABCB1 axis. Lenvatinib resistance was accompanied by aberrant cholesterol metabolism and lipid raft activation. ABCB1 was activated by EGFR in a lipid raft-dependent manner, which significantly enhanced the exocytosis of lenvatinib to mediate resistance. Furthermore, clinical specimens of HCC showed a correlation between the activation of the EGFR-STAT3-ABCB1 pathway and lenvatinib response. Erlotinib, an EGFR inhibitor that has also been shown to inhibit ABCB1, suppressed lenvatinib exocytosis, and combined treatment with lenvatinib and erlotinib demonstrated a significant synergistic effect on HCC both in vitro and in vivo. Taken together, these findings characterize a mechanism of resistance to a first-line treatment for HCC and offer a practical means to circumvent resistance and treat the disease.'\n",
            "anno=BioCAnnotation[id=36,text='Lenvatinib',infons=[identifier=MESH:C531958,type=Chemical],locations=[BioCLocation[offset=121,length=10]],]\n",
            "anno=BioCAnnotation[id=37,text='hepatocellular carcinoma',infons=[identifier=MESH:D006528,type=Disease],locations=[BioCLocation[offset=243,length=24]],]\n",
            "anno=BioCAnnotation[id=38,text='lenvatinib',infons=[identifier=MESH:C531958,type=Chemical],locations=[BioCLocation[offset=319,length=10]],]\n",
            "anno=BioCAnnotation[id=39,text='lenvatinib',infons=[identifier=MESH:C531958,type=Chemical],locations=[BioCLocation[offset=464,length=10]],]\n",
            "anno=BioCAnnotation[id=40,text='epidermal growth factor receptor',infons=[identifier=1956,type=Gene,NCBI Homologene=74545],locations=[BioCLocation[offset=489,length=32]],]\n",
            "anno=BioCAnnotation[id=41,text='EGFR',infons=[identifier=1956,type=Gene,NCBI Homologene=74545],locations=[BioCLocation[offset=523,length=4]],]\n",
            "anno=BioCAnnotation[id=42,text='EGFR',infons=[identifier=1956,type=Gene,NCBI Homologene=74545],locations=[BioCLocation[offset=549,length=4]],]\n",
            "anno=BioCAnnotation[id=43,text='STAT3',infons=[identifier=6774,type=Gene,NCBI Homologene=7960],locations=[BioCLocation[offset=554,length=5]],]\n",
            "anno=BioCAnnotation[id=44,text='ABCB1',infons=[identifier=5243,type=Gene,NCBI Homologene=55496],locations=[BioCLocation[offset=560,length=5]],]\n",
            "anno=BioCAnnotation[id=45,text='Lenvatinib',infons=[identifier=MESH:C531958,type=Chemical],locations=[BioCLocation[offset=572,length=10]],]\n",
            "anno=BioCAnnotation[id=46,text='cholesterol',infons=[identifier=MESH:D002784,type=Chemical],locations=[BioCLocation[offset=622,length=11]],]\n",
            "anno=BioCAnnotation[id=47,text='lipid',infons=[identifier=MESH:D008055,type=Chemical],locations=[BioCLocation[offset=649,length=5]],]\n",
            "anno=BioCAnnotation[id=48,text='ABCB1',infons=[identifier=5243,type=Gene,NCBI Homologene=55496],locations=[BioCLocation[offset=672,length=5]],]\n",
            "anno=BioCAnnotation[id=49,text='EGFR',infons=[identifier=1956,type=Gene,NCBI Homologene=74545],locations=[BioCLocation[offset=695,length=4]],]\n",
            "anno=BioCAnnotation[id=50,text='lipid',infons=[identifier=MESH:D008055,type=Chemical],locations=[BioCLocation[offset=705,length=5]],]\n",
            "anno=BioCAnnotation[id=51,text='lenvatinib',infons=[identifier=MESH:C531958,type=Chemical],locations=[BioCLocation[offset=781,length=10]],]\n",
            "anno=BioCAnnotation[id=52,text='EGFR',infons=[identifier=1956,type=Gene,NCBI Homologene=74545],locations=[BioCLocation[offset=905,length=4]],]\n",
            "anno=BioCAnnotation[id=53,text='STAT3',infons=[identifier=6774,type=Gene,NCBI Homologene=7960],locations=[BioCLocation[offset=910,length=5]],]\n",
            "anno=BioCAnnotation[id=54,text='ABCB1',infons=[identifier=5243,type=Gene,NCBI Homologene=55496],locations=[BioCLocation[offset=916,length=5]],]\n",
            "anno=BioCAnnotation[id=55,text='lenvatinib',infons=[identifier=MESH:C531958,type=Chemical],locations=[BioCLocation[offset=934,length=10]],]\n",
            "anno=BioCAnnotation[id=56,text='Erlotinib',infons=[identifier=MESH:D000069347,type=Chemical],locations=[BioCLocation[offset=955,length=9]],]\n",
            "anno=BioCAnnotation[id=57,text='EGFR',infons=[identifier=1956,type=Gene,NCBI Homologene=74545],locations=[BioCLocation[offset=969,length=4]],]\n",
            "anno=BioCAnnotation[id=58,text='ABCB1',infons=[identifier=5243,type=Gene,NCBI Homologene=55496],locations=[BioCLocation[offset=1020,length=5]],]\n",
            "anno=BioCAnnotation[id=59,text='lenvatinib',infons=[identifier=MESH:C531958,type=Chemical],locations=[BioCLocation[offset=1038,length=10]],]\n",
            "anno=BioCAnnotation[id=60,text='lenvatinib',infons=[identifier=MESH:C531958,type=Chemical],locations=[BioCLocation[offset=1089,length=10]],]\n",
            "anno=BioCAnnotation[id=61,text='erlotinib',infons=[identifier=MESH:D000069347,type=Chemical],locations=[BioCLocation[offset=1104,length=9]],]\n"
          ]
        }
      ]
    }
  ]
}