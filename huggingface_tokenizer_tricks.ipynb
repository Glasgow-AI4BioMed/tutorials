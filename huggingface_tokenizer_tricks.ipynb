{
  "nbformat": 4,
  "nbformat_minor": 0,
  "metadata": {
    "colab": {
      "provenance": [],
      "toc_visible": true
    },
    "kernelspec": {
      "name": "python3",
      "display_name": "Python 3"
    },
    "language_info": {
      "name": "python"
    }
  },
  "cells": [
    {
      "cell_type": "markdown",
      "source": [
        "[![Colab Badge Link](https://img.shields.io/badge/open-in%20colab-blue)](https://colab.research.google.com/github/Glasgow-AI4BioMed/tutorials/blob/main/huggingface_tokenizer_tricks.ipynb)\n",
        "\n",
        "# Useful Tips & Tricks when using the HuggingFace tokenizer\n",
        "\n",
        "The tokenizer in the HuggingFace transformers library can do a lot of useful things. But it can be a bit of a mystery how to use some of them. Here are a bunch of examples of useful things you can do."
      ],
      "metadata": {
        "id": "ANUGWYg25nJW"
      }
    },
    {
      "cell_type": "markdown",
      "source": [
        "## Install dependencies\n",
        "\n",
        "If needed, you could install dependencies with the command below:\n",
        "\n",
        "```\n",
        "pip install transformers\n",
        "```"
      ],
      "metadata": {
        "id": "gicFtsFdFbZm"
      }
    },
    {
      "cell_type": "markdown",
      "source": [
        "## Basic tokenization\n",
        "\n",
        "Here is a tokenizer with default settings (using PubMed BERT)"
      ],
      "metadata": {
        "id": "XS9sAyROwQNu"
      }
    },
    {
      "cell_type": "code",
      "source": [
        "from transformers import AutoTokenizer\n",
        "tokenizer = AutoTokenizer.from_pretrained(\"microsoft/BiomedNLP-PubMedBERT-base-uncased-abstract\")"
      ],
      "metadata": {
        "colab": {
          "base_uri": "https://localhost:8080/"
        },
        "id": "HbGvCX0iwNbz",
        "outputId": "66c36b5e-3f8f-4ced-e4ac-7a8604d239ff"
      },
      "execution_count": 1,
      "outputs": [
        {
          "output_type": "stream",
          "name": "stderr",
          "text": [
            "/usr/local/lib/python3.11/dist-packages/huggingface_hub/utils/_auth.py:94: UserWarning: \n",
            "The secret `HF_TOKEN` does not exist in your Colab secrets.\n",
            "To authenticate with the Hugging Face Hub, create a token in your settings tab (https://huggingface.co/settings/tokens), set it as secret in your Google Colab and restart your session.\n",
            "You will be able to reuse this secret in all of your notebooks.\n",
            "Please note that authentication is recommended but still optional to access public models or datasets.\n",
            "  warnings.warn(\n"
          ]
        }
      ]
    },
    {
      "cell_type": "markdown",
      "source": [
        "\n",
        "\n",
        "By default, it gives us `input_ids`, `token_type_ids` and `attention_mask`. We normally only focus on the `input_ids` which is the text tokenized and converted to the IDs in the vocabulary."
      ],
      "metadata": {
        "id": "eTv71Zav6Aam"
      }
    },
    {
      "cell_type": "code",
      "source": [
        "tokenized = tokenizer(\"The quick brown fox jumped over the lazy dog\")\n",
        "tokenized"
      ],
      "metadata": {
        "colab": {
          "base_uri": "https://localhost:8080/"
        },
        "id": "8haPNIRZw5zp",
        "outputId": "ae657e54-92df-48a6-d92c-bc9b96ea5b6c"
      },
      "execution_count": 2,
      "outputs": [
        {
          "output_type": "execute_result",
          "data": {
            "text/plain": [
              "{'input_ids': [2, 1680, 8787, 10418, 9596, 15163, 1678, 2150, 1680, 5736, 1035, 1005, 4840, 3], 'token_type_ids': [0, 0, 0, 0, 0, 0, 0, 0, 0, 0, 0, 0, 0, 0], 'attention_mask': [1, 1, 1, 1, 1, 1, 1, 1, 1, 1, 1, 1, 1, 1]}"
            ]
          },
          "metadata": {},
          "execution_count": 2
        }
      ]
    },
    {
      "cell_type": "markdown",
      "source": [
        "## Quickly looking up a token ID\n",
        "\n",
        "The `.vocab` attribute is the dictionary of the tokenizer's vocabulary. You can use it to look up the token ID of individual tokens, which is sometimes useful."
      ],
      "metadata": {
        "id": "qhVxtLxWEI8h"
      }
    },
    {
      "cell_type": "code",
      "source": [
        "tokenizer.vocab['quick']"
      ],
      "metadata": {
        "colab": {
          "base_uri": "https://localhost:8080/"
        },
        "id": "ah-hQl9SEGGi",
        "outputId": "1e8ff682-8d37-47ca-aaed-f0cbc811a5c4"
      },
      "execution_count": 3,
      "outputs": [
        {
          "output_type": "execute_result",
          "data": {
            "text/plain": [
              "8787"
            ]
          },
          "metadata": {},
          "execution_count": 3
        }
      ]
    },
    {
      "cell_type": "markdown",
      "source": [
        "## Tokenizing text that has already been split into words\n",
        "\n",
        "You may have input text that has already been split into words/tokens. This could be from source files or from using another library like [Spacy](https://spacy.io). A lot of datasets come in the [CoNLL file format](https://simpletransformers.ai/docs/ner-data-formats/#text-file-in-conll-format) which has things split into words. The HuggingFace tokenizer can deal with text like this using the `is_split_into_words` argument."
      ],
      "metadata": {
        "id": "DRMcIkiZCwHc"
      }
    },
    {
      "cell_type": "code",
      "source": [
        "pretokenized = ['The', 'quick', 'brown', 'fox', 'jumped', 'over', 'the', 'lazy', 'dog']\n",
        "\n",
        "tokenized = tokenizer(pretokenized, is_split_into_words=True)\n",
        "tokenized"
      ],
      "metadata": {
        "colab": {
          "base_uri": "https://localhost:8080/"
        },
        "id": "TyAxkSxKCwN8",
        "outputId": "d5193c37-47b9-4337-de0c-55c760df87e8"
      },
      "execution_count": 4,
      "outputs": [
        {
          "output_type": "execute_result",
          "data": {
            "text/plain": [
              "{'input_ids': [2, 1680, 8787, 10418, 9596, 15163, 1678, 2150, 1680, 5736, 1035, 1005, 4840, 3], 'token_type_ids': [0, 0, 0, 0, 0, 0, 0, 0, 0, 0, 0, 0, 0, 0], 'attention_mask': [1, 1, 1, 1, 1, 1, 1, 1, 1, 1, 1, 1, 1, 1]}"
            ]
          },
          "metadata": {},
          "execution_count": 4
        }
      ]
    },
    {
      "cell_type": "markdown",
      "source": [
        "## Getting the tokens back from the IDs\n",
        "\n",
        "It can be helped to convert the `input_ids` given by the tokenizer back into tokens to see what the tokenizer has done. The `convert_ids_to_tokens` function can do that.\n",
        "\n",
        "Note how some of the words have been broken into smaller subwords with the `##` prefix to show that the token connects to the previous one. And we can also see the special tokens `[CLS]` and `[SEP]` that are added to the start and end of sequences by default."
      ],
      "metadata": {
        "id": "kUrtSyRf_HDh"
      }
    },
    {
      "cell_type": "code",
      "source": [
        "tokenizer.convert_ids_to_tokens(tokenized['input_ids'])"
      ],
      "metadata": {
        "colab": {
          "base_uri": "https://localhost:8080/"
        },
        "id": "0e3-Q1OXw9Js",
        "outputId": "dcb6b99f-988f-4d03-b0dd-f8c65d2d7fc9"
      },
      "execution_count": 5,
      "outputs": [
        {
          "output_type": "execute_result",
          "data": {
            "text/plain": [
              "['[CLS]',\n",
              " 'the',\n",
              " 'quick',\n",
              " 'brown',\n",
              " 'fox',\n",
              " 'jump',\n",
              " '##ed',\n",
              " 'over',\n",
              " 'the',\n",
              " 'la',\n",
              " '##z',\n",
              " '##y',\n",
              " 'dog',\n",
              " '[SEP]']"
            ]
          },
          "metadata": {},
          "execution_count": 5
        }
      ]
    },
    {
      "cell_type": "markdown",
      "source": [
        "## Truncating text\n",
        "\n",
        "Transformer models have a maximum length of text (by count of tokens) that they can accept. For some models, this is 512 tokens. There are various ways to trim or truncate the input data to make sure it doesn't surpass that limit. The tokenizer has `truncation` and `max_length` arguments to do that."
      ],
      "metadata": {
        "id": "co7ksN45_Y4q"
      }
    },
    {
      "cell_type": "code",
      "source": [
        "tokenized = tokenizer(\"The quick brown fox jumped over the lazy dog\",\n",
        "                      truncation=True,\n",
        "                      max_length=512)"
      ],
      "metadata": {
        "id": "m9bqXPPCwg0C"
      },
      "execution_count": 6,
      "outputs": []
    },
    {
      "cell_type": "markdown",
      "source": [
        "## Getting the token offsets in the original text\n",
        "\n",
        "You may often want to be able to go from the tokens back to the original text. For example, you may want to know which tokens relate to a particular span of text, e.g. a set of words that represent a named entity. The tokenizer has the `return_offsets_mapping` argument that adds an extra field `offset_mapping` to the tokenized output. It is a list of start and end offsets into the text.\n",
        "\n",
        "If you have annotations for the locations of named entities in some text, you can use the `offset_mapping` data to match the tokens. The [intervaltree library](https://pypi.org/project/intervaltree/) can be very helpful to make some clean code if there are a lot of annotations to account for."
      ],
      "metadata": {
        "id": "sZKcN-hp_sVJ"
      }
    },
    {
      "cell_type": "code",
      "source": [
        "input_text = \"The quick brown fox jumped over the lazy dog\"\n",
        "tokenized = tokenizer(input_text,\n",
        "                      return_offsets_mapping = True)\n",
        "\n",
        "tokenized['offset_mapping']"
      ],
      "metadata": {
        "colab": {
          "base_uri": "https://localhost:8080/"
        },
        "id": "CMMrOamPwmP8",
        "outputId": "b9d6c521-689d-43b5-e9ef-e8c0dca66e6f"
      },
      "execution_count": 7,
      "outputs": [
        {
          "output_type": "execute_result",
          "data": {
            "text/plain": [
              "[(0, 0),\n",
              " (0, 3),\n",
              " (4, 9),\n",
              " (10, 15),\n",
              " (16, 19),\n",
              " (20, 24),\n",
              " (24, 26),\n",
              " (27, 31),\n",
              " (32, 35),\n",
              " (36, 38),\n",
              " (38, 39),\n",
              " (39, 40),\n",
              " (41, 44),\n",
              " (0, 0)]"
            ]
          },
          "metadata": {},
          "execution_count": 7
        }
      ]
    },
    {
      "cell_type": "markdown",
      "source": [
        "Here's a demonstration of iterating through the `offset_mapping` and getting the text from the source text."
      ],
      "metadata": {
        "id": "sEnb0pfJAGgN"
      }
    },
    {
      "cell_type": "code",
      "source": [
        "for start,end in tokenized['offset_mapping']:\n",
        "  print(f\"{start}\\t{end}\\t{input_text[start:end]}\")"
      ],
      "metadata": {
        "colab": {
          "base_uri": "https://localhost:8080/"
        },
        "id": "dSi7LGQ4xNYp",
        "outputId": "0644dbb9-f390-48dc-950a-546cb81ea5e0"
      },
      "execution_count": 8,
      "outputs": [
        {
          "output_type": "stream",
          "name": "stdout",
          "text": [
            "0\t0\t\n",
            "0\t3\tThe\n",
            "4\t9\tquick\n",
            "10\t15\tbrown\n",
            "16\t19\tfox\n",
            "20\t24\tjump\n",
            "24\t26\ted\n",
            "27\t31\tover\n",
            "32\t35\tthe\n",
            "36\t38\tla\n",
            "38\t39\tz\n",
            "39\t40\ty\n",
            "41\t44\tdog\n",
            "0\t0\t\n"
          ]
        }
      ]
    },
    {
      "cell_type": "markdown",
      "source": [
        "## Getting Pytorch tensors\n",
        "\n",
        "The `input_ids` are probably going to be passed into a deep learning network, so will need to be converted into a Pytorch tensor at some point. You can get the tokenizer to do it with `return_tensors='pt'` where `'pt'` refers to pytorch. You can ask for TensorFlow tensors as well. You may want to use this argument along with the truncation ones."
      ],
      "metadata": {
        "id": "GGg8vEeJAUkX"
      }
    },
    {
      "cell_type": "code",
      "source": [
        "tokenized = tokenizer(\"The quick brown fox jumped over the lazy dog\",\n",
        "                      return_tensors='pt')\n",
        "tokenized"
      ],
      "metadata": {
        "colab": {
          "base_uri": "https://localhost:8080/"
        },
        "id": "aWy3YH8uxbt1",
        "outputId": "32d29ba4-23ed-4f0c-8125-2a0ef824011e"
      },
      "execution_count": 9,
      "outputs": [
        {
          "output_type": "execute_result",
          "data": {
            "text/plain": [
              "{'input_ids': tensor([[    2,  1680,  8787, 10418,  9596, 15163,  1678,  2150,  1680,  5736,\n",
              "          1035,  1005,  4840,     3]]), 'token_type_ids': tensor([[0, 0, 0, 0, 0, 0, 0, 0, 0, 0, 0, 0, 0, 0]]), 'attention_mask': tensor([[1, 1, 1, 1, 1, 1, 1, 1, 1, 1, 1, 1, 1, 1]])}"
            ]
          },
          "metadata": {},
          "execution_count": 9
        }
      ]
    },
    {
      "cell_type": "markdown",
      "source": [
        "## Adding your own \"special\" tokens\n",
        "\n",
        "Tokenizers have a bunch of special tokens, such as the `[CLS]` and `[SEP]` added at the start and end of sequences and the `[MASK]` tag used in the masked learning pretraining. You can see all the ones that a tokenizer uses with `.all_special_tokens`."
      ],
      "metadata": {
        "id": "1CcGJbsgAvNE"
      }
    },
    {
      "cell_type": "code",
      "source": [
        "tokenizer.all_special_tokens"
      ],
      "metadata": {
        "colab": {
          "base_uri": "https://localhost:8080/"
        },
        "id": "NwQIsnOgzDAw",
        "outputId": "e6b23a0b-73ad-4ec1-b11a-94af26c71a07"
      },
      "execution_count": 10,
      "outputs": [
        {
          "output_type": "execute_result",
          "data": {
            "text/plain": [
              "['[UNK]', '[SEP]', '[PAD]', '[CLS]', '[MASK]']"
            ]
          },
          "metadata": {},
          "execution_count": 10
        }
      ]
    },
    {
      "cell_type": "markdown",
      "source": [
        "You can want to use your own special tokens for something, like tagging around particular entities. However if you do that without setup, the tokenizer has never seen them before and will likely split these into separate tokens as below."
      ],
      "metadata": {
        "id": "it-bY9HAB8K1"
      }
    },
    {
      "cell_type": "code",
      "source": [
        "tokenized = tokenizer(\"The quick brown [E1]fox[/E1] jumped over the lazy [E2]dog[/E2]\")\n",
        "\n",
        "tokenizer.convert_ids_to_tokens(tokenized['input_ids'])"
      ],
      "metadata": {
        "colab": {
          "base_uri": "https://localhost:8080/"
        },
        "id": "P7XNfAoUxvSr",
        "outputId": "43f2bb52-c17a-4213-fe16-59f3bb57ae7a"
      },
      "execution_count": 11,
      "outputs": [
        {
          "output_type": "execute_result",
          "data": {
            "text/plain": [
              "['[CLS]',\n",
              " 'the',\n",
              " 'quick',\n",
              " 'brown',\n",
              " '[',\n",
              " 'e1',\n",
              " ']',\n",
              " 'fox',\n",
              " '[',\n",
              " '/',\n",
              " 'e1',\n",
              " ']',\n",
              " 'jump',\n",
              " '##ed',\n",
              " 'over',\n",
              " 'the',\n",
              " 'la',\n",
              " '##z',\n",
              " '##y',\n",
              " '[',\n",
              " 'e2',\n",
              " ']',\n",
              " 'dog',\n",
              " '[',\n",
              " '/',\n",
              " 'e2',\n",
              " ']',\n",
              " '[SEP]']"
            ]
          },
          "metadata": {},
          "execution_count": 11
        }
      ]
    },
    {
      "cell_type": "markdown",
      "source": [
        "Instead, you can add your tokens to the tokenizer with `.add_tokens` as below."
      ],
      "metadata": {
        "id": "3Azy_3QnCIsn"
      }
    },
    {
      "cell_type": "code",
      "source": [
        "tokenizer = AutoTokenizer.from_pretrained(\"microsoft/BiomedNLP-PubMedBERT-base-uncased-abstract\")\n",
        "\n",
        "tokenizer.add_tokens([\"[E1]\", \"[/E1]\", \"[E2]\", \"[/E2]\"])"
      ],
      "metadata": {
        "colab": {
          "base_uri": "https://localhost:8080/"
        },
        "id": "-xgVUf73xv5I",
        "outputId": "34364421-b2e5-4467-e569-981045bfc08c"
      },
      "execution_count": 12,
      "outputs": [
        {
          "output_type": "execute_result",
          "data": {
            "text/plain": [
              "4"
            ]
          },
          "metadata": {},
          "execution_count": 12
        }
      ]
    },
    {
      "cell_type": "markdown",
      "source": [
        "Let's check if one of the special tokens is now in the tokenizer's vocab:"
      ],
      "metadata": {
        "id": "w9bRPp1bElqX"
      }
    },
    {
      "cell_type": "code",
      "source": [
        "tokenizer.vocab['[E1]']"
      ],
      "metadata": {
        "colab": {
          "base_uri": "https://localhost:8080/"
        },
        "id": "oOyraYVgEiHl",
        "outputId": "4e485565-510c-4f65-8e34-bd2de3dd4d85"
      },
      "execution_count": 13,
      "outputs": [
        {
          "output_type": "execute_result",
          "data": {
            "text/plain": [
              "28895"
            ]
          },
          "metadata": {},
          "execution_count": 13
        }
      ]
    },
    {
      "cell_type": "markdown",
      "source": [
        "Then when you run the same code again, the special tokens have been encoded properly and not split into multiple tokens."
      ],
      "metadata": {
        "id": "027GD3kzCRTo"
      }
    },
    {
      "cell_type": "code",
      "source": [
        "tokenized = tokenizer(\"The quick brown [E1]fox[/E1] jumped over the lazy [E2]dog[/E2]\")\n",
        "\n",
        "tokenizer.convert_ids_to_tokens(tokenized['input_ids'])"
      ],
      "metadata": {
        "colab": {
          "base_uri": "https://localhost:8080/"
        },
        "id": "Rt0E7XvWyWp8",
        "outputId": "cbf6ccae-fdb5-4fac-8183-e3131db6b60c"
      },
      "execution_count": 14,
      "outputs": [
        {
          "output_type": "execute_result",
          "data": {
            "text/plain": [
              "['[CLS]',\n",
              " 'the',\n",
              " 'quick',\n",
              " 'brown',\n",
              " '[E1]',\n",
              " 'fox',\n",
              " '[/E1]',\n",
              " 'jump',\n",
              " '##ed',\n",
              " 'over',\n",
              " 'the',\n",
              " 'la',\n",
              " '##z',\n",
              " '##y',\n",
              " '[E2]',\n",
              " 'dog',\n",
              " '[/E2]',\n",
              " '[SEP]']"
            ]
          },
          "metadata": {},
          "execution_count": 14
        }
      ]
    },
    {
      "cell_type": "markdown",
      "source": [
        "To use these new tokens in a model, you'll need to tell the model to adjust to the new number of tokens using `resize_token_embeddings` as below.\n",
        "\n",
        "However, the initial embeddings for these new tokens will be random, and the system will have no idea of their meaning. So end-to-end training may be required for whatever task you are focussed on to get the system to use them effectively."
      ],
      "metadata": {
        "id": "WD8X6WNbWw8k"
      }
    },
    {
      "cell_type": "code",
      "source": [
        "from transformers import AutoModel\n",
        "model = AutoModel.from_pretrained(\"microsoft/BiomedNLP-PubMedBERT-base-uncased-abstract\")\n",
        "\n",
        "model.resize_token_embeddings(len(tokenizer))"
      ],
      "metadata": {
        "colab": {
          "base_uri": "https://localhost:8080/"
        },
        "id": "jSMoxyDCWxVb",
        "outputId": "aa816b6a-bb4c-4d13-bb2c-efe647d5365a"
      },
      "execution_count": 15,
      "outputs": [
        {
          "output_type": "execute_result",
          "data": {
            "text/plain": [
              "Embedding(28899, 768, padding_idx=0)"
            ]
          },
          "metadata": {},
          "execution_count": 15
        }
      ]
    }
  ]
}