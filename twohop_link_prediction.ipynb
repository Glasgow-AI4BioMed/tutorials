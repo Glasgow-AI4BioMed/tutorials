{
  "nbformat": 4,
  "nbformat_minor": 0,
  "metadata": {
    "colab": {
      "provenance": []
    },
    "kernelspec": {
      "name": "python3",
      "display_name": "Python 3"
    },
    "language_info": {
      "name": "python"
    },
    "widgets": {
      "application/vnd.jupyter.widget-state+json": {
        "1b2a002c658941059ef0c8edc0410c61": {
          "model_module": "@jupyter-widgets/controls",
          "model_name": "HBoxModel",
          "model_module_version": "1.5.0",
          "state": {
            "_dom_classes": [],
            "_model_module": "@jupyter-widgets/controls",
            "_model_module_version": "1.5.0",
            "_model_name": "HBoxModel",
            "_view_count": null,
            "_view_module": "@jupyter-widgets/controls",
            "_view_module_version": "1.5.0",
            "_view_name": "HBoxView",
            "box_style": "",
            "children": [
              "IPY_MODEL_035e018808c44e9fb115a388adc8ba2a",
              "IPY_MODEL_10927c500ecf467791b074d3e4605a40",
              "IPY_MODEL_6c13aff1f78344b797f2112b1a9cc280"
            ],
            "layout": "IPY_MODEL_f3c41be65d8f460ba50566eee2eed95b"
          }
        },
        "035e018808c44e9fb115a388adc8ba2a": {
          "model_module": "@jupyter-widgets/controls",
          "model_name": "HTMLModel",
          "model_module_version": "1.5.0",
          "state": {
            "_dom_classes": [],
            "_model_module": "@jupyter-widgets/controls",
            "_model_module_version": "1.5.0",
            "_model_name": "HTMLModel",
            "_view_count": null,
            "_view_module": "@jupyter-widgets/controls",
            "_view_module_version": "1.5.0",
            "_view_name": "HTMLView",
            "description": "",
            "description_tooltip": null,
            "layout": "IPY_MODEL_dd7cbec1b2fc42f28dee64dc92e942ec",
            "placeholder": "​",
            "style": "IPY_MODEL_4c26055ca52842f4aaf229f7b6b19757",
            "value": "Downloading train.txt:   1%"
          }
        },
        "10927c500ecf467791b074d3e4605a40": {
          "model_module": "@jupyter-widgets/controls",
          "model_name": "FloatProgressModel",
          "model_module_version": "1.5.0",
          "state": {
            "_dom_classes": [],
            "_model_module": "@jupyter-widgets/controls",
            "_model_module_version": "1.5.0",
            "_model_name": "FloatProgressModel",
            "_view_count": null,
            "_view_module": "@jupyter-widgets/controls",
            "_view_module_version": "1.5.0",
            "_view_name": "ProgressView",
            "bar_style": "info",
            "description": "",
            "description_tooltip": null,
            "layout": "IPY_MODEL_e8d0d75714db4ac89bf1f15630840128",
            "max": 1,
            "min": 0,
            "orientation": "horizontal",
            "style": "IPY_MODEL_c9635c4859ea49d1875c28ec961594d4",
            "value": 1
          }
        },
        "6c13aff1f78344b797f2112b1a9cc280": {
          "model_module": "@jupyter-widgets/controls",
          "model_name": "HTMLModel",
          "model_module_version": "1.5.0",
          "state": {
            "_dom_classes": [],
            "_model_module": "@jupyter-widgets/controls",
            "_model_module_version": "1.5.0",
            "_model_name": "HTMLModel",
            "_view_count": null,
            "_view_module": "@jupyter-widgets/controls",
            "_view_module_version": "1.5.0",
            "_view_name": "HTMLView",
            "description": "",
            "description_tooltip": null,
            "layout": "IPY_MODEL_06cbfab5a63f46fc86e71d7416e5bb83",
            "placeholder": "​",
            "style": "IPY_MODEL_489002e0569543a08fb04cc458292d5a",
            "value": " 8.00k/601k [00:00&lt;00:28, 21.6kB/s]"
          }
        },
        "f3c41be65d8f460ba50566eee2eed95b": {
          "model_module": "@jupyter-widgets/base",
          "model_name": "LayoutModel",
          "model_module_version": "1.2.0",
          "state": {
            "_model_module": "@jupyter-widgets/base",
            "_model_module_version": "1.2.0",
            "_model_name": "LayoutModel",
            "_view_count": null,
            "_view_module": "@jupyter-widgets/base",
            "_view_module_version": "1.2.0",
            "_view_name": "LayoutView",
            "align_content": null,
            "align_items": null,
            "align_self": null,
            "border": null,
            "bottom": null,
            "display": null,
            "flex": null,
            "flex_flow": null,
            "grid_area": null,
            "grid_auto_columns": null,
            "grid_auto_flow": null,
            "grid_auto_rows": null,
            "grid_column": null,
            "grid_gap": null,
            "grid_row": null,
            "grid_template_areas": null,
            "grid_template_columns": null,
            "grid_template_rows": null,
            "height": null,
            "justify_content": null,
            "justify_items": null,
            "left": null,
            "margin": null,
            "max_height": null,
            "max_width": null,
            "min_height": null,
            "min_width": null,
            "object_fit": null,
            "object_position": null,
            "order": null,
            "overflow": null,
            "overflow_x": null,
            "overflow_y": null,
            "padding": null,
            "right": null,
            "top": null,
            "visibility": "hidden",
            "width": null
          }
        },
        "dd7cbec1b2fc42f28dee64dc92e942ec": {
          "model_module": "@jupyter-widgets/base",
          "model_name": "LayoutModel",
          "model_module_version": "1.2.0",
          "state": {
            "_model_module": "@jupyter-widgets/base",
            "_model_module_version": "1.2.0",
            "_model_name": "LayoutModel",
            "_view_count": null,
            "_view_module": "@jupyter-widgets/base",
            "_view_module_version": "1.2.0",
            "_view_name": "LayoutView",
            "align_content": null,
            "align_items": null,
            "align_self": null,
            "border": null,
            "bottom": null,
            "display": null,
            "flex": null,
            "flex_flow": null,
            "grid_area": null,
            "grid_auto_columns": null,
            "grid_auto_flow": null,
            "grid_auto_rows": null,
            "grid_column": null,
            "grid_gap": null,
            "grid_row": null,
            "grid_template_areas": null,
            "grid_template_columns": null,
            "grid_template_rows": null,
            "height": null,
            "justify_content": null,
            "justify_items": null,
            "left": null,
            "margin": null,
            "max_height": null,
            "max_width": null,
            "min_height": null,
            "min_width": null,
            "object_fit": null,
            "object_position": null,
            "order": null,
            "overflow": null,
            "overflow_x": null,
            "overflow_y": null,
            "padding": null,
            "right": null,
            "top": null,
            "visibility": null,
            "width": null
          }
        },
        "4c26055ca52842f4aaf229f7b6b19757": {
          "model_module": "@jupyter-widgets/controls",
          "model_name": "DescriptionStyleModel",
          "model_module_version": "1.5.0",
          "state": {
            "_model_module": "@jupyter-widgets/controls",
            "_model_module_version": "1.5.0",
            "_model_name": "DescriptionStyleModel",
            "_view_count": null,
            "_view_module": "@jupyter-widgets/base",
            "_view_module_version": "1.2.0",
            "_view_name": "StyleView",
            "description_width": ""
          }
        },
        "e8d0d75714db4ac89bf1f15630840128": {
          "model_module": "@jupyter-widgets/base",
          "model_name": "LayoutModel",
          "model_module_version": "1.2.0",
          "state": {
            "_model_module": "@jupyter-widgets/base",
            "_model_module_version": "1.2.0",
            "_model_name": "LayoutModel",
            "_view_count": null,
            "_view_module": "@jupyter-widgets/base",
            "_view_module_version": "1.2.0",
            "_view_name": "LayoutView",
            "align_content": null,
            "align_items": null,
            "align_self": null,
            "border": null,
            "bottom": null,
            "display": null,
            "flex": null,
            "flex_flow": null,
            "grid_area": null,
            "grid_auto_columns": null,
            "grid_auto_flow": null,
            "grid_auto_rows": null,
            "grid_column": null,
            "grid_gap": null,
            "grid_row": null,
            "grid_template_areas": null,
            "grid_template_columns": null,
            "grid_template_rows": null,
            "height": null,
            "justify_content": null,
            "justify_items": null,
            "left": null,
            "margin": null,
            "max_height": null,
            "max_width": null,
            "min_height": null,
            "min_width": null,
            "object_fit": null,
            "object_position": null,
            "order": null,
            "overflow": null,
            "overflow_x": null,
            "overflow_y": null,
            "padding": null,
            "right": null,
            "top": null,
            "visibility": null,
            "width": "20px"
          }
        },
        "c9635c4859ea49d1875c28ec961594d4": {
          "model_module": "@jupyter-widgets/controls",
          "model_name": "ProgressStyleModel",
          "model_module_version": "1.5.0",
          "state": {
            "_model_module": "@jupyter-widgets/controls",
            "_model_module_version": "1.5.0",
            "_model_name": "ProgressStyleModel",
            "_view_count": null,
            "_view_module": "@jupyter-widgets/base",
            "_view_module_version": "1.2.0",
            "_view_name": "StyleView",
            "bar_color": null,
            "description_width": ""
          }
        },
        "06cbfab5a63f46fc86e71d7416e5bb83": {
          "model_module": "@jupyter-widgets/base",
          "model_name": "LayoutModel",
          "model_module_version": "1.2.0",
          "state": {
            "_model_module": "@jupyter-widgets/base",
            "_model_module_version": "1.2.0",
            "_model_name": "LayoutModel",
            "_view_count": null,
            "_view_module": "@jupyter-widgets/base",
            "_view_module_version": "1.2.0",
            "_view_name": "LayoutView",
            "align_content": null,
            "align_items": null,
            "align_self": null,
            "border": null,
            "bottom": null,
            "display": null,
            "flex": null,
            "flex_flow": null,
            "grid_area": null,
            "grid_auto_columns": null,
            "grid_auto_flow": null,
            "grid_auto_rows": null,
            "grid_column": null,
            "grid_gap": null,
            "grid_row": null,
            "grid_template_areas": null,
            "grid_template_columns": null,
            "grid_template_rows": null,
            "height": null,
            "justify_content": null,
            "justify_items": null,
            "left": null,
            "margin": null,
            "max_height": null,
            "max_width": null,
            "min_height": null,
            "min_width": null,
            "object_fit": null,
            "object_position": null,
            "order": null,
            "overflow": null,
            "overflow_x": null,
            "overflow_y": null,
            "padding": null,
            "right": null,
            "top": null,
            "visibility": null,
            "width": null
          }
        },
        "489002e0569543a08fb04cc458292d5a": {
          "model_module": "@jupyter-widgets/controls",
          "model_name": "DescriptionStyleModel",
          "model_module_version": "1.5.0",
          "state": {
            "_model_module": "@jupyter-widgets/controls",
            "_model_module_version": "1.5.0",
            "_model_name": "DescriptionStyleModel",
            "_view_count": null,
            "_view_module": "@jupyter-widgets/base",
            "_view_module_version": "1.2.0",
            "_view_name": "StyleView",
            "description_width": ""
          }
        },
        "7f1281b47e7c41a78e590baf4b391085": {
          "model_module": "@jupyter-widgets/controls",
          "model_name": "HBoxModel",
          "model_module_version": "1.5.0",
          "state": {
            "_dom_classes": [],
            "_model_module": "@jupyter-widgets/controls",
            "_model_module_version": "1.5.0",
            "_model_name": "HBoxModel",
            "_view_count": null,
            "_view_module": "@jupyter-widgets/controls",
            "_view_module_version": "1.5.0",
            "_view_name": "HBoxView",
            "box_style": "",
            "children": [
              "IPY_MODEL_2a920812617947a4a320f9006a95ebb7",
              "IPY_MODEL_0f11518149584070bc5f6b717fdbcf26",
              "IPY_MODEL_178ba6e174d84b30848e66b18afab93a"
            ],
            "layout": "IPY_MODEL_49a2807b191941abbe947d01894011a8"
          }
        },
        "2a920812617947a4a320f9006a95ebb7": {
          "model_module": "@jupyter-widgets/controls",
          "model_name": "HTMLModel",
          "model_module_version": "1.5.0",
          "state": {
            "_dom_classes": [],
            "_model_module": "@jupyter-widgets/controls",
            "_model_module_version": "1.5.0",
            "_model_name": "HTMLModel",
            "_view_count": null,
            "_view_module": "@jupyter-widgets/controls",
            "_view_module_version": "1.5.0",
            "_view_name": "HTMLView",
            "description": "",
            "description_tooltip": null,
            "layout": "IPY_MODEL_6917431a3a6b43719e5872da3d00ba3f",
            "placeholder": "​",
            "style": "IPY_MODEL_265f8ef44f1043629d4a3e344afe90f7",
            "value": "Downloading test.txt:  24%"
          }
        },
        "0f11518149584070bc5f6b717fdbcf26": {
          "model_module": "@jupyter-widgets/controls",
          "model_name": "FloatProgressModel",
          "model_module_version": "1.5.0",
          "state": {
            "_dom_classes": [],
            "_model_module": "@jupyter-widgets/controls",
            "_model_module_version": "1.5.0",
            "_model_name": "FloatProgressModel",
            "_view_count": null,
            "_view_module": "@jupyter-widgets/controls",
            "_view_module_version": "1.5.0",
            "_view_name": "ProgressView",
            "bar_style": "info",
            "description": "",
            "description_tooltip": null,
            "layout": "IPY_MODEL_71e39f7c13e247d19ef3ebdc170735d5",
            "max": 1,
            "min": 0,
            "orientation": "horizontal",
            "style": "IPY_MODEL_e9e759ef8db14cecbb7731e1c4380815",
            "value": 1
          }
        },
        "178ba6e174d84b30848e66b18afab93a": {
          "model_module": "@jupyter-widgets/controls",
          "model_name": "HTMLModel",
          "model_module_version": "1.5.0",
          "state": {
            "_dom_classes": [],
            "_model_module": "@jupyter-widgets/controls",
            "_model_module_version": "1.5.0",
            "_model_name": "HTMLModel",
            "_view_count": null,
            "_view_module": "@jupyter-widgets/controls",
            "_view_module_version": "1.5.0",
            "_view_name": "HTMLView",
            "description": "",
            "description_tooltip": null,
            "layout": "IPY_MODEL_ee5024acd4434f97b70c60a79ffb5020",
            "placeholder": "​",
            "style": "IPY_MODEL_e3fe241659614612aa2cb0c24e8466f1",
            "value": " 8.00k/33.4k [00:00&lt;00:00, 44.9kB/s]"
          }
        },
        "49a2807b191941abbe947d01894011a8": {
          "model_module": "@jupyter-widgets/base",
          "model_name": "LayoutModel",
          "model_module_version": "1.2.0",
          "state": {
            "_model_module": "@jupyter-widgets/base",
            "_model_module_version": "1.2.0",
            "_model_name": "LayoutModel",
            "_view_count": null,
            "_view_module": "@jupyter-widgets/base",
            "_view_module_version": "1.2.0",
            "_view_name": "LayoutView",
            "align_content": null,
            "align_items": null,
            "align_self": null,
            "border": null,
            "bottom": null,
            "display": null,
            "flex": null,
            "flex_flow": null,
            "grid_area": null,
            "grid_auto_columns": null,
            "grid_auto_flow": null,
            "grid_auto_rows": null,
            "grid_column": null,
            "grid_gap": null,
            "grid_row": null,
            "grid_template_areas": null,
            "grid_template_columns": null,
            "grid_template_rows": null,
            "height": null,
            "justify_content": null,
            "justify_items": null,
            "left": null,
            "margin": null,
            "max_height": null,
            "max_width": null,
            "min_height": null,
            "min_width": null,
            "object_fit": null,
            "object_position": null,
            "order": null,
            "overflow": null,
            "overflow_x": null,
            "overflow_y": null,
            "padding": null,
            "right": null,
            "top": null,
            "visibility": "hidden",
            "width": null
          }
        },
        "6917431a3a6b43719e5872da3d00ba3f": {
          "model_module": "@jupyter-widgets/base",
          "model_name": "LayoutModel",
          "model_module_version": "1.2.0",
          "state": {
            "_model_module": "@jupyter-widgets/base",
            "_model_module_version": "1.2.0",
            "_model_name": "LayoutModel",
            "_view_count": null,
            "_view_module": "@jupyter-widgets/base",
            "_view_module_version": "1.2.0",
            "_view_name": "LayoutView",
            "align_content": null,
            "align_items": null,
            "align_self": null,
            "border": null,
            "bottom": null,
            "display": null,
            "flex": null,
            "flex_flow": null,
            "grid_area": null,
            "grid_auto_columns": null,
            "grid_auto_flow": null,
            "grid_auto_rows": null,
            "grid_column": null,
            "grid_gap": null,
            "grid_row": null,
            "grid_template_areas": null,
            "grid_template_columns": null,
            "grid_template_rows": null,
            "height": null,
            "justify_content": null,
            "justify_items": null,
            "left": null,
            "margin": null,
            "max_height": null,
            "max_width": null,
            "min_height": null,
            "min_width": null,
            "object_fit": null,
            "object_position": null,
            "order": null,
            "overflow": null,
            "overflow_x": null,
            "overflow_y": null,
            "padding": null,
            "right": null,
            "top": null,
            "visibility": null,
            "width": null
          }
        },
        "265f8ef44f1043629d4a3e344afe90f7": {
          "model_module": "@jupyter-widgets/controls",
          "model_name": "DescriptionStyleModel",
          "model_module_version": "1.5.0",
          "state": {
            "_model_module": "@jupyter-widgets/controls",
            "_model_module_version": "1.5.0",
            "_model_name": "DescriptionStyleModel",
            "_view_count": null,
            "_view_module": "@jupyter-widgets/base",
            "_view_module_version": "1.2.0",
            "_view_name": "StyleView",
            "description_width": ""
          }
        },
        "71e39f7c13e247d19ef3ebdc170735d5": {
          "model_module": "@jupyter-widgets/base",
          "model_name": "LayoutModel",
          "model_module_version": "1.2.0",
          "state": {
            "_model_module": "@jupyter-widgets/base",
            "_model_module_version": "1.2.0",
            "_model_name": "LayoutModel",
            "_view_count": null,
            "_view_module": "@jupyter-widgets/base",
            "_view_module_version": "1.2.0",
            "_view_name": "LayoutView",
            "align_content": null,
            "align_items": null,
            "align_self": null,
            "border": null,
            "bottom": null,
            "display": null,
            "flex": null,
            "flex_flow": null,
            "grid_area": null,
            "grid_auto_columns": null,
            "grid_auto_flow": null,
            "grid_auto_rows": null,
            "grid_column": null,
            "grid_gap": null,
            "grid_row": null,
            "grid_template_areas": null,
            "grid_template_columns": null,
            "grid_template_rows": null,
            "height": null,
            "justify_content": null,
            "justify_items": null,
            "left": null,
            "margin": null,
            "max_height": null,
            "max_width": null,
            "min_height": null,
            "min_width": null,
            "object_fit": null,
            "object_position": null,
            "order": null,
            "overflow": null,
            "overflow_x": null,
            "overflow_y": null,
            "padding": null,
            "right": null,
            "top": null,
            "visibility": null,
            "width": "20px"
          }
        },
        "e9e759ef8db14cecbb7731e1c4380815": {
          "model_module": "@jupyter-widgets/controls",
          "model_name": "ProgressStyleModel",
          "model_module_version": "1.5.0",
          "state": {
            "_model_module": "@jupyter-widgets/controls",
            "_model_module_version": "1.5.0",
            "_model_name": "ProgressStyleModel",
            "_view_count": null,
            "_view_module": "@jupyter-widgets/base",
            "_view_module_version": "1.2.0",
            "_view_name": "StyleView",
            "bar_color": null,
            "description_width": ""
          }
        },
        "ee5024acd4434f97b70c60a79ffb5020": {
          "model_module": "@jupyter-widgets/base",
          "model_name": "LayoutModel",
          "model_module_version": "1.2.0",
          "state": {
            "_model_module": "@jupyter-widgets/base",
            "_model_module_version": "1.2.0",
            "_model_name": "LayoutModel",
            "_view_count": null,
            "_view_module": "@jupyter-widgets/base",
            "_view_module_version": "1.2.0",
            "_view_name": "LayoutView",
            "align_content": null,
            "align_items": null,
            "align_self": null,
            "border": null,
            "bottom": null,
            "display": null,
            "flex": null,
            "flex_flow": null,
            "grid_area": null,
            "grid_auto_columns": null,
            "grid_auto_flow": null,
            "grid_auto_rows": null,
            "grid_column": null,
            "grid_gap": null,
            "grid_row": null,
            "grid_template_areas": null,
            "grid_template_columns": null,
            "grid_template_rows": null,
            "height": null,
            "justify_content": null,
            "justify_items": null,
            "left": null,
            "margin": null,
            "max_height": null,
            "max_width": null,
            "min_height": null,
            "min_width": null,
            "object_fit": null,
            "object_position": null,
            "order": null,
            "overflow": null,
            "overflow_x": null,
            "overflow_y": null,
            "padding": null,
            "right": null,
            "top": null,
            "visibility": null,
            "width": null
          }
        },
        "e3fe241659614612aa2cb0c24e8466f1": {
          "model_module": "@jupyter-widgets/controls",
          "model_name": "DescriptionStyleModel",
          "model_module_version": "1.5.0",
          "state": {
            "_model_module": "@jupyter-widgets/controls",
            "_model_module_version": "1.5.0",
            "_model_name": "DescriptionStyleModel",
            "_view_count": null,
            "_view_module": "@jupyter-widgets/base",
            "_view_module_version": "1.2.0",
            "_view_name": "StyleView",
            "description_width": ""
          }
        },
        "8ea29a4bc3024fa29d8bf9c54ef9fc15": {
          "model_module": "@jupyter-widgets/controls",
          "model_name": "HBoxModel",
          "model_module_version": "1.5.0",
          "state": {
            "_dom_classes": [],
            "_model_module": "@jupyter-widgets/controls",
            "_model_module_version": "1.5.0",
            "_model_name": "HBoxModel",
            "_view_count": null,
            "_view_module": "@jupyter-widgets/controls",
            "_view_module_version": "1.5.0",
            "_view_name": "HBoxView",
            "box_style": "",
            "children": [
              "IPY_MODEL_6f6213a072134050abb6a1ee6d2c4c04",
              "IPY_MODEL_66ee92ca65e1408ab3813a95c9072772",
              "IPY_MODEL_07e3e45257434e4db881eba0c98bdfe5"
            ],
            "layout": "IPY_MODEL_706b40af2da34aa6b90b7f363b9a8256"
          }
        },
        "6f6213a072134050abb6a1ee6d2c4c04": {
          "model_module": "@jupyter-widgets/controls",
          "model_name": "HTMLModel",
          "model_module_version": "1.5.0",
          "state": {
            "_dom_classes": [],
            "_model_module": "@jupyter-widgets/controls",
            "_model_module_version": "1.5.0",
            "_model_name": "HTMLModel",
            "_view_count": null,
            "_view_module": "@jupyter-widgets/controls",
            "_view_module_version": "1.5.0",
            "_view_name": "HTMLView",
            "description": "",
            "description_tooltip": null,
            "layout": "IPY_MODEL_63639fbe70a14cf0b4091ddb5032fa84",
            "placeholder": "​",
            "style": "IPY_MODEL_ac5e74b442aa4000bc8e0aa2f9212fe4",
            "value": "Downloading valid.txt:  24%"
          }
        },
        "66ee92ca65e1408ab3813a95c9072772": {
          "model_module": "@jupyter-widgets/controls",
          "model_name": "FloatProgressModel",
          "model_module_version": "1.5.0",
          "state": {
            "_dom_classes": [],
            "_model_module": "@jupyter-widgets/controls",
            "_model_module_version": "1.5.0",
            "_model_name": "FloatProgressModel",
            "_view_count": null,
            "_view_module": "@jupyter-widgets/controls",
            "_view_module_version": "1.5.0",
            "_view_name": "ProgressView",
            "bar_style": "info",
            "description": "",
            "description_tooltip": null,
            "layout": "IPY_MODEL_db35341caeef4b45af9d20cd3a3eeef6",
            "max": 1,
            "min": 0,
            "orientation": "horizontal",
            "style": "IPY_MODEL_0dc2125f32d2474fb1b7a206290a08fc",
            "value": 1
          }
        },
        "07e3e45257434e4db881eba0c98bdfe5": {
          "model_module": "@jupyter-widgets/controls",
          "model_name": "HTMLModel",
          "model_module_version": "1.5.0",
          "state": {
            "_dom_classes": [],
            "_model_module": "@jupyter-widgets/controls",
            "_model_module_version": "1.5.0",
            "_model_name": "HTMLModel",
            "_view_count": null,
            "_view_module": "@jupyter-widgets/controls",
            "_view_module_version": "1.5.0",
            "_view_name": "HTMLView",
            "description": "",
            "description_tooltip": null,
            "layout": "IPY_MODEL_49e3573c836d43ffb9f191ddc7994544",
            "placeholder": "​",
            "style": "IPY_MODEL_4f946a23457744f28737bd00620b9c23",
            "value": " 8.00k/33.5k [00:00&lt;00:00, 48.0kB/s]"
          }
        },
        "706b40af2da34aa6b90b7f363b9a8256": {
          "model_module": "@jupyter-widgets/base",
          "model_name": "LayoutModel",
          "model_module_version": "1.2.0",
          "state": {
            "_model_module": "@jupyter-widgets/base",
            "_model_module_version": "1.2.0",
            "_model_name": "LayoutModel",
            "_view_count": null,
            "_view_module": "@jupyter-widgets/base",
            "_view_module_version": "1.2.0",
            "_view_name": "LayoutView",
            "align_content": null,
            "align_items": null,
            "align_self": null,
            "border": null,
            "bottom": null,
            "display": null,
            "flex": null,
            "flex_flow": null,
            "grid_area": null,
            "grid_auto_columns": null,
            "grid_auto_flow": null,
            "grid_auto_rows": null,
            "grid_column": null,
            "grid_gap": null,
            "grid_row": null,
            "grid_template_areas": null,
            "grid_template_columns": null,
            "grid_template_rows": null,
            "height": null,
            "justify_content": null,
            "justify_items": null,
            "left": null,
            "margin": null,
            "max_height": null,
            "max_width": null,
            "min_height": null,
            "min_width": null,
            "object_fit": null,
            "object_position": null,
            "order": null,
            "overflow": null,
            "overflow_x": null,
            "overflow_y": null,
            "padding": null,
            "right": null,
            "top": null,
            "visibility": "hidden",
            "width": null
          }
        },
        "63639fbe70a14cf0b4091ddb5032fa84": {
          "model_module": "@jupyter-widgets/base",
          "model_name": "LayoutModel",
          "model_module_version": "1.2.0",
          "state": {
            "_model_module": "@jupyter-widgets/base",
            "_model_module_version": "1.2.0",
            "_model_name": "LayoutModel",
            "_view_count": null,
            "_view_module": "@jupyter-widgets/base",
            "_view_module_version": "1.2.0",
            "_view_name": "LayoutView",
            "align_content": null,
            "align_items": null,
            "align_self": null,
            "border": null,
            "bottom": null,
            "display": null,
            "flex": null,
            "flex_flow": null,
            "grid_area": null,
            "grid_auto_columns": null,
            "grid_auto_flow": null,
            "grid_auto_rows": null,
            "grid_column": null,
            "grid_gap": null,
            "grid_row": null,
            "grid_template_areas": null,
            "grid_template_columns": null,
            "grid_template_rows": null,
            "height": null,
            "justify_content": null,
            "justify_items": null,
            "left": null,
            "margin": null,
            "max_height": null,
            "max_width": null,
            "min_height": null,
            "min_width": null,
            "object_fit": null,
            "object_position": null,
            "order": null,
            "overflow": null,
            "overflow_x": null,
            "overflow_y": null,
            "padding": null,
            "right": null,
            "top": null,
            "visibility": null,
            "width": null
          }
        },
        "ac5e74b442aa4000bc8e0aa2f9212fe4": {
          "model_module": "@jupyter-widgets/controls",
          "model_name": "DescriptionStyleModel",
          "model_module_version": "1.5.0",
          "state": {
            "_model_module": "@jupyter-widgets/controls",
            "_model_module_version": "1.5.0",
            "_model_name": "DescriptionStyleModel",
            "_view_count": null,
            "_view_module": "@jupyter-widgets/base",
            "_view_module_version": "1.2.0",
            "_view_name": "StyleView",
            "description_width": ""
          }
        },
        "db35341caeef4b45af9d20cd3a3eeef6": {
          "model_module": "@jupyter-widgets/base",
          "model_name": "LayoutModel",
          "model_module_version": "1.2.0",
          "state": {
            "_model_module": "@jupyter-widgets/base",
            "_model_module_version": "1.2.0",
            "_model_name": "LayoutModel",
            "_view_count": null,
            "_view_module": "@jupyter-widgets/base",
            "_view_module_version": "1.2.0",
            "_view_name": "LayoutView",
            "align_content": null,
            "align_items": null,
            "align_self": null,
            "border": null,
            "bottom": null,
            "display": null,
            "flex": null,
            "flex_flow": null,
            "grid_area": null,
            "grid_auto_columns": null,
            "grid_auto_flow": null,
            "grid_auto_rows": null,
            "grid_column": null,
            "grid_gap": null,
            "grid_row": null,
            "grid_template_areas": null,
            "grid_template_columns": null,
            "grid_template_rows": null,
            "height": null,
            "justify_content": null,
            "justify_items": null,
            "left": null,
            "margin": null,
            "max_height": null,
            "max_width": null,
            "min_height": null,
            "min_width": null,
            "object_fit": null,
            "object_position": null,
            "order": null,
            "overflow": null,
            "overflow_x": null,
            "overflow_y": null,
            "padding": null,
            "right": null,
            "top": null,
            "visibility": null,
            "width": "20px"
          }
        },
        "0dc2125f32d2474fb1b7a206290a08fc": {
          "model_module": "@jupyter-widgets/controls",
          "model_name": "ProgressStyleModel",
          "model_module_version": "1.5.0",
          "state": {
            "_model_module": "@jupyter-widgets/controls",
            "_model_module_version": "1.5.0",
            "_model_name": "ProgressStyleModel",
            "_view_count": null,
            "_view_module": "@jupyter-widgets/base",
            "_view_module_version": "1.2.0",
            "_view_name": "StyleView",
            "bar_color": null,
            "description_width": ""
          }
        },
        "49e3573c836d43ffb9f191ddc7994544": {
          "model_module": "@jupyter-widgets/base",
          "model_name": "LayoutModel",
          "model_module_version": "1.2.0",
          "state": {
            "_model_module": "@jupyter-widgets/base",
            "_model_module_version": "1.2.0",
            "_model_name": "LayoutModel",
            "_view_count": null,
            "_view_module": "@jupyter-widgets/base",
            "_view_module_version": "1.2.0",
            "_view_name": "LayoutView",
            "align_content": null,
            "align_items": null,
            "align_self": null,
            "border": null,
            "bottom": null,
            "display": null,
            "flex": null,
            "flex_flow": null,
            "grid_area": null,
            "grid_auto_columns": null,
            "grid_auto_flow": null,
            "grid_auto_rows": null,
            "grid_column": null,
            "grid_gap": null,
            "grid_row": null,
            "grid_template_areas": null,
            "grid_template_columns": null,
            "grid_template_rows": null,
            "height": null,
            "justify_content": null,
            "justify_items": null,
            "left": null,
            "margin": null,
            "max_height": null,
            "max_width": null,
            "min_height": null,
            "min_width": null,
            "object_fit": null,
            "object_position": null,
            "order": null,
            "overflow": null,
            "overflow_x": null,
            "overflow_y": null,
            "padding": null,
            "right": null,
            "top": null,
            "visibility": null,
            "width": null
          }
        },
        "4f946a23457744f28737bd00620b9c23": {
          "model_module": "@jupyter-widgets/controls",
          "model_name": "DescriptionStyleModel",
          "model_module_version": "1.5.0",
          "state": {
            "_model_module": "@jupyter-widgets/controls",
            "_model_module_version": "1.5.0",
            "_model_name": "DescriptionStyleModel",
            "_view_count": null,
            "_view_module": "@jupyter-widgets/base",
            "_view_module_version": "1.2.0",
            "_view_name": "StyleView",
            "description_width": ""
          }
        },
        "7188b8a9f3fd422ab5f8546d039ba3c5": {
          "model_module": "@jupyter-widgets/controls",
          "model_name": "HBoxModel",
          "model_module_version": "1.5.0",
          "state": {
            "_dom_classes": [],
            "_model_module": "@jupyter-widgets/controls",
            "_model_module_version": "1.5.0",
            "_model_name": "HBoxModel",
            "_view_count": null,
            "_view_module": "@jupyter-widgets/controls",
            "_view_module_version": "1.5.0",
            "_view_name": "HBoxView",
            "box_style": "",
            "children": [
              "IPY_MODEL_4b74edfcc09a4bf49da4c0c5ee2228c3",
              "IPY_MODEL_b54b25ae8a334c52b87607de6cc0c3a1",
              "IPY_MODEL_e86ffa4124194d469098741634eaaf4a"
            ],
            "layout": "IPY_MODEL_3b642e9efa18470c86b96bf94e3aa5b3"
          }
        },
        "4b74edfcc09a4bf49da4c0c5ee2228c3": {
          "model_module": "@jupyter-widgets/controls",
          "model_name": "HTMLModel",
          "model_module_version": "1.5.0",
          "state": {
            "_dom_classes": [],
            "_model_module": "@jupyter-widgets/controls",
            "_model_module_version": "1.5.0",
            "_model_name": "HTMLModel",
            "_view_count": null,
            "_view_module": "@jupyter-widgets/controls",
            "_view_module_version": "1.5.0",
            "_view_name": "HTMLView",
            "description": "",
            "description_tooltip": null,
            "layout": "IPY_MODEL_0933a87059534dfda5ae5c599f3f3e4b",
            "placeholder": "​",
            "style": "IPY_MODEL_965f343ae3ef44659278afef1369dcda",
            "value": "100%"
          }
        },
        "b54b25ae8a334c52b87607de6cc0c3a1": {
          "model_module": "@jupyter-widgets/controls",
          "model_name": "FloatProgressModel",
          "model_module_version": "1.5.0",
          "state": {
            "_dom_classes": [],
            "_model_module": "@jupyter-widgets/controls",
            "_model_module_version": "1.5.0",
            "_model_name": "FloatProgressModel",
            "_view_count": null,
            "_view_module": "@jupyter-widgets/controls",
            "_view_module_version": "1.5.0",
            "_view_name": "ProgressView",
            "bar_style": "success",
            "description": "",
            "description_tooltip": null,
            "layout": "IPY_MODEL_99ed2faf0ac644989d70cfc6879bea8c",
            "max": 2034,
            "min": 0,
            "orientation": "horizontal",
            "style": "IPY_MODEL_4f32c0c164204a84a2aaa78439219c89",
            "value": 2034
          }
        },
        "e86ffa4124194d469098741634eaaf4a": {
          "model_module": "@jupyter-widgets/controls",
          "model_name": "HTMLModel",
          "model_module_version": "1.5.0",
          "state": {
            "_dom_classes": [],
            "_model_module": "@jupyter-widgets/controls",
            "_model_module_version": "1.5.0",
            "_model_name": "HTMLModel",
            "_view_count": null,
            "_view_module": "@jupyter-widgets/controls",
            "_view_module_version": "1.5.0",
            "_view_name": "HTMLView",
            "description": "",
            "description_tooltip": null,
            "layout": "IPY_MODEL_253169f2f6344576a3b66c06156001f7",
            "placeholder": "​",
            "style": "IPY_MODEL_e6d24232cf024d6e933cc2980d3d83ae",
            "value": " 2034/2034 [01:07&lt;00:00, 33.50it/s]"
          }
        },
        "3b642e9efa18470c86b96bf94e3aa5b3": {
          "model_module": "@jupyter-widgets/base",
          "model_name": "LayoutModel",
          "model_module_version": "1.2.0",
          "state": {
            "_model_module": "@jupyter-widgets/base",
            "_model_module_version": "1.2.0",
            "_model_name": "LayoutModel",
            "_view_count": null,
            "_view_module": "@jupyter-widgets/base",
            "_view_module_version": "1.2.0",
            "_view_name": "LayoutView",
            "align_content": null,
            "align_items": null,
            "align_self": null,
            "border": null,
            "bottom": null,
            "display": null,
            "flex": null,
            "flex_flow": null,
            "grid_area": null,
            "grid_auto_columns": null,
            "grid_auto_flow": null,
            "grid_auto_rows": null,
            "grid_column": null,
            "grid_gap": null,
            "grid_row": null,
            "grid_template_areas": null,
            "grid_template_columns": null,
            "grid_template_rows": null,
            "height": null,
            "justify_content": null,
            "justify_items": null,
            "left": null,
            "margin": null,
            "max_height": null,
            "max_width": null,
            "min_height": null,
            "min_width": null,
            "object_fit": null,
            "object_position": null,
            "order": null,
            "overflow": null,
            "overflow_x": null,
            "overflow_y": null,
            "padding": null,
            "right": null,
            "top": null,
            "visibility": null,
            "width": null
          }
        },
        "0933a87059534dfda5ae5c599f3f3e4b": {
          "model_module": "@jupyter-widgets/base",
          "model_name": "LayoutModel",
          "model_module_version": "1.2.0",
          "state": {
            "_model_module": "@jupyter-widgets/base",
            "_model_module_version": "1.2.0",
            "_model_name": "LayoutModel",
            "_view_count": null,
            "_view_module": "@jupyter-widgets/base",
            "_view_module_version": "1.2.0",
            "_view_name": "LayoutView",
            "align_content": null,
            "align_items": null,
            "align_self": null,
            "border": null,
            "bottom": null,
            "display": null,
            "flex": null,
            "flex_flow": null,
            "grid_area": null,
            "grid_auto_columns": null,
            "grid_auto_flow": null,
            "grid_auto_rows": null,
            "grid_column": null,
            "grid_gap": null,
            "grid_row": null,
            "grid_template_areas": null,
            "grid_template_columns": null,
            "grid_template_rows": null,
            "height": null,
            "justify_content": null,
            "justify_items": null,
            "left": null,
            "margin": null,
            "max_height": null,
            "max_width": null,
            "min_height": null,
            "min_width": null,
            "object_fit": null,
            "object_position": null,
            "order": null,
            "overflow": null,
            "overflow_x": null,
            "overflow_y": null,
            "padding": null,
            "right": null,
            "top": null,
            "visibility": null,
            "width": null
          }
        },
        "965f343ae3ef44659278afef1369dcda": {
          "model_module": "@jupyter-widgets/controls",
          "model_name": "DescriptionStyleModel",
          "model_module_version": "1.5.0",
          "state": {
            "_model_module": "@jupyter-widgets/controls",
            "_model_module_version": "1.5.0",
            "_model_name": "DescriptionStyleModel",
            "_view_count": null,
            "_view_module": "@jupyter-widgets/base",
            "_view_module_version": "1.2.0",
            "_view_name": "StyleView",
            "description_width": ""
          }
        },
        "99ed2faf0ac644989d70cfc6879bea8c": {
          "model_module": "@jupyter-widgets/base",
          "model_name": "LayoutModel",
          "model_module_version": "1.2.0",
          "state": {
            "_model_module": "@jupyter-widgets/base",
            "_model_module_version": "1.2.0",
            "_model_name": "LayoutModel",
            "_view_count": null,
            "_view_module": "@jupyter-widgets/base",
            "_view_module_version": "1.2.0",
            "_view_name": "LayoutView",
            "align_content": null,
            "align_items": null,
            "align_self": null,
            "border": null,
            "bottom": null,
            "display": null,
            "flex": null,
            "flex_flow": null,
            "grid_area": null,
            "grid_auto_columns": null,
            "grid_auto_flow": null,
            "grid_auto_rows": null,
            "grid_column": null,
            "grid_gap": null,
            "grid_row": null,
            "grid_template_areas": null,
            "grid_template_columns": null,
            "grid_template_rows": null,
            "height": null,
            "justify_content": null,
            "justify_items": null,
            "left": null,
            "margin": null,
            "max_height": null,
            "max_width": null,
            "min_height": null,
            "min_width": null,
            "object_fit": null,
            "object_position": null,
            "order": null,
            "overflow": null,
            "overflow_x": null,
            "overflow_y": null,
            "padding": null,
            "right": null,
            "top": null,
            "visibility": null,
            "width": null
          }
        },
        "4f32c0c164204a84a2aaa78439219c89": {
          "model_module": "@jupyter-widgets/controls",
          "model_name": "ProgressStyleModel",
          "model_module_version": "1.5.0",
          "state": {
            "_model_module": "@jupyter-widgets/controls",
            "_model_module_version": "1.5.0",
            "_model_name": "ProgressStyleModel",
            "_view_count": null,
            "_view_module": "@jupyter-widgets/base",
            "_view_module_version": "1.2.0",
            "_view_name": "StyleView",
            "bar_color": null,
            "description_width": ""
          }
        },
        "253169f2f6344576a3b66c06156001f7": {
          "model_module": "@jupyter-widgets/base",
          "model_name": "LayoutModel",
          "model_module_version": "1.2.0",
          "state": {
            "_model_module": "@jupyter-widgets/base",
            "_model_module_version": "1.2.0",
            "_model_name": "LayoutModel",
            "_view_count": null,
            "_view_module": "@jupyter-widgets/base",
            "_view_module_version": "1.2.0",
            "_view_name": "LayoutView",
            "align_content": null,
            "align_items": null,
            "align_self": null,
            "border": null,
            "bottom": null,
            "display": null,
            "flex": null,
            "flex_flow": null,
            "grid_area": null,
            "grid_auto_columns": null,
            "grid_auto_flow": null,
            "grid_auto_rows": null,
            "grid_column": null,
            "grid_gap": null,
            "grid_row": null,
            "grid_template_areas": null,
            "grid_template_columns": null,
            "grid_template_rows": null,
            "height": null,
            "justify_content": null,
            "justify_items": null,
            "left": null,
            "margin": null,
            "max_height": null,
            "max_width": null,
            "min_height": null,
            "min_width": null,
            "object_fit": null,
            "object_position": null,
            "order": null,
            "overflow": null,
            "overflow_x": null,
            "overflow_y": null,
            "padding": null,
            "right": null,
            "top": null,
            "visibility": null,
            "width": null
          }
        },
        "e6d24232cf024d6e933cc2980d3d83ae": {
          "model_module": "@jupyter-widgets/controls",
          "model_name": "DescriptionStyleModel",
          "model_module_version": "1.5.0",
          "state": {
            "_model_module": "@jupyter-widgets/controls",
            "_model_module_version": "1.5.0",
            "_model_name": "DescriptionStyleModel",
            "_view_count": null,
            "_view_module": "@jupyter-widgets/base",
            "_view_module_version": "1.2.0",
            "_view_name": "StyleView",
            "description_width": ""
          }
        }
      }
    }
  },
  "cells": [
    {
      "cell_type": "markdown",
      "source": [
        "[![Colab Badge Link](https://img.shields.io/badge/open-in%20colab-blue)](https://colab.research.google.com/github/Glasgow-AI4BioMed/tutorials/blob/main/twohop_link_prediction.ipynb)\n",
        "\n",
        "# Two-Hop Link Prediction for a Knowledge Graph\n",
        "\n",
        "As a starting place for rule-based link prediction, let's look at two-hop relations that can be used to predict a single relation. The diagram below shows an example of this:"
      ],
      "metadata": {
        "id": "EWVkhq3UbTTy"
      }
    },
    {
      "cell_type": "markdown",
      "source": [
        "![image.png](data:image/png;base64,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)"
      ],
      "metadata": {
        "id": "w3zM0s2TActI"
      }
    },
    {
      "cell_type": "markdown",
      "source": [
        "In this case, a person that it is born in a country is likely to speak its official language. Here the two hops are \"Place of Birth\" and \"Official Language\". These two hops would be the body of a rule and the head would be the \"Speaks\" relation.\n",
        "\n",
        "This can be written as a rule (similar to those in the AnyBURL paper) with the head on the left and the body on the right.\n",
        "\n",
        "$ speaks(P,L) \\leftarrow placeOfBirth(P,C) \\text{ & }  officialLanguage(C,L) $\n",
        "\n",
        "This Colab will look at applying a rule and finding more two-hop rules. Notably, AnyBURL goes beyond 2-hop rules to longer rules."
      ],
      "metadata": {
        "id": "2j4xNarCAcwH"
      }
    },
    {
      "cell_type": "markdown",
      "source": [
        "## Prerequisites\n",
        "\n",
        "We'll first install the Pykeen library as it is useful for loading in other datasets."
      ],
      "metadata": {
        "id": "APBsbX-Cs2V0"
      }
    },
    {
      "cell_type": "code",
      "source": [
        "!pip install pykeen"
      ],
      "metadata": {
        "colab": {
          "base_uri": "https://localhost:8080/"
        },
        "id": "G3wwkimTYbxh",
        "outputId": "d49a59f8-43ac-4caf-faac-505c5112bf6a"
      },
      "execution_count": 1,
      "outputs": [
        {
          "output_type": "stream",
          "name": "stdout",
          "text": [
            "Collecting pykeen\n",
            "  Downloading pykeen-1.11.1-py3-none-any.whl.metadata (85 kB)\n",
            "\u001b[?25l     \u001b[90m━━━━━━━━━━━━━━━━━━━━━━━━━━━━━━━━━━━━━━━━\u001b[0m \u001b[32m0.0/85.9 kB\u001b[0m \u001b[31m?\u001b[0m eta \u001b[36m-:--:--\u001b[0m\r\u001b[2K     \u001b[90m━━━━━━━━━━━━━━━━━━━━━━━━━━━━━━━━━━━━━━━━\u001b[0m \u001b[32m85.9/85.9 kB\u001b[0m \u001b[31m2.6 MB/s\u001b[0m eta \u001b[36m0:00:00\u001b[0m\n",
            "\u001b[?25hCollecting dataclasses-json (from pykeen)\n",
            "  Downloading dataclasses_json-0.6.7-py3-none-any.whl.metadata (25 kB)\n",
            "Requirement already satisfied: numpy in /usr/local/lib/python3.11/dist-packages (from pykeen) (2.0.2)\n",
            "Requirement already satisfied: scipy>=1.7.0 in /usr/local/lib/python3.11/dist-packages (from pykeen) (1.15.3)\n",
            "Requirement already satisfied: click in /usr/local/lib/python3.11/dist-packages (from pykeen) (8.2.1)\n",
            "Collecting click_default_group (from pykeen)\n",
            "  Downloading click_default_group-1.2.4-py2.py3-none-any.whl.metadata (2.8 kB)\n",
            "Requirement already satisfied: scikit-learn in /usr/local/lib/python3.11/dist-packages (from pykeen) (1.6.1)\n",
            "Requirement already satisfied: torch>=2.0 in /usr/local/lib/python3.11/dist-packages (from pykeen) (2.6.0+cu124)\n",
            "Requirement already satisfied: tqdm in /usr/local/lib/python3.11/dist-packages (from pykeen) (4.67.1)\n",
            "Requirement already satisfied: requests in /usr/local/lib/python3.11/dist-packages (from pykeen) (2.32.3)\n",
            "Collecting optuna>=2.0.0 (from pykeen)\n",
            "  Downloading optuna-4.4.0-py3-none-any.whl.metadata (17 kB)\n",
            "Requirement already satisfied: pandas>=1.0.0 in /usr/local/lib/python3.11/dist-packages (from pykeen) (2.2.2)\n",
            "Requirement already satisfied: tabulate in /usr/local/lib/python3.11/dist-packages (from pykeen) (0.9.0)\n",
            "Collecting more_click (from pykeen)\n",
            "  Downloading more_click-0.1.2-py3-none-any.whl.metadata (4.3 kB)\n",
            "Requirement already satisfied: more_itertools in /usr/local/lib/python3.11/dist-packages (from pykeen) (10.7.0)\n",
            "Collecting pystow>=0.4.3 (from pykeen)\n",
            "  Downloading pystow-0.7.1-py3-none-any.whl.metadata (17 kB)\n",
            "Collecting docdata>=0.0.5 (from pykeen)\n",
            "  Downloading docdata-0.0.5-py3-none-any.whl.metadata (13 kB)\n",
            "Collecting class_resolver>=0.6.0 (from pykeen)\n",
            "  Downloading class_resolver-0.6.0-py3-none-any.whl.metadata (19 kB)\n",
            "Requirement already satisfied: pyyaml in /usr/local/lib/python3.11/dist-packages (from pykeen) (6.0.2)\n",
            "Collecting torch_max_mem>=0.1.4 (from pykeen)\n",
            "  Downloading torch_max_mem-0.1.4-py3-none-any.whl.metadata (12 kB)\n",
            "Collecting torch-ppr>=0.0.7 (from pykeen)\n",
            "  Downloading torch_ppr-0.0.8-py3-none-any.whl.metadata (9.3 kB)\n",
            "Requirement already satisfied: typing_extensions in /usr/local/lib/python3.11/dist-packages (from pykeen) (4.14.1)\n",
            "Collecting alembic>=1.5.0 (from optuna>=2.0.0->pykeen)\n",
            "  Downloading alembic-1.16.4-py3-none-any.whl.metadata (7.3 kB)\n",
            "Collecting colorlog (from optuna>=2.0.0->pykeen)\n",
            "  Downloading colorlog-6.9.0-py3-none-any.whl.metadata (10 kB)\n",
            "Requirement already satisfied: packaging>=20.0 in /usr/local/lib/python3.11/dist-packages (from optuna>=2.0.0->pykeen) (24.2)\n",
            "Requirement already satisfied: sqlalchemy>=1.4.2 in /usr/local/lib/python3.11/dist-packages (from optuna>=2.0.0->pykeen) (2.0.41)\n",
            "Requirement already satisfied: python-dateutil>=2.8.2 in /usr/local/lib/python3.11/dist-packages (from pandas>=1.0.0->pykeen) (2.9.0.post0)\n",
            "Requirement already satisfied: pytz>=2020.1 in /usr/local/lib/python3.11/dist-packages (from pandas>=1.0.0->pykeen) (2025.2)\n",
            "Requirement already satisfied: tzdata>=2022.7 in /usr/local/lib/python3.11/dist-packages (from pandas>=1.0.0->pykeen) (2025.2)\n",
            "Requirement already satisfied: filelock in /usr/local/lib/python3.11/dist-packages (from torch>=2.0->pykeen) (3.18.0)\n",
            "Requirement already satisfied: networkx in /usr/local/lib/python3.11/dist-packages (from torch>=2.0->pykeen) (3.5)\n",
            "Requirement already satisfied: jinja2 in /usr/local/lib/python3.11/dist-packages (from torch>=2.0->pykeen) (3.1.6)\n",
            "Requirement already satisfied: fsspec in /usr/local/lib/python3.11/dist-packages (from torch>=2.0->pykeen) (2025.3.2)\n",
            "Collecting nvidia-cuda-nvrtc-cu12==12.4.127 (from torch>=2.0->pykeen)\n",
            "  Downloading nvidia_cuda_nvrtc_cu12-12.4.127-py3-none-manylinux2014_x86_64.whl.metadata (1.5 kB)\n",
            "Collecting nvidia-cuda-runtime-cu12==12.4.127 (from torch>=2.0->pykeen)\n",
            "  Downloading nvidia_cuda_runtime_cu12-12.4.127-py3-none-manylinux2014_x86_64.whl.metadata (1.5 kB)\n",
            "Collecting nvidia-cuda-cupti-cu12==12.4.127 (from torch>=2.0->pykeen)\n",
            "  Downloading nvidia_cuda_cupti_cu12-12.4.127-py3-none-manylinux2014_x86_64.whl.metadata (1.6 kB)\n",
            "Collecting nvidia-cudnn-cu12==9.1.0.70 (from torch>=2.0->pykeen)\n",
            "  Downloading nvidia_cudnn_cu12-9.1.0.70-py3-none-manylinux2014_x86_64.whl.metadata (1.6 kB)\n",
            "Collecting nvidia-cublas-cu12==12.4.5.8 (from torch>=2.0->pykeen)\n",
            "  Downloading nvidia_cublas_cu12-12.4.5.8-py3-none-manylinux2014_x86_64.whl.metadata (1.5 kB)\n",
            "Collecting nvidia-cufft-cu12==11.2.1.3 (from torch>=2.0->pykeen)\n",
            "  Downloading nvidia_cufft_cu12-11.2.1.3-py3-none-manylinux2014_x86_64.whl.metadata (1.5 kB)\n",
            "Collecting nvidia-curand-cu12==10.3.5.147 (from torch>=2.0->pykeen)\n",
            "  Downloading nvidia_curand_cu12-10.3.5.147-py3-none-manylinux2014_x86_64.whl.metadata (1.5 kB)\n",
            "Collecting nvidia-cusolver-cu12==11.6.1.9 (from torch>=2.0->pykeen)\n",
            "  Downloading nvidia_cusolver_cu12-11.6.1.9-py3-none-manylinux2014_x86_64.whl.metadata (1.6 kB)\n",
            "Collecting nvidia-cusparse-cu12==12.3.1.170 (from torch>=2.0->pykeen)\n",
            "  Downloading nvidia_cusparse_cu12-12.3.1.170-py3-none-manylinux2014_x86_64.whl.metadata (1.6 kB)\n",
            "Requirement already satisfied: nvidia-cusparselt-cu12==0.6.2 in /usr/local/lib/python3.11/dist-packages (from torch>=2.0->pykeen) (0.6.2)\n",
            "Requirement already satisfied: nvidia-nccl-cu12==2.21.5 in /usr/local/lib/python3.11/dist-packages (from torch>=2.0->pykeen) (2.21.5)\n",
            "Requirement already satisfied: nvidia-nvtx-cu12==12.4.127 in /usr/local/lib/python3.11/dist-packages (from torch>=2.0->pykeen) (12.4.127)\n",
            "Collecting nvidia-nvjitlink-cu12==12.4.127 (from torch>=2.0->pykeen)\n",
            "  Downloading nvidia_nvjitlink_cu12-12.4.127-py3-none-manylinux2014_x86_64.whl.metadata (1.5 kB)\n",
            "Requirement already satisfied: triton==3.2.0 in /usr/local/lib/python3.11/dist-packages (from torch>=2.0->pykeen) (3.2.0)\n",
            "Requirement already satisfied: sympy==1.13.1 in /usr/local/lib/python3.11/dist-packages (from torch>=2.0->pykeen) (1.13.1)\n",
            "Requirement already satisfied: mpmath<1.4,>=1.1.0 in /usr/local/lib/python3.11/dist-packages (from sympy==1.13.1->torch>=2.0->pykeen) (1.3.0)\n",
            "Collecting marshmallow<4.0.0,>=3.18.0 (from dataclasses-json->pykeen)\n",
            "  Downloading marshmallow-3.26.1-py3-none-any.whl.metadata (7.3 kB)\n",
            "Collecting typing-inspect<1,>=0.4.0 (from dataclasses-json->pykeen)\n",
            "  Downloading typing_inspect-0.9.0-py3-none-any.whl.metadata (1.5 kB)\n",
            "Requirement already satisfied: charset-normalizer<4,>=2 in /usr/local/lib/python3.11/dist-packages (from requests->pykeen) (3.4.2)\n",
            "Requirement already satisfied: idna<4,>=2.5 in /usr/local/lib/python3.11/dist-packages (from requests->pykeen) (3.10)\n",
            "Requirement already satisfied: urllib3<3,>=1.21.1 in /usr/local/lib/python3.11/dist-packages (from requests->pykeen) (2.4.0)\n",
            "Requirement already satisfied: certifi>=2017.4.17 in /usr/local/lib/python3.11/dist-packages (from requests->pykeen) (2025.7.9)\n",
            "Requirement already satisfied: joblib>=1.2.0 in /usr/local/lib/python3.11/dist-packages (from scikit-learn->pykeen) (1.5.1)\n",
            "Requirement already satisfied: threadpoolctl>=3.1.0 in /usr/local/lib/python3.11/dist-packages (from scikit-learn->pykeen) (3.6.0)\n",
            "Requirement already satisfied: Mako in /usr/lib/python3/dist-packages (from alembic>=1.5.0->optuna>=2.0.0->pykeen) (1.1.3)\n",
            "Requirement already satisfied: six>=1.5 in /usr/local/lib/python3.11/dist-packages (from python-dateutil>=2.8.2->pandas>=1.0.0->pykeen) (1.17.0)\n",
            "Requirement already satisfied: greenlet>=1 in /usr/local/lib/python3.11/dist-packages (from sqlalchemy>=1.4.2->optuna>=2.0.0->pykeen) (3.2.3)\n",
            "Collecting mypy-extensions>=0.3.0 (from typing-inspect<1,>=0.4.0->dataclasses-json->pykeen)\n",
            "  Downloading mypy_extensions-1.1.0-py3-none-any.whl.metadata (1.1 kB)\n",
            "Requirement already satisfied: MarkupSafe>=2.0 in /usr/local/lib/python3.11/dist-packages (from jinja2->torch>=2.0->pykeen) (3.0.2)\n",
            "Downloading pykeen-1.11.1-py3-none-any.whl (730 kB)\n",
            "\u001b[2K   \u001b[90m━━━━━━━━━━━━━━━━━━━━━━━━━━━━━━━━━━━━━━━━\u001b[0m \u001b[32m730.3/730.3 kB\u001b[0m \u001b[31m14.3 MB/s\u001b[0m eta \u001b[36m0:00:00\u001b[0m\n",
            "\u001b[?25hDownloading class_resolver-0.6.0-py3-none-any.whl (31 kB)\n",
            "Downloading docdata-0.0.5-py3-none-any.whl (9.2 kB)\n",
            "Downloading optuna-4.4.0-py3-none-any.whl (395 kB)\n",
            "\u001b[2K   \u001b[90m━━━━━━━━━━━━━━━━━━━━━━━━━━━━━━━━━━━━━━━━\u001b[0m \u001b[32m395.9/395.9 kB\u001b[0m \u001b[31m22.9 MB/s\u001b[0m eta \u001b[36m0:00:00\u001b[0m\n",
            "\u001b[?25hDownloading pystow-0.7.1-py3-none-any.whl (39 kB)\n",
            "Downloading nvidia_cublas_cu12-12.4.5.8-py3-none-manylinux2014_x86_64.whl (363.4 MB)\n",
            "\u001b[2K   \u001b[90m━━━━━━━━━━━━━━━━━━━━━━━━━━━━━━━━━━━━━━━━\u001b[0m \u001b[32m363.4/363.4 MB\u001b[0m \u001b[31m5.2 MB/s\u001b[0m eta \u001b[36m0:00:00\u001b[0m\n",
            "\u001b[?25hDownloading nvidia_cuda_cupti_cu12-12.4.127-py3-none-manylinux2014_x86_64.whl (13.8 MB)\n",
            "\u001b[2K   \u001b[90m━━━━━━━━━━━━━━━━━━━━━━━━━━━━━━━━━━━━━━━━\u001b[0m \u001b[32m13.8/13.8 MB\u001b[0m \u001b[31m94.0 MB/s\u001b[0m eta \u001b[36m0:00:00\u001b[0m\n",
            "\u001b[?25hDownloading nvidia_cuda_nvrtc_cu12-12.4.127-py3-none-manylinux2014_x86_64.whl (24.6 MB)\n",
            "\u001b[2K   \u001b[90m━━━━━━━━━━━━━━━━━━━━━━━━━━━━━━━━━━━━━━━━\u001b[0m \u001b[32m24.6/24.6 MB\u001b[0m \u001b[31m83.6 MB/s\u001b[0m eta \u001b[36m0:00:00\u001b[0m\n",
            "\u001b[?25hDownloading nvidia_cuda_runtime_cu12-12.4.127-py3-none-manylinux2014_x86_64.whl (883 kB)\n",
            "\u001b[2K   \u001b[90m━━━━━━━━━━━━━━━━━━━━━━━━━━━━━━━━━━━━━━━━\u001b[0m \u001b[32m883.7/883.7 kB\u001b[0m \u001b[31m47.6 MB/s\u001b[0m eta \u001b[36m0:00:00\u001b[0m\n",
            "\u001b[?25hDownloading nvidia_cudnn_cu12-9.1.0.70-py3-none-manylinux2014_x86_64.whl (664.8 MB)\n",
            "\u001b[2K   \u001b[90m━━━━━━━━━━━━━━━━━━━━━━━━━━━━━━━━━━━━━━━━\u001b[0m \u001b[32m664.8/664.8 MB\u001b[0m \u001b[31m2.4 MB/s\u001b[0m eta \u001b[36m0:00:00\u001b[0m\n",
            "\u001b[?25hDownloading nvidia_cufft_cu12-11.2.1.3-py3-none-manylinux2014_x86_64.whl (211.5 MB)\n",
            "\u001b[2K   \u001b[90m━━━━━━━━━━━━━━━━━━━━━━━━━━━━━━━━━━━━━━━━\u001b[0m \u001b[32m211.5/211.5 MB\u001b[0m \u001b[31m5.7 MB/s\u001b[0m eta \u001b[36m0:00:00\u001b[0m\n",
            "\u001b[?25hDownloading nvidia_curand_cu12-10.3.5.147-py3-none-manylinux2014_x86_64.whl (56.3 MB)\n",
            "\u001b[2K   \u001b[90m━━━━━━━━━━━━━━━━━━━━━━━━━━━━━━━━━━━━━━━━\u001b[0m \u001b[32m56.3/56.3 MB\u001b[0m \u001b[31m12.1 MB/s\u001b[0m eta \u001b[36m0:00:00\u001b[0m\n",
            "\u001b[?25hDownloading nvidia_cusolver_cu12-11.6.1.9-py3-none-manylinux2014_x86_64.whl (127.9 MB)\n",
            "\u001b[2K   \u001b[90m━━━━━━━━━━━━━━━━━━━━━━━━━━━━━━━━━━━━━━━━\u001b[0m \u001b[32m127.9/127.9 MB\u001b[0m \u001b[31m7.4 MB/s\u001b[0m eta \u001b[36m0:00:00\u001b[0m\n",
            "\u001b[?25hDownloading nvidia_cusparse_cu12-12.3.1.170-py3-none-manylinux2014_x86_64.whl (207.5 MB)\n",
            "\u001b[2K   \u001b[90m━━━━━━━━━━━━━━━━━━━━━━━━━━━━━━━━━━━━━━━━\u001b[0m \u001b[32m207.5/207.5 MB\u001b[0m \u001b[31m6.0 MB/s\u001b[0m eta \u001b[36m0:00:00\u001b[0m\n",
            "\u001b[?25hDownloading nvidia_nvjitlink_cu12-12.4.127-py3-none-manylinux2014_x86_64.whl (21.1 MB)\n",
            "\u001b[2K   \u001b[90m━━━━━━━━━━━━━━━━━━━━━━━━━━━━━━━━━━━━━━━━\u001b[0m \u001b[32m21.1/21.1 MB\u001b[0m \u001b[31m91.4 MB/s\u001b[0m eta \u001b[36m0:00:00\u001b[0m\n",
            "\u001b[?25hDownloading torch_max_mem-0.1.4-py3-none-any.whl (13 kB)\n",
            "Downloading torch_ppr-0.0.8-py3-none-any.whl (12 kB)\n",
            "Downloading click_default_group-1.2.4-py2.py3-none-any.whl (4.1 kB)\n",
            "Downloading dataclasses_json-0.6.7-py3-none-any.whl (28 kB)\n",
            "Downloading more_click-0.1.2-py3-none-any.whl (6.7 kB)\n",
            "Downloading alembic-1.16.4-py3-none-any.whl (247 kB)\n",
            "\u001b[2K   \u001b[90m━━━━━━━━━━━━━━━━━━━━━━━━━━━━━━━━━━━━━━━━\u001b[0m \u001b[32m247.0/247.0 kB\u001b[0m \u001b[31m17.4 MB/s\u001b[0m eta \u001b[36m0:00:00\u001b[0m\n",
            "\u001b[?25hDownloading marshmallow-3.26.1-py3-none-any.whl (50 kB)\n",
            "\u001b[2K   \u001b[90m━━━━━━━━━━━━━━━━━━━━━━━━━━━━━━━━━━━━━━━━\u001b[0m \u001b[32m50.9/50.9 kB\u001b[0m \u001b[31m3.8 MB/s\u001b[0m eta \u001b[36m0:00:00\u001b[0m\n",
            "\u001b[?25hDownloading typing_inspect-0.9.0-py3-none-any.whl (8.8 kB)\n",
            "Downloading colorlog-6.9.0-py3-none-any.whl (11 kB)\n",
            "Downloading mypy_extensions-1.1.0-py3-none-any.whl (5.0 kB)\n",
            "Installing collected packages: nvidia-nvjitlink-cu12, nvidia-curand-cu12, nvidia-cufft-cu12, nvidia-cuda-runtime-cu12, nvidia-cuda-nvrtc-cu12, nvidia-cuda-cupti-cu12, nvidia-cublas-cu12, mypy-extensions, more_click, marshmallow, docdata, colorlog, click_default_group, class_resolver, typing-inspect, pystow, nvidia-cusparse-cu12, nvidia-cudnn-cu12, alembic, optuna, nvidia-cusolver-cu12, dataclasses-json, torch_max_mem, torch-ppr, pykeen\n",
            "  Attempting uninstall: nvidia-nvjitlink-cu12\n",
            "    Found existing installation: nvidia-nvjitlink-cu12 12.5.82\n",
            "    Uninstalling nvidia-nvjitlink-cu12-12.5.82:\n",
            "      Successfully uninstalled nvidia-nvjitlink-cu12-12.5.82\n",
            "  Attempting uninstall: nvidia-curand-cu12\n",
            "    Found existing installation: nvidia-curand-cu12 10.3.6.82\n",
            "    Uninstalling nvidia-curand-cu12-10.3.6.82:\n",
            "      Successfully uninstalled nvidia-curand-cu12-10.3.6.82\n",
            "  Attempting uninstall: nvidia-cufft-cu12\n",
            "    Found existing installation: nvidia-cufft-cu12 11.2.3.61\n",
            "    Uninstalling nvidia-cufft-cu12-11.2.3.61:\n",
            "      Successfully uninstalled nvidia-cufft-cu12-11.2.3.61\n",
            "  Attempting uninstall: nvidia-cuda-runtime-cu12\n",
            "    Found existing installation: nvidia-cuda-runtime-cu12 12.5.82\n",
            "    Uninstalling nvidia-cuda-runtime-cu12-12.5.82:\n",
            "      Successfully uninstalled nvidia-cuda-runtime-cu12-12.5.82\n",
            "  Attempting uninstall: nvidia-cuda-nvrtc-cu12\n",
            "    Found existing installation: nvidia-cuda-nvrtc-cu12 12.5.82\n",
            "    Uninstalling nvidia-cuda-nvrtc-cu12-12.5.82:\n",
            "      Successfully uninstalled nvidia-cuda-nvrtc-cu12-12.5.82\n",
            "  Attempting uninstall: nvidia-cuda-cupti-cu12\n",
            "    Found existing installation: nvidia-cuda-cupti-cu12 12.5.82\n",
            "    Uninstalling nvidia-cuda-cupti-cu12-12.5.82:\n",
            "      Successfully uninstalled nvidia-cuda-cupti-cu12-12.5.82\n",
            "  Attempting uninstall: nvidia-cublas-cu12\n",
            "    Found existing installation: nvidia-cublas-cu12 12.5.3.2\n",
            "    Uninstalling nvidia-cublas-cu12-12.5.3.2:\n",
            "      Successfully uninstalled nvidia-cublas-cu12-12.5.3.2\n",
            "  Attempting uninstall: nvidia-cusparse-cu12\n",
            "    Found existing installation: nvidia-cusparse-cu12 12.5.1.3\n",
            "    Uninstalling nvidia-cusparse-cu12-12.5.1.3:\n",
            "      Successfully uninstalled nvidia-cusparse-cu12-12.5.1.3\n",
            "  Attempting uninstall: nvidia-cudnn-cu12\n",
            "    Found existing installation: nvidia-cudnn-cu12 9.3.0.75\n",
            "    Uninstalling nvidia-cudnn-cu12-9.3.0.75:\n",
            "      Successfully uninstalled nvidia-cudnn-cu12-9.3.0.75\n",
            "  Attempting uninstall: nvidia-cusolver-cu12\n",
            "    Found existing installation: nvidia-cusolver-cu12 11.6.3.83\n",
            "    Uninstalling nvidia-cusolver-cu12-11.6.3.83:\n",
            "      Successfully uninstalled nvidia-cusolver-cu12-11.6.3.83\n",
            "Successfully installed alembic-1.16.4 class_resolver-0.6.0 click_default_group-1.2.4 colorlog-6.9.0 dataclasses-json-0.6.7 docdata-0.0.5 marshmallow-3.26.1 more_click-0.1.2 mypy-extensions-1.1.0 nvidia-cublas-cu12-12.4.5.8 nvidia-cuda-cupti-cu12-12.4.127 nvidia-cuda-nvrtc-cu12-12.4.127 nvidia-cuda-runtime-cu12-12.4.127 nvidia-cudnn-cu12-9.1.0.70 nvidia-cufft-cu12-11.2.1.3 nvidia-curand-cu12-10.3.5.147 nvidia-cusolver-cu12-11.6.1.9 nvidia-cusparse-cu12-12.3.1.170 nvidia-nvjitlink-cu12-12.4.127 optuna-4.4.0 pykeen-1.11.1 pystow-0.7.1 torch-ppr-0.0.8 torch_max_mem-0.1.4 typing-inspect-0.9.0\n"
          ]
        }
      ]
    },
    {
      "cell_type": "markdown",
      "source": [
        "## Loading the knowledge graph\n",
        "\n",
        "We'll use the [Codex knowledge graph](https://github.com/tsafavi/codex) because it's more interesting to look at than FB15k-237 or WN18RR. It contains knowledge from Wikipedia and WikiData.\n",
        "\n"
      ],
      "metadata": {
        "id": "JakEKCOusvib"
      }
    },
    {
      "cell_type": "code",
      "source": [
        "from pykeen.datasets import CoDExSmall\n",
        "\n",
        "dataset = CoDExSmall()"
      ],
      "metadata": {
        "id": "OXjUwgl3Yd6S",
        "colab": {
          "base_uri": "https://localhost:8080/",
          "height": 35,
          "referenced_widgets": [
            "1b2a002c658941059ef0c8edc0410c61",
            "035e018808c44e9fb115a388adc8ba2a",
            "10927c500ecf467791b074d3e4605a40",
            "6c13aff1f78344b797f2112b1a9cc280",
            "f3c41be65d8f460ba50566eee2eed95b",
            "dd7cbec1b2fc42f28dee64dc92e942ec",
            "4c26055ca52842f4aaf229f7b6b19757",
            "e8d0d75714db4ac89bf1f15630840128",
            "c9635c4859ea49d1875c28ec961594d4",
            "06cbfab5a63f46fc86e71d7416e5bb83",
            "489002e0569543a08fb04cc458292d5a",
            "7f1281b47e7c41a78e590baf4b391085",
            "2a920812617947a4a320f9006a95ebb7",
            "0f11518149584070bc5f6b717fdbcf26",
            "178ba6e174d84b30848e66b18afab93a",
            "49a2807b191941abbe947d01894011a8",
            "6917431a3a6b43719e5872da3d00ba3f",
            "265f8ef44f1043629d4a3e344afe90f7",
            "71e39f7c13e247d19ef3ebdc170735d5",
            "e9e759ef8db14cecbb7731e1c4380815",
            "ee5024acd4434f97b70c60a79ffb5020",
            "e3fe241659614612aa2cb0c24e8466f1",
            "8ea29a4bc3024fa29d8bf9c54ef9fc15",
            "6f6213a072134050abb6a1ee6d2c4c04",
            "66ee92ca65e1408ab3813a95c9072772",
            "07e3e45257434e4db881eba0c98bdfe5",
            "706b40af2da34aa6b90b7f363b9a8256",
            "63639fbe70a14cf0b4091ddb5032fa84",
            "ac5e74b442aa4000bc8e0aa2f9212fe4",
            "db35341caeef4b45af9d20cd3a3eeef6",
            "0dc2125f32d2474fb1b7a206290a08fc",
            "49e3573c836d43ffb9f191ddc7994544",
            "4f946a23457744f28737bd00620b9c23"
          ]
        },
        "outputId": "ee0db27e-b371-4437-9d80-d8cb52c798a7"
      },
      "execution_count": 2,
      "outputs": [
        {
          "output_type": "stream",
          "name": "stderr",
          "text": [
            "INFO:pykeen.utils:Using opt_einsum\n"
          ]
        },
        {
          "output_type": "display_data",
          "data": {
            "text/plain": [
              "Downloading train.txt: 0.00B [00:00, ?B/s]"
            ],
            "application/vnd.jupyter.widget-view+json": {
              "version_major": 2,
              "version_minor": 0,
              "model_id": "1b2a002c658941059ef0c8edc0410c61"
            }
          },
          "metadata": {}
        },
        {
          "output_type": "display_data",
          "data": {
            "text/plain": [
              "Downloading test.txt: 0.00B [00:00, ?B/s]"
            ],
            "application/vnd.jupyter.widget-view+json": {
              "version_major": 2,
              "version_minor": 0,
              "model_id": "7f1281b47e7c41a78e590baf4b391085"
            }
          },
          "metadata": {}
        },
        {
          "output_type": "display_data",
          "data": {
            "text/plain": [
              "Downloading valid.txt: 0.00B [00:00, ?B/s]"
            ],
            "application/vnd.jupyter.widget-view+json": {
              "version_major": 2,
              "version_minor": 0,
              "model_id": "8ea29a4bc3024fa29d8bf9c54ef9fc15"
            }
          },
          "metadata": {}
        }
      ]
    },
    {
      "cell_type": "markdown",
      "source": [
        "We can then pull out the training, validation and test triples from the knowledge graph. This also shows the number of each data split."
      ],
      "metadata": {
        "id": "kQeSOmRxuJbb"
      }
    },
    {
      "cell_type": "code",
      "source": [
        "train_triples = dataset.training.mapped_triples.numpy()\n",
        "val_triples = dataset.validation.mapped_triples.numpy()\n",
        "test_triples = dataset.testing.mapped_triples.numpy()\n",
        "\n",
        "train_triples.shape,val_triples.shape,test_triples.shape"
      ],
      "metadata": {
        "colab": {
          "base_uri": "https://localhost:8080/"
        },
        "id": "QGJwZv3EuFfa",
        "outputId": "973fc0ad-48e8-4919-8cb1-b895555d36cb"
      },
      "execution_count": 3,
      "outputs": [
        {
          "output_type": "execute_result",
          "data": {
            "text/plain": [
              "((32888, 3), (1827, 3), (1828, 3))"
            ]
          },
          "metadata": {},
          "execution_count": 3
        }
      ]
    },
    {
      "cell_type": "markdown",
      "source": [
        "If you look at the triples, they contain indices. While we can process this graph without knowing what it means, it'd be nice to know the entity and relation mappings so we can look at things."
      ],
      "metadata": {
        "id": "i-1UzaYEuhcy"
      }
    },
    {
      "cell_type": "code",
      "source": [
        "print(train_triples[:10])"
      ],
      "metadata": {
        "colab": {
          "base_uri": "https://localhost:8080/"
        },
        "id": "QZrk6TW-uWbr",
        "outputId": "b3481a11-44a2-4a0f-908c-c75d9f8177b5"
      },
      "execution_count": 4,
      "outputs": [
        {
          "output_type": "stream",
          "name": "stdout",
          "text": [
            "[[   1   23  263]\n",
            " [   1   28  264]\n",
            " [   1   31  222]\n",
            " [   1   31  452]\n",
            " [   1   31  576]\n",
            " [   1   31  646]\n",
            " [   1   31 1002]\n",
            " [   1   31 1126]\n",
            " [   1   31 1144]\n",
            " [   1   31 1247]]\n"
          ]
        }
      ]
    },
    {
      "cell_type": "markdown",
      "source": [
        "To make it easier to understand, we'll download the actual text mappings for the entities and relations (instead of just having to look at the node and edge indices)."
      ],
      "metadata": {
        "id": "-G9UzceFuCTa"
      }
    },
    {
      "cell_type": "code",
      "source": [
        "!wget -O codex_entities.json https://github.com/tsafavi/codex/raw/master/data/entities/en/entities.json\n",
        "!wget -O codex_relations.json https://raw.githubusercontent.com/tsafavi/codex/master/data/relations/en/relations.json"
      ],
      "metadata": {
        "colab": {
          "base_uri": "https://localhost:8080/"
        },
        "id": "oRsn99ycWObf",
        "outputId": "070cff56-a2be-4010-eeb0-6d7d9a3b63e7"
      },
      "execution_count": 5,
      "outputs": [
        {
          "output_type": "stream",
          "name": "stdout",
          "text": [
            "--2025-07-12 20:07:33--  https://github.com/tsafavi/codex/raw/master/data/entities/en/entities.json\n",
            "Resolving github.com (github.com)... 140.82.113.3\n",
            "Connecting to github.com (github.com)|140.82.113.3|:443... connected.\n",
            "HTTP request sent, awaiting response... 302 Found\n",
            "Location: https://raw.githubusercontent.com/tsafavi/codex/master/data/entities/en/entities.json [following]\n",
            "--2025-07-12 20:07:34--  https://raw.githubusercontent.com/tsafavi/codex/master/data/entities/en/entities.json\n",
            "Resolving raw.githubusercontent.com (raw.githubusercontent.com)... 185.199.108.133, 185.199.109.133, 185.199.110.133, ...\n",
            "Connecting to raw.githubusercontent.com (raw.githubusercontent.com)|185.199.108.133|:443... connected.\n",
            "HTTP request sent, awaiting response... 200 OK\n",
            "Length: 10498709 (10M) [text/plain]\n",
            "Saving to: ‘codex_entities.json’\n",
            "\n",
            "codex_entities.json 100%[===================>]  10.01M  --.-KB/s    in 0.1s    \n",
            "\n",
            "2025-07-12 20:07:34 (102 MB/s) - ‘codex_entities.json’ saved [10498709/10498709]\n",
            "\n",
            "--2025-07-12 20:07:34--  https://raw.githubusercontent.com/tsafavi/codex/master/data/relations/en/relations.json\n",
            "Resolving raw.githubusercontent.com (raw.githubusercontent.com)... 185.199.111.133, 185.199.109.133, 185.199.110.133, ...\n",
            "Connecting to raw.githubusercontent.com (raw.githubusercontent.com)|185.199.111.133|:443... connected.\n",
            "HTTP request sent, awaiting response... 200 OK\n",
            "Length: 10698 (10K) [text/plain]\n",
            "Saving to: ‘codex_relations.json’\n",
            "\n",
            "codex_relations.jso 100%[===================>]  10.45K  --.-KB/s    in 0.001s  \n",
            "\n",
            "2025-07-12 20:07:34 (13.8 MB/s) - ‘codex_relations.json’ saved [10698/10698]\n",
            "\n"
          ]
        }
      ]
    },
    {
      "cell_type": "markdown",
      "source": [
        "And then we load the entities and create mappings `entityindex_to_name` and `relindex_to_name` from knowledge graph indices to names."
      ],
      "metadata": {
        "id": "oYbsBnaytW6j"
      }
    },
    {
      "cell_type": "code",
      "source": [
        "import json\n",
        "with open('codex_entities.json') as f:\n",
        "  codex_entities = json.load(f)\n",
        "with open('codex_relations.json') as f:\n",
        "  codex_relations = json.load(f)\n",
        "\n",
        "# Create a mapping from the knowledge base identifiers to the entity/relation names\n",
        "entityid_to_name = { entityid:codex_entities[entityid]['label'] for entityid in codex_entities }\n",
        "relid_to_name = { relid:codex_relations[relid]['label'] for relid in codex_relations }\n",
        "\n",
        "# Going through the KB identifiers, create a mapping directly from the indices to the names\n",
        "entityindex_to_name = { entityindex:entityid_to_name[entityid] for entityid,entityindex in dataset.entity_to_id.items() }\n",
        "relindex_to_name = {relindex:relid_to_name[relid] for relid,relindex in dataset.relation_to_id.items() }\n"
      ],
      "metadata": {
        "id": "iv-UCBc6W0l_"
      },
      "execution_count": 6,
      "outputs": []
    },
    {
      "cell_type": "markdown",
      "source": [
        "It'll be useful to have a backwards mapping from name to index too."
      ],
      "metadata": {
        "id": "vDZbW_QPERqq"
      }
    },
    {
      "cell_type": "code",
      "source": [
        "entityname_to_index = { name:index for index,name in entityindex_to_name.items() }\n",
        "relname_to_index = { name:index for index,name in relindex_to_name.items() }"
      ],
      "metadata": {
        "id": "BVKEvupbERwh"
      },
      "execution_count": 7,
      "outputs": []
    },
    {
      "cell_type": "markdown",
      "source": [
        "We need to know the unique entity and relation indices and their count."
      ],
      "metadata": {
        "id": "YUbacPJ7vCQj"
      }
    },
    {
      "cell_type": "code",
      "source": [
        "entityindices = sorted(entityindex_to_name.keys())\n",
        "relindices = sorted(relindex_to_name.keys())\n",
        "\n",
        "print(f\"Number of entities = {len(entityindices)}\")\n",
        "print(f\"Number of relations = {len(relindices)}\")"
      ],
      "metadata": {
        "colab": {
          "base_uri": "https://localhost:8080/"
        },
        "id": "AHTrgbR97Uez",
        "outputId": "f7c0e763-5562-417b-9e86-4903668de723"
      },
      "execution_count": 8,
      "outputs": [
        {
          "output_type": "stream",
          "name": "stdout",
          "text": [
            "Number of entities = 2034\n",
            "Number of relations = 42\n"
          ]
        }
      ]
    },
    {
      "cell_type": "markdown",
      "source": [
        "We can show a small sample of the mappings for entities"
      ],
      "metadata": {
        "id": "V72tWO0SvDLk"
      }
    },
    {
      "cell_type": "code",
      "source": [
        "for entityindex in range(10):\n",
        "  print(f\"{entityindex}\\t{entityindex_to_name[entityindex]}\")"
      ],
      "metadata": {
        "colab": {
          "base_uri": "https://localhost:8080/"
        },
        "id": "M9Tz_Olz18RA",
        "outputId": "00dfd87d-5235-4cd6-b437-897fde7b518c"
      },
      "execution_count": 9,
      "outputs": [
        {
          "output_type": "stream",
          "name": "stdout",
          "text": [
            "0\tBoston\n",
            "1\tGabon\n",
            "2\tMohandas Karamchand Gandhi\n",
            "3\tGambia\n",
            "4\tGuinea\n",
            "5\tGuinea-Bissau\n",
            "6\tIvory Coast\n",
            "7\tCameroon\n",
            "8\tFred Astaire\n",
            "9\tGiorgio Gaber\n"
          ]
        }
      ]
    },
    {
      "cell_type": "markdown",
      "source": [
        "And here are the relation indices with names."
      ],
      "metadata": {
        "id": "eyIwYeDGtrV7"
      }
    },
    {
      "cell_type": "code",
      "source": [
        "for relindex,name in relindex_to_name.items():\n",
        "  print(f\"{relindex}\\t{name}\")"
      ],
      "metadata": {
        "colab": {
          "base_uri": "https://localhost:8080/"
        },
        "id": "NR_mKGs_1sCS",
        "outputId": "0ccf5b85-9ceb-46b2-e217-4e0cf5ebbcc3"
      },
      "execution_count": 10,
      "outputs": [
        {
          "output_type": "stream",
          "name": "stdout",
          "text": [
            "0\tfield of work\n",
            "1\tmember of political party\n",
            "2\tmedical condition\n",
            "3\toccupation\n",
            "4\temployer\n",
            "5\tfounded by\n",
            "6\tplace of burial\n",
            "7\tinstrument\n",
            "8\tmovement\n",
            "9\tgenre\n",
            "10\tnamed after\n",
            "11\treligion\n",
            "12\tlanguages spoken, written, or signed\n",
            "13\theadquarters location\n",
            "14\tcast member\n",
            "15\tcountry\n",
            "16\tethnic group\n",
            "17\tplace of birth\n",
            "18\tplace of death\n",
            "19\ttime period\n",
            "20\tspouse\n",
            "21\trecord label\n",
            "22\tcountry of citizenship\n",
            "23\tcontinent\n",
            "24\tpracticed by\n",
            "25\tsibling\n",
            "26\thead of state\n",
            "27\tpart of\n",
            "28\tofficial language\n",
            "29\tchild\n",
            "30\tunmarried partner\n",
            "31\tmember of\n",
            "32\tcountry of origin\n",
            "33\tcause of death\n",
            "34\tdiplomatic relation\n",
            "35\tresidence\n",
            "36\teducated at\n",
            "37\tinfluenced by\n",
            "38\tlocation of formation\n",
            "39\tparent organization\n",
            "40\tnotable works\n",
            "41\tnarrative location\n"
          ]
        }
      ]
    },
    {
      "cell_type": "markdown",
      "source": [
        "And now we can use the mappings to look at what is in the knowledge graph. Below are a few triples with the indices mapped to names of entities and relations."
      ],
      "metadata": {
        "id": "STy81H3fvwET"
      }
    },
    {
      "cell_type": "code",
      "source": [
        "for head,rel,tail in train_triples[:10]:\n",
        "  head_name = entityindex_to_name[head]\n",
        "  rel_name = relindex_to_name[rel]\n",
        "  tail_name = entityindex_to_name[tail]\n",
        "\n",
        "  print(f\"{head_name}\\t{rel_name}\\t{tail_name}\")"
      ],
      "metadata": {
        "colab": {
          "base_uri": "https://localhost:8080/"
        },
        "id": "VU8XsROL0u4J",
        "outputId": "da7229f9-8b8d-4fff-88d8-e630281bef4b"
      },
      "execution_count": 11,
      "outputs": [
        {
          "output_type": "stream",
          "name": "stdout",
          "text": [
            "Gabon\tcontinent\tAfrica\n",
            "Gabon\tofficial language\tFrench\n",
            "Gabon\tmember of\tOrganisation internationale de la Francophonie\n",
            "Gabon\tmember of\tUniversal Postal Union\n",
            "Gabon\tmember of\tInternational Bank for Reconstruction and Development\n",
            "Gabon\tmember of\tOHADA\n",
            "Gabon\tmember of\t\"African, Caribbean and Pacific Group of States\"\n",
            "Gabon\tmember of\tAFRISTAT\n",
            "Gabon\tmember of\tAfrican Development Bank\n",
            "Gabon\tmember of\tInternational Telecommunication Union\n"
          ]
        }
      ]
    },
    {
      "cell_type": "markdown",
      "source": [
        "## Indexing the knowledge graph\n",
        "\n",
        "Before we can get stuck into checking/finding rules, we want to index the knowledge base. This makes it faster to get the list of relations for an entity.\n",
        "\n",
        "These knowledge graphs treat all relations as directional. For example (e1, 'named_after', e2) is different from (e2, 'named_after', e1). So when we store the neighbours of an entity, we want to know if the relation is outgoing from the entity or incoming to the entity. We'll store each relation as a tuple with the relation index plus a boolean of whether it is outgoing or incoming. We'll use a [defaultdict](https://docs.python.org/3/library/collections.html#collections.defaultdict) to store relations indexed by the entity they originate from.\n",
        "\n"
      ],
      "metadata": {
        "id": "sMEAFJ7jD2RR"
      }
    },
    {
      "cell_type": "code",
      "source": [
        "from collections import defaultdict\n",
        "\n",
        "neighbours = defaultdict(list)\n",
        "\n",
        "for head,rel,tail in train_triples:\n",
        "  outgoing_rel = (rel,True)\n",
        "  incoming_rel = (rel,False)\n",
        "\n",
        "  neighbours[head].append( (outgoing_rel,tail) )\n",
        "  neighbours[tail].append( (incoming_rel,head) )"
      ],
      "metadata": {
        "id": "TnPRkv6mGATe"
      },
      "execution_count": 12,
      "outputs": []
    },
    {
      "cell_type": "markdown",
      "source": [
        "Now we can quickly look up outgoing and incoming relations from an entity. Let's do that for an entity. Index 8 is Fred Astaire."
      ],
      "metadata": {
        "id": "0GFIXswsza3t"
      }
    },
    {
      "cell_type": "code",
      "source": [
        "entityindex = 8\n",
        "print(\"Showing relations for entity:\", entityindex_to_name[entityindex])\n",
        "\n",
        "neighbours_for_this_entity = sorted(neighbours[entityindex])\n",
        "for (relindex,is_outgoing), neighbour_entityindex in neighbours_for_this_entity:\n",
        "  # Add a ~ if it is an incoming relation\n",
        "  relname = relindex_to_name[relindex] if is_outgoing else '~'+relindex_to_name[relindex]\n",
        "  print(\" -\", relname, \"-\", entityindex_to_name[neighbour_entityindex])"
      ],
      "metadata": {
        "colab": {
          "base_uri": "https://localhost:8080/"
        },
        "id": "6tgHDUe96Ljb",
        "outputId": "5a37eec0-8586-447f-e8f4-399c6fefdd94"
      },
      "execution_count": 13,
      "outputs": [
        {
          "output_type": "stream",
          "name": "stdout",
          "text": [
            "Showing relations for entity: Fred Astaire\n",
            " - member of political party - Republican Party\n",
            " - occupation - television actor\n",
            " - occupation - film actor\n",
            " - occupation - stage actor\n",
            " - occupation - voice actor\n",
            " - occupation - choreographer\n",
            " - occupation - screenwriter\n",
            " - occupation - film producer\n",
            " - occupation - actor\n",
            " - occupation - dancer\n",
            " - occupation - musician\n",
            " - occupation - television presenter\n",
            " - instrument - voice\n",
            " - genre - traditional pop music\n",
            " - languages spoken, written, or signed - English\n",
            " - ethnic group - Jewish people\n",
            " - place of death - Los Angeles\n",
            " - time period - 20th century\n",
            " - country of citizenship - United States of America\n",
            " - cause of death - pneumonia\n",
            " - ~influenced by - Michael Jackson\n"
          ]
        }
      ]
    },
    {
      "cell_type": "markdown",
      "source": [
        "Most of the relations are outgoing from Fred Astaire, e.g. he is an actor. But one is incoming (marked by the tilde mark here), that Michael Jackson was influenced by him."
      ],
      "metadata": {
        "id": "Wt-uJ7g2duu7"
      }
    },
    {
      "cell_type": "markdown",
      "source": [
        "## Testing a rule\n",
        "\n",
        "Let's test the rule from the beginning:\n",
        "\n",
        "$ speaks(P,L) \\leftarrow placeOfBirth(P,C) \\text{ & }  officialLanguage(C,L) $\n",
        "\n",
        "We'll create some variables to represent the body and head of our rule. We've matched them to the relation names used in the Codex knowledge base (which were output earlier)."
      ],
      "metadata": {
        "id": "n6cyis5H91PQ"
      }
    },
    {
      "cell_type": "code",
      "source": [
        "candidate_body = ('place of birth', 'official language')\n",
        "candidate_head = 'languages spoken, written, or signed'"
      ],
      "metadata": {
        "id": "gOeq7HgfDE25"
      },
      "execution_count": 14,
      "outputs": []
    },
    {
      "cell_type": "markdown",
      "source": [
        "Then we need to transform the text names to the indices for the relations."
      ],
      "metadata": {
        "id": "709eGWA-EpvC"
      }
    },
    {
      "cell_type": "code",
      "source": [
        "candidate_body_rels = ( (relname_to_index[candidate_body[0]],True), (relname_to_index[candidate_body[1]],True) )\n",
        "candidate_head_rel = (relname_to_index[candidate_head],True)\n",
        "\n",
        "print(\"candidate_body_rels =\",candidate_body_rels)\n",
        "print(\"candidate_head_index =\",candidate_head_rel)"
      ],
      "metadata": {
        "colab": {
          "base_uri": "https://localhost:8080/"
        },
        "id": "KFD8LWcYEDji",
        "outputId": "80a9bad8-6f04-4c65-b3c4-ef296874ec64"
      },
      "execution_count": 15,
      "outputs": [
        {
          "output_type": "stream",
          "name": "stdout",
          "text": [
            "candidate_body_rels = ((17, True), (28, True))\n",
            "candidate_head_index = (12, True)\n"
          ]
        }
      ]
    },
    {
      "cell_type": "markdown",
      "source": [
        "Now we're going to iterate through every two-hop found in the knowledge graph. This is not very efficient and would be a bad idea for large knowledge graphs. For every two-hop, we'll check if it matches the body (\"place of birth\", \"official language\"). And if it does, we'll see if the head relation (\"languages spoken, written, or signed\") exists between the two entities at the end of the two-hop relation."
      ],
      "metadata": {
        "id": "9EH2LcvzYZzU"
      }
    },
    {
      "cell_type": "code",
      "source": [
        "head_count, body_count = 0,0\n",
        "\n",
        "# Go through all the entities\n",
        "for e1 in entityindices:\n",
        "  e1_neighbours = neighbours[e1]\n",
        "\n",
        "  # Iterate through each neighbor of e1\n",
        "  for rel1,e2 in e1_neighbours:\n",
        "    # Iterate through each neighbor of e2\n",
        "    for rel2,e3 in neighbours[e2]:\n",
        "      # Skip any hops that contain cycles\n",
        "      if e1 == e2 or e1 == e3:\n",
        "        continue\n",
        "\n",
        "      # Check if this two hop matches our candidate body\n",
        "      if (rel1,rel2) == candidate_body_rels:\n",
        "        e1_name = entityindex_to_name[e1]\n",
        "        e2_name = entityindex_to_name[e2]\n",
        "        e3_name = entityindex_to_name[e3]\n",
        "\n",
        "        # Check if the candidate head exists between e1 and e3\n",
        "        head_found = ((candidate_head_rel,e3) in e1_neighbours)\n",
        "\n",
        "        body_count += 1\n",
        "        if head_found:\n",
        "          head_count += 1\n",
        "\n",
        "        print(f\"{head_found}\\t{e1_name}\\t{e2_name}\\t{e3_name}\")"
      ],
      "metadata": {
        "colab": {
          "base_uri": "https://localhost:8080/"
        },
        "id": "-17PTgSvJ40M",
        "outputId": "1a7ba099-a4dd-4e94-f005-7675121494a1"
      },
      "execution_count": 16,
      "outputs": [
        {
          "output_type": "stream",
          "name": "stdout",
          "text": [
            "True\tVitaly Ginzburg\tMoscow\tRussian\n",
            "True\tNyusha\tMoscow\tRussian\n",
            "True\tGeorge Soros\tBudapest\tHungarian\n",
            "False\tGeorge Tabori\tBudapest\tHungarian\n",
            "False\tLeó Szilárd\tBudapest\tHungarian\n",
            "True\tAlbert Lortzing\tBerlin\tGerman\n",
            "False\tToni Braxton\tAtlanta\tEnglish\n",
            "False\tDennis Gabor\tBudapest\tHungarian\n",
            "True\tRoman Jakobson\tMoscow\tRussian\n",
            "False\tKanye West\tAtlanta\tEnglish\n",
            "False\tTheodore von Kármán\tBudapest\tHungarian\n",
            "False\tRodion Shchedrin\tMoscow\tRussian\n",
            "True\tJohn von Neumann\tBudapest\tHungarian\n",
            "True\tAlbert Szent-Györgyi\tBudapest\tHungarian\n",
            "True\tVeniamin Smekhov\tMoscow\tRussian\n",
            "False\tKelly Rowland\tAtlanta\tEnglish\n",
            "True\tSofia Kovalevskaya\tMoscow\tRussian\n",
            "False\tRaven-Symoné\tAtlanta\tEnglish\n",
            "True\tAndrey Korotayev\tMoscow\tRussian\n",
            "True\tIvan Andreyevich Krylov\tMoscow\tRussian\n",
            "True\tAnatoly Krupnov\tMoscow\tRussian\n",
            "True\tAlexander Ivanovich Herzen\tMoscow\tRussian\n",
            "False\tSergey Mikhalkov\tMoscow\tRussian\n",
            "False\tT.I.\tAtlanta\tEnglish\n",
            "True\tJulia Volkova\tMoscow\tRussian\n",
            "False\tRegina Spektor\tMoscow\tRussian\n",
            "True\tChina Anne McClain\tAtlanta\tEnglish\n",
            "False\tMonica\tAtlanta\tEnglish\n",
            "True\tAsia Argento\tRome\tItalian\n",
            "False\tTila Tequila\tSingapore\tEnglish\n",
            "False\tGladys Knight\tAtlanta\tEnglish\n",
            "True\tBulat Okudzhava\tMoscow\tRussian\n",
            "True\tVladimir Turchinsky\tMoscow\tRussian\n",
            "False\tKeren Ann\tIsrael\tArabic\n",
            "True\tVladimir Solovyov\tMoscow\tRussian\n",
            "True\tDmitry Glukhovsky\tMoscow\tRussian\n",
            "False\tEdvard Radzinsky\tMoscow\tRussian\n",
            "True\tLéo Ferré\tMonaco\tFrench\n",
            "True\tGlukoza\tMoscow\tRussian\n",
            "True\tDavid Cross\tAtlanta\tEnglish\n",
            "True\tSergey Lazarev\tMoscow\tRussian\n",
            "False\tCeeLo Green\tAtlanta\tEnglish\n",
            "False\tAndré 3000\tAtlanta\tEnglish\n",
            "True\tVladimir Vysotsky\tMoscow\tRussian\n",
            "True\tSpike Lee\tAtlanta\tEnglish\n",
            "True\tNikita Mikhalkov\tMoscow\tRussian\n",
            "True\tAndrei Konchalovsky\tMoscow\tRussian\n",
            "True\tYuri Vizbor\tMoscow\tRussian\n",
            "True\tWassily Kandinsky\tMoscow\tRussian\n",
            "True\tWalter Benjamin\tBerlin\tGerman\n",
            "False\tPeter Gay\tBerlin\tGerman\n",
            "True\tAlexander von Humboldt\tBerlin\tGerman\n",
            "True\tWolfgang Schadewaldt\tBerlin\tGerman\n",
            "False\tJerry Reed\tAtlanta\tEnglish\n",
            "True\tAlexander Pushkin\tMoscow\tRussian\n",
            "True\tKarl Mannheim\tBudapest\tHungarian\n",
            "True\tDietrich Fischer-Dieskau\tBerlin\tGerman\n",
            "True\tAlla Pugacheva\tMoscow\tRussian\n",
            "False\tFelix Philipp Kanitz\tBudapest\tHungarian\n",
            "True\tMario Praz\tRome\tItalian\n",
            "True\tFyodor Dostoyevsky\tMoscow\tRussian\n"
          ]
        }
      ]
    },
    {
      "cell_type": "markdown",
      "source": [
        "Now we can see all the people, their place of birth and the language of their place of birth. The first column shows whether there is a \"languages spoken, written, or signed\" relation between the person and the language.\n",
        "\n",
        "Most of them show that the proposed rule (below) holds.\n",
        "\n",
        "$ speaks(P,L) \\leftarrow placeOfBirth(P,C) \\text{ & }  officialLanguage(C,L) $\n",
        "\n",
        "Some of the falses look like mistakes. Kanye West does speak English so that's a missing relation. So it looks like this rule may be useful. We can estimate it using the number of Trues/Falses from above. We stored them and can calculate below:"
      ],
      "metadata": {
        "id": "x6Kv0Kb1ZlL-"
      }
    },
    {
      "cell_type": "code",
      "source": [
        "rule_confidence = head_count / body_count\n",
        "rule_confidence"
      ],
      "metadata": {
        "colab": {
          "base_uri": "https://localhost:8080/"
        },
        "id": "8CO-8J7rHxTF",
        "outputId": "19ef18fe-711a-41ae-e6f0-ff96757cc4a5"
      },
      "execution_count": 17,
      "outputs": [
        {
          "output_type": "execute_result",
          "data": {
            "text/plain": [
              "0.639344262295082"
            ]
          },
          "metadata": {},
          "execution_count": 17
        }
      ]
    },
    {
      "cell_type": "markdown",
      "source": [
        "Pretty good. And many of the negatives are likely missing edges. In the next section, we'll try to find more two-hop rules."
      ],
      "metadata": {
        "id": "NGorvE2TdXDG"
      }
    },
    {
      "cell_type": "markdown",
      "source": [
        "## Make some rules\n",
        "\n",
        "We want to generate some candidate rules where the body is a two-hop relation.\n",
        "\n",
        "Let's find every two-hop relation in the knowledge graph (from e1, to e2 and on to e3). And let's count them. These two-hop relations would be considered the body of rules.\n",
        "\n",
        "And as we do that, we'll also count how many single-hops go from the same start entity (e1) directly to the final entity (e3). This single relation would be considered the heads of rules.\n",
        "\n",
        "We want to find rules with a body (two-hop relation) that predicts a head (single relation)."
      ],
      "metadata": {
        "id": "gfzE8Apjb3eY"
      }
    },
    {
      "cell_type": "code",
      "source": [
        "from tqdm.auto import tqdm\n",
        "from collections import Counter\n",
        "\n",
        "twohops_body_counts = Counter()\n",
        "twohops_head_counts = defaultdict(Counter)\n",
        "\n",
        "# Go through all the entities\n",
        "for e1 in tqdm(entityindices):\n",
        "  e1_neighbours = neighbours[e1]\n",
        "\n",
        "  # Iterate through each neighbor of e1\n",
        "  for rel1,e2 in e1_neighbours:\n",
        "    # Iterate through each neighbor of e2\n",
        "    for rel2,e3 in neighbours[e2]:\n",
        "      # Skip any hops that contain cycles\n",
        "      if e1 == e2 or e1 == e3:\n",
        "        continue\n",
        "\n",
        "      # Count the two-hop relations that got us from e1 to e3.\n",
        "      twohops_body_counts[(rel1,rel2)] += 1\n",
        "\n",
        "      # Count the single relations that got us from e1 to e3.\n",
        "      e1_e3_rels = [ rel for rel,e in e1_neighbours if e == e3 ]\n",
        "      twohops_head_counts[(rel1,rel2)] += Counter(set(e1_e3_rels))"
      ],
      "metadata": {
        "id": "uHm7RZaI6dBL",
        "colab": {
          "base_uri": "https://localhost:8080/",
          "height": 49,
          "referenced_widgets": [
            "7188b8a9f3fd422ab5f8546d039ba3c5",
            "4b74edfcc09a4bf49da4c0c5ee2228c3",
            "b54b25ae8a334c52b87607de6cc0c3a1",
            "e86ffa4124194d469098741634eaaf4a",
            "3b642e9efa18470c86b96bf94e3aa5b3",
            "0933a87059534dfda5ae5c599f3f3e4b",
            "965f343ae3ef44659278afef1369dcda",
            "99ed2faf0ac644989d70cfc6879bea8c",
            "4f32c0c164204a84a2aaa78439219c89",
            "253169f2f6344576a3b66c06156001f7",
            "e6d24232cf024d6e933cc2980d3d83ae"
          ]
        },
        "outputId": "28fa4a0e-48a4-4a91-9c71-20822235a9a0"
      },
      "execution_count": 18,
      "outputs": [
        {
          "output_type": "display_data",
          "data": {
            "text/plain": [
              "  0%|          | 0/2034 [00:00<?, ?it/s]"
            ],
            "application/vnd.jupyter.widget-view+json": {
              "version_major": 2,
              "version_minor": 0,
              "model_id": "7188b8a9f3fd422ab5f8546d039ba3c5"
            }
          },
          "metadata": {}
        }
      ]
    },
    {
      "cell_type": "markdown",
      "source": [
        "Now we can go through the head and body counts and calculate for each body, how many times a head occurs. And then we can divide one by the other to get a proportion of times the rule holds with our current data.\n",
        "\n",
        "We'll use an idea from the AnyBURL paper and do some \"pseudo laplacian smoothing\" by adding a factor to the denominator. This is nice because it effectively downweights rules with very small numbers of head/body counts, and barely affects strongly supported rules."
      ],
      "metadata": {
        "id": "nSvFaoRR2HzN"
      }
    },
    {
      "cell_type": "code",
      "source": [
        "# We'll add this to the denominator\n",
        "pseudo_laplacian_smoothing_factor = 2\n",
        "\n",
        "results = []\n",
        "for body,body_count in twohops_body_counts.items():\n",
        "  rel1,rel2 = body\n",
        "\n",
        "  candidate_head_counts = twohops_head_counts[body]\n",
        "\n",
        "  for head_rel,head_count in candidate_head_counts.items():\n",
        "    rule_confidence = head_count/(body_count+pseudo_laplacian_smoothing_factor)\n",
        "\n",
        "    results.append( (rule_confidence,body,head_rel,body_count,head_count) )"
      ],
      "metadata": {
        "id": "zaTEdOdX6mK3"
      },
      "execution_count": 19,
      "outputs": []
    },
    {
      "cell_type": "markdown",
      "source": [
        "Now let's print out some of our candidate rules with their confidence scores. There are many about children and siblings, for example that person X's child's sibling is also person X's child."
      ],
      "metadata": {
        "id": "CSs4hVTU3ZQO"
      }
    },
    {
      "cell_type": "code",
      "source": [
        "results = sorted(results,reverse=True)\n",
        "for result in results[:200]:\n",
        "  rule_confidence,body,head_rel,body_count,head_count = result\n",
        "\n",
        "  candidate_head = relindex_to_name[head_rel[0]] if head_rel[1] else '~'+relindex_to_name[head_rel[0]]\n",
        "\n",
        "  rel1,rel2 = body\n",
        "  rel1_name = relindex_to_name[rel1[0]] if rel1[1] else '~'+relindex_to_name[rel1[0]]\n",
        "  rel2_name = relindex_to_name[rel2[0]] if rel2[1] else '~'+relindex_to_name[rel2[0]]\n",
        "\n",
        "  candidate_body = (rel1_name, rel2_name)\n",
        "\n",
        "  print(f\"{rule_confidence:.3f}\\t{candidate_head} <- {candidate_body}\")"
      ],
      "metadata": {
        "colab": {
          "base_uri": "https://localhost:8080/"
        },
        "id": "0cgYCUxY3ZaH",
        "outputId": "8f805770-adeb-4790-82b3-7ecd80a5bbe8"
      },
      "execution_count": 20,
      "outputs": [
        {
          "output_type": "stream",
          "name": "stdout",
          "text": [
            "0.971\tchild <- ('child', '~sibling')\n",
            "0.971\t~child <- ('sibling', '~child')\n",
            "0.958\tchild <- ('child', 'sibling')\n",
            "0.958\t~child <- ('~sibling', '~child')\n",
            "0.872\tsibling <- ('~child', 'child')\n",
            "0.872\t~sibling <- ('~child', 'child')\n",
            "0.868\t~sibling <- ('sibling', 'sibling')\n",
            "0.868\tsibling <- ('~sibling', '~sibling')\n",
            "0.864\tsibling <- ('sibling', '~sibling')\n",
            "0.864\t~sibling <- ('sibling', '~sibling')\n",
            "0.864\tsibling <- ('~sibling', 'sibling')\n",
            "0.864\t~sibling <- ('~sibling', 'sibling')\n",
            "0.861\tsibling <- ('sibling', 'sibling')\n",
            "0.861\t~sibling <- ('~sibling', '~sibling')\n",
            "0.833\tethnic group <- ('child', 'ethnic group')\n",
            "0.833\t~ethnic group <- ('~ethnic group', '~child')\n",
            "0.826\tlanguages spoken, written, or signed <- ('member of', 'languages spoken, written, or signed')\n",
            "0.826\tlanguages spoken, written, or signed <- ('member of', 'field of work')\n",
            "0.826\t~languages spoken, written, or signed <- ('~languages spoken, written, or signed', '~member of')\n",
            "0.826\t~languages spoken, written, or signed <- ('~field of work', '~member of')\n",
            "0.818\t~languages spoken, written, or signed <- ('~official language', 'head of state')\n",
            "0.818\tlanguages spoken, written, or signed <- ('~head of state', 'official language')\n",
            "0.800\tspouse <- ('child', '~child')\n",
            "0.800\t~spouse <- ('child', '~child')\n",
            "0.757\t~languages spoken, written, or signed <- ('~official language', '~place of death')\n",
            "0.757\tlanguages spoken, written, or signed <- ('place of death', 'official language')\n",
            "0.750\tdiplomatic relation <- ('~country of origin', 'country of origin')\n",
            "0.750\t~diplomatic relation <- ('~country of origin', 'country of origin')\n",
            "0.737\tplace of birth <- ('sibling', 'place of birth')\n",
            "0.737\t~place of birth <- ('~place of birth', '~sibling')\n",
            "0.730\t~continent <- ('~continent', 'country')\n",
            "0.730\tcontinent <- ('~country', 'continent')\n",
            "0.727\t~child <- ('~child', 'spouse')\n",
            "0.727\t~child <- ('~child', '~spouse')\n",
            "0.727\tchild <- ('spouse', 'child')\n",
            "0.727\tchild <- ('~spouse', 'child')\n",
            "0.711\t~country <- ('~country', 'headquarters location')\n",
            "0.711\tcountry <- ('~headquarters location', 'country')\n",
            "0.709\tdiplomatic relation <- ('diplomatic relation', '~continent')\n",
            "0.709\t~diplomatic relation <- ('continent', '~diplomatic relation')\n",
            "0.703\t~country <- ('~country of citizenship', 'place of death')\n",
            "0.703\tcountry <- ('~place of death', 'country of citizenship')\n",
            "0.700\tplace of birth <- ('~sibling', 'place of birth')\n",
            "0.700\t~place of birth <- ('~place of birth', 'sibling')\n",
            "0.698\tcountry of citizenship <- ('child', 'country of citizenship')\n",
            "0.698\t~country of citizenship <- ('~country of citizenship', '~child')\n",
            "0.696\t~country of citizenship <- ('~country of citizenship', 'spouse')\n",
            "0.696\tcountry of citizenship <- ('~spouse', 'country of citizenship')\n",
            "0.692\tcountry of citizenship <- ('educated at', 'country')\n",
            "0.692\t~country of citizenship <- ('~country', '~educated at')\n",
            "0.682\tethnic group <- ('~child', 'ethnic group')\n",
            "0.682\t~ethnic group <- ('~ethnic group', 'child')\n",
            "0.676\t~country of citizenship <- ('~country of citizenship', '~spouse')\n",
            "0.676\tcountry of citizenship <- ('spouse', 'country of citizenship')\n",
            "0.667\tcountry <- ('~location of formation', 'country of citizenship')\n",
            "0.667\tethnic group <- ('sibling', 'ethnic group')\n",
            "0.667\tethnic group <- ('~sibling', 'ethnic group')\n",
            "0.667\t~country <- ('~country of citizenship', 'location of formation')\n",
            "0.667\t~ethnic group <- ('~ethnic group', 'sibling')\n",
            "0.667\t~ethnic group <- ('~ethnic group', '~sibling')\n",
            "0.655\t~diplomatic relation <- ('diplomatic relation', '~continent')\n",
            "0.655\tdiplomatic relation <- ('continent', '~diplomatic relation')\n",
            "0.647\t~official language <- ('~official language', 'country')\n",
            "0.647\tofficial language <- ('~country', 'official language')\n",
            "0.642\tlanguages spoken, written, or signed <- ('~spouse', 'languages spoken, written, or signed')\n",
            "0.642\t~languages spoken, written, or signed <- ('~languages spoken, written, or signed', 'spouse')\n",
            "0.637\t~country <- ('~country of citizenship', 'place of birth')\n",
            "0.637\tcountry <- ('~place of birth', 'country of citizenship')\n",
            "0.630\tlanguages spoken, written, or signed <- ('child', 'languages spoken, written, or signed')\n",
            "0.630\tlanguages spoken, written, or signed <- ('spouse', 'languages spoken, written, or signed')\n",
            "0.630\t~languages spoken, written, or signed <- ('~languages spoken, written, or signed', '~child')\n",
            "0.630\t~languages spoken, written, or signed <- ('~languages spoken, written, or signed', '~spouse')\n",
            "0.625\tresidence <- ('~unmarried partner', 'place of death')\n",
            "0.625\t~residence <- ('~place of death', 'unmarried partner')\n",
            "0.619\t~languages spoken, written, or signed <- ('~official language', '~place of birth')\n",
            "0.619\tlanguages spoken, written, or signed <- ('place of birth', 'official language')\n",
            "0.615\t~member of <- ('~member of', '~child')\n",
            "0.615\tmember of <- ('child', 'member of')\n",
            "0.610\tofficial language <- ('~country of citizenship', 'languages spoken, written, or signed')\n",
            "0.610\t~official language <- ('~languages spoken, written, or signed', 'country of citizenship')\n",
            "0.608\tcountry of citizenship <- ('record label', 'country')\n",
            "0.608\t~country of citizenship <- ('~country', '~record label')\n",
            "0.600\tcountry <- ('~residence', '~head of state')\n",
            "0.600\t~country <- ('head of state', 'residence')\n",
            "0.600\t~country <- ('head of state', 'place of birth')\n",
            "0.600\t~country <- ('~country of citizenship', '~founded by')\n",
            "0.600\tcountry <- ('~place of birth', '~head of state')\n",
            "0.600\tcountry <- ('founded by', 'country of citizenship')\n",
            "0.590\tmember of <- ('diplomatic relation', 'member of')\n",
            "0.590\t~member of <- ('~member of', '~diplomatic relation')\n",
            "0.588\tcountry of citizenship <- ('~child', 'country of citizenship')\n",
            "0.588\t~country of citizenship <- ('~country of citizenship', 'child')\n",
            "0.579\tmember of <- ('~diplomatic relation', 'member of')\n",
            "0.579\t~member of <- ('~member of', 'diplomatic relation')\n",
            "0.576\tlanguages spoken, written, or signed <- ('member of', 'official language')\n",
            "0.576\t~languages spoken, written, or signed <- ('~official language', '~member of')\n",
            "0.568\tlanguages spoken, written, or signed <- ('residence', 'official language')\n",
            "0.568\t~languages spoken, written, or signed <- ('~official language', '~residence')\n",
            "0.561\t~country <- ('~country of citizenship', 'record label')\n",
            "0.561\tcountry <- ('~record label', 'country of citizenship')\n",
            "0.556\tresidence <- ('unmarried partner', 'place of death')\n",
            "0.556\tcountry of citizenship <- ('~unmarried partner', 'country of citizenship')\n",
            "0.556\t~country of citizenship <- ('~country of citizenship', 'unmarried partner')\n",
            "0.556\t~residence <- ('~place of death', '~unmarried partner')\n",
            "0.553\tcountry of citizenship <- ('sibling', 'country of citizenship')\n",
            "0.553\t~country of citizenship <- ('~country of citizenship', '~sibling')\n",
            "0.543\tcountry of citizenship <- ('unmarried partner', 'country of citizenship')\n",
            "0.543\tlanguages spoken, written, or signed <- ('unmarried partner', 'languages spoken, written, or signed')\n",
            "0.543\t~country of citizenship <- ('~country of citizenship', '~unmarried partner')\n",
            "0.543\t~languages spoken, written, or signed <- ('~languages spoken, written, or signed', '~unmarried partner')\n",
            "0.536\tcountry of citizenship <- ('~sibling', 'country of citizenship')\n",
            "0.536\t~country of citizenship <- ('~country of citizenship', 'sibling')\n",
            "0.525\tinstrument <- ('unmarried partner', 'instrument')\n",
            "0.525\tinstrument <- ('~unmarried partner', 'instrument')\n",
            "0.525\t~instrument <- ('~instrument', 'unmarried partner')\n",
            "0.525\t~instrument <- ('~instrument', '~unmarried partner')\n",
            "0.510\tlanguages spoken, written, or signed <- ('~unmarried partner', 'languages spoken, written, or signed')\n",
            "0.510\t~languages spoken, written, or signed <- ('~languages spoken, written, or signed', 'unmarried partner')\n",
            "0.500\tcountry <- ('parent organization', 'country')\n",
            "0.500\t~educated at <- ('~educated at', '~unmarried partner')\n",
            "0.500\tcontinent <- ('member of', 'continent')\n",
            "0.500\teducated at <- ('unmarried partner', 'educated at')\n",
            "0.500\tplace of birth <- ('~unmarried partner', 'place of birth')\n",
            "0.500\tlanguages spoken, written, or signed <- ('~child', 'languages spoken, written, or signed')\n",
            "0.500\t~continent <- ('~continent', '~member of')\n",
            "0.500\t~place of birth <- ('~place of birth', 'unmarried partner')\n",
            "0.500\tcountry <- ('country', 'headquarters location')\n",
            "0.500\t~country <- ('~country', '~parent organization')\n",
            "0.500\t~country of citizenship <- ('~country', 'founded by')\n",
            "0.500\t~country <- ('~headquarters location', '~country')\n",
            "0.500\t~languages spoken, written, or signed <- ('~languages spoken, written, or signed', 'child')\n",
            "0.500\toccupation <- ('named after', 'occupation')\n",
            "0.500\tcountry of citizenship <- ('~founded by', 'country')\n",
            "0.500\t~occupation <- ('~occupation', '~named after')\n",
            "0.489\tinstrument <- ('~sibling', 'instrument')\n",
            "0.489\t~instrument <- ('~instrument', 'sibling')\n",
            "0.479\toccupation <- ('unmarried partner', 'occupation')\n",
            "0.479\t~occupation <- ('~occupation', '~unmarried partner')\n",
            "0.478\t~languages spoken, written, or signed <- ('~official language', '~country of citizenship')\n",
            "0.478\tlanguages spoken, written, or signed <- ('country of citizenship', 'official language')\n",
            "0.476\tethnic group <- ('spouse', 'ethnic group')\n",
            "0.476\t~ethnic group <- ('~ethnic group', '~spouse')\n",
            "0.474\tinstrument <- ('sibling', 'instrument')\n",
            "0.474\t~instrument <- ('~instrument', '~sibling')\n",
            "0.473\tlanguages spoken, written, or signed <- ('influenced by', 'languages spoken, written, or signed')\n",
            "0.473\t~languages spoken, written, or signed <- ('~languages spoken, written, or signed', '~influenced by')\n",
            "0.470\tgenre <- ('unmarried partner', 'genre')\n",
            "0.470\t~genre <- ('~genre', '~unmarried partner')\n",
            "0.469\t~member of <- ('~member of', 'sibling')\n",
            "0.469\tmember of <- ('~sibling', 'member of')\n",
            "0.467\t~languages spoken, written, or signed <- ('~official language', '~place of burial')\n",
            "0.467\tlanguages spoken, written, or signed <- ('place of burial', 'official language')\n",
            "0.463\toccupation <- ('~unmarried partner', 'occupation')\n",
            "0.463\t~occupation <- ('~occupation', 'unmarried partner')\n",
            "0.462\t~place of birth <- ('~residence', 'sibling')\n",
            "0.462\t~place of birth <- ('~residence', '~sibling')\n",
            "0.462\tinstrument <- ('child', 'instrument')\n",
            "0.462\tplace of birth <- ('sibling', 'residence')\n",
            "0.462\tplace of birth <- ('~sibling', 'residence')\n",
            "0.462\t~instrument <- ('~instrument', '~child')\n",
            "0.461\tlanguages spoken, written, or signed <- ('~influenced by', 'languages spoken, written, or signed')\n",
            "0.461\t~languages spoken, written, or signed <- ('~languages spoken, written, or signed', 'influenced by')\n",
            "0.459\tinstrument <- ('influenced by', 'instrument')\n",
            "0.459\t~instrument <- ('~instrument', '~influenced by')\n",
            "0.458\tcountry <- ('~residence', 'country of citizenship')\n",
            "0.458\t~country <- ('~country of citizenship', 'residence')\n",
            "0.457\t~ethnic group <- ('~practiced by', '~religion')\n",
            "0.457\tethnic group <- ('religion', 'practiced by')\n",
            "0.456\tgenre <- ('~unmarried partner', 'genre')\n",
            "0.456\t~genre <- ('~genre', 'unmarried partner')\n",
            "0.455\tethnic group <- ('~spouse', 'ethnic group')\n",
            "0.455\t~ethnic group <- ('~ethnic group', 'spouse')\n",
            "0.444\tcountry <- ('~parent organization', 'country')\n",
            "0.444\tplace of birth <- ('unmarried partner', 'place of birth')\n",
            "0.444\t~place of birth <- ('~place of birth', '~unmarried partner')\n",
            "0.444\t~country <- ('~country', 'parent organization')\n",
            "0.444\t~place of death <- ('~headquarters location', '~employer')\n",
            "0.444\tplace of death <- ('employer', 'headquarters location')\n",
            "0.436\tcountry of citizenship <- ('place of birth', 'country')\n",
            "0.436\t~country of citizenship <- ('~country', '~place of birth')\n",
            "0.432\toccupation <- ('~spouse', 'occupation')\n",
            "0.432\t~occupation <- ('~occupation', 'spouse')\n",
            "0.429\t~country of origin <- ('~country of citizenship', '~cast member')\n",
            "0.429\tcountry of origin <- ('cast member', 'country of citizenship')\n",
            "0.427\toccupation <- ('spouse', 'occupation')\n",
            "0.427\t~occupation <- ('~occupation', '~spouse')\n",
            "0.417\toccupation <- ('~named after', 'occupation')\n",
            "0.417\t~occupation <- ('~occupation', 'named after')\n",
            "0.415\t~country <- ('~country', '~headquarters location')\n",
            "0.415\tcountry <- ('headquarters location', 'country')\n",
            "0.414\toccupation <- ('sibling', 'occupation')\n",
            "0.414\t~occupation <- ('~occupation', '~sibling')\n",
            "0.413\tcountry of citizenship <- ('place of death', 'country')\n",
            "0.413\t~country of citizenship <- ('~country', '~place of death')\n",
            "0.413\toccupation <- ('~sibling', 'occupation')\n",
            "0.413\t~occupation <- ('~occupation', 'sibling')\n",
            "0.411\tinstrument <- ('~influenced by', 'instrument')\n",
            "0.411\t~instrument <- ('~instrument', 'influenced by')\n",
            "0.410\tinstrument <- ('~spouse', 'instrument')\n",
            "0.410\t~instrument <- ('~instrument', 'spouse')\n"
          ]
        }
      ]
    },
    {
      "cell_type": "markdown",
      "source": [
        "You could then use these candidate rules to make predictions on missing edges in the graph."
      ],
      "metadata": {
        "id": "5IySmZU9gzb0"
      }
    }
  ]
}