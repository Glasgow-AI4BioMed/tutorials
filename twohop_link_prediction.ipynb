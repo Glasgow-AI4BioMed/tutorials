{
  "nbformat": 4,
  "nbformat_minor": 0,
  "metadata": {
    "colab": {
      "provenance": []
    },
    "kernelspec": {
      "name": "python3",
      "display_name": "Python 3"
    },
    "language_info": {
      "name": "python"
    }
  },
  "cells": [
    {
      "cell_type": "markdown",
      "source": [
        "[![Colab Badge Link](https://img.shields.io/badge/open-in%20colab-blue)](https://colab.research.google.com/github/Glasgow-AI4BioMed/tutorials/blob/main/twohop_link_prediction.ipynb)\n",
        "\n",
        "# Two-Hop Link Prediction for a Knowledge Graph\n",
        "\n",
        "As a starting place for rule-based link prediction, let's look at two-hop relations that can be used to predict a single relation. The diagram below shows an example of this:"
      ],
      "metadata": {
        "id": "EWVkhq3UbTTy"
      }
    },
    {
      "cell_type": "markdown",
      "source": [
        "![image.png](data:image/png;base64,iVBORw0KGgoAAAANSUhEUgAAAWMAAAFRCAYAAAChcMxHAAAgAElEQVR4Xu1dB3xUxfb+gBBIgdASekgIPQQSOqF3EJCioohSbIiKIjbU9/7qexZEfSpNwUKRpvTeOyGhJAFSaSENQnpCEkIK+L/n8m7eZtlk6929u3vm99sfYXfmzJlv5n579syZM1X+Fgq4MAKMACPACFgUgSpMxhbFnztnBBgBRkBEgMmYFwIjwAgwAgpAgMlYAZPAKjACjAAjwGTMa4ARYAQYAQUgwGSsgElgFRgBRoARYDLmNcAIMAKMgAIQYDJWwCSwCowAI8AIMBnzGmAEGAFGQAEI2D0Z05mXoqIiFBcXi/+WlJSgatWqcHR0FF81atRA9erVFTBVrAIjYDsI0HMmPXf07D148EB8zlSfO3oO7anYBRnn5eUhKytLfGVmZiI9M138++7dAnFBVHOoBofqDuKrllstFBbcRWlJKUqKhVdpifh3w0YN4VDNAfXr1Yd7Aw80qN8AdevWRcOGDe1pvfBYGQGdECAjJy0trey5S03LQEZmFh4I76fevi08c/S8VRdeNcR/nZ1dkJ93B/eF562kpFh45opRp05dVKkC1KtXT3w1dG8gPHf10KBBA6G+s056WFMlmyTjwsJCxMfHIz4hHnE34lDTuQZK75fAxc0Zrm4uqF2nFmq71YZLLWdUq1ZN63zRwiopLkFu9h3cyc3DnZw7yM8tQGnxfWTczoCXlzdaevvAq4UXGjdurFUeV2AEbBGB5ORkJCQk4NqNeNy+nYYaTi5wquUGl9r1BCOnjvCqJzx/dVDdoTqq6GD13r9/HwV5ucjLzRZeOeK/hfk5eCBY0oL9JDxz3vDx9hSePy/xF6y1F5sh45ycHERFReHK1ctIy0iHR5P6aNC4Pho1bQi3urVlm6fS0lKk3kpHanIqMlKzkJdTAN/2HdC+XQe0bt1atn5ZMCOgBASio6Nx9XocIiOjUatuA9Rr2FR49jyFV3NZ1csRft2mpSQLxlAyMlNvwtOzOdp4e8HPzxeurq6y9i2XcKsmY/rmjIiIwMVLF5GZk4EWrZqjmXcT1G1QRy68tMoll8bNxFtIvHYT6bcy0MmvM/w6+qF5c3kXp1bFuAIjYCIEEhMTEXYxApcuRaCxZ0s0b+UL90ZNRdeDpUpOVjoSrsYgJf4KGjV0R0CnjujYsaNOv3wtpbN6v1ZJxtnZ2ThzJgRhF8Lh1bq5sBiaomETD6VgWqYHbVLcuJKAxOs3UdOhJgI6ByDAv4vi9GSFGAFdEDgfGorwS5G4W/RAeObaC8ZPe0WSXdqtJCTHxSI/Ow1tfLzRJ7A3atWqpcsQLVrHqsg4PT0dp4JOISHpBtoFtEXLti0sCp4+neffyUdkaLTgzshE/3790bN7T32ac11GwGIIhIScwbETp9DIqw3a+HWDs6vyiU0C62rUBcRFhaK1QMoD+vVB/fr1LYajto6tgowp8uHwkcNIzbiNtp1bie4Iay33Cu+JpBwXm4Ahg4egd89Aax0K623jCISEhODg4WPwatdZeO66w7FGTasdcfzVaFyLPI9WXp4YMmiAIi1lxZPx0aNHERF9CX492qOpVxOrXQzqitPGX3R4LG7G3cb4sRPQooX1WPk2Mwk8EI0IXL9+HVt37EKLtv7w6eCPqjpEHFkLlLcS43Ax+Ai6dQnAsMEDFKW2Ysn4ypUr2LFrB9p08kG7zrYblZAnhMqdOxGO+m7uGDt6LGrWtF7rQ1Erm5XRG4F79+5hy/ZdyM6/h659hwkhoS56y7CWBlHhIbh1LVIwhEYrJupJkWS8Y+cOZOdloku/zqhR09Fa5tcoPeOvJeLC6QgMHzIC/v7+RsnixoyAvgiEhV/Anv2H4N9nKJp5tdK3uVXWLxQOfZGV3KSBGx4f85jFx6AoMqag8VV/rELfEb3QuLl9nmw7ezwUzg61MHH8RIsvDlbAPhDYuGkLih2c4du1r30MWG2UKUJAQPiJvZg+9Tk0aWI5V6hiyDgoKAiXYi5i0Ji+go/Kvs6kqz8B8VcTEXE2GlOnTIO7u7tdPiA8aPkRoOik31f9gQ49BqK5dxv5O1RwD3T8OvjAFnTr7IvevXtbRFNFkPG6DWvhWMsBnXr4WgQEJXZaePceju06iYF9B6FzZ3ZbKHGOrFmncMEtcSzoDAJHTBRcgU7WPBST6h4bfhpVi/Mx6Unz/zK1OBn/8OP3gm+4ExrZqVtC20q6dC4KDVwbYmD/gdqq8ueMgE4IHDx8FBn5pWjfxTIWoE5KWrBS+u0kRAUfxpw33zCrFhYj44KCAnz/w38wZspIOLvwN3Nlsx4ZGgPHBzUx5rGxZl0c3JntIbB5206UOLgKEUrdbW9wJhxRgZBB7tj2PzB3zptwcjIPP1mEjDMyMrBi1e94/LlRQvYmIUceF60IXIuOw53UAjwzabLWulyBEdCEwB/rNsC1oTe827A7UJcVQrlvDvz1K2a+NENM4Sl3MTsZUyzjT8uXYvTk4XKPzebkU56L+/nAYyNG29zYeEDyIrB91144uDUWDk7ZR9iaKdE8uGklZr/2MmrKnKbTrGRMx5rXrP8DIycNMSVWdiXremwcsm7mYcozU+xq3DxYwxFYuXoNGrRoj2Yt2xouxM5bHty8Ei9Pf05IeC9fRkizkTHdqPHjoh8wfhpbdcau62uxN1Ca8wCPjx1nrChub+MIbNqyDU71m6MpE7HRM73zjyWY995c2a5hMxsZfzn/S0yYPlqRKfeMniULCIgKi4GbYz0MHsS/MiwAv1V0uf/AQRT87YSWQn4JLsYjUFJchEObV+DD9981XpgGCWYh4xUrf0fAgI5C6j3bu7dKllnRUeiFkAi0bNIa3bp207EFV7MXBM6cOYukzLtoJaS85GI6BPLvCDcKhRzAzBdfMJ3Q/0qSnYw3b9kEtyau8PRpZnLlWSBwaNsxPD5qPJo1Y3x5PTxEgO5/3HPwOAJHPsGQyIBA4vVYlGQn44kJ400qXVYyPh92HlfiY9CtX4BJlWZh/0OAwm+2rNyJj+f9g2FhBEQEPvv3lxg3/U1GQ0YEwk4dQkB7b+Hmns4m60U2Ms7MzMTq9asw+mkOYTPZbFUg6GZiCm5dScWUyc/J3RXLVzgCK4TIiWbtusG9Mf9SknuqDmz8XXBXTIObm5tJupKNjL/7/lsMnTAATny6ziQTpU1IePBFtPBoiV69+IirNqxs9fPjJ07iVk4R2gf0stUhKmpc+XdyEXpkO96a/ZpJ9JKFjPft34f7NYrQ2tfHJEqyEN0QOLk3RPAfj+NMb7rBZVO1UlNTsX7zTgwc+4xNjUvpg0m4EolaVQuFqKZBRqtqcjK+ffs2Nm77EyOe4JAro2dHTwFpKem4Gn4DM6aZfqdXT1W4upkRWPbrCrQK6Iv6Ho3N3DN3d2zHWkyZNNFoI8jkZLz812XwC2yP+u7yn+XmZfAoAiFHzyGgQzf4dfRjeOwEgQsXLiA8Nh4Bwi0dXMyPQEbqLcRfCsZLL0wzqnOTknFYeBhi4iLRvX8Xo5TixoYjQBedblu1Gx/N+9hwIdzSqhDg6AnLT9f5E/vRs1Mb+PkZbgSZjIwpxOqnX5Zi+BPG+04sD611axB76QpqPnDB8GEjrHsgrL1WBA4cOoR7VWvDs3UHrXW5gnwI3BeMoH1/LhdCTN83uBOTkfHRY0eRfS8dHbvyojB4NkzYcNsfu/HaK6/D1dXVhFJZlJIQuHPnDn7+dSWGP8V7BEqYlxjhxukmdWpgQP9+BqljMjL+7PPPMHkmn/gxaBZkaBQbcQWOpc4YOXykSaTn5OQgLy8Pf//9t0nkWbOQKlWqwNnZWcxxS39bquzZuw+FDrXh066TpVTgflUQIO/A7rU/4f8+nmcQLiYh41NBp5CSk4TOPQz3lxikPTeqFIG/ft2KD96dZ3CWqfz8fJw5cwaXLl2Cg4MDPDw8cPfuXbtHnX5tpKWlobi4GG3bthViu3uZJfm4KvCFhYX4YdFSjJo80+7nQ0kAXDhzHO2auQtroofeapmEjL+c/4WQkW0MZ2TTG355G0ScF+7Pc2ko/GwaqHdHEREROHXqFLp27YrmzZujZs2aesuw9QZkCSUkJCAkJAQBAQEIDAw025APHjqM7JLqaNORN8vNBroOHd0rvIvjQqjbB+++rUPt8lWMJuPQ0FAkZtyAb5d2enfODeRFgFwKW1bsxIcffKRXR0QwR48exbhxnC9ZV+COHDkiWskdO3bUtYnB9ShiZtmvq9Bn9NMGy+CG8iEQfvowurTzEm511y9vhdFkvPTnJeg2yB916pnmfLZ8ENmn5LPHQ9GxVWf4++uW0zY2NhYXL17E8OGcU0TfFRMUFCS6cnr00P8nqj59hYaF4dLVZAQEDtanGdc1EwLZGamIPXcMs155Ua8ejSJjOm23adtfQjgbLwq9UDdj5dRbabh+MQHTp87QqddvvvkGU6dOhaOjo071uVJ5BH7//XfMmjVL3OCTq/zy+0p4dwpEg4ZN5OqC5RqJwKGtf2D6s0+hQYMGOksyiowPHDyAwqp5aN+J79bSGXELVNwuhLm9+vJrqFWrVqW9k8uJchz07s3JhgydJvK1k3towIABhoqotF12djZ+W7UOQ58w7rSXLMqx0DIEYi6cRcNaVTF44ECdUTGKjBd8+zVGPT0UNWrW0LlDrmh+BMJDLqF5Ay8E9q58g2nLli1o06YNmjZtan4lbaTH3NxcnDhxQvx1IUc5dvwEbuWWoENATznEs0wTIXA3/w5CDmzB3Lfe0FmiwWR87do1BIcHoefArjp3xhUtg0B2Zg7CTkQIPqxZlSqwePFijB07FrVr17aMojbS69KlS/Hxx/IcR6eEQB37jISLa+W/cmwESqsexqm9mzBu1BAxGkmXYjAZ7xfSZBY7FqJtx9a69MN1LIzAgS1H8exTUyqNh12+fLkYQcH+YuMmi35hTJ482eR+44yMDOHChk0YPJ4vETBuhszT+lrUBdSpXoyhQ3TbUzOYjCmKovtgf7jV5SgK80ytcb2EHDuPTq39K42qWLBgAaZNm8ZkbBzUkGsTj3z6Eddvwb83538xcorM0jwnMx0xZw5j1syXdOrPIDIuKCjA0mVLMO75x3TqhCtZHoEbV+KRn1YkXKJY8ZF1JmPTzJNcZPzXps1wbuiDZl6tTKMoS5Edgd3rfsa7c2ajRg3t+2oGkXF0dDTOXgpB4BB54yllR8qOOrhbUIgj205g7px3Khy13GRMuRxUy+zZs/HZZ5+Ve69Dhw6gkMlGjRrhvffewzvvPNR35syZWLZsGbKysiqdNTp88eSTT2qtR0IolpoiR9R1MHZZyEXGXy34FkMmTodjDT4Naewcmat9yOEdGBzYTdwY11YMIuPde3YDLiVo3YG/obUBrKTPd2/Yj2lTZlToN5aLjFesWCGS6nfffYcZM/4X70zE26xZMxw4cECESSJS+jnu7e0tkiV9TuQmR7EmMqYvqA1b6FqlyXJAwTJlQuBKZBjqVCsS1vIwrT0YRMa/rfwVHXu1Q936dbR2wBWUgwBdWtrBu1OFCbDlImOyiDdtEjaeBj+6kUGE/NRTT4lxuWTRSoUsYyIgqVB7VYv3xo0bYt4MqUhWtrpl/Mknn2DRokXlJkGyrq2JjMPDwxEZlwK/Hv2Vs6BYE60IZAt+41ux5zDlmUla6xpExl989TkmTh+Lag7VtHbAFZSDQNSFGOHyxLrC7q7m63nkIGOyiulUH7m2NBUiy40bN4qfV2YZq5KsRMSSpS39nwibikTakkWu6tqgL4bx48eL1rY1kfGBgweRW1oTrTsGKGdBsSZaEbhfWoJ9G37Bxx9qTzqvNxlTXtvfVv2Csc+O0qoIV1AWAsnxN5EWl4Vnntb8U1cOMiayDQ4OLnNFqCOiSrK6knFFMomU6VWZz1jV9WFNZLxm3QbU9+qIxs29lLWoWButCOz/6zfhoocXtJ6A1ZuMr1+/jsMnD2Lg6L5aleAKykIgN/sOzhwKxRuvzdaomLWQ8QsvPLzZQpMvWdMGnvSeNGhrtIy/X7gYPYZOgEstDiVV1lOlXZtT+zZj7PCBaNGiRaWV9Sbjc+fO4WpyDLr1lS+PamJ8En5d/DvOBYci7uoNcQAeDd3RtVcXzP34LXh66XaiRTtMpq+xZ9s+JCUkY+ZbusUWml6DiiVSzoQ/l2/G//3jU7ORsRxuCl3JWJWEJZ+1NVrGDx48wL++mI/x09/UebkEeD48oReemKdzG64oDwLhp4+iU6sm5fY4NPWkNxkfPnwYxTXuwqettyyaL/vxV/znix9F2X0HBqKd78MkRLFRl3Hq2Gm4uDjjvU/eweTp2h3isihYiVDS78VJM/HS6zMEHeeau3ud+juw+QimPP086tat+0h9OSxj6oT8tOqRFFLn0gYehZcZ66YgmaqWsSbStkYyTk9Px+Zd+9Fr6Hid5pgqMRnrDJXsFa8KJ/HqCSfxhmg5iac3GW/euhm1GzmhRStPkw9CIuKWrb2xYPGX8Ason6hbIjsi5FVbfnvkc5MrpKdAayDjQ9uP4/GR48SQMfUiFxmbIrRN0waeaoSGelQGbdoRGScnJ5f5q6XICku5KShpP21U9u/fXzAqXHReXYmJidix/yj6jtT9jkkmY53hlb1iYtxllGQm4omJEyrtS28yXrt+DZq08UBTT9PmUiXXxLAej4mW77ajmyp0RXzz2X/w65IVotX821/LZAdSnw6sgYyP7T6JIf2Gw8fHx2xkLHWk7dCHrpYxydM1tE06REJtiIQpaYsUvWHuDTwi4s8//1yEo1u3buKLiFlboaRcB44Lh6yGs2WsDSslfp6SeAPZSTF4Vkt4m95k/Puq39Da3xsNm3iYdNwSyT499Un869tPKpSdk52LwV2GI6C7fzkyJjIn98aJQydRUHBXJHWqM+fD2eUs6EmjpuBi6CWxLRG6atH0WVsPP9Ht0HtAL3zx8fwyH3bnrp3w5gevl8mQ2qrKk9pJrgu6XfnP1ZtE3WbOeRnLfvhFrH4k7ADqqOX4iAiPxJMjJmPUuBH44ZdvTYb1yYPBCAzoi/bt25udjE02CIULqugEnioZS0OgJPQSKdMXh6ZC7U6GRgkZEnWPYNLXMs7NycKi+Z8Kz89epKc9jO9292iEgB6B+OjL7+FW53+nJ0n2tFfnoGffgfjm0/dx49oVsb5fQHfMeudj9O4/pNwwoi6GYsk3/0bwicPi+96t2uC9Txfgp+++QET4uTK/9g9f/hOrfv5BlD3no3+Xk1HRZ/t3bsb2P/8oky3pMeWl1zFibPlfEjTGLz96G6eOHsDdgnxxfM/MeBV3cnPEfpeu2VZOd9L3j+WLymRXhIe25ZiWkoTk6PN4YfrzlVbVm4x/Wv4TAvp1RL0Gj/octSlV2ecSmX2//Bs8Nl6/6+WJuKZNfFEkYcnPfDP5FvZu3y92+emCf5b5mA0hY3Kb0EaiJtkSqa9f+RfOBJ0V+ySi7t6rq0jgVIiMiYCpjHniMWHy89CzT4+y+qr6SRj937uficSt6UvDGJxDjp2Df9uu6NTp0evd5XJTGKOvNbbVhYxpM5VKlSpVyoZIt0J0794dI0eOhLu7e9n7dOAj/HIiuvQpT3KVYaMPGRNJPdbbVyQoItI2HfyQf0fIy/xfYiaSXb39SFl3JJsIlUhYqp+SnIgDu7aIdVRJjQjtteceWvTDx0xE42aegtw9YltnF1exT2mTUV8yluoTSfYfOgqutd1wJTqijDxV9VAdI42nS88+ZXUlPVTrb1zzm0Dcc0Qd+w4aLuotyaaxr9hysNwXVGVzkZWeisvntV/DpDcZL1zyI/qM6Ilabq4mfU7IAqWyaf96vX3B/fwGIy01HepELpE0yZWsT0PIWJ3Q6f+Sf1vVctXkppDeozbqxCpZv5pcLl28ewo5a11wMuJ/D4EpAD9/KgzpidkaE8hfuHABdJKNU2gah/TChQvRunXrR3CkjbiTJ0+WE66JlKkChUGRC4NekZGRiE3KROee2l0aknB9yPjzeW9i87oVmP3Bp3jh9fK5S4Z3ay1ayjtOXkTzFi1F8ZLsj778AU8997973n5f8h0Wff2pSLpfL131kID/237NzmPw7fy/E5MfvDatjLwNIWMi14GdWojW7cZDZ8oRo0SkqnpI/amPUaqr+iWSlBCHZ0b2EfVfvmFXOb01yda2WvIEXS+c2IPZr79aaVW9yfh34Sh0VyF1ppOTaZOVSGR8OS1C29jKfU6hZG+/8l6FP+clC5NC4ijczBAyprA6dVKUiJSs4L/2rhV1qoyMNcmgNtIXyZnLp8pcFdKYJJ31AkRL5Qjh5+7m1ds11iLLjJKiMxkbh/hXX32FpKSkclYvSSTiVbWE1Xup6PMxY8agqltTtOuk+0UO+pCxRFSawuCmjhssuhJUrUaSTSR44PzVckMgd8RzYweK7gqypMmFMO/16eXIWWogkSn93xAyJov7k7mv4rGJzzzi0pCscUkPVeJW15n6nzi4q2ipS2OUvlQ0uUtU6x+7lKCTdVx4Nx/RIYfw4rTK81DrTcaLlixE4IjugmVs2psGyBIkN4O+lrHka66IuCRik3zRhpCxKuGqrj76AtGVjCuSIVnYqvrPefld0d1x8Owek8dUk2WckZSDJk0e3YBly9g4EpZa62oZV2QVkxzy6ZNVTP7kqKgoxCRmyGYZS3qTRZiccAMxERdwKykBV2IiRSKmok7G6q4LSQYRtfSZ5EZQt6CluhLRG0LGqjNF5Et+X9KbXAnXYqNEa17SQyJnVUtZtb2kpzRGcqtQG8mtor4q9mzZIMpX9zFXtHruCJbxxZOCZfyaiS3j5b8uQ6fADqjnrgyfsUTGFflWJWtVIkOlkbEURUJ+6b1BO0AblD3b9pUtWiTkqOAzbsc+Y9PQrmYpuviMNbWkXyajRo0SCVjVZ0xfkmEx8ejSV3NOEU2y9LGMyXKcPe3JMuKV5BGZ3b6Z9AjxqBKuet+ayLgi0jKWjMll8MMX/xD9zlIhi71R0+biWNTJuCJLV52MJb20rRFdyTgr/TauhJ4QLgV+eHK0oqK3Zbxi1e9o5e9l8mgKTT7YipQmQq1VyxWfLPgH/ly1UQx1s1bLmMZIG3z0pUGWcNCxYHz6/r/LbTpqWxT6fH7yQDD6dO2Hdu3aPdKMN/D0QbLiuvqQsZOTk5ixjl4VHZelaIqg0Eh0H6j7ZQ76kLH0M50248YJB4KaeXqV+UkrclPoYxlr8kUTesaQseQCoQ22F994F+39/NGhU4DoNlB3U0j/p/ERgaqXishYV7LVtmpSbyUJmdtCMcPUbop1G9aicSt3NG1h2jhjKWSNBlZZnLHqwY+wG2egr89YIj5NlvSoPo+LUROqn6m7IlSBN4WbguRRJAYRMH2hnA0SQn3OCZaQMDY5yrHdpzBswAgxX7B60ZeMKzuWLIfu1iJTFzLu16+fGDlBVrC2QvlgDp4IEU7gjdNWtexzXclY8vNShMCWI6GPyFf3p1IFXS1jfX3GlflqpU1GybqVXAnzl6x8JIRN6tdQn3FlUR00ftqUdBUu7f1xxcayTc3KJuZmwnXk3ryCZ59+qtL509sy3rRlE2o3doaXDCfwJJdDRSfwVEPYVMPBpE0w9RAxaZONwsqkaAqpD/UjyxIhElrmJmPqk3zmDZs0FL8MtMVa6/xEaqh4cNsx4cba8SY5gcdkrHkmKiJjiqYgK5cIWO8TePuOoO+o/+V71rYG9CVjTRtymiIN9CFjibjIv6pLNIW6RSuNkb4wXnlmjOiOUCdjdX80uVxmTBwmbsipWu/6RlM83q+zGNamHk0hfWFU9MtA07wkXItFaU6ycOVZ5Yd29Cbjw0cOo7BavhCL+OgJLm0LRJfPpegHqqspNwW9r06k+sQZk492/KAnxc1CCktr2qxJWd4LKZ7YUDJWJf/J058uF2dc0QaehIm0aUf/13cTUxdcpTpHd5zEk+MnoX79+o80M7VlrEtid9XE76rHmzWdsJNScWpKoame/6Ky037S8WwCQLJMVa9fUv1cnI8KEuNXhLupr10iEt+0Yw96D9f/ODSRRkVlrHBbOIWmSdYvETJFJ1CRYoGleGJDNvBIjqY447AzQaJPl/ojolaN4pB0kWKBKX6ZDmk0bNxEJFiJjCXrVyT8/8Yvq9dVJUxNccZSbLSkh6Y4Y1X5UpyxJpKu7Bm8HnMJdYXcFIMHDaz0UdWbjM+fP48rwtG+bn3lS3JNrohNa7cgNCRMjB+mImVte3LKxEdOztHnmk7g9R/aDy++Nv2RuGUizR++WiT6aakQCX/8xTwEC0dOyf9sKBmTLPoy2bV5j0j2ZOEOHzNM9AlrI2OJyKWNPH0IVte6D7O2bRGytmk+4WhKMtYlsTutJemKJdUk8zQeIlP12zuIOOmKJm1krJp8iGRJXwrUl5TvWCJY6TOpL3W9VRPXa7qpRBP2piZjytr27y/nY9w0/bO2VbY2JGJTP5kmHXSYOvNNJCfGi+FpTzw7A/+Yv1AUp6ubQupb/SQbkeQH//oG/3z7FZFgVcm4olNy5BMm14TqJhwR8rLvvyw7AUhfHGOeeFaMlZZIXTX8jKJFFn/9WbkTeO98Mh/ngo6LcdbaTuBJuLzxwSc6uSek8YcFHYZ/m+bo0qXyTJd6kzEtzkMnDmDAYw+DormYBgHJF67pNJ5pegAon/HZw2F4fdYbGkWakow1daCeMU31fjvVRECa0m6qJv3RRsbqfavmvPj3vx8es1XNhaxK3qTj5MmTy93Vp687xtRkTPouXLwUXQY9Lvgqbeeqs4rilU213nWVI20kqh5s0bWtLvVO7dsi5DOueINWkqE3Gefm5uLXlcv5pg9dZkGPOhQhci32msY8FXqIqbRq0o1kpMfn4JlJD3+Kqhc5yFjXxO6qhLly5cpHbgdRJWBdyZiIlaxvqZBlTLdMq98IrZowSN29IbWVrHJd5kIOMl634U/Uadhb1EEAACAASURBVN4BTTzlSV2ry7j0rSNtDmqK79V0Wk9f+frU79O+sejqUD/GLOmoyWeuj/zK6u4Tbvp4XY6bPqjTL+d/gQnTxvAdeEbOFlnDC79egpTkFNEdI3ce5KjwGLg51BMuBtWc48CUZKxvYndTkrFEwhKBqsrWhYz19RGrLwM5yPjAoUPILnZEWz/5LnUwcjlrbC65C8iF0H/ow9A8Vd/rnuAonU6xGaubFI2hmsdC8jHTxqCpwtjU9SwtKcaBjb/how/e0zoEvS1jkrhqzUq069oKdRvYzk8mrUjJUEHyE5NoOSMoyizDoAvwbdlJY5IgqmNKMtY3sbsqYR47duyRS0x1dVMMHDhQvFFB8kXTuPRxU6j7mw2ZdjnImA5+RFyn26H7GaKSxdqQD3jF0u/LNgRJEYkQZ8/71CxELA2eokN2blxbdrhF1TeumjfDlGDR7dCJEcGY9vyzWsUaRMZ79+1FqWOh8C3dRmsHXEE5COz966B4ywed9NJUTE3G+iR2V89lXNkGnrTJprr5R1EZdJuIRMaq1q3ketBnA089cX2vXr003rmnCUc5yDgtLQ1rN27FoMenKGdBsSZaEaBbPmpXvYsRgstMWzGIjGNiYhASHoQ+wx6miOSifAQKCwpxcOtxvPv2uxUqawgZb9v26Ikm6SYNfRK7q5NxZaFtNACylKW+KRKCEsa/99574sabemgakTBZy9LVT/qGtkmRFrrOshxkTH1//e1/MHDc86hR00lXVbiehREIPrQDQ/p0Q5s22g1Xg8i4sLAQPwqpNCcKfmMu1oFA3JV4FKYXY8L4iSYjY3OOXN+IBn10oy8Nicj1aVdRXbnIeOPmrahR3xOePg/vheSifAR2rf0J7899S6dMiAaRMUHw83+TzNc1cZJ55cNrnRqGHDuPzm0C0LlzZ8WTsbobghSu7FJTfWaESD0kJEQ8CUdF3SLXR5a5yfhhkvkEIcm87gmDTDEelmEYAromCJKkG0zGBw4eQGGVPLTvzN/Shk2VeVvtXLdPyKf6EurUqXjT9ZdffhHviXNwcDCvchp6U3VD0McV3S5tiKKq7hNqr7rZZ4g89TZbtmwRY5XpSiVTluzsbPy2ah2GPjHNlGJZlkwIxF48Bw+XKlpP3hlNxnFxcThx5igCh/aUaSgs1lQI0GGPS0FReHHGy5WKXLJkCSiReW0hCQoXwxCgU44//fSTmKRfjvLzryvg22uYkE+cI5nkwNeUMs8e2YmRg/rA09NTJ7EGW8aitfL9txg6YQCcXHhDQSe0LVQpPOQiPBt4C4cdyl/Aqsmio+uC6GQcF8MQoENRJ06cwNSpUw0ToKXVqaAgxKflo2M3PgErC8AmElqQdwdnDm7G3Ldm6yzRKDKmpEF3SrPgG/DoTcM6a8AVZUdg+5o9ePWlWUIO6MpvZwkLC0NKSgoCAysnbdkVtuIOLl68KF6tRPmJ5ShE9st/X41hT86QQzzLNBEC0eFn0Li2AwYN1H0dGEXGlE1qvRBEPfIp3lAw0RyaXExK8m0kRt/C81N0s9TIN/vss8+iZk3T3nFo8oEpVCD53efMmaPT7rmhQ1i5eg2athNuA2nMv2AMxVDudoe3rsb0KU9rzI5YUd9GkTEJXfbrz+gc6Gvya5jkBste5AcfOYsuHbrDz+/h7dvaCu0FBAk/hcl3zEU/BA4fPoxWrVrB399fv4Z61ibrOzQ6TriGaZieLbm6ORCgKIqrYScw86XKr1lS18VoMqZjmtdvCYmcu3cwxzi5Dz0QoM2kg5uP4Y1ZuvutSPzt27exc+dOPPmk7snM9VDLJqvu378fAQEBaNtW/ugimtdFPy1H/7F8Gk+JiykmNAgdvBtVGkaqSW+jyZiELvj2azw2eZisP82UCLrSdYo4HwV3l8biLcP6lsuXL2PPnj3iyTUvLy+t/mZ95dtC/Xv37iE+Ph6nT58WMaZrlMxVjh47jrT8+2jbuYe5uuR+dECg6F4hjm1fgw/efVuH2uWrmISMQ86EIP72NXQJlPfnmd6js/MGf/26FfPe+9DguOHS0lKcOnUKERERKCoqQuPGjXHnzh07RxVwc3MTfz3UqFFDtIQpb4Wrq6tZcSkuLsaC737AmOdeM2u/3FnlCFwIOYZ2ng3Rq6f+X8wmIWNS74uvPsfEGWNRrVo1ni8FIBB9IRauVetg6BDTbK7evXsX+fn5oJ/I9l4oWoLusNPnHjs5MDtw4CBy79dA647WlVZTDiyUILO0pAT7//oVH8/Tni5TNjcFCT556iRShEv3/HvqtlGkBPBsWYfNK3bg7TfnclSEDU8yfUH+uORnjHrmFRsepfUMLfJ8ELwb1kafwN4GKW0yy5h6X7R0IYY9MRBVq1Y1SBluZBoELkdeRa0qdYR0koNMI5ClKBaBw4ePIveBE1q266hYHe1Bsfv37yNo9wa8+fpMg4drUjIm32J49Hn0Gqy/v8TgEXDDcgiUFJdgx9q9+PD9jxgZO0Hg86++xkjBOnZwqG4nI1beMM8f34fewuE3X19fg5UzKRmTFitW/Y5W/l5o2MTDYKW4oeEInDoYgl4BgejQnkMNDUfRulpGRkUJ+cWFG9sHjLQuxW1E29RbSUi5HIrpU58zakQmJ+PMzEysXrcSo58ZYZRi3Fh/BFKSbiMh+iamPsdZvfRHz7pbrFj1B5q27waPxs2teyBWqP3BzSvx0rQpqFu3rlHam5yMSZsjQs6Kgr9z0baT9uz2RmnPjcshsG/TITz/zDSjFwXDan0IkBG05q+tGDBG883f1jci69D4alQoGgiZA/TJQVHRyGQhY+ps0ZKFCBzRXUj1V3lyGuuAXPlahgqXjbZs0ho9e3BKU+XPljwaBoecwbWbWVZ3aak8aMgv9Y5w2erFk3sw+7VXTdKZbGRMhwOW/7YMjz83yiSKspCKEUi6kYy0G1mY/LT2G2gZR9tGYM36P1HPswOaeHrb9kAVMLrdG37BW7NeNtmBH9nImLCKjIxAaNQ59B7MRzblWjt0EmvXuv3iSTsujAAh8MX8bzBi0ktwqM7RFXKtiHPH9yKwiy98hfsTTVVkJWNScvvO7XCsUxU+7fib2lSTpipn/+YjeGr8JDRq1EgO8SzTChG4desW/tq2BwPHsv9YjumLi72E6sU5GDv6MZOKl52MSdtVf6xEhx6t4VbPzaTK27uw8OBLaOPZHgH+AfYOBY9fDYHQsHDEJqTCt1tfxsaECORkpiMhMhjTnjO9S9AsZExYfPv9Nxj+xCDUdOKk5aZYG5fORcK9VmMM6Kf7TQKm6JdlWA8CR4+dQGpeCdr586auKWat8G4+gvb8iXfffssU4h6RYTYypp4/+/xTTJ7JOXKNncnYiKvCz6QaGDXStD+TjNWL2ysPgZ2796LUsQ6823HOGGNmhxJkbV+1CJ/+U76TrWYl44KCAixZtgjjn+dbJAxdGNHhsSjJe4CnnphkqAhuZ2cIrP9zI6q7NUYrX05xa+jU7163DHPffA1OTvJdvmxWMiYgSoQ0c98v/A/GTx1tKC52244SALlUrY3BA4bYLQY8cP0QIAMoNDQUN1PSULNBc3i3MTx3gn49207tPet/wXtvz0b16g6yDsrsZEyjycvLww+Lvhct5Bo1HWUdoK0Ij7lwGX8XVsX4xyfYypB4HDIikJCQgL179+L8+fNo0aIF/vnPf2LTlm2Acz3BQub8x7pAf6/wLnYLRPzBO3OEWGIXXZoYVcciZEwaU8q5777/Vgi/6Ys6HGVR6SReCI5APZcGQqJ4voDSqNVu440lK5hImMhYKv/4xz/Q4b/xsPsPHELW3fto37WPjaNh3PAoaiLk0DaRiOkyAXMUi5GxNLilPy9B2wAfNG/J145rmnAi4hYNW6JnT94RN8cDYY19qFrBlHBetbRv3160ilXL6eAQJKRkoX13/e9GtEZ89NU5Ke4K4qPOC8eczZu03+JkTEBt2bYFRX/fRde+vMEgLZzc7Ds4vjsIY0aNRbt27fRdT1zfxhGoyAqWrsWSrLkff/wR7u7uj6ARHR2N3fsPoffwiXCtXcfG0dJ9eOGnj6C24994YsI43RuZqKYiyJjGcj70PIJCTmLQ2H52H4t8Neo64mOSMe35aSY7926i9cJiLIxAeno6Nm/eLPqC1a1gImLVn9T9+vXDrFmzKtSY8ses+mMtmrf1h1db+w59oxjiU/s2Y3C/QHTtYplDVIohY1oxtNBWrl6JgL5+8LRDt8XfD/5GWNBFuDnVw2OjOIbYwrynyO7JJfGvf/0LhYWFon7qlrAqIVdkFasPbNfuPcgW/Mh+vezzmq6k65dxJTwIM6Y9h3r16lls3hVFxhIKe/btQcLNG+gxoIvdpOAka5iI+IkJT5ZttlhsVXDHikZAnZAlZVWJeeTIkZg6darO4yC3xUYh2sKv12C0bGsf9+nlCSkww4MOoY13c4wcYfnNcUWSMa0gWnDbdm5BwxYe6NKrs86LytoqZmVk4/yJcHg1a4kxo/kwjLXNn6X0JTfFf/7znzLrmNwTklVMBxMWLlwIFxf9w7F27tqDuOQUdO49RIhyamCp4cneb+S5U8hOiRdCRUejeXNl3I6iWDKWZuPU6VM4FXQSnXp2QKv2PrJPkrk6uFtQiCuR15B5Kxvjx05A48aNzdU192MDCGzYsAHbt28v8xGrWsUTJ07Ek08annaAsr5t3bEbbg094dPBH07O+pO6UiGOuxyJmNBTwsGpvujdq5ei1FQ8GRNa5B87eOgAYq5Eo0NAW7T1s97rnPJy8xAZFoOMW1kYMnAI/DnjmqIeCKUrU1paikWLFuHcuXOiqi1btkRcXFyZ2sZYxepjDwu/iENHjqJ+4xZCsqEecKllvVkXr0ZdwLXI8+jYrjWGDxuKGjVqKG6qrYKMJdTy8/Nx9MQRXIq4CL/uHdC6fStUc6imOFA1KZSVmY2Y8MvIyyzAwP6D0KlTJ6vQm5VUDgK0/r/++mtcv35dVOrZZ5/FmDFj8NNPP+HkyZPiezNnzsSAAabN5Hfx4kUcOX4KrvUaorVfN6txX5SWliAuJgKXL51FQCc/DBKsYUNcN+ZaAVZFxhIoZCmfDg7CmbNn0NDTA96tPdHMq6m5MNO5n8K79xB3+QYSriahQT13dOnclTfndEaPK6oikJqaiq+++gppaWmoWrUqXnvtNQQGBpZVIUKOiYkRfcVyFdrkOy9Yy5lCDHxj73bwat1eCEN1lqs7g+XeTLiOxGv06zNBcEX0QL8+gYq0hNUHaJVkrDqI2NgYhF0Iw42EG2jRurkQEtccjZp6GDyRxjYkX3BaSjpuXI5HXnYB/DsFoHOnzhoD743ti9vbDwJEvjk5OUKymup45513HvllRYdAaNNbOvYsJzL0hXDhUgQuXIyAS50G8GzVAe6NmqKmBX3LaSnJuJVwDcnXY+Dt5YUu/n5ob2WHpayejKVFd+/ePeHOvUjEXokRfWgeTdzh3qQ+GjbxgEfjR08gmWqx3isswu2bqWWvKg+qwrd9B7Rv6wtvb75qylQ427scyry2fPlyvP/++/DxUc5GNj1r0bFXERMbiyrVqqNeo2Zwb9xMeOaaC0nA5Es3mX77JtIFAs5KTUaG8LePT0u0b9MKfn5+VmEFa1rPNkPGqoOjneXExETciL+BuBvXUVR8D8WlxXCp7YxadVzhVtcNtevUgourMxwcHISLGx0qTAZCCY1KS0rFV27OHdwRfqLdyclDwZ1C5OXkw9HREU0aNYFPy1ZidixLBo3bO2HZ+vjpxJ2zs/LcAhLumZmZonV+/UY8bqWk4l5xiXjU2rl2XfHfWm71hOevrmDdOwp7PdVRrZrm/R56fkuFVLvk872bfwd5uTnCKwuFeTm4e4d+HVSDk5Dt0cfbCy08PeElWMK2UGySjNUnhgiVFgq9MrIykCGc9MsQ/i64W4B79wpRXFT8kJQdHcRDJvl5+SL5lgiLieI3iXAbeDSAYzXh3/ru8HD3QP369UXirV27ti2sAx4DI2ByBOi4NT1zWVlZSE3PQFp6JkruP0BGWiqKBbIVAqMFQ8hRvMXayaUWCvJyheeuGPcFEqZnjjbbnIWYafcGDYRn7uHzRs9d3bp1xefV1opdkLEuk0ZJ7+na+7Vr12Lo0KFi3C8tiIq+vXWRyXUYAUagYgQoTE967shgonAzeubIL26PhclYbdbffPNNjBo1SnxxYQTMicCDBw/wyy+/oHPnzuilsAMJ5sTBXvtiMlaZeQrd+fzzz0XfL4URcWEEzIUAbUB///33iIiIELv87rvv+FSmucBXSD9MxioToRo8T2RMpMyFEZAbAQpZo8Mc0u0co0ePxpQpU+TuluUrDAEmY5UJefHFF8tSE+qb9Uph88rqWAkClAfiyy+/FDe5aLN4+vTpGDbM8hnErAQ+m1KTyfi/03n8+HEsW7asbHIbCDu4cp5msqlVxIMxCAE6Mfftt9+KBgBtWr399ttCrhK+7cYgMG2gEZPxfyeRfHQUWK+anHvu3Lno1q2bDUwzD0FpCFy4cAELFiwQ1apVq5biDnMoDS970IfJWJhlOkr68ssvl823RMjarq2xhwXCY5QHAYrBnTdvnhjK9fHHH/NxeXlgtiqpTMbCdNHV5n/88ccjZEynnejqGiVnerKq1cbKlkOATonSQQZXV1dGhhEAk7GwCMhCoQdD1UUh/S1HSkJed4wAI8AIqCNg92RMl6C+9dZbj6wMiYy7du0qZsniwggwAoyAnAjYPRmvXr0a+/btK2cVE+CG3LIr50SxbOtEgCIldu/ebdQ1SNY5ctZaXwTsnozp+HNGRkaluD3//PN8PFrflcX1xSQ58+fPx82bNzFu3Dg8/fTTjAojUCECdk3G0vFnbeuDj0drQ4g/V0cgOTkZX3zxBXJzc8XDHBStM3DgQAaKEWAy1mUNhIWFiUH4tMO9ePFiXZpwHUbgEQQovwTlmaB8ExS6RnsOlPScCyNQGQJ2bRmrA8NkzA+LsQicOnVKvCCU9hzoMMeHH35oM8nPjcWG21eOAJOxCj5Mxvy4GIPAli1bsGnTJlEE5cOmkEl3d/mu/DJGV26rPASYjJmMlbcqrVQjOiB05swZtGrVSiRiJV+RZKUQ27TaTMZMxja9wM05OLq1YuvWrZg0aZI5u+W+bAQBJmMmYxtZyjwMRsC6EWAyZjK27hXM2jMCNoIAk7GFyVj1pJ+NrCmbH4Z0SIhyXnNhBEyFgCLJOCkpSbwLjBY93YCQn59vqvFWKoduh6YrcKpWrQpzPWjUz927d9G8eXN4enqiZ8+eZhkrd2IYAvHx8eL9iLVr1xYPdVAcMRdGwBQIKI6M6Rx/Xl4emjVrJhIU7Ug7ODiYYqyKlUH5Cyi/LWWOO3v2LB5//HF06tRJsfraq2Lh4eHi7S9FRUXitfKffvop35Nor4tBhnEriox//fVXUJY0Ly8vGYZqPSKPHDkiXtdOIVJclIHAsWPH8Msvv4iHOeiEJoWukcHAhREwFQKKIWM6tdS/f380adLEVGOzajn0C6FDhw7o0qWLVY/DFpTfsGEDduzYIQ6ladOm4s0cderUsYWh8RgUhIAiyPjo0aOixREQEKAgaCyvyvr16/Hcc8+J/kku5kegtLQUS5YsEQ9yUGnXrh3ee+89ODk5mV8Z7tHmEbA4GZP/bc2aNZg4caLNg63vAK9evSpuKA4fPlzfplzfBAioZvXj+xBNACiLqBQBi5NxZGQkrly5gkGDBvFUqSFA0R10N9+7777L2FgIAco3cf/+fTz11FMW0oC7tRcELE7GBw8eFKMl/P397QVzvca5bt06TJ48Wdw0UnKhvL3nz58XI2DatGmDqKgoHD9+XFS5W7du6NGjhxgtsmvXLvG91q1bY9iwYcjOzga5Y6g0bNgQTzzxBMg9sHz5cvE9iqaZPn26+PfKlSvFMEAqr7zyirhuNm/ejNTUVPE9wqlu3bqgNUW/KqiMGTNGDBkMCQkBJYKiMmDAAPj6+iImJgbkIqNCvvlevXqB8hBL/mFJRxrb2rVry+lIbjXa56BCfVLfVCgyht0YIhRc9ETA4mRMNzNTZisfHx89VbeP6gcOHEDv3r1FQlFqoVjwjRs3il+o9KKwL3I/UT5fKvT/mjVrgnI3SGRavXp1kWjJ6pTiyKtVqybelExER6F+VCgxu+Qzp/foMyr0Hn1GbUkGFWpLMqgP6osK9UF9EUnSLw0qpAvpRP+n96lQvDCRKH0RFBQUiO9JOj548EAMt6Qi6Uh/E0lTobh0SpdJZenSpeKXDBE5F0ZAHwQsTsb0M5CsKQ7j0jxt27Ztw+DBgxUdz0rWLVmHXB4iQF9MZGmzgcErQh8EmIz1QcsCdZVMxmQtXr9+nV1MFlgX3KXtIcBkrPA5VTIZk4uJ3Cfkf+VSHgFynZDLg9whXBgBXRCwSjKmwxC3b99+ZHyzZ8/GZ599Jr5P4WDka5X+rwsYctd54YUXQORKJTQ0FN7e3lq7VDIZL1u2TIwyUPrmolaQZahAN0PT5iJtNHJhBHRBwGrJmILvZ8yYUW6MRArfffed+L4SyVhVP10mh+oomYx/++03MdKBNrW4lEeArOLVq1eDvoC5MAK6IGBTZPzJJ58gODgYFIGgTsbq1puqFX3jxg0xJ4ZUdP1ME8CqVjuFdJEuVFT7V31f2yQpmYwXLFiAuXPn2nwiJ21zpOlziuagw0zqBoMhsriNfSBgF2RMBEk/pyWXBZH2okWLRFcBFSJiyaKWiJkuliQ3An1Gf1NEAxV1WarLhD6jWNXff/+9rK7q/23NMqYYXYrZpdAuLowAI2AcAjZDxhKJ6uKmoKxoTz75pEjGdJBAsqZVoSR59BnlVpbIlT5fsWIFvvnmG9BRWdUiyaSYW6mo9kPEbmtkbNzS49aMACOgioDVkrGmDTyJiGmAmnzG9B6dEpMKkfG///1v8b+qhCt9rl5fFThV0q2MpImAJcva1siYTtRRGkm2jB8lFXJT0Am9N998kxmHEdAJAaslY00beKojViVjiVQlX62qxaqNjHWNyKjIYrZlMmafccXPGJHxjz/+yHlFdKIhrkQI2DwZ024/+X1VQ8l0cVMQOLQTTrkKpE24ypaMPbopmIwrJ2NKvzlnzhxmGkZAJwTshoxVN+GkyAbVDTxNm3QSkatGVxBBU9IZdZ8xoW1vG3gU6TF27FidQ9uefvpp/PXXX2ULs3Hjxrh165ZOC9WYSvRlOmLEiLK8FvrIev/998U9AqmQ6+HVV1/VRwTXZQR0QsDmyZgiKMiF8M4775QBQiSsKYJCqlBZaJu2sDTV0Lbx48eX80Xbms9YpxX230oUVUKFvsikIpGzlPxHH3n61DWUjH/++WfMmjUL165dE/NMSHKYkPVBn+vqioBVkrGug7OFekqOM6asZVL2NG1YU4a1/fv3P5Ion96XyI3+pr0AyRJVt5wlcpT6UpdH7VULySJXijoZS3Kkz+mLQrrNg9pLXw70Pl0FRjJUv0Do7z///LPSIZPPmNJuSuk/teHDnzMCTMYKXwNKJmN9fMZ0t6GUV7giyCUyVSVDyZqWCFT6jBIUUaY/iZBJPl1RJRGn5F4gq5bqSm4KdWuX6p04caLMYidrPSEhoZwFr6ovEXSLFi10ImPewFP4w6Uw9ZiMFTYh6urYChnTuNQtV02WraoLQCJcItQpU6aIVqaqv5aIsyIrVbKGVcmYZKu6HaitNvJVnQ993CocTaHwB0uB6jEZK3BSVFVSMhmvWrVKJEm6cUOfIpGs1EaydomsJf+s9Jnk3iDLVlPp2bNnOStW3eWgSsbq/dH/1XVR719qow8RUxsaEyW5d3Fx0QcarmvHCDAZK3zylUzGpoBO1b2gjYw1+ZwlHSQSlshZk2VM7f/v//6vQjcD6ZKSkgJ1X7Wqhc4J400x6yxDEwJMxgpfF7ZAxur+XvWf/pKrQX2TT5UE6XZmVZ+wqgxNZKmJjMlald6viNg1yapM/4qWD+Uzprv0JkyYoPAVxuopBQGbJmP1bGyqoEvHmTUd1lCtp36yztypOZVMxsZu4KlvwhEZq1qlquFwEiGqkihZskTSX375ZbnNPJo/yT+tvoFHn5HL4eTJk2KMs3rInSHEq+lhZp+xUijOevSwCzJWT+Re2cEN9aljMq54MetDxiRF3Z9L76n6aIlAJ02aVHYwRN0frB7aJoWmkRz1z0guRVvQpl3Lli0fOfRBfUnyJfeENFJ1v7EhBM1kbD0kqBRN7ZKMVa1hdcuYDmbQYQ2ySCmEicKcpEKkPnPmTPEGEUrBKRXV03umnlglW8YLFy7E66+/rvMJPG3YVBSLrK2dEj+nG6UpmRURPRdGQBcE7JKMyTKmn7eU+FsTGauestNkGVPmN8naptzIdBuwpuPRukyAtjpKJmNtuuv7uS2Rsb5j5/qMgF2QsaZplo48ayJj1VScmsiY0kZKKTe1+ZyNXWJMxsYiaJn2dO3S8ePHMWTIEMsowL1aHQJ2QcbqPmMpVwW9T5t8lGhe2tBTTXlJs6nNZ6yeQN7UK0DJZLx8+XK8+OKLJnNTmBo7S8pjn7El0bfOvu2SjGmqKKEPbQCRX5jJ2LDFq+8GnmG9WGcrJmPrnDdLam3XZLx48WIReyZjw5Ygk3HFuFFM8+XLl9GuXTvDwOVWdoeAXZKx6qabJp+xanQEuykqfiaKiopQo0YNu3toeMCMgBwI2AUZawKuokMf6j5jaquajF4KbZNumrZnn7EcC9JWZBYUFIhhkeQO48II6IKATZOxLgAovY6SN/CuXLmCzMxMMe6aS3kE9u7di6ZNm6JTp04MDSOgEwJMxjrBZLlKSiZjQoVirAcOHAh3d3fLgaSwnunexKNHj+L5559XmGasjpIRsDgZ79y5E40aNRKPrnJ5FIE9e/agb9++YtSHUktwcDD8/f3h5OSkVBXNoheduqODK/fu3bN78EPczQAAHRdJREFULMwCuI11YnEyJrKhq3t8fX1tDFrTDIeu95k4cSI8PDxMI1BGKZGRkTh79qxoJTdv3lwk6PT0dBw7dkzslY4G9+nTB+RP3bVrF+jaJsr3S4l7KCcyWdlUqlevLh5Jp7J7924xLzAVeo8+I3kkl8qwYcNQp04dnDt3DvHx8eJ71Af1FRMTA9KJCunSunVr0Y9LOlKh/9P7GRkZoiWrqmNhYaGoIxWST/1Qoc1dipRQ1ZH2Dejoc2JiIujmkKpVq4p1uTAC+iBgcTKmu8fo4QwICNBHb7upS24KIitnZ2fFj5ksQyLJvLw8uLm5iaRMpHbz5k1RdyJeyspGOYM///xzZGdni8RGl8XSEXRK0EOFyIyS+1Ah8qSYXSr0Hn1GbgCyPqkQ6VNER1paGu7cuSO+R31QXySffNpUGjRoIJIq6Zaamiq+V5mOdIJOIndHR0fxyigqlGmOdFbVkerRlwmdzOTCCBiKgMXJmB4MIhzK1sWlPAKU4pFOCU6dOtVmoCHrkVJeEnHWrFkTb7/9Nvz8/GxmfDwQRsBQBCxOxqT46tWr0bVrV85wpTaLlLu3c+fOaN++vaHzq6h2dAji66+/Fq1asko//vhjtiYVNUOsjCURUAQZ089WSqpS0T1nlgTIUn0TJrGxsaK/2BZKWFgYfvjhB9DPfwr5mjdvHurXr28LQ+MxMAImQUARZEwjIfKhzTxbIR9jZoewIPeErYRG0QGbN954Q4SErPx3332Xow2MWSDc1iYRUAwZE7q0EUIWMp1assdQN9rIJAuSNpno1mVbKhRxQNENr776Kmd5s6WJ5bGYDAFFkTGNisKdTp06hUuXLomhR7RrXa1aNZMNWGmCKBIgJycHdIElhXBRVAlFFnBhBBgB+0JAcWQswU++RQprImuxuLjYLLMSFxcnRna4urrilVdeMUufFBJFoVN169YVQ7K4MAKMgH0ioFgytsR0kIvg22+/FRMDSek1LaGHNfdJ1r01xERbM8asu20iwGSsMq9MxsYtcimGePr06eJN0FwYAUZAdwSYjJmMdV8tldSkGOL58+eDchzXqlULy5YtM4lcFsII2AsCTMZMxkavddUYYnLxfPTRR3yAx2hUWYC9IcBkzGRs1Jo/ceKEaAVTvgbKLPfBBx+IOSC4MAKMgH4IMBkzGeu3YlRq79ixAxs2bBDf6dixo5jwh69hMhhObmjnCDAZMxkb9Ahs2bJFTCdJhZLLmysU0CBluREjYAUIMBkzGRu0TCkt5qefforHHnsMEyZMMEgGN2IEGIH/IcBkzGRs8PNAB3IobzAXRoARMB4BJmMmY+NXEUtgBBgBoxFgMmYyNnoRsQBGgBEwHgEmYybjSlcRxRCfPHkSb775pnjZJhdGgBGQBwEmYybjClcWpTOVTtJRSs/Ro0fLswpZKiPACIDJmMlY42OgGkPs7e0tHuagW7y5MAKMgDwIMBkzGZdbWXSSbtWqVThw4ID4Pt3BR5eGUppPLowAIyAfAkzGTMZlCFCC+6VLlyI4OFh8b+jQoaAMbJTgnwsjwAjIiwCTMZOxiEBJSYmYyzkiIkL8/zPPPIPHH39c3tXH0hkBRqAMASZjJmMRAUp9+cUXX+DGjRt4/fXXOR8xkwQjYGYEmIyZjMsQuHfvHpKSksS7B7kwAoyAeRFgMmYyNu+K494YAUZAIwJMxkzG/GgwAoyAAhCwOzIm32hmZqb4ys/PF2+eLi4uQlFhAVJSUhARFYPqwo3N/fv1RXUhnMvRsQYca9QQboyuJcbZ0k0W9LLmsmfPHtEnbO3jsOY5YN0ZAXUEbJqMiWzpkszU1FTcTIpHVkY6SktLUM+tFuq6ucLNpSYcqgGOAvk6Vn/4qlnDESWlpSguKRUiDP77b+l9PHjwN25n5iI77y6yc/NRt25dNG7SBO4Nm8CzhReaNWum+NWlGkNMt3J89tlnHD+s+FljBe0FAZsiYyKbK1euIF6ICEiIv47Cgny0aNIALZvUR21XJ5GEXZxrmmRus3LykJNXgOTbGUhMzcbtjFx4ebeEp5cPWrZsiYYNG5qkH1MJUY8h7tq1q5hvonr16qbqguUwAoyAEQjYBBlTOFbEpQuIEmJkO7Rqjib1XQUSdkf9uuY7vlsqHJhIupWOxNuZSE7LRfGDKvD180dHv07ibcmWLOSK+e6778piiCkhPOWa4MQ/lpwV7psRKI+A1ZJxTk4OQs8GIzLiEjzqusLXpwl8W7dQzPymZ+Ui+loyouJuoV4DD/h37QFfX1+z60cJ4OfPn4/r16+Lfc+YMQPDhg0zux7cISPACFSOgNWRcUZGBoKCTiH9VhJ8WzZER8ESdnaqoeh5TkxJx9X424hNTENg3wHo1r2HWfTNzs7G559/Lm5Mkjti9uzZ6Natm1n65k4YAUZAPwSshoxv376N0wIJZ9xORm8/b9EdYW0l/+49BF+IRdT1FPTu2x+BffrJOoR9+/Zh9erV4tVI8+bNg4+Pj6z9sXBGgBEwHAHFkzHlTNizexcyUx+ScBuvJoaPViEtKVIjRCDlK4npAikPRKeArrJptmvXLnTv3l1xG4qyDZgFMwJWioCiyfjcmRAcP3oIIwL9rNIS1rYmHjx4gH0nw5FVCIwaMw4eHh7amvDnjAAjYKMIKJKM6Rr4PTu3oYW7C4b07mSj0P9vWDdTM3HgdCQ8W7XD8BGjbH68PEBGgBF4FAHFkfEp4b61tORrCPTzgns9N7uas7DoOARH3MCzz89AgwYN9Br75cuX0bZtW73acGVGgBFQDgKKIuN1f6xC07qO6NvFfkkl/24h/tx3Bl169RMiH7prXSlSDHFMTAz+9a9/wcvLS2sbrsAIMALKQ0ARZExpG9esWoGnR/REi6buykPJAhodCo5A/oOaeOKppyvsnWKIFyxYgKtXr4p1+NJQC0wUd8kImAgBi5NxWFgoYi+ex6Th3fhEmNqkXrlxC2dib+L56S+hWjUhiYZKUY0hppN0L7/8MgYOHGiiZcFiGAFGwNwIWJSMT544hvy0RAwP7GjucVtNf/fuFWPx+gOYNXtO2e3MFHNNhzmysrLERD9z5syBv7+/1YyJFWUEGIFHEbAYGe8VYoddUIA+AXyrhC4Lc+mGg3hy8lTxeqQvv/xSTP9JOS8+/PBD9hPrAiDXYQQUjoBFyHjblk1oXrca/NsqJ5eEwudJVG/l9hMIDo3E3bt30URI30mn6vSNurCGcbKOjIA9ImB2Mj58cB9qluaiV2e2iA1ZcD+u3oWs/GJ89NFHcHZ2NkQEt2EEGAEFImBWMt69Yyua1K6CTm08FQiF9aj0+9ZjGD/pebi7c+SJ9cwaa8oIVI6A2cj46JFDcCzKECziNjwnJkBg4dq9mPn622wdmwBLFsEIKAEBs5DxubNnkJ18BUN6mT+frxJAlkMHutXk25W7MO/jT+QQzzIZAUbAzAjITsbXrl1DdOhJjO7X2cxDs/3ucoVrn/aejsGUGa/Y/mB5hIyAjSMgKxnTUd1F33+DOc9z8hu51tHF2BtIvVtNyPo2Xq4uWC4jwAiYAQFZyXjFb8sxvJsPGrnXNcNQ7LeLnUfPo3Xn3vDt6Ge/IPDIGQErR0A2Mj4ibNjVLM5Ez04cwmaONbJ4/X68OHM2XF1dzdEd98EIMAImRkAWMo6LixP8xKcwqg8fczbxfFUoLjP7Dg6cvYbnZrxkri65H0aAETAhArKQ8cIfvsO0Mb3h6lzThKqyKG0IHD8XDSd3L/QO7KutKn/OCDACCkPA5GR88sQJ/J2XLOScaKewodqHOgvX7MOrs9+Gk5OTfQyYR8kI2AgCJiXjO3fuYNVvy/Da00NsBB7rG0ZsXDKupN7DhCcmWZ/yrDEjYMcImJSM/1y/Fl1a1kXL5o3sGFLLD/3PvacROGQMZ3Oz/FSwBoyAzgiYjIxp0+7imWN4fADn1dUZfZkq5tzJx8Fz1/GMcJceF0aAEbAOBExGxn+s/A39OzVHs0b6XaRpHTBZn5bbj5xDh24D0K4d++6tb/ZYY3tEwCRknJCQgJMHd2LyY4H2iKEix5yakY19Z67ihZdfVaR+rBQjwAiUR8AkZLx+7Wr0bOMhXCbqwfgqCIGN+0PQY8BItGzZUkFasSqMACOgCQGjyfjmzZs4tHsrnhvDVrHSllhiSjpOR6VgytTpSlON9WEEGAE1BIwm4507tqFlvSpo17I5g6tABLYfC0evgaPEa5q4MAKMgHIRMIqM79+/j2/mf4H3ZoxR7gjtXLPQqGvIeVAbw0eMtHMkePiMgLIRMIqML168iMTY83isX4CyR2nH2t0rKsayTccw9715dowCD50RUD4CRpHx2j9WIbBDI3g25rvYlDzVmw6eRbe+w+Dj46NkNVk3RsCuETCYjOno82rh6PMsPvqs+AUUfS0RcVkPMG78RMXrygoyAvaKgMFkfO7cOdxNvYq+XfhQgTUsnhXbT+HFV2ejSpUq1qAu68gI2B0CBpPxXxvWwd/LDT6eje0ONGsc8J/7QoSoCo45tsa5Y53tAwGDyZiiKN58djgcHKrZB1JWPsqQC5dR4twYAwcOtPKRsPqMgG0iYBAZPzzosUU46NHHNlGxwVHdTM3E0QsJmMY3gdjg7PKQbAEBg8j49OnTKEqPQ//uHWwBA7sZw3erduOd9z9CtWr8a8ZuJp0HajUIGETGO7ZuRsfmLmjRhHNRWM1MC4pSiFuP/iPg7e1tTWqzroyAXSBgEBkv/P5bTBsbyHfcWdkSOX4uCk4erdC7d28r05zVZQRsHwG9ybioqAiLfvgWbz8/yvbRsbERRlyJx828ahg9dpyNjYyHwwhYPwJ6k/GtW7ewf8dGTH28n/WP3s5GkHw7A8cvJmIqb+LZ2czzcK0BAb3JODIyEtcjQjBmQBfZxnfweDBGPftGhfJdXZzRu1snzJ35HIYN4J/cuk7E3cIi/Lb1BOa8+4GuTbgeI8AImAkBvcn4+PHjqJqXjMAu7WVTUSJjIl3fto8mRk+8eRspqRli/0u++hAzpz4pmy62JvjHNfswa/bbcHJysrWh8XgYAatGQG8y3rd3N5q5lqK9j3z5iyUy7tmlI4J2rtII8LLVm/D6h1+BCDvuzC7Uq+tm1RNhLuW3HQ1D4ODRaNyYT06aC3PuhxHQBQG9yXjTn+uFsDZXtPZqqot8g+roQsYkuOOAJxB7LR571y1md4WOSG/Yexp9h45FixYtdGzB1RgBRsAcCOhNxuvXCPfdtZX3vjtdybjP2Gk4ExZZjoyzsnOxYMlKrN2yp8yVQRb2Wy9PwaTHh5dhKvXx7qypyM3Lxy9rtohW9rzZLwivGaDP/7NsjfBviNiGPhs1uA/mvvo8uvv7lpsb9bqNGzZA3x4BogtF1WInfamsXvQ53vhofplsqv+POS+bxd2yWYg19u89GG3atDHH+uI+GAFGQEcE9Cbjlb8tx5Cu3mjiUV/HLvSvpgsZE+m27DkG+QV3Ebx7tUiQ9F7/8S+I1nK7Vl4YM6y/SLS7Dp4QiVnVv6zqlyYNJ08YiZzcPAwM7Ia6dWrj2VkfgkiSZLjVckVCcgo27jwoknLogXXw8XroplF1lxBZt2jWGCfPhIlfElT34F8/l5E3kTH5u/Py76JZY48y/dZv3SeOg74Y5v/jLf0B06PFruNh8PHrhY4dO+rRiqsyAoyA3AjoTcbLf1qMcf07okHd2rLppo2Mz12Iwv8tWCpalqp+5VkffCFauE+NHYb1P88v00+VpC8HbROJVDViQ93NIVncaZFHylm28z7/ET8Lvurl3/5TtLKvxyehbZ/xjxC0Kkmr6ifJVdePxtN79FSR/JPC9suGKwk+EHQBDX380aWLfNEwsg6AhTMCNoqA3mT88+If8MyI7qjlIt9uvLbQNmkuiLy2/P6fMsuzTpuHsc+aNvT+2nFAtHZffm4ifvr64zIy1kSAEmmu++mrcq4N9TUgkX9FER2ST1uy3CW50heCqjzSnazj0puhsi6142cj4NyoLXr16iVrPyycEWAE9ENAbzJesvB7PDuyO2q7OuvXkx61tYW2eTYVUkEK7gSyMCWfrKp1OWXiY4/0JrkZJEu1MutbIm4SIvl/1fujzyRylci2IrKWSF2qr4lwK/tMD+i0Vj0acgm1mrZHz549tdblCowAI2A+BPQm419+XoyxfX3hXk++UDJtbgpN8OhqTetCxiSfCPlf3y0T/c+qZdiAXli75EvxS0AbgZJb49ufVpf5gpVAxvtPXUDj1gEICOBLZM33mHFPjIB2BPQm41W//4LBXWgDr5526QbWMIaMK4tNVlVH1z7IL3zoxBkcO30ee48Eia4EIuS965ZYpWW889h5tO7cB76+5SNCDJwqbsYIMAImQkBvMqbQth5t3OHVrKGJVHhUjK5Eqd7SoWnXCg+BUNTDB4Kl+qpwWo8iFirrgyzY3Dv5iDy+uVwXtBHo0XGw+B65Ggz1GVvSTUGhbV36DEWrVq1kmz8WzAgwAvojoDcZb974Jzo0cUYbb8sf+lAf7uRX54nhZ5qiKToPmSSGt0mRE9rIWD1+mfqS/NIUNkdErRpNoRrCRnXnL1qBf8xfXC7aQwluivV7gtF/+Fh4enrqv1q4BSPACMiGgN5kfGD/PjRxLrL4cWhNiKiGsNHGG23kqcYZq5J0ZWQskS71QW0odpjkSPHAqlEW+sYZE8lb1DI+dF4g48fRqFEj2RYVC2YEGAH9EdCbjE+eOI4HuUno21W+K5cMdVPQ8DWdwCNLdvaLk8udcNPWhxTLHHz+kugnrixTnKYTeHRY5It5bzxyAs/SZPzjmr1CoqC5nChI/2eFWzACsiKgNxlHR0fjSvgpjB3UTVbFWLjpESgovIcV207irXc4habp0WWJjIBxCOhNxrdv38aerRswbVx/43rm1mZHgJLLn4hIxvPTXjB739whI8AIVI6A3mRcXFyMH79bgLnTHj1YwWArG4FLsTeQUlgDj40eo2xFWTtGwA4R0JuMCaPFwim8KTKfwrPDuZB9yMfORsGlUWs+Ci070twBI6A/AgaR8Y7tW9ChUU14N+cdef0ht1yL3ScuomOPAWjZ8tHbUyynFffMCDAChIBBZHzmzBnk3YzGoF6dGUUrQuC7lbvwzgcfo1q1alakNavKCNgHAgaRMW/iWd/i4JuhrW/OWGP7QsAgMiaIvlvwFWZNGowajtXtCzErHe3psBg8qNUMAwYMsNIRsNqMgG0jYDAZb/prAzo2c5H1Ljzbht68o9uwNxh9hoyGl5eXeTvm3hgBRkAnBAwm4/DwcNy5dRl9A/guNZ2QtnCl37adwsuzZqNKlSoW1oS7ZwQYAU0IGEzGBQUF+PXnRXhj8v8u+WSIlYlA9LVExGXex7gJTyhTQdaKEWAEDIumkHD7c91qdPVpwCFuCl9If+07jR4DRsHHx0fhmrJ6jID9ImCwZUyQRUVF4eqFIM5ToeD1w/koFDw5rBojoIKAUWRMcuZ/8RnenT6GfZEKXVZnL11BoUMDDB46VKEaslqMACNACBhNxvv37kFjIb+xb+sWjKgCEdiwLwTDxjwJDw8PBWrHKjECjICEgNFknJ6ejm1//YEXJgxkVBWGQMKtNITEpuLZ56YpTDNWhxFgBNQRMJqMSeDGDWvh51mbY44Vtr427AlC32GPo0UL/tWisKlhdRiBRxAwCRmnpKRg37b1mDqOrWOlrLFbqZk4Eh6HaS/MVIpKrAcjwAhUgoBJyJjkc5ibstbZpv0h6NpvON8CraxpYW0YgQoRMBkZJyUl4ezx/Rg/uAvDbWEE0rNycPRCEiazr9jCM8HdMwK6I2AyMqYut27eiDYejmjn01x3DbimyRFYu+sUBo4cD09PT5PLZoGMACMgDwImJeOioiIs/n4B5kwdLY+2LFUrApFXE5CY/QBjx/PRZ61gcQVGQEEImJSMaVxnQ4KRKyQQGtyrk4KGaT+qfLtih5BA/h9wcHCwn0HzSBkBG0DA5GRMmCxfuhDjB3ZG/Tq1bAAi6xnCwdMX4e7dEV27drcepVlTRoAREBGQhYxv3ryJkKN7eTPPjIssNSMHQdEpeOqZKWbslbtiBBgBUyEgCxmTcsFBJ1GYHo8BPXxNpSvLqQSBH1bvwey578PR0ZFxYgQYAStEQDYyJiw2rFmJbm0awrtZQyuExnpU3nwgBF36DEWr1pzo33pmjTVlBMojICsZU1fzP/8Uc6eNEW4krsrYy4DAOSErW36VWhg6giNYZICXRTICZkNAdjK+eTNZ8B/vEfzH3cw2KHvpKD0rF8cvJuLpKZwIyF7mnMdpuwjITsYEXVTEJVy9FMJJ6E24ju4VFWP5pmN4+715JpTKohgBRsBSCJiFjGlwZ4ODkJNyFUM4/tgkc/3N79vxwcefclJ/k6DJQhgByyNgNjKmoR47tB/Vi7PQy7+t5UduxRosWbcPL7w6G66uHMdtxdPIqjMC5RAwKxlTz+dCTiIr+RqGBnbmqTAAgRVbj+HJZ6ejTt16BrTmJowAI6BUBMxOxgTEwf17UKM0F30C2ELWZ2EsXX8A0195HbVqsUWsD25clxGwBgQsQsYEzMnjR1GQnohhgX7WgJNFdSy8V4zF6/bjtTffRu3atS2qC3fOCDAC8iBgMTKm4YSeP4cb0aGYMLSHPKOzAalZOXn4Y3cw3pr7nhCrXc0GRsRDYAQYAU0IWJSMSaHLsbE4eXgPnhrRC67ONXmWVBAIj45DXNpdTHp2KuPCCDACNo6AxcmY8M3IyMDaVb9hSI92aM+J6cUlt/3IObg2aIbhI/lknY0/gzw8RkBEQBFkLM3Ftk1/wvF+Hkb0s9+rmzKy72Dd7lMYNfYJtGvfnpcpI8AI2AkCiiJjwjw8LBTRF8+ht58XWjTxsJNpeDjME+ejcSu7CBMnPQsnJye7GjsPlhGwdwQUR8Y0IVlZWdi3ZyecqxRhRF9/OFa37VsrriXcwr6gCHTv3Q+Bffra+5rk8TMCdomAIslYmono6Gjs3rEVA7q2QVdfH5uboLuFRdh7KhxVarjhsbHj4eLiYnNj5AExAoyAbggomoylIRw8sB+Xoy6gdycf+LdvqdvIFFwr504BQi5dQ1bBffTs0x9t2nAeYgVPF6vGCJgFAasgY0Lizp07OH3yGGIiL6J359bo3sn6CIxSXoZcvIpbmQUI7D8I/v7+Zplk7oQRYASUj4DVkLEEZWFhIYJOnkB05AV08G4E31bN4VG/jqKRjrmehBsp2bidlY8+/QejQ4cOitaXlWMEGAHzI2B1ZCxBVFJSgrCwMERcCAVK78HXpwk6tm4BZ6ca5kdRQ49JKemIupqIyGs30bZ9B3QK6IaWLa3fxaIIcFkJRsAGEbBaMladi7S0NEReuoiIS+Fwd3NGU3c3eDb1gGdjd7NNWf7de0i4mYqEWxnIK7qP+3CAn39XdOzoBwcH244GMRvI3BEjYMMI2AQZq85PUlISEuLjkRB3FYmJCQIh10crz4ao5eyEenVqoa6bKxyMzPFAURCZOXeQlZsPOqRxI+k2iu5XQQtvb3j5tEWLFl6oU0fZrhMbXtM8NEbAKhGwOTJWnYUHDx4gISEBKSkpuH0rGVkZ6cjMyhRyYAjELJBybZeaqC7k3nF0qCZccV9djGd2qumI4pL7KCkpRVFxifC38CouRTWH6riZno3s3AJUq14d9erVRwN3DzRs3FQg3xaoX7++VS4AVpoRYASUgYBNk3FFEOfk5CA7Oxt5eXkoKioSyLZYfBXdK8TfD0rw4P4DONaoIRB0DdSo6ST8XVM8Eefm5iaSbg3hMy6MACPACJgSAbskY1MCyLIYAUaAETAFAkzGpkCRZTACjAAjYCQCTMZGAsjNGQFGgBEwBQJMxqZAkWUwAowAI2AkAkzGRgLIzRkBRoARMAUCTMamQJFlMAKMACNgJAJMxkYCyM0ZAUaAETAFAv8PezBCzzmyGwIAAAAASUVORK5CYII=)"
      ],
      "metadata": {
        "id": "w3zM0s2TActI"
      }
    },
    {
      "cell_type": "markdown",
      "source": [
        "In this case, a person that is born in a country is likely to speak its official language. Here the two hops are \"Place of Birth\" and \"Official Language\". These two hops would be the body of a rule, and the head would be the \"Speaks\" relation.\n",
        "\n",
        "This can be written as a rule (similar to those in the AnyBURL paper) with the head on the left and the body on the right.\n",
        "\n",
        "$ speaks(P,L) \\leftarrow placeOfBirth(P,C) \\text{ & }  officialLanguage(C,L) $\n",
        "\n",
        "This Colab will look at applying a rule and finding more two-hop rules. Notably, AnyBURL goes beyond 2-hop rules to longer rules."
      ],
      "metadata": {
        "id": "2j4xNarCAcwH"
      }
    },
    {
      "cell_type": "markdown",
      "source": [
        "## Prerequisites\n",
        "\n",
        "We'll first install the Pykeen library as it is useful for loading in other datasets."
      ],
      "metadata": {
        "id": "APBsbX-Cs2V0"
      }
    },
    {
      "cell_type": "code",
      "source": [
        "!pip install pykeen"
      ],
      "metadata": {
        "id": "G3wwkimTYbxh"
      },
      "execution_count": null,
      "outputs": []
    },
    {
      "cell_type": "markdown",
      "source": [
        "## Loading the knowledge graph\n",
        "\n",
        "We'll use the [Codex knowledge graph](https://github.com/tsafavi/codex) because it's more interesting to look at than FB15k-237 or WN18RR. It contains knowledge from Wikipedia and WikiData.\n",
        "\n"
      ],
      "metadata": {
        "id": "JakEKCOusvib"
      }
    },
    {
      "cell_type": "code",
      "source": [
        "from pykeen.datasets import CoDExSmall\n",
        "\n",
        "dataset = CoDExSmall()"
      ],
      "metadata": {
        "id": "OXjUwgl3Yd6S"
      },
      "execution_count": null,
      "outputs": []
    },
    {
      "cell_type": "markdown",
      "source": [
        "We can then pull out the training, validation and test triples from the knowledge graph. This also shows the number of each data split."
      ],
      "metadata": {
        "id": "kQeSOmRxuJbb"
      }
    },
    {
      "cell_type": "code",
      "source": [
        "train_triples = dataset.training.mapped_triples.numpy()\n",
        "val_triples = dataset.validation.mapped_triples.numpy()\n",
        "test_triples = dataset.testing.mapped_triples.numpy()\n",
        "\n",
        "train_triples.shape,val_triples.shape,test_triples.shape"
      ],
      "metadata": {
        "id": "QGJwZv3EuFfa"
      },
      "execution_count": null,
      "outputs": []
    },
    {
      "cell_type": "markdown",
      "source": [
        "If you look at the triples, they contain indices. While we can process this graph without knowing what it means, it'd be nice to know the entity and relation mappings so we can look at things."
      ],
      "metadata": {
        "id": "i-1UzaYEuhcy"
      }
    },
    {
      "cell_type": "code",
      "source": [
        "print(train_triples[:10])"
      ],
      "metadata": {
        "id": "QZrk6TW-uWbr"
      },
      "execution_count": null,
      "outputs": []
    },
    {
      "cell_type": "markdown",
      "source": [
        "To make it easier to understand, we'll download the actual text mappings for the entities and relations (instead of just having to look at the node and edge indices)."
      ],
      "metadata": {
        "id": "-G9UzceFuCTa"
      }
    },
    {
      "cell_type": "code",
      "source": [
        "!wget -O codex_entities.json https://github.com/tsafavi/codex/raw/master/data/entities/en/entities.json\n",
        "!wget -O codex_relations.json https://raw.githubusercontent.com/tsafavi/codex/master/data/relations/en/relations.json"
      ],
      "metadata": {
        "id": "oRsn99ycWObf"
      },
      "execution_count": null,
      "outputs": []
    },
    {
      "cell_type": "markdown",
      "source": [
        "And then we load the entities and create mappings `entityindex_to_name` and `relindex_to_name` from knowledge graph indices to names."
      ],
      "metadata": {
        "id": "oYbsBnaytW6j"
      }
    },
    {
      "cell_type": "code",
      "source": [
        "import json\n",
        "with open('codex_entities.json') as f:\n",
        "  codex_entities = json.load(f)\n",
        "with open('codex_relations.json') as f:\n",
        "  codex_relations = json.load(f)\n",
        "\n",
        "# Create a mapping from the knowledge base identifiers to the entity/relation names\n",
        "entityid_to_name = { entityid:codex_entities[entityid]['label'] for entityid in codex_entities }\n",
        "relid_to_name = { relid:codex_relations[relid]['label'] for relid in codex_relations }\n",
        "\n",
        "# Going through the KB identifiers, create a mapping directly from the indices to the names\n",
        "entityindex_to_name = { entityindex:entityid_to_name[entityid] for entityid,entityindex in dataset.entity_to_id.items() }\n",
        "relindex_to_name = {relindex:relid_to_name[relid] for relid,relindex in dataset.relation_to_id.items() }\n"
      ],
      "metadata": {
        "id": "iv-UCBc6W0l_"
      },
      "execution_count": null,
      "outputs": []
    },
    {
      "cell_type": "markdown",
      "source": [
        "It'll be useful to have a backwards mapping from name to index too."
      ],
      "metadata": {
        "id": "vDZbW_QPERqq"
      }
    },
    {
      "cell_type": "code",
      "source": [
        "entityname_to_index = { name:index for index,name in entityindex_to_name.items() }\n",
        "relname_to_index = { name:index for index,name in relindex_to_name.items() }"
      ],
      "metadata": {
        "id": "BVKEvupbERwh"
      },
      "execution_count": null,
      "outputs": []
    },
    {
      "cell_type": "markdown",
      "source": [
        "We need to know the unique entity and relation indices and their count."
      ],
      "metadata": {
        "id": "YUbacPJ7vCQj"
      }
    },
    {
      "cell_type": "code",
      "source": [
        "entityindices = sorted(entityindex_to_name.keys())\n",
        "relindices = sorted(relindex_to_name.keys())\n",
        "\n",
        "print(f\"Number of entities = {len(entityindices)}\")\n",
        "print(f\"Number of relations = {len(relindices)}\")"
      ],
      "metadata": {
        "id": "AHTrgbR97Uez"
      },
      "execution_count": null,
      "outputs": []
    },
    {
      "cell_type": "markdown",
      "source": [
        "We can show a small sample of the mappings for entities"
      ],
      "metadata": {
        "id": "V72tWO0SvDLk"
      }
    },
    {
      "cell_type": "code",
      "source": [
        "for entityindex in range(10):\n",
        "  print(f\"{entityindex}\\t{entityindex_to_name[entityindex]}\")"
      ],
      "metadata": {
        "id": "M9Tz_Olz18RA"
      },
      "execution_count": null,
      "outputs": []
    },
    {
      "cell_type": "markdown",
      "source": [
        "And here are the relation indices with names."
      ],
      "metadata": {
        "id": "eyIwYeDGtrV7"
      }
    },
    {
      "cell_type": "code",
      "source": [
        "for relindex,name in relindex_to_name.items():\n",
        "  print(f\"{relindex}\\t{name}\")"
      ],
      "metadata": {
        "id": "NR_mKGs_1sCS"
      },
      "execution_count": null,
      "outputs": []
    },
    {
      "cell_type": "markdown",
      "source": [
        "And now we can use the mappings to look at what is in the knowledge graph. Below are a few triples with the indices mapped to names of entities and relations."
      ],
      "metadata": {
        "id": "STy81H3fvwET"
      }
    },
    {
      "cell_type": "code",
      "source": [
        "for head,rel,tail in train_triples[:10]:\n",
        "  head_name = entityindex_to_name[head]\n",
        "  rel_name = relindex_to_name[rel]\n",
        "  tail_name = entityindex_to_name[tail]\n",
        "\n",
        "  print(f\"{head_name}\\t{rel_name}\\t{tail_name}\")"
      ],
      "metadata": {
        "id": "VU8XsROL0u4J"
      },
      "execution_count": null,
      "outputs": []
    },
    {
      "cell_type": "markdown",
      "source": [
        "## Indexing the knowledge graph\n",
        "\n",
        "Before we can get stuck into checking/finding rules, we want to index the knowledge base. This makes it faster to get the list of relations for an entity.\n",
        "\n",
        "These knowledge graphs treat all relations as directional. For example (e1, 'named_after', e2) is different from (e2, 'named_after', e1). So, when we store the neighbours of an entity, we want to know if the relation is outgoing from the entity or incoming to the entity. We'll store each relation as a tuple with the relation index plus a boolean of whether it is outgoing or incoming. We'll use a [defaultdict](https://docs.python.org/3/library/collections.html#collections.defaultdict) to store relations indexed by the entity they originate from.\n",
        "\n"
      ],
      "metadata": {
        "id": "sMEAFJ7jD2RR"
      }
    },
    {
      "cell_type": "code",
      "source": [
        "from collections import defaultdict\n",
        "\n",
        "neighbours = defaultdict(list)\n",
        "\n",
        "for head,rel,tail in train_triples:\n",
        "  outgoing_rel = (rel,True)\n",
        "  incoming_rel = (rel,False)\n",
        "\n",
        "  neighbours[head].append( (outgoing_rel,tail) )\n",
        "  neighbours[tail].append( (incoming_rel,head) )"
      ],
      "metadata": {
        "id": "TnPRkv6mGATe"
      },
      "execution_count": null,
      "outputs": []
    },
    {
      "cell_type": "markdown",
      "source": [
        "Now we can quickly look up outgoing and incoming relations from an entity. Let's do that for an entity. Index 8 is Fred Astaire."
      ],
      "metadata": {
        "id": "0GFIXswsza3t"
      }
    },
    {
      "cell_type": "code",
      "source": [
        "entityindex = 8\n",
        "print(\"Showing relations for entity:\", entityindex_to_name[entityindex])\n",
        "\n",
        "neighbours_for_this_entity = sorted(neighbours[entityindex])\n",
        "for (relindex,is_outgoing), neighbour_entityindex in neighbours_for_this_entity:\n",
        "  # Add a ~ if it is an incoming relation\n",
        "  relname = relindex_to_name[relindex] if is_outgoing else '~'+relindex_to_name[relindex]\n",
        "  print(\" -\", relname, \"-\", entityindex_to_name[neighbour_entityindex])"
      ],
      "metadata": {
        "id": "6tgHDUe96Ljb"
      },
      "execution_count": null,
      "outputs": []
    },
    {
      "cell_type": "markdown",
      "source": [
        "Most of the relations are outgoing from Fred Astaire, e.g. he is an actor. But one is incoming (marked by the tilde mark here), that Michael Jackson was influenced by him."
      ],
      "metadata": {
        "id": "Wt-uJ7g2duu7"
      }
    },
    {
      "cell_type": "markdown",
      "source": [
        "## Testing a rule\n",
        "\n",
        "Let's test the rule from the beginning:\n",
        "\n",
        "$ speaks(P,L) \\leftarrow placeOfBirth(P,C) \\text{ & }  officialLanguage(C,L) $\n",
        "\n",
        "We'll create some variables to represent the body and head of our rule. We've matched them to the relation names used in the Codex knowledge base (which were output earlier)."
      ],
      "metadata": {
        "id": "n6cyis5H91PQ"
      }
    },
    {
      "cell_type": "code",
      "source": [
        "candidate_body = ('place of birth', 'official language')\n",
        "candidate_head = 'languages spoken, written, or signed'"
      ],
      "metadata": {
        "id": "gOeq7HgfDE25"
      },
      "execution_count": null,
      "outputs": []
    },
    {
      "cell_type": "markdown",
      "source": [
        "Then we need to transform the text names to the indices for the relations."
      ],
      "metadata": {
        "id": "709eGWA-EpvC"
      }
    },
    {
      "cell_type": "code",
      "source": [
        "candidate_body_rels = ( (relname_to_index[candidate_body[0]],True), (relname_to_index[candidate_body[1]],True) )\n",
        "candidate_head_rel = (relname_to_index[candidate_head],True)\n",
        "\n",
        "print(\"candidate_body_rels =\",candidate_body_rels)\n",
        "print(\"candidate_head_index =\",candidate_head_rel)"
      ],
      "metadata": {
        "id": "KFD8LWcYEDji"
      },
      "execution_count": null,
      "outputs": []
    },
    {
      "cell_type": "markdown",
      "source": [
        "Now we're going to iterate through every two-hop found in the knowledge graph. This is not very efficient and would be a bad idea for large knowledge graphs. For every two-hop, we'll check if it matches the body (\"place of birth\", \"official language\"). And if it does, we'll see if the head relation (\"languages spoken, written, or signed\") exists between the two entities at the end of the two-hop relation."
      ],
      "metadata": {
        "id": "9EH2LcvzYZzU"
      }
    },
    {
      "cell_type": "code",
      "source": [
        "head_count, body_count = 0,0\n",
        "\n",
        "# Go through all the entities\n",
        "for e1 in entityindices:\n",
        "  e1_neighbours = neighbours[e1]\n",
        "\n",
        "  # Iterate through each neighbor of e1\n",
        "  for rel1,e2 in e1_neighbours:\n",
        "    # Iterate through each neighbor of e2\n",
        "    for rel2,e3 in neighbours[e2]:\n",
        "      # Skip any hops that contain cycles\n",
        "      if e1 == e2 or e1 == e3:\n",
        "        continue\n",
        "\n",
        "      # Check if this two hop matches our candidate body\n",
        "      if (rel1,rel2) == candidate_body_rels:\n",
        "        e1_name = entityindex_to_name[e1]\n",
        "        e2_name = entityindex_to_name[e2]\n",
        "        e3_name = entityindex_to_name[e3]\n",
        "\n",
        "        # Check if the candidate head exists between e1 and e3\n",
        "        head_found = ((candidate_head_rel,e3) in e1_neighbours)\n",
        "\n",
        "        body_count += 1\n",
        "        if head_found:\n",
        "          head_count += 1\n",
        "\n",
        "        print(f\"{head_found}\\t{e1_name}\\t{e2_name}\\t{e3_name}\")"
      ],
      "metadata": {
        "id": "-17PTgSvJ40M"
      },
      "execution_count": null,
      "outputs": []
    },
    {
      "cell_type": "markdown",
      "source": [
        "Now we can see all the people, their place of birth and the language of their place of birth. The first column shows whether there is a \"languages spoken, written, or signed\" relation between the person and the language.\n",
        "\n",
        "Most of them show that the proposed rule (below) holds.\n",
        "\n",
        "$ speaks(P,L) \\leftarrow placeOfBirth(P,C) \\text{ & }  officialLanguage(C,L) $\n",
        "\n",
        "Some of the falses look like mistakes. Kanye West does speak English so that's a missing relation. So, it looks like this rule may be useful. We can estimate it using the number of Trues/Falses from above. We stored them and can calculate below:"
      ],
      "metadata": {
        "id": "x6Kv0Kb1ZlL-"
      }
    },
    {
      "cell_type": "code",
      "source": [
        "rule_confidence = head_count / body_count\n",
        "rule_confidence"
      ],
      "metadata": {
        "id": "8CO-8J7rHxTF"
      },
      "execution_count": null,
      "outputs": []
    },
    {
      "cell_type": "markdown",
      "source": [
        "Pretty good. And many of the negatives are likely missing edges. In the next section, we'll try to find more two-hop rules."
      ],
      "metadata": {
        "id": "NGorvE2TdXDG"
      }
    },
    {
      "cell_type": "markdown",
      "source": [
        "## Make some rules\n",
        "\n",
        "We want to generate some candidate rules where the body is a two-hop relation.\n",
        "\n",
        "Let's find every two-hop relation in the knowledge graph (from e1, to e2 and on to e3). And let's count them. These two-hop relations would be considered the body of rules.\n",
        "\n",
        "And as we do that, we'll also count how many single-hops go from the same start entity (e1) directly to the final entity (e3). This single relation would be considered the heads of rules.\n",
        "\n",
        "We want to find rules with a body (two-hop relation) that predicts a head (single relation)."
      ],
      "metadata": {
        "id": "gfzE8Apjb3eY"
      }
    },
    {
      "cell_type": "code",
      "source": [
        "from tqdm.auto import tqdm\n",
        "from collections import Counter\n",
        "\n",
        "twohops_body_counts = Counter()\n",
        "twohops_head_counts = defaultdict(Counter)\n",
        "\n",
        "# Go through all the entities\n",
        "for e1 in tqdm(entityindices):\n",
        "  e1_neighbours = neighbours[e1]\n",
        "\n",
        "  # Iterate through each neighbor of e1\n",
        "  for rel1,e2 in e1_neighbours:\n",
        "    # Iterate through each neighbor of e2\n",
        "    for rel2,e3 in neighbours[e2]:\n",
        "      # Skip any hops that contain cycles\n",
        "      if e1 == e2 or e1 == e3:\n",
        "        continue\n",
        "\n",
        "      # Count the two-hop relations that got us from e1 to e3.\n",
        "      twohops_body_counts[(rel1,rel2)] += 1\n",
        "\n",
        "      # Count the single relations that got us from e1 to e3.\n",
        "      e1_e3_rels = [ rel for rel,e in e1_neighbours if e == e3 ]\n",
        "      twohops_head_counts[(rel1,rel2)] += Counter(set(e1_e3_rels))"
      ],
      "metadata": {
        "id": "uHm7RZaI6dBL"
      },
      "execution_count": null,
      "outputs": []
    },
    {
      "cell_type": "markdown",
      "source": [
        "Now we can go through the head and body counts and calculate for each body, how many times a head occurs. And then we can divide one by the other to get a proportion of times the rule holds with our current data.\n",
        "\n",
        "We'll use an idea from the AnyBURL paper and do some \"pseudo laplacian smoothing\" by adding a factor to the denominator. This is nice because it effectively downweights rules with very small numbers of head/body counts, and barely affects strongly supported rules."
      ],
      "metadata": {
        "id": "nSvFaoRR2HzN"
      }
    },
    {
      "cell_type": "code",
      "source": [
        "# We'll add this to the denominator\n",
        "pseudo_laplacian_smoothing_factor = 2\n",
        "\n",
        "results = []\n",
        "for body,body_count in twohops_body_counts.items():\n",
        "  rel1,rel2 = body\n",
        "\n",
        "  candidate_head_counts = twohops_head_counts[body]\n",
        "\n",
        "  for head_rel,head_count in candidate_head_counts.items():\n",
        "    rule_confidence = head_count/(body_count+pseudo_laplacian_smoothing_factor)\n",
        "\n",
        "    results.append( (rule_confidence,body,head_rel,body_count,head_count) )"
      ],
      "metadata": {
        "id": "zaTEdOdX6mK3"
      },
      "execution_count": null,
      "outputs": []
    },
    {
      "cell_type": "markdown",
      "source": [
        "Now let's print out some of our candidate rules with their confidence scores. There are many about children and siblings, for example that person X's child's sibling is also person X's child."
      ],
      "metadata": {
        "id": "CSs4hVTU3ZQO"
      }
    },
    {
      "cell_type": "code",
      "source": [
        "results = sorted(results,reverse=True)\n",
        "for result in results[:200]:\n",
        "  rule_confidence,body,head_rel,body_count,head_count = result\n",
        "\n",
        "  candidate_head = relindex_to_name[head_rel[0]] if head_rel[1] else '~'+relindex_to_name[head_rel[0]]\n",
        "\n",
        "  rel1,rel2 = body\n",
        "  rel1_name = relindex_to_name[rel1[0]] if rel1[1] else '~'+relindex_to_name[rel1[0]]\n",
        "  rel2_name = relindex_to_name[rel2[0]] if rel2[1] else '~'+relindex_to_name[rel2[0]]\n",
        "\n",
        "  candidate_body = (rel1_name, rel2_name)\n",
        "\n",
        "  print(f\"{rule_confidence:.3f}\\t{candidate_head} <- {candidate_body}\")"
      ],
      "metadata": {
        "id": "0cgYCUxY3ZaH"
      },
      "execution_count": null,
      "outputs": []
    },
    {
      "cell_type": "markdown",
      "source": [
        "You could then use these candidate rules to make predictions on missing edges in the graph."
      ],
      "metadata": {
        "id": "5IySmZU9gzb0"
      }
    }
  ]
}