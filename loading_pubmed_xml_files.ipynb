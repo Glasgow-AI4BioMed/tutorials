{
  "nbformat": 4,
  "nbformat_minor": 0,
  "metadata": {
    "colab": {
      "provenance": []
    },
    "kernelspec": {
      "name": "python3",
      "display_name": "Python 3"
    },
    "language_info": {
      "name": "python"
    }
  },
  "cells": [
    {
      "cell_type": "markdown",
      "source": [
        "[![Colab Badge Link](https://img.shields.io/badge/open-in%20colab-blue)](https://colab.research.google.com/github/Glasgow-AI4BioMed/tutorials/blob/main/loading_pubmed_xml_files.ipynb)\n",
        "\n",
        "# Loading PubMed XML files\n",
        "\n",
        "This Colab shows some example code of loading a PubMed XML file. These are the large files available through the [bulk download of PubMed](https://pubmed.ncbi.nlm.nih.gov/download/). These files contain title, abstracts and metadata of articles indexed in [PubMed](https://pubmed.ncbi.nlm.nih.gov/).\n",
        "\n",
        "We could get one of the files from the [baseline folder](https://ftp.ncbi.nlm.nih.gov/pubmed/baseline/). But instead, we'll download a sample file (that hopefully will stick around for a while):"
      ],
      "metadata": {
        "id": "9-P1sR7peBDR"
      }
    },
    {
      "cell_type": "code",
      "execution_count": 1,
      "metadata": {
        "colab": {
          "base_uri": "https://localhost:8080/"
        },
        "id": "i2yG84Cid3Mp",
        "outputId": "b580f2ac-94d2-42a8-e142-68a5c5908602"
      },
      "outputs": [
        {
          "output_type": "stream",
          "name": "stdout",
          "text": [
            "--2025-07-12 20:05:24--  https://ftp.ncbi.nlm.nih.gov/pubmed/baseline-2024-sample/sample-0001.xml.gz\n",
            "Resolving ftp.ncbi.nlm.nih.gov (ftp.ncbi.nlm.nih.gov)... 130.14.250.7, 130.14.250.10, 130.14.250.12, ...\n",
            "Connecting to ftp.ncbi.nlm.nih.gov (ftp.ncbi.nlm.nih.gov)|130.14.250.7|:443... connected.\n",
            "HTTP request sent, awaiting response... 200 OK\n",
            "Length: 109209008 (104M) [application/x-gzip]\n",
            "Saving to: ‘sample-0001.xml.gz’\n",
            "\n",
            "sample-0001.xml.gz  100%[===================>] 104.15M  74.3MB/s    in 1.4s    \n",
            "\n",
            "2025-07-12 20:05:26 (74.3 MB/s) - ‘sample-0001.xml.gz’ saved [109209008/109209008]\n",
            "\n"
          ]
        }
      ],
      "source": [
        "!wget https://ftp.ncbi.nlm.nih.gov/pubmed/baseline-2024-sample/sample-0001.xml.gz"
      ]
    },
    {
      "cell_type": "markdown",
      "source": [
        "Let's look inside this file. Not that it is gzipped, so we use the `zcat` program to look at the first few lines:"
      ],
      "metadata": {
        "id": "6mVpN279lXtE"
      }
    },
    {
      "cell_type": "code",
      "source": [
        "!zcat sample-0001.xml.gz | head -n 50"
      ],
      "metadata": {
        "colab": {
          "base_uri": "https://localhost:8080/"
        },
        "id": "j8xDx3E-eu2Y",
        "outputId": "f2715d93-d7a5-4022-b663-4493b929cba4"
      },
      "execution_count": 2,
      "outputs": [
        {
          "output_type": "stream",
          "name": "stdout",
          "text": [
            "<?xml version=\"1.0\" encoding=\"utf-8\"?>\n",
            "<!DOCTYPE PubmedArticleSet PUBLIC \"-//NLM//DTD PubMedArticle, 1st January 2024//EN\" \"https://dtd.nlm.nih.gov/ncbi/pubmed/out/pubmed_240101.dtd\">\n",
            "<PubmedArticleSet>\n",
            "\n",
            "<PubmedArticle>\n",
            "<MedlineCitation Status=\"MEDLINE\" Owner=\"NLM\">\n",
            "    <PMID Version=\"1\">7349888</PMID>\n",
            "    <DateCompleted>\n",
            "        <Year>1980</Year>\n",
            "        <Month>02</Month>\n",
            "        <Day>26</Day>\n",
            "    </DateCompleted>\n",
            "    <DateRevised>\n",
            "        <Year>2011</Year>\n",
            "        <Month>04</Month>\n",
            "        <Day>28</Day>\n",
            "    </DateRevised>\n",
            "    <Article PubModel=\"Print\">\n",
            "        <Journal>\n",
            "            <ISSN IssnType=\"Print\">0008-5472</ISSN>\n",
            "            <JournalIssue CitedMedium=\"Print\">\n",
            "                <Volume>40</Volume>\n",
            "                <Issue>1</Issue>\n",
            "                <PubDate>\n",
            "                    <Year>1980</Year>\n",
            "                    <Month>Jan</Month>\n",
            "                </PubDate>\n",
            "            </JournalIssue>\n",
            "            <Title>Cancer research</Title>\n",
            "            <ISOAbbreviation>Cancer Res</ISOAbbreviation>\n",
            "        </Journal>\n",
            "        <ArticleTitle>An evaluation of chemicals and industrial processes associated with cancer in humans based on human and animal data: IARC Monographs Volumes 1 to 20.</ArticleTitle>\n",
            "        <Pagination>\n",
            "            <MedlinePgn>1-12</MedlinePgn>\n",
            "        </Pagination>\n",
            "        <Abstract>\n",
            "            <AbstractText>An international ad hoc Working Group of experts in cancer research met at the International Agency for Research on Cancer (IARC) in January 1979 to evaluate the data on human and experimental animal carcinogenicity for 54 chemicals, groups of chemicals, and industrial processes. Monographs for these chemicals were published in Vols. 1 to 20 of the IARC Monographs on the Evaluation of the Carcinogenic Risk of Chemicals to Humans. Based on evidence from human studies, 18 of the 54 chemicals or industrial processes are human carcinogens. A further 18 chemicals are probably carcinogenic for humans, although the data were considered not adequate to establish a causal association. To reflect differing degrees of evidence of carcinogenicity within this group, the chemicals were further subdivided, with 6 chemicals exhibiting a high degree of evidence and 12 chemicals exhibiting a lower degree. Data on the remaining 18 chemicals were considered insufficient to allow any evaluation of carcinogenicity. The report summarizes the background, purpose, and overall conclusions of the Working Group. The evidence supporting the evaluations is given in the \"Appendix.\"</AbstractText>\n",
            "        </Abstract>\n",
            "        <AuthorList CompleteYN=\"Y\">\n",
            "            <Author ValidYN=\"Y\">\n",
            "                <CollectiveName Investigators=\"group-1-7349888.1\">Report of an IARC Working Group</CollectiveName>\n",
            "            </Author>\n",
            "            <Author ValidYN=\"Y\">\n",
            "                <LastName>Althouse</LastName>\n",
            "                <ForeName>R</ForeName>\n",
            "                <Initials>R</Initials>\n",
            "            </Author>\n",
            "            <Author ValidYN=\"Y\">\n",
            "                <LastName>Huff</LastName>\n",
            "                <ForeName>J</ForeName>\n"
          ]
        }
      ]
    },
    {
      "cell_type": "markdown",
      "source": [
        "You can see that the article is surrounded by a `<PubmedArticle>` tag with lots of metadata. We'll want to get every `<PubMedArticle>` block and extract the fields we want."
      ],
      "metadata": {
        "id": "w3MRLCzP23-q"
      }
    },
    {
      "cell_type": "code",
      "source": [
        "filename = 'sample-0001.xml.gz'"
      ],
      "metadata": {
        "id": "_YE4sx3deqWj"
      },
      "execution_count": 3,
      "outputs": []
    },
    {
      "cell_type": "markdown",
      "source": [
        "## Basic loading code\n",
        "\n",
        "Let's look at some basic code to load this file with `gzip` and `cElementTree` for XML files. Loading with the `gzip` library means we don't need to decompress the file to process it."
      ],
      "metadata": {
        "id": "doNyKTUFyjc0"
      }
    },
    {
      "cell_type": "code",
      "source": [
        "import xml.etree.cElementTree as etree\n",
        "import gzip"
      ],
      "metadata": {
        "id": "onbpuHEkel8I"
      },
      "execution_count": 4,
      "outputs": []
    },
    {
      "cell_type": "markdown",
      "source": [
        "This code opens the gzipped file and then works through it, one abstract at a time. The files are large so it is generally not a good idea to load all the abstracts into memory in one go.\n",
        "\n",
        "This code extracts on the PubMed identifier (pmid) and the title."
      ],
      "metadata": {
        "id": "Fw39-L6VytH3"
      }
    },
    {
      "cell_type": "code",
      "source": [
        "with gzip.open(filename,'rt',encoding='utf8') as f:\n",
        "  for event, elem in etree.iterparse(f, events=(\"start\", \"end\", \"start-ns\", \"end-ns\")):\n",
        "\n",
        "    # Iterate through the XML file until a <PubmedArticle> tag is closed (which we then process below)\n",
        "    if event == \"end\" and elem.tag == \"PubmedArticle\":\n",
        "\n",
        "      pmid = int(elem.find(\"./MedlineCitation/PMID\").text)\n",
        "      title = elem.find(\"./MedlineCitation/Article/ArticleTitle\").text\n",
        "      print(pmid, title)\n",
        "\n",
        "      elem.clear() # Important for clearing memory as the file is iteratively loaded\n",
        "      break # This break is just for the demonstration so that only the first abstract is loaded"
      ],
      "metadata": {
        "colab": {
          "base_uri": "https://localhost:8080/"
        },
        "id": "_6veV_hulh-5",
        "outputId": "98cd76ae-8ffb-4559-b756-cc2b08c12bcf"
      },
      "execution_count": 5,
      "outputs": [
        {
          "output_type": "stream",
          "name": "stdout",
          "text": [
            "7349888 An evaluation of chemicals and industrial processes associated with cancer in humans based on human and animal data: IARC Monographs Volumes 1 to 20.\n"
          ]
        }
      ]
    },
    {
      "cell_type": "markdown",
      "source": [
        "## More elaborate loading\n",
        "\n",
        "Below is code that extracts a lot of the fields and saving them to a dictionary. We get the title, abstract text and lots of metadata."
      ],
      "metadata": {
        "id": "ilF9u1KqzPmu"
      }
    },
    {
      "cell_type": "code",
      "source": [
        "with gzip.open(filename,'rt',encoding='utf8') as f:\n",
        "  for event, elem in etree.iterparse(f, events=(\"start\", \"end\", \"start-ns\", \"end-ns\")):\n",
        "\n",
        "    # Iterate through the XML file until a <PubmedArticle> tag is closed (which we then process below)\n",
        "    if event == \"end\" and elem.tag == \"PubmedArticle\":\n",
        "\n",
        "      pmid = int(elem.find(\"./MedlineCitation/PMID\").text)\n",
        "      title = elem.find(\"./MedlineCitation/Article/ArticleTitle\").text\n",
        "\n",
        "      abstract_elems = elem.findall(\"./MedlineCitation/Article/Abstract/AbstractText\")\n",
        "      abstract = \"\\n\".join( \"\".join(e.itertext()) for e in abstract_elems )\n",
        "\n",
        "      publication_types = [ e.text for e in elem.findall(\"./MedlineCitation/Article/PublicationTypeList/PublicationType\") ]\n",
        "\n",
        "      identifier_elems = elem.findall(\"./PubmedData/ArticleIdList/ArticleId\")\n",
        "      identifiers = { e.attrib['IdType']:e.text for e in identifier_elems }\n",
        "\n",
        "      journal_title_elem = elem.find(\"./MedlineCitation/Article/Journal/Title\")\n",
        "      journal_title_iso_elem = elem.find(\"./MedlineCitation/Article/Journal/ISOAbbreviation\")\n",
        "      journal_title = journal_title_elem.text if journal_title_elem is not None else None\n",
        "      journal_title_iso = journal_title_iso_elem.text if journal_title_iso_elem is not None else None\n",
        "\n",
        "      pub_year_elem = elem.find(\"./MedlineCitation/Article/Journal/JournalIssue/PubDate/Year\")\n",
        "      pub_month_elem = elem.find(\"./MedlineCitation/Article/Journal/JournalIssue/PubDate/Month\")\n",
        "      pub_day_elem = elem.find(\"./MedlineCitation/Article/Journal/JournalIssue/PubDate/Day\")\n",
        "      pub_year = pub_year_elem.text if pub_year_elem is not None else None\n",
        "      pub_month = pub_month_elem.text if pub_month_elem is not None else None\n",
        "      pub_day = pub_day_elem.text if pub_day_elem is not None else None\n",
        "\n",
        "      mesh_headings = []\n",
        "      mesh_elems = elem.findall(\"./MedlineCitation/MeshHeadingList/MeshHeading\")\n",
        "      for mesh_elem in mesh_elems:\n",
        "        descriptor_elem = mesh_elem.find(\"./DescriptorName\")\n",
        "        mesh_id = descriptor_elem.attrib[\"UI\"]\n",
        "        name = descriptor_elem.text\n",
        "        major_topic_yn = descriptor_elem.attrib[\"MajorTopicYN\"]\n",
        "\n",
        "        mesh_heading = {'id':mesh_id, 'name':name, 'major_topic':major_topic_yn }\n",
        "        qualifiers = []\n",
        "        qualifier_elems = mesh_elem.findall(\"./QualifierName\")\n",
        "        for qualifier_elem in qualifier_elems:\n",
        "          mesh_id = qualifier_elem.attrib[\"UI\"]\n",
        "          name = qualifier_elem.text\n",
        "          major_topic_yn = qualifier_elem.attrib[\"MajorTopicYN\"]\n",
        "          qualifiers.append( { 'id':mesh_id, 'name':name, 'major_topic':major_topic_yn  } )\n",
        "        mesh_heading['qualifiers'] = qualifiers\n",
        "\n",
        "        mesh_headings.append(mesh_heading)\n",
        "\n",
        "      supplementary_mesh = []\n",
        "      supplementary_mesh_elems = elem.findall(\"./MedlineCitation/SupplMeshList/SupplMeshName\")\n",
        "      for supp_elem in supplementary_mesh_elems:\n",
        "        supp_id = supp_elem.attrib[\"UI\"]\n",
        "        supp_type = supp_elem.attrib[\"Type\"]\n",
        "        supp_name = supp_elem.text\n",
        "        supplementary_mesh.append( {'id':supp_id, 'type':supp_type, 'name':supp_name })\n",
        "\n",
        "      article = {\n",
        "          'pmid':pmid,\n",
        "          'title':title,\n",
        "          'abstract':abstract,\n",
        "          'journal_title':journal_title,\n",
        "          'journal_title_iso':journal_title_iso,\n",
        "          'publication_date': [pub_year, pub_month, pub_day],\n",
        "          'publication_types':publication_types,\n",
        "          'identifiers':identifiers,\n",
        "          'mesh_headings':mesh_headings,\n",
        "          'supplementary_mesh':supplementary_mesh\n",
        "        }\n",
        "\n",
        "      elem.clear() # Important for clearing memory as the file is iteratively loaded\n",
        "      break # This break is just for the demonstration so that only the first abstract is loaded"
      ],
      "metadata": {
        "id": "ZE5pzeqveOCB"
      },
      "execution_count": 6,
      "outputs": []
    },
    {
      "cell_type": "markdown",
      "source": [
        "And let's see what is extracted for this first article"
      ],
      "metadata": {
        "id": "ySPFEyXdzgSR"
      }
    },
    {
      "cell_type": "code",
      "source": [
        "article"
      ],
      "metadata": {
        "colab": {
          "base_uri": "https://localhost:8080/"
        },
        "id": "TSEh1UMMe9IC",
        "outputId": "5183dec5-66fe-4447-9c74-6bc3ce2d6e11"
      },
      "execution_count": 7,
      "outputs": [
        {
          "output_type": "execute_result",
          "data": {
            "text/plain": [
              "{'pmid': 7349888,\n",
              " 'title': 'An evaluation of chemicals and industrial processes associated with cancer in humans based on human and animal data: IARC Monographs Volumes 1 to 20.',\n",
              " 'abstract': 'An international ad hoc Working Group of experts in cancer research met at the International Agency for Research on Cancer (IARC) in January 1979 to evaluate the data on human and experimental animal carcinogenicity for 54 chemicals, groups of chemicals, and industrial processes. Monographs for these chemicals were published in Vols. 1 to 20 of the IARC Monographs on the Evaluation of the Carcinogenic Risk of Chemicals to Humans. Based on evidence from human studies, 18 of the 54 chemicals or industrial processes are human carcinogens. A further 18 chemicals are probably carcinogenic for humans, although the data were considered not adequate to establish a causal association. To reflect differing degrees of evidence of carcinogenicity within this group, the chemicals were further subdivided, with 6 chemicals exhibiting a high degree of evidence and 12 chemicals exhibiting a lower degree. Data on the remaining 18 chemicals were considered insufficient to allow any evaluation of carcinogenicity. The report summarizes the background, purpose, and overall conclusions of the Working Group. The evidence supporting the evaluations is given in the \"Appendix.\"',\n",
              " 'journal_title': 'Cancer research',\n",
              " 'journal_title_iso': 'Cancer Res',\n",
              " 'publication_date': ['1980', 'Jan', None],\n",
              " 'publication_types': ['Journal Article',\n",
              "  'Research Support, N.I.H., Extramural'],\n",
              " 'identifiers': {'pubmed': '7349888'},\n",
              " 'mesh_headings': [{'id': 'D000328',\n",
              "   'name': 'Adult',\n",
              "   'major_topic': 'N',\n",
              "   'qualifiers': []},\n",
              "  {'id': 'D000818', 'name': 'Animals', 'major_topic': 'N', 'qualifiers': []},\n",
              "  {'id': 'D002274',\n",
              "   'name': 'Carcinogens, Environmental',\n",
              "   'major_topic': 'N',\n",
              "   'qualifiers': [{'id': 'Q000506', 'name': 'poisoning', 'major_topic': 'Y'}]},\n",
              "  {'id': 'D002648', 'name': 'Child', 'major_topic': 'N', 'qualifiers': []},\n",
              "  {'id': 'D006224',\n",
              "   'name': 'Cricetinae',\n",
              "   'major_topic': 'N',\n",
              "   'qualifiers': []},\n",
              "  {'id': 'D004285', 'name': 'Dogs', 'major_topic': 'N', 'qualifiers': []},\n",
              "  {'id': 'D004812',\n",
              "   'name': 'Epidemiologic Methods',\n",
              "   'major_topic': 'N',\n",
              "   'qualifiers': []},\n",
              "  {'id': 'D005260', 'name': 'Female', 'major_topic': 'N', 'qualifiers': []},\n",
              "  {'id': 'D006801', 'name': 'Humans', 'major_topic': 'N', 'qualifiers': []},\n",
              "  {'id': 'D007221', 'name': 'Industry', 'major_topic': 'Y', 'qualifiers': []},\n",
              "  {'id': 'D007390',\n",
              "   'name': 'International Agencies',\n",
              "   'major_topic': 'N',\n",
              "   'qualifiers': []},\n",
              "  {'id': 'D008297', 'name': 'Male', 'major_topic': 'N', 'qualifiers': []},\n",
              "  {'id': 'D051379', 'name': 'Mice', 'major_topic': 'N', 'qualifiers': []},\n",
              "  {'id': 'D008875',\n",
              "   'name': 'Middle Aged',\n",
              "   'major_topic': 'N',\n",
              "   'qualifiers': []},\n",
              "  {'id': 'D009369',\n",
              "   'name': 'Neoplasms',\n",
              "   'major_topic': 'N',\n",
              "   'qualifiers': [{'id': 'Q000139',\n",
              "     'name': 'chemically induced',\n",
              "     'major_topic': 'Y'}]},\n",
              "  {'id': 'D009374',\n",
              "   'name': 'Neoplasms, Experimental',\n",
              "   'major_topic': 'N',\n",
              "   'qualifiers': [{'id': 'Q000139',\n",
              "     'name': 'chemically induced',\n",
              "     'major_topic': 'N'}]},\n",
              "  {'id': 'D011247', 'name': 'Pregnancy', 'major_topic': 'N', 'qualifiers': []},\n",
              "  {'id': 'D011817', 'name': 'Rabbits', 'major_topic': 'N', 'qualifiers': []},\n",
              "  {'id': 'D051381', 'name': 'Rats', 'major_topic': 'N', 'qualifiers': []},\n",
              "  {'id': 'D012107',\n",
              "   'name': 'Research Design',\n",
              "   'major_topic': 'N',\n",
              "   'qualifiers': []},\n",
              "  {'id': 'D012306', 'name': 'Risk', 'major_topic': 'N', 'qualifiers': []}],\n",
              " 'supplementary_mesh': []}"
            ]
          },
          "metadata": {},
          "execution_count": 7
        }
      ]
    },
    {
      "cell_type": "markdown",
      "source": [
        "There are more metadata fields that could be extracted. You can find more through the DTD documentation available from the [PubMed download page](https://pubmed.ncbi.nlm.nih.gov/download/). There can also be more nuance with some fields, including the abstract which sometimes has section headings in the XML tags or formatting (which are currently ignored)."
      ],
      "metadata": {
        "id": "i-_N1zvWzsJT"
      }
    }
  ]
}