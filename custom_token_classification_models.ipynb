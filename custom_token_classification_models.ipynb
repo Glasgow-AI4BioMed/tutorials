{
  "nbformat": 4,
  "nbformat_minor": 0,
  "metadata": {
    "colab": {
      "provenance": [],
      "toc_visible": true,
      "gpuType": "T4"
    },
    "kernelspec": {
      "name": "python3",
      "display_name": "Python 3"
    },
    "language_info": {
      "name": "python"
    },
    "widgets": {
      "application/vnd.jupyter.widget-state+json": {
        "a02b5abc2f0b46f99fffb884d3d7c150": {
          "model_module": "@jupyter-widgets/controls",
          "model_name": "HBoxModel",
          "model_module_version": "1.5.0",
          "state": {
            "_dom_classes": [],
            "_model_module": "@jupyter-widgets/controls",
            "_model_module_version": "1.5.0",
            "_model_name": "HBoxModel",
            "_view_count": null,
            "_view_module": "@jupyter-widgets/controls",
            "_view_module_version": "1.5.0",
            "_view_name": "HBoxView",
            "box_style": "",
            "children": [
              "IPY_MODEL_54ec1bf8ca634e238840f02a471090f8",
              "IPY_MODEL_1000b89b0f00491482a9f042f770cf41",
              "IPY_MODEL_73cd51c9c41245f085acb2ada79dacf6"
            ],
            "layout": "IPY_MODEL_3952f21ac8f84623bb8b29728e515e43"
          }
        },
        "54ec1bf8ca634e238840f02a471090f8": {
          "model_module": "@jupyter-widgets/controls",
          "model_name": "HTMLModel",
          "model_module_version": "1.5.0",
          "state": {
            "_dom_classes": [],
            "_model_module": "@jupyter-widgets/controls",
            "_model_module_version": "1.5.0",
            "_model_name": "HTMLModel",
            "_view_count": null,
            "_view_module": "@jupyter-widgets/controls",
            "_view_module_version": "1.5.0",
            "_view_name": "HTMLView",
            "description": "",
            "description_tooltip": null,
            "layout": "IPY_MODEL_a0cf9b29c28847ee808c2911dd66f29f",
            "placeholder": "​",
            "style": "IPY_MODEL_4ccfacfae87f40d098924679579d39c6",
            "value": "tokenizer_config.json: 100%"
          }
        },
        "1000b89b0f00491482a9f042f770cf41": {
          "model_module": "@jupyter-widgets/controls",
          "model_name": "FloatProgressModel",
          "model_module_version": "1.5.0",
          "state": {
            "_dom_classes": [],
            "_model_module": "@jupyter-widgets/controls",
            "_model_module_version": "1.5.0",
            "_model_name": "FloatProgressModel",
            "_view_count": null,
            "_view_module": "@jupyter-widgets/controls",
            "_view_module_version": "1.5.0",
            "_view_name": "ProgressView",
            "bar_style": "success",
            "description": "",
            "description_tooltip": null,
            "layout": "IPY_MODEL_a3616a3d0d3e41cb942665e6a5ff69f5",
            "max": 28,
            "min": 0,
            "orientation": "horizontal",
            "style": "IPY_MODEL_1a5827fa47c74b0793785bfa69f55b19",
            "value": 28
          }
        },
        "73cd51c9c41245f085acb2ada79dacf6": {
          "model_module": "@jupyter-widgets/controls",
          "model_name": "HTMLModel",
          "model_module_version": "1.5.0",
          "state": {
            "_dom_classes": [],
            "_model_module": "@jupyter-widgets/controls",
            "_model_module_version": "1.5.0",
            "_model_name": "HTMLModel",
            "_view_count": null,
            "_view_module": "@jupyter-widgets/controls",
            "_view_module_version": "1.5.0",
            "_view_name": "HTMLView",
            "description": "",
            "description_tooltip": null,
            "layout": "IPY_MODEL_d161a29841a84a9bb7ae0142754dfb04",
            "placeholder": "​",
            "style": "IPY_MODEL_39ec1c2911ff4866812dd1173d3929d3",
            "value": " 28.0/28.0 [00:00&lt;00:00, 1.19kB/s]"
          }
        },
        "3952f21ac8f84623bb8b29728e515e43": {
          "model_module": "@jupyter-widgets/base",
          "model_name": "LayoutModel",
          "model_module_version": "1.2.0",
          "state": {
            "_model_module": "@jupyter-widgets/base",
            "_model_module_version": "1.2.0",
            "_model_name": "LayoutModel",
            "_view_count": null,
            "_view_module": "@jupyter-widgets/base",
            "_view_module_version": "1.2.0",
            "_view_name": "LayoutView",
            "align_content": null,
            "align_items": null,
            "align_self": null,
            "border": null,
            "bottom": null,
            "display": null,
            "flex": null,
            "flex_flow": null,
            "grid_area": null,
            "grid_auto_columns": null,
            "grid_auto_flow": null,
            "grid_auto_rows": null,
            "grid_column": null,
            "grid_gap": null,
            "grid_row": null,
            "grid_template_areas": null,
            "grid_template_columns": null,
            "grid_template_rows": null,
            "height": null,
            "justify_content": null,
            "justify_items": null,
            "left": null,
            "margin": null,
            "max_height": null,
            "max_width": null,
            "min_height": null,
            "min_width": null,
            "object_fit": null,
            "object_position": null,
            "order": null,
            "overflow": null,
            "overflow_x": null,
            "overflow_y": null,
            "padding": null,
            "right": null,
            "top": null,
            "visibility": null,
            "width": null
          }
        },
        "a0cf9b29c28847ee808c2911dd66f29f": {
          "model_module": "@jupyter-widgets/base",
          "model_name": "LayoutModel",
          "model_module_version": "1.2.0",
          "state": {
            "_model_module": "@jupyter-widgets/base",
            "_model_module_version": "1.2.0",
            "_model_name": "LayoutModel",
            "_view_count": null,
            "_view_module": "@jupyter-widgets/base",
            "_view_module_version": "1.2.0",
            "_view_name": "LayoutView",
            "align_content": null,
            "align_items": null,
            "align_self": null,
            "border": null,
            "bottom": null,
            "display": null,
            "flex": null,
            "flex_flow": null,
            "grid_area": null,
            "grid_auto_columns": null,
            "grid_auto_flow": null,
            "grid_auto_rows": null,
            "grid_column": null,
            "grid_gap": null,
            "grid_row": null,
            "grid_template_areas": null,
            "grid_template_columns": null,
            "grid_template_rows": null,
            "height": null,
            "justify_content": null,
            "justify_items": null,
            "left": null,
            "margin": null,
            "max_height": null,
            "max_width": null,
            "min_height": null,
            "min_width": null,
            "object_fit": null,
            "object_position": null,
            "order": null,
            "overflow": null,
            "overflow_x": null,
            "overflow_y": null,
            "padding": null,
            "right": null,
            "top": null,
            "visibility": null,
            "width": null
          }
        },
        "4ccfacfae87f40d098924679579d39c6": {
          "model_module": "@jupyter-widgets/controls",
          "model_name": "DescriptionStyleModel",
          "model_module_version": "1.5.0",
          "state": {
            "_model_module": "@jupyter-widgets/controls",
            "_model_module_version": "1.5.0",
            "_model_name": "DescriptionStyleModel",
            "_view_count": null,
            "_view_module": "@jupyter-widgets/base",
            "_view_module_version": "1.2.0",
            "_view_name": "StyleView",
            "description_width": ""
          }
        },
        "a3616a3d0d3e41cb942665e6a5ff69f5": {
          "model_module": "@jupyter-widgets/base",
          "model_name": "LayoutModel",
          "model_module_version": "1.2.0",
          "state": {
            "_model_module": "@jupyter-widgets/base",
            "_model_module_version": "1.2.0",
            "_model_name": "LayoutModel",
            "_view_count": null,
            "_view_module": "@jupyter-widgets/base",
            "_view_module_version": "1.2.0",
            "_view_name": "LayoutView",
            "align_content": null,
            "align_items": null,
            "align_self": null,
            "border": null,
            "bottom": null,
            "display": null,
            "flex": null,
            "flex_flow": null,
            "grid_area": null,
            "grid_auto_columns": null,
            "grid_auto_flow": null,
            "grid_auto_rows": null,
            "grid_column": null,
            "grid_gap": null,
            "grid_row": null,
            "grid_template_areas": null,
            "grid_template_columns": null,
            "grid_template_rows": null,
            "height": null,
            "justify_content": null,
            "justify_items": null,
            "left": null,
            "margin": null,
            "max_height": null,
            "max_width": null,
            "min_height": null,
            "min_width": null,
            "object_fit": null,
            "object_position": null,
            "order": null,
            "overflow": null,
            "overflow_x": null,
            "overflow_y": null,
            "padding": null,
            "right": null,
            "top": null,
            "visibility": null,
            "width": null
          }
        },
        "1a5827fa47c74b0793785bfa69f55b19": {
          "model_module": "@jupyter-widgets/controls",
          "model_name": "ProgressStyleModel",
          "model_module_version": "1.5.0",
          "state": {
            "_model_module": "@jupyter-widgets/controls",
            "_model_module_version": "1.5.0",
            "_model_name": "ProgressStyleModel",
            "_view_count": null,
            "_view_module": "@jupyter-widgets/base",
            "_view_module_version": "1.2.0",
            "_view_name": "StyleView",
            "bar_color": null,
            "description_width": ""
          }
        },
        "d161a29841a84a9bb7ae0142754dfb04": {
          "model_module": "@jupyter-widgets/base",
          "model_name": "LayoutModel",
          "model_module_version": "1.2.0",
          "state": {
            "_model_module": "@jupyter-widgets/base",
            "_model_module_version": "1.2.0",
            "_model_name": "LayoutModel",
            "_view_count": null,
            "_view_module": "@jupyter-widgets/base",
            "_view_module_version": "1.2.0",
            "_view_name": "LayoutView",
            "align_content": null,
            "align_items": null,
            "align_self": null,
            "border": null,
            "bottom": null,
            "display": null,
            "flex": null,
            "flex_flow": null,
            "grid_area": null,
            "grid_auto_columns": null,
            "grid_auto_flow": null,
            "grid_auto_rows": null,
            "grid_column": null,
            "grid_gap": null,
            "grid_row": null,
            "grid_template_areas": null,
            "grid_template_columns": null,
            "grid_template_rows": null,
            "height": null,
            "justify_content": null,
            "justify_items": null,
            "left": null,
            "margin": null,
            "max_height": null,
            "max_width": null,
            "min_height": null,
            "min_width": null,
            "object_fit": null,
            "object_position": null,
            "order": null,
            "overflow": null,
            "overflow_x": null,
            "overflow_y": null,
            "padding": null,
            "right": null,
            "top": null,
            "visibility": null,
            "width": null
          }
        },
        "39ec1c2911ff4866812dd1173d3929d3": {
          "model_module": "@jupyter-widgets/controls",
          "model_name": "DescriptionStyleModel",
          "model_module_version": "1.5.0",
          "state": {
            "_model_module": "@jupyter-widgets/controls",
            "_model_module_version": "1.5.0",
            "_model_name": "DescriptionStyleModel",
            "_view_count": null,
            "_view_module": "@jupyter-widgets/base",
            "_view_module_version": "1.2.0",
            "_view_name": "StyleView",
            "description_width": ""
          }
        },
        "375fccec20044cc99722653fc80ca82d": {
          "model_module": "@jupyter-widgets/controls",
          "model_name": "HBoxModel",
          "model_module_version": "1.5.0",
          "state": {
            "_dom_classes": [],
            "_model_module": "@jupyter-widgets/controls",
            "_model_module_version": "1.5.0",
            "_model_name": "HBoxModel",
            "_view_count": null,
            "_view_module": "@jupyter-widgets/controls",
            "_view_module_version": "1.5.0",
            "_view_name": "HBoxView",
            "box_style": "",
            "children": [
              "IPY_MODEL_41ebd2c2da704fe09510b79ef97da8bf",
              "IPY_MODEL_c8161c7cb1c943ad9d483ccc9316bec2",
              "IPY_MODEL_ba30263319a04e15b01d5aaffe83e6e2"
            ],
            "layout": "IPY_MODEL_7a444d0105c24baa935019fe6b89e139"
          }
        },
        "41ebd2c2da704fe09510b79ef97da8bf": {
          "model_module": "@jupyter-widgets/controls",
          "model_name": "HTMLModel",
          "model_module_version": "1.5.0",
          "state": {
            "_dom_classes": [],
            "_model_module": "@jupyter-widgets/controls",
            "_model_module_version": "1.5.0",
            "_model_name": "HTMLModel",
            "_view_count": null,
            "_view_module": "@jupyter-widgets/controls",
            "_view_module_version": "1.5.0",
            "_view_name": "HTMLView",
            "description": "",
            "description_tooltip": null,
            "layout": "IPY_MODEL_da55487e34d8435792bc78f486e79500",
            "placeholder": "​",
            "style": "IPY_MODEL_d7a0e29dd58548839e883d1b2d2b7af0",
            "value": "config.json: 100%"
          }
        },
        "c8161c7cb1c943ad9d483ccc9316bec2": {
          "model_module": "@jupyter-widgets/controls",
          "model_name": "FloatProgressModel",
          "model_module_version": "1.5.0",
          "state": {
            "_dom_classes": [],
            "_model_module": "@jupyter-widgets/controls",
            "_model_module_version": "1.5.0",
            "_model_name": "FloatProgressModel",
            "_view_count": null,
            "_view_module": "@jupyter-widgets/controls",
            "_view_module_version": "1.5.0",
            "_view_name": "ProgressView",
            "bar_style": "success",
            "description": "",
            "description_tooltip": null,
            "layout": "IPY_MODEL_b47813584ca44385a17fd5d3b99397b8",
            "max": 385,
            "min": 0,
            "orientation": "horizontal",
            "style": "IPY_MODEL_bbb616a4c3974c4f8ce3e3f27bf659e2",
            "value": 385
          }
        },
        "ba30263319a04e15b01d5aaffe83e6e2": {
          "model_module": "@jupyter-widgets/controls",
          "model_name": "HTMLModel",
          "model_module_version": "1.5.0",
          "state": {
            "_dom_classes": [],
            "_model_module": "@jupyter-widgets/controls",
            "_model_module_version": "1.5.0",
            "_model_name": "HTMLModel",
            "_view_count": null,
            "_view_module": "@jupyter-widgets/controls",
            "_view_module_version": "1.5.0",
            "_view_name": "HTMLView",
            "description": "",
            "description_tooltip": null,
            "layout": "IPY_MODEL_43e28821082a4cd4bbdfcb388c93da80",
            "placeholder": "​",
            "style": "IPY_MODEL_2eaf3a9064dc451eb4065af610d956b4",
            "value": " 385/385 [00:00&lt;00:00, 14.1kB/s]"
          }
        },
        "7a444d0105c24baa935019fe6b89e139": {
          "model_module": "@jupyter-widgets/base",
          "model_name": "LayoutModel",
          "model_module_version": "1.2.0",
          "state": {
            "_model_module": "@jupyter-widgets/base",
            "_model_module_version": "1.2.0",
            "_model_name": "LayoutModel",
            "_view_count": null,
            "_view_module": "@jupyter-widgets/base",
            "_view_module_version": "1.2.0",
            "_view_name": "LayoutView",
            "align_content": null,
            "align_items": null,
            "align_self": null,
            "border": null,
            "bottom": null,
            "display": null,
            "flex": null,
            "flex_flow": null,
            "grid_area": null,
            "grid_auto_columns": null,
            "grid_auto_flow": null,
            "grid_auto_rows": null,
            "grid_column": null,
            "grid_gap": null,
            "grid_row": null,
            "grid_template_areas": null,
            "grid_template_columns": null,
            "grid_template_rows": null,
            "height": null,
            "justify_content": null,
            "justify_items": null,
            "left": null,
            "margin": null,
            "max_height": null,
            "max_width": null,
            "min_height": null,
            "min_width": null,
            "object_fit": null,
            "object_position": null,
            "order": null,
            "overflow": null,
            "overflow_x": null,
            "overflow_y": null,
            "padding": null,
            "right": null,
            "top": null,
            "visibility": null,
            "width": null
          }
        },
        "da55487e34d8435792bc78f486e79500": {
          "model_module": "@jupyter-widgets/base",
          "model_name": "LayoutModel",
          "model_module_version": "1.2.0",
          "state": {
            "_model_module": "@jupyter-widgets/base",
            "_model_module_version": "1.2.0",
            "_model_name": "LayoutModel",
            "_view_count": null,
            "_view_module": "@jupyter-widgets/base",
            "_view_module_version": "1.2.0",
            "_view_name": "LayoutView",
            "align_content": null,
            "align_items": null,
            "align_self": null,
            "border": null,
            "bottom": null,
            "display": null,
            "flex": null,
            "flex_flow": null,
            "grid_area": null,
            "grid_auto_columns": null,
            "grid_auto_flow": null,
            "grid_auto_rows": null,
            "grid_column": null,
            "grid_gap": null,
            "grid_row": null,
            "grid_template_areas": null,
            "grid_template_columns": null,
            "grid_template_rows": null,
            "height": null,
            "justify_content": null,
            "justify_items": null,
            "left": null,
            "margin": null,
            "max_height": null,
            "max_width": null,
            "min_height": null,
            "min_width": null,
            "object_fit": null,
            "object_position": null,
            "order": null,
            "overflow": null,
            "overflow_x": null,
            "overflow_y": null,
            "padding": null,
            "right": null,
            "top": null,
            "visibility": null,
            "width": null
          }
        },
        "d7a0e29dd58548839e883d1b2d2b7af0": {
          "model_module": "@jupyter-widgets/controls",
          "model_name": "DescriptionStyleModel",
          "model_module_version": "1.5.0",
          "state": {
            "_model_module": "@jupyter-widgets/controls",
            "_model_module_version": "1.5.0",
            "_model_name": "DescriptionStyleModel",
            "_view_count": null,
            "_view_module": "@jupyter-widgets/base",
            "_view_module_version": "1.2.0",
            "_view_name": "StyleView",
            "description_width": ""
          }
        },
        "b47813584ca44385a17fd5d3b99397b8": {
          "model_module": "@jupyter-widgets/base",
          "model_name": "LayoutModel",
          "model_module_version": "1.2.0",
          "state": {
            "_model_module": "@jupyter-widgets/base",
            "_model_module_version": "1.2.0",
            "_model_name": "LayoutModel",
            "_view_count": null,
            "_view_module": "@jupyter-widgets/base",
            "_view_module_version": "1.2.0",
            "_view_name": "LayoutView",
            "align_content": null,
            "align_items": null,
            "align_self": null,
            "border": null,
            "bottom": null,
            "display": null,
            "flex": null,
            "flex_flow": null,
            "grid_area": null,
            "grid_auto_columns": null,
            "grid_auto_flow": null,
            "grid_auto_rows": null,
            "grid_column": null,
            "grid_gap": null,
            "grid_row": null,
            "grid_template_areas": null,
            "grid_template_columns": null,
            "grid_template_rows": null,
            "height": null,
            "justify_content": null,
            "justify_items": null,
            "left": null,
            "margin": null,
            "max_height": null,
            "max_width": null,
            "min_height": null,
            "min_width": null,
            "object_fit": null,
            "object_position": null,
            "order": null,
            "overflow": null,
            "overflow_x": null,
            "overflow_y": null,
            "padding": null,
            "right": null,
            "top": null,
            "visibility": null,
            "width": null
          }
        },
        "bbb616a4c3974c4f8ce3e3f27bf659e2": {
          "model_module": "@jupyter-widgets/controls",
          "model_name": "ProgressStyleModel",
          "model_module_version": "1.5.0",
          "state": {
            "_model_module": "@jupyter-widgets/controls",
            "_model_module_version": "1.5.0",
            "_model_name": "ProgressStyleModel",
            "_view_count": null,
            "_view_module": "@jupyter-widgets/base",
            "_view_module_version": "1.2.0",
            "_view_name": "StyleView",
            "bar_color": null,
            "description_width": ""
          }
        },
        "43e28821082a4cd4bbdfcb388c93da80": {
          "model_module": "@jupyter-widgets/base",
          "model_name": "LayoutModel",
          "model_module_version": "1.2.0",
          "state": {
            "_model_module": "@jupyter-widgets/base",
            "_model_module_version": "1.2.0",
            "_model_name": "LayoutModel",
            "_view_count": null,
            "_view_module": "@jupyter-widgets/base",
            "_view_module_version": "1.2.0",
            "_view_name": "LayoutView",
            "align_content": null,
            "align_items": null,
            "align_self": null,
            "border": null,
            "bottom": null,
            "display": null,
            "flex": null,
            "flex_flow": null,
            "grid_area": null,
            "grid_auto_columns": null,
            "grid_auto_flow": null,
            "grid_auto_rows": null,
            "grid_column": null,
            "grid_gap": null,
            "grid_row": null,
            "grid_template_areas": null,
            "grid_template_columns": null,
            "grid_template_rows": null,
            "height": null,
            "justify_content": null,
            "justify_items": null,
            "left": null,
            "margin": null,
            "max_height": null,
            "max_width": null,
            "min_height": null,
            "min_width": null,
            "object_fit": null,
            "object_position": null,
            "order": null,
            "overflow": null,
            "overflow_x": null,
            "overflow_y": null,
            "padding": null,
            "right": null,
            "top": null,
            "visibility": null,
            "width": null
          }
        },
        "2eaf3a9064dc451eb4065af610d956b4": {
          "model_module": "@jupyter-widgets/controls",
          "model_name": "DescriptionStyleModel",
          "model_module_version": "1.5.0",
          "state": {
            "_model_module": "@jupyter-widgets/controls",
            "_model_module_version": "1.5.0",
            "_model_name": "DescriptionStyleModel",
            "_view_count": null,
            "_view_module": "@jupyter-widgets/base",
            "_view_module_version": "1.2.0",
            "_view_name": "StyleView",
            "description_width": ""
          }
        },
        "07c41815e73444e7a46bf76e622e1ce9": {
          "model_module": "@jupyter-widgets/controls",
          "model_name": "HBoxModel",
          "model_module_version": "1.5.0",
          "state": {
            "_dom_classes": [],
            "_model_module": "@jupyter-widgets/controls",
            "_model_module_version": "1.5.0",
            "_model_name": "HBoxModel",
            "_view_count": null,
            "_view_module": "@jupyter-widgets/controls",
            "_view_module_version": "1.5.0",
            "_view_name": "HBoxView",
            "box_style": "",
            "children": [
              "IPY_MODEL_9c3a856165ac4efe8cbe35b27e3e280c",
              "IPY_MODEL_5ac5c0d9fd7a4c54b53b3606b840af6a",
              "IPY_MODEL_99db13b55e0a4b0e9e5530bd2adde60d"
            ],
            "layout": "IPY_MODEL_62be92fe79f54c89b424671f5e613b1f"
          }
        },
        "9c3a856165ac4efe8cbe35b27e3e280c": {
          "model_module": "@jupyter-widgets/controls",
          "model_name": "HTMLModel",
          "model_module_version": "1.5.0",
          "state": {
            "_dom_classes": [],
            "_model_module": "@jupyter-widgets/controls",
            "_model_module_version": "1.5.0",
            "_model_name": "HTMLModel",
            "_view_count": null,
            "_view_module": "@jupyter-widgets/controls",
            "_view_module_version": "1.5.0",
            "_view_name": "HTMLView",
            "description": "",
            "description_tooltip": null,
            "layout": "IPY_MODEL_f01c3289891246fb835b4af3da3a9c46",
            "placeholder": "​",
            "style": "IPY_MODEL_97022adc3e48430698875ddc71a4e94a",
            "value": "vocab.txt: "
          }
        },
        "5ac5c0d9fd7a4c54b53b3606b840af6a": {
          "model_module": "@jupyter-widgets/controls",
          "model_name": "FloatProgressModel",
          "model_module_version": "1.5.0",
          "state": {
            "_dom_classes": [],
            "_model_module": "@jupyter-widgets/controls",
            "_model_module_version": "1.5.0",
            "_model_name": "FloatProgressModel",
            "_view_count": null,
            "_view_module": "@jupyter-widgets/controls",
            "_view_module_version": "1.5.0",
            "_view_name": "ProgressView",
            "bar_style": "success",
            "description": "",
            "description_tooltip": null,
            "layout": "IPY_MODEL_f42e1aa6fcf446b7b1240db80016c37a",
            "max": 1,
            "min": 0,
            "orientation": "horizontal",
            "style": "IPY_MODEL_287835f42a914341a6a0892bd710a9a0",
            "value": 1
          }
        },
        "99db13b55e0a4b0e9e5530bd2adde60d": {
          "model_module": "@jupyter-widgets/controls",
          "model_name": "HTMLModel",
          "model_module_version": "1.5.0",
          "state": {
            "_dom_classes": [],
            "_model_module": "@jupyter-widgets/controls",
            "_model_module_version": "1.5.0",
            "_model_name": "HTMLModel",
            "_view_count": null,
            "_view_module": "@jupyter-widgets/controls",
            "_view_module_version": "1.5.0",
            "_view_name": "HTMLView",
            "description": "",
            "description_tooltip": null,
            "layout": "IPY_MODEL_091cc1b4c27441b9a0b48d9d24ec1beb",
            "placeholder": "​",
            "style": "IPY_MODEL_1a142a03677e40adad19a8bcd00bc0e0",
            "value": " 225k/? [00:00&lt;00:00, 4.61MB/s]"
          }
        },
        "62be92fe79f54c89b424671f5e613b1f": {
          "model_module": "@jupyter-widgets/base",
          "model_name": "LayoutModel",
          "model_module_version": "1.2.0",
          "state": {
            "_model_module": "@jupyter-widgets/base",
            "_model_module_version": "1.2.0",
            "_model_name": "LayoutModel",
            "_view_count": null,
            "_view_module": "@jupyter-widgets/base",
            "_view_module_version": "1.2.0",
            "_view_name": "LayoutView",
            "align_content": null,
            "align_items": null,
            "align_self": null,
            "border": null,
            "bottom": null,
            "display": null,
            "flex": null,
            "flex_flow": null,
            "grid_area": null,
            "grid_auto_columns": null,
            "grid_auto_flow": null,
            "grid_auto_rows": null,
            "grid_column": null,
            "grid_gap": null,
            "grid_row": null,
            "grid_template_areas": null,
            "grid_template_columns": null,
            "grid_template_rows": null,
            "height": null,
            "justify_content": null,
            "justify_items": null,
            "left": null,
            "margin": null,
            "max_height": null,
            "max_width": null,
            "min_height": null,
            "min_width": null,
            "object_fit": null,
            "object_position": null,
            "order": null,
            "overflow": null,
            "overflow_x": null,
            "overflow_y": null,
            "padding": null,
            "right": null,
            "top": null,
            "visibility": null,
            "width": null
          }
        },
        "f01c3289891246fb835b4af3da3a9c46": {
          "model_module": "@jupyter-widgets/base",
          "model_name": "LayoutModel",
          "model_module_version": "1.2.0",
          "state": {
            "_model_module": "@jupyter-widgets/base",
            "_model_module_version": "1.2.0",
            "_model_name": "LayoutModel",
            "_view_count": null,
            "_view_module": "@jupyter-widgets/base",
            "_view_module_version": "1.2.0",
            "_view_name": "LayoutView",
            "align_content": null,
            "align_items": null,
            "align_self": null,
            "border": null,
            "bottom": null,
            "display": null,
            "flex": null,
            "flex_flow": null,
            "grid_area": null,
            "grid_auto_columns": null,
            "grid_auto_flow": null,
            "grid_auto_rows": null,
            "grid_column": null,
            "grid_gap": null,
            "grid_row": null,
            "grid_template_areas": null,
            "grid_template_columns": null,
            "grid_template_rows": null,
            "height": null,
            "justify_content": null,
            "justify_items": null,
            "left": null,
            "margin": null,
            "max_height": null,
            "max_width": null,
            "min_height": null,
            "min_width": null,
            "object_fit": null,
            "object_position": null,
            "order": null,
            "overflow": null,
            "overflow_x": null,
            "overflow_y": null,
            "padding": null,
            "right": null,
            "top": null,
            "visibility": null,
            "width": null
          }
        },
        "97022adc3e48430698875ddc71a4e94a": {
          "model_module": "@jupyter-widgets/controls",
          "model_name": "DescriptionStyleModel",
          "model_module_version": "1.5.0",
          "state": {
            "_model_module": "@jupyter-widgets/controls",
            "_model_module_version": "1.5.0",
            "_model_name": "DescriptionStyleModel",
            "_view_count": null,
            "_view_module": "@jupyter-widgets/base",
            "_view_module_version": "1.2.0",
            "_view_name": "StyleView",
            "description_width": ""
          }
        },
        "f42e1aa6fcf446b7b1240db80016c37a": {
          "model_module": "@jupyter-widgets/base",
          "model_name": "LayoutModel",
          "model_module_version": "1.2.0",
          "state": {
            "_model_module": "@jupyter-widgets/base",
            "_model_module_version": "1.2.0",
            "_model_name": "LayoutModel",
            "_view_count": null,
            "_view_module": "@jupyter-widgets/base",
            "_view_module_version": "1.2.0",
            "_view_name": "LayoutView",
            "align_content": null,
            "align_items": null,
            "align_self": null,
            "border": null,
            "bottom": null,
            "display": null,
            "flex": null,
            "flex_flow": null,
            "grid_area": null,
            "grid_auto_columns": null,
            "grid_auto_flow": null,
            "grid_auto_rows": null,
            "grid_column": null,
            "grid_gap": null,
            "grid_row": null,
            "grid_template_areas": null,
            "grid_template_columns": null,
            "grid_template_rows": null,
            "height": null,
            "justify_content": null,
            "justify_items": null,
            "left": null,
            "margin": null,
            "max_height": null,
            "max_width": null,
            "min_height": null,
            "min_width": null,
            "object_fit": null,
            "object_position": null,
            "order": null,
            "overflow": null,
            "overflow_x": null,
            "overflow_y": null,
            "padding": null,
            "right": null,
            "top": null,
            "visibility": null,
            "width": "20px"
          }
        },
        "287835f42a914341a6a0892bd710a9a0": {
          "model_module": "@jupyter-widgets/controls",
          "model_name": "ProgressStyleModel",
          "model_module_version": "1.5.0",
          "state": {
            "_model_module": "@jupyter-widgets/controls",
            "_model_module_version": "1.5.0",
            "_model_name": "ProgressStyleModel",
            "_view_count": null,
            "_view_module": "@jupyter-widgets/base",
            "_view_module_version": "1.2.0",
            "_view_name": "StyleView",
            "bar_color": null,
            "description_width": ""
          }
        },
        "091cc1b4c27441b9a0b48d9d24ec1beb": {
          "model_module": "@jupyter-widgets/base",
          "model_name": "LayoutModel",
          "model_module_version": "1.2.0",
          "state": {
            "_model_module": "@jupyter-widgets/base",
            "_model_module_version": "1.2.0",
            "_model_name": "LayoutModel",
            "_view_count": null,
            "_view_module": "@jupyter-widgets/base",
            "_view_module_version": "1.2.0",
            "_view_name": "LayoutView",
            "align_content": null,
            "align_items": null,
            "align_self": null,
            "border": null,
            "bottom": null,
            "display": null,
            "flex": null,
            "flex_flow": null,
            "grid_area": null,
            "grid_auto_columns": null,
            "grid_auto_flow": null,
            "grid_auto_rows": null,
            "grid_column": null,
            "grid_gap": null,
            "grid_row": null,
            "grid_template_areas": null,
            "grid_template_columns": null,
            "grid_template_rows": null,
            "height": null,
            "justify_content": null,
            "justify_items": null,
            "left": null,
            "margin": null,
            "max_height": null,
            "max_width": null,
            "min_height": null,
            "min_width": null,
            "object_fit": null,
            "object_position": null,
            "order": null,
            "overflow": null,
            "overflow_x": null,
            "overflow_y": null,
            "padding": null,
            "right": null,
            "top": null,
            "visibility": null,
            "width": null
          }
        },
        "1a142a03677e40adad19a8bcd00bc0e0": {
          "model_module": "@jupyter-widgets/controls",
          "model_name": "DescriptionStyleModel",
          "model_module_version": "1.5.0",
          "state": {
            "_model_module": "@jupyter-widgets/controls",
            "_model_module_version": "1.5.0",
            "_model_name": "DescriptionStyleModel",
            "_view_count": null,
            "_view_module": "@jupyter-widgets/base",
            "_view_module_version": "1.2.0",
            "_view_name": "StyleView",
            "description_width": ""
          }
        },
        "3033471cec1e41408cc38909aaf3f5fb": {
          "model_module": "@jupyter-widgets/controls",
          "model_name": "HBoxModel",
          "model_module_version": "1.5.0",
          "state": {
            "_dom_classes": [],
            "_model_module": "@jupyter-widgets/controls",
            "_model_module_version": "1.5.0",
            "_model_name": "HBoxModel",
            "_view_count": null,
            "_view_module": "@jupyter-widgets/controls",
            "_view_module_version": "1.5.0",
            "_view_name": "HBoxView",
            "box_style": "",
            "children": [
              "IPY_MODEL_ea7baf3c09984fa2847312c8f00b4931",
              "IPY_MODEL_e0b841b1dfce4a77a8ed6649871b383f",
              "IPY_MODEL_4cb60dcb368f44369d9749feec9c3db5"
            ],
            "layout": "IPY_MODEL_b49e67c928834ea1a888402968fe36c7"
          }
        },
        "ea7baf3c09984fa2847312c8f00b4931": {
          "model_module": "@jupyter-widgets/controls",
          "model_name": "HTMLModel",
          "model_module_version": "1.5.0",
          "state": {
            "_dom_classes": [],
            "_model_module": "@jupyter-widgets/controls",
            "_model_module_version": "1.5.0",
            "_model_name": "HTMLModel",
            "_view_count": null,
            "_view_module": "@jupyter-widgets/controls",
            "_view_module_version": "1.5.0",
            "_view_name": "HTMLView",
            "description": "",
            "description_tooltip": null,
            "layout": "IPY_MODEL_3cb82fbfdc3549b6afb7872da7ed52ce",
            "placeholder": "​",
            "style": "IPY_MODEL_cf3381fc44314505b004c02a732c41b5",
            "value": "pytorch_model.bin: 100%"
          }
        },
        "e0b841b1dfce4a77a8ed6649871b383f": {
          "model_module": "@jupyter-widgets/controls",
          "model_name": "FloatProgressModel",
          "model_module_version": "1.5.0",
          "state": {
            "_dom_classes": [],
            "_model_module": "@jupyter-widgets/controls",
            "_model_module_version": "1.5.0",
            "_model_name": "FloatProgressModel",
            "_view_count": null,
            "_view_module": "@jupyter-widgets/controls",
            "_view_module_version": "1.5.0",
            "_view_name": "ProgressView",
            "bar_style": "success",
            "description": "",
            "description_tooltip": null,
            "layout": "IPY_MODEL_68636ee2992948bda3be43ad516d40e5",
            "max": 440474434,
            "min": 0,
            "orientation": "horizontal",
            "style": "IPY_MODEL_1867c3956187478ba29634c5be174ebe",
            "value": 440474434
          }
        },
        "4cb60dcb368f44369d9749feec9c3db5": {
          "model_module": "@jupyter-widgets/controls",
          "model_name": "HTMLModel",
          "model_module_version": "1.5.0",
          "state": {
            "_dom_classes": [],
            "_model_module": "@jupyter-widgets/controls",
            "_model_module_version": "1.5.0",
            "_model_name": "HTMLModel",
            "_view_count": null,
            "_view_module": "@jupyter-widgets/controls",
            "_view_module_version": "1.5.0",
            "_view_name": "HTMLView",
            "description": "",
            "description_tooltip": null,
            "layout": "IPY_MODEL_ca9be9041a914b6aafb7305b897871b7",
            "placeholder": "​",
            "style": "IPY_MODEL_175dfc7f44a74725a8172583d7bbeaf1",
            "value": " 440M/440M [00:13&lt;00:00, 51.0kB/s]"
          }
        },
        "b49e67c928834ea1a888402968fe36c7": {
          "model_module": "@jupyter-widgets/base",
          "model_name": "LayoutModel",
          "model_module_version": "1.2.0",
          "state": {
            "_model_module": "@jupyter-widgets/base",
            "_model_module_version": "1.2.0",
            "_model_name": "LayoutModel",
            "_view_count": null,
            "_view_module": "@jupyter-widgets/base",
            "_view_module_version": "1.2.0",
            "_view_name": "LayoutView",
            "align_content": null,
            "align_items": null,
            "align_self": null,
            "border": null,
            "bottom": null,
            "display": null,
            "flex": null,
            "flex_flow": null,
            "grid_area": null,
            "grid_auto_columns": null,
            "grid_auto_flow": null,
            "grid_auto_rows": null,
            "grid_column": null,
            "grid_gap": null,
            "grid_row": null,
            "grid_template_areas": null,
            "grid_template_columns": null,
            "grid_template_rows": null,
            "height": null,
            "justify_content": null,
            "justify_items": null,
            "left": null,
            "margin": null,
            "max_height": null,
            "max_width": null,
            "min_height": null,
            "min_width": null,
            "object_fit": null,
            "object_position": null,
            "order": null,
            "overflow": null,
            "overflow_x": null,
            "overflow_y": null,
            "padding": null,
            "right": null,
            "top": null,
            "visibility": null,
            "width": null
          }
        },
        "3cb82fbfdc3549b6afb7872da7ed52ce": {
          "model_module": "@jupyter-widgets/base",
          "model_name": "LayoutModel",
          "model_module_version": "1.2.0",
          "state": {
            "_model_module": "@jupyter-widgets/base",
            "_model_module_version": "1.2.0",
            "_model_name": "LayoutModel",
            "_view_count": null,
            "_view_module": "@jupyter-widgets/base",
            "_view_module_version": "1.2.0",
            "_view_name": "LayoutView",
            "align_content": null,
            "align_items": null,
            "align_self": null,
            "border": null,
            "bottom": null,
            "display": null,
            "flex": null,
            "flex_flow": null,
            "grid_area": null,
            "grid_auto_columns": null,
            "grid_auto_flow": null,
            "grid_auto_rows": null,
            "grid_column": null,
            "grid_gap": null,
            "grid_row": null,
            "grid_template_areas": null,
            "grid_template_columns": null,
            "grid_template_rows": null,
            "height": null,
            "justify_content": null,
            "justify_items": null,
            "left": null,
            "margin": null,
            "max_height": null,
            "max_width": null,
            "min_height": null,
            "min_width": null,
            "object_fit": null,
            "object_position": null,
            "order": null,
            "overflow": null,
            "overflow_x": null,
            "overflow_y": null,
            "padding": null,
            "right": null,
            "top": null,
            "visibility": null,
            "width": null
          }
        },
        "cf3381fc44314505b004c02a732c41b5": {
          "model_module": "@jupyter-widgets/controls",
          "model_name": "DescriptionStyleModel",
          "model_module_version": "1.5.0",
          "state": {
            "_model_module": "@jupyter-widgets/controls",
            "_model_module_version": "1.5.0",
            "_model_name": "DescriptionStyleModel",
            "_view_count": null,
            "_view_module": "@jupyter-widgets/base",
            "_view_module_version": "1.2.0",
            "_view_name": "StyleView",
            "description_width": ""
          }
        },
        "68636ee2992948bda3be43ad516d40e5": {
          "model_module": "@jupyter-widgets/base",
          "model_name": "LayoutModel",
          "model_module_version": "1.2.0",
          "state": {
            "_model_module": "@jupyter-widgets/base",
            "_model_module_version": "1.2.0",
            "_model_name": "LayoutModel",
            "_view_count": null,
            "_view_module": "@jupyter-widgets/base",
            "_view_module_version": "1.2.0",
            "_view_name": "LayoutView",
            "align_content": null,
            "align_items": null,
            "align_self": null,
            "border": null,
            "bottom": null,
            "display": null,
            "flex": null,
            "flex_flow": null,
            "grid_area": null,
            "grid_auto_columns": null,
            "grid_auto_flow": null,
            "grid_auto_rows": null,
            "grid_column": null,
            "grid_gap": null,
            "grid_row": null,
            "grid_template_areas": null,
            "grid_template_columns": null,
            "grid_template_rows": null,
            "height": null,
            "justify_content": null,
            "justify_items": null,
            "left": null,
            "margin": null,
            "max_height": null,
            "max_width": null,
            "min_height": null,
            "min_width": null,
            "object_fit": null,
            "object_position": null,
            "order": null,
            "overflow": null,
            "overflow_x": null,
            "overflow_y": null,
            "padding": null,
            "right": null,
            "top": null,
            "visibility": null,
            "width": null
          }
        },
        "1867c3956187478ba29634c5be174ebe": {
          "model_module": "@jupyter-widgets/controls",
          "model_name": "ProgressStyleModel",
          "model_module_version": "1.5.0",
          "state": {
            "_model_module": "@jupyter-widgets/controls",
            "_model_module_version": "1.5.0",
            "_model_name": "ProgressStyleModel",
            "_view_count": null,
            "_view_module": "@jupyter-widgets/base",
            "_view_module_version": "1.2.0",
            "_view_name": "StyleView",
            "bar_color": null,
            "description_width": ""
          }
        },
        "ca9be9041a914b6aafb7305b897871b7": {
          "model_module": "@jupyter-widgets/base",
          "model_name": "LayoutModel",
          "model_module_version": "1.2.0",
          "state": {
            "_model_module": "@jupyter-widgets/base",
            "_model_module_version": "1.2.0",
            "_model_name": "LayoutModel",
            "_view_count": null,
            "_view_module": "@jupyter-widgets/base",
            "_view_module_version": "1.2.0",
            "_view_name": "LayoutView",
            "align_content": null,
            "align_items": null,
            "align_self": null,
            "border": null,
            "bottom": null,
            "display": null,
            "flex": null,
            "flex_flow": null,
            "grid_area": null,
            "grid_auto_columns": null,
            "grid_auto_flow": null,
            "grid_auto_rows": null,
            "grid_column": null,
            "grid_gap": null,
            "grid_row": null,
            "grid_template_areas": null,
            "grid_template_columns": null,
            "grid_template_rows": null,
            "height": null,
            "justify_content": null,
            "justify_items": null,
            "left": null,
            "margin": null,
            "max_height": null,
            "max_width": null,
            "min_height": null,
            "min_width": null,
            "object_fit": null,
            "object_position": null,
            "order": null,
            "overflow": null,
            "overflow_x": null,
            "overflow_y": null,
            "padding": null,
            "right": null,
            "top": null,
            "visibility": null,
            "width": null
          }
        },
        "175dfc7f44a74725a8172583d7bbeaf1": {
          "model_module": "@jupyter-widgets/controls",
          "model_name": "DescriptionStyleModel",
          "model_module_version": "1.5.0",
          "state": {
            "_model_module": "@jupyter-widgets/controls",
            "_model_module_version": "1.5.0",
            "_model_name": "DescriptionStyleModel",
            "_view_count": null,
            "_view_module": "@jupyter-widgets/base",
            "_view_module_version": "1.2.0",
            "_view_name": "StyleView",
            "description_width": ""
          }
        }
      }
    }
  },
  "cells": [
    {
      "cell_type": "markdown",
      "source": [
        "[![Colab Badge Link](https://img.shields.io/badge/open-in%20colab-blue)](https://colab.research.google.com/github/Glasgow-AI4BioMed/tutorials/blob/main/custom_token_classification_models.ipynb)\n",
        "\n",
        "# Creating a custom token classification model\n",
        "\n",
        "This notebook illustrates creating a custom Transformer model that is compatible with the [Huggingface trainer](https://huggingface.co/docs/transformers/main_classes/trainer). This model will use intermediate hidden states (so not the final hidden state) of a Transformer model for a token classification task."
      ],
      "metadata": {
        "id": "wfedic0l4G9I"
      }
    },
    {
      "cell_type": "markdown",
      "source": [
        "## Install dependencies\n",
        "\n",
        "If needed, you could install dependencies with the command below:\n",
        "\n",
        "```\n",
        "pip install transformers\n",
        "```"
      ],
      "metadata": {
        "id": "un2rAvC44OMu"
      }
    },
    {
      "cell_type": "markdown",
      "source": [
        "## Tokenize some text\n",
        "\n",
        "We'll work with a single example. First we need a tokenizer:"
      ],
      "metadata": {
        "id": "C14RvAbC4E1Y"
      }
    },
    {
      "cell_type": "code",
      "source": [
        "from transformers import AutoTokenizer\n",
        "\n",
        "MODEL_NAME = 'microsoft/BiomedNLP-PubMedBERT-base-uncased-abstract'\n",
        "\n",
        "tokenizer = AutoTokenizer.from_pretrained(MODEL_NAME)"
      ],
      "metadata": {
        "id": "t2_M1KsXEbPM",
        "colab": {
          "base_uri": "https://localhost:8080/",
          "height": 220,
          "referenced_widgets": [
            "a02b5abc2f0b46f99fffb884d3d7c150",
            "54ec1bf8ca634e238840f02a471090f8",
            "1000b89b0f00491482a9f042f770cf41",
            "73cd51c9c41245f085acb2ada79dacf6",
            "3952f21ac8f84623bb8b29728e515e43",
            "a0cf9b29c28847ee808c2911dd66f29f",
            "4ccfacfae87f40d098924679579d39c6",
            "a3616a3d0d3e41cb942665e6a5ff69f5",
            "1a5827fa47c74b0793785bfa69f55b19",
            "d161a29841a84a9bb7ae0142754dfb04",
            "39ec1c2911ff4866812dd1173d3929d3",
            "375fccec20044cc99722653fc80ca82d",
            "41ebd2c2da704fe09510b79ef97da8bf",
            "c8161c7cb1c943ad9d483ccc9316bec2",
            "ba30263319a04e15b01d5aaffe83e6e2",
            "7a444d0105c24baa935019fe6b89e139",
            "da55487e34d8435792bc78f486e79500",
            "d7a0e29dd58548839e883d1b2d2b7af0",
            "b47813584ca44385a17fd5d3b99397b8",
            "bbb616a4c3974c4f8ce3e3f27bf659e2",
            "43e28821082a4cd4bbdfcb388c93da80",
            "2eaf3a9064dc451eb4065af610d956b4",
            "07c41815e73444e7a46bf76e622e1ce9",
            "9c3a856165ac4efe8cbe35b27e3e280c",
            "5ac5c0d9fd7a4c54b53b3606b840af6a",
            "99db13b55e0a4b0e9e5530bd2adde60d",
            "62be92fe79f54c89b424671f5e613b1f",
            "f01c3289891246fb835b4af3da3a9c46",
            "97022adc3e48430698875ddc71a4e94a",
            "f42e1aa6fcf446b7b1240db80016c37a",
            "287835f42a914341a6a0892bd710a9a0",
            "091cc1b4c27441b9a0b48d9d24ec1beb",
            "1a142a03677e40adad19a8bcd00bc0e0"
          ]
        },
        "outputId": "a9e13dad-9f02-473e-cb60-b3c0052b0e5a"
      },
      "execution_count": 1,
      "outputs": [
        {
          "output_type": "stream",
          "name": "stderr",
          "text": [
            "/usr/local/lib/python3.11/dist-packages/huggingface_hub/utils/_auth.py:94: UserWarning: \n",
            "The secret `HF_TOKEN` does not exist in your Colab secrets.\n",
            "To authenticate with the Hugging Face Hub, create a token in your settings tab (https://huggingface.co/settings/tokens), set it as secret in your Google Colab and restart your session.\n",
            "You will be able to reuse this secret in all of your notebooks.\n",
            "Please note that authentication is recommended but still optional to access public models or datasets.\n",
            "  warnings.warn(\n"
          ]
        },
        {
          "output_type": "display_data",
          "data": {
            "text/plain": [
              "tokenizer_config.json:   0%|          | 0.00/28.0 [00:00<?, ?B/s]"
            ],
            "application/vnd.jupyter.widget-view+json": {
              "version_major": 2,
              "version_minor": 0,
              "model_id": "a02b5abc2f0b46f99fffb884d3d7c150"
            }
          },
          "metadata": {}
        },
        {
          "output_type": "display_data",
          "data": {
            "text/plain": [
              "config.json:   0%|          | 0.00/385 [00:00<?, ?B/s]"
            ],
            "application/vnd.jupyter.widget-view+json": {
              "version_major": 2,
              "version_minor": 0,
              "model_id": "375fccec20044cc99722653fc80ca82d"
            }
          },
          "metadata": {}
        },
        {
          "output_type": "display_data",
          "data": {
            "text/plain": [
              "vocab.txt: 0.00B [00:00, ?B/s]"
            ],
            "application/vnd.jupyter.widget-view+json": {
              "version_major": 2,
              "version_minor": 0,
              "model_id": "07c41815e73444e7a46bf76e622e1ce9"
            }
          },
          "metadata": {}
        }
      ]
    },
    {
      "cell_type": "markdown",
      "source": [
        "Let's tokenize an example sentence."
      ],
      "metadata": {
        "id": "1k8omt4gERky"
      }
    },
    {
      "cell_type": "code",
      "source": [
        "text = 'The quick brown fox jumps over the lazy dog.'\n",
        "\n",
        "encoded = tokenizer(text, max_length=512, padding=True, truncation=True, return_tensors='pt')\n",
        "\n",
        "encoded"
      ],
      "metadata": {
        "colab": {
          "base_uri": "https://localhost:8080/"
        },
        "id": "vAo6UdJF39xF",
        "outputId": "2ac01d98-2476-4204-b124-2b6c5cba8c6b"
      },
      "execution_count": 2,
      "outputs": [
        {
          "output_type": "execute_result",
          "data": {
            "text/plain": [
              "{'input_ids': tensor([[    2,  1680,  8787, 10418,  9596, 15163,  1026,  2150,  1680,  5736,\n",
              "          1035,  1005,  4840,    17,     3]]), 'token_type_ids': tensor([[0, 0, 0, 0, 0, 0, 0, 0, 0, 0, 0, 0, 0, 0, 0]]), 'attention_mask': tensor([[1, 1, 1, 1, 1, 1, 1, 1, 1, 1, 1, 1, 1, 1, 1]])}"
            ]
          },
          "metadata": {},
          "execution_count": 2
        }
      ]
    },
    {
      "cell_type": "markdown",
      "source": [
        "How many tokens do we have? Looks like 15"
      ],
      "metadata": {
        "id": "uy5w0ydIEsLR"
      }
    },
    {
      "cell_type": "code",
      "source": [
        "encoded['input_ids'].shape"
      ],
      "metadata": {
        "colab": {
          "base_uri": "https://localhost:8080/"
        },
        "id": "GDFLOKbzEbMA",
        "outputId": "5296ce15-e482-4b4e-c825-9ae884775978"
      },
      "execution_count": 3,
      "outputs": [
        {
          "output_type": "execute_result",
          "data": {
            "text/plain": [
              "torch.Size([1, 15])"
            ]
          },
          "metadata": {},
          "execution_count": 3
        }
      ]
    },
    {
      "cell_type": "markdown",
      "source": [
        "We also need to make some dummy labels that will be our desired targets for our model. There are 15 tokens in the sequence and we need one for each token. The labels could correspond to `[0, B-DRUG, I-DRUG, etc]` for a biomedical NER task. Arbitrarily, let's say there are nine unique labels."
      ],
      "metadata": {
        "id": "fvsW0lDuEba9"
      }
    },
    {
      "cell_type": "code",
      "source": [
        "num_labels = 9"
      ],
      "metadata": {
        "id": "5ENCPF2k8Tf_"
      },
      "execution_count": 4,
      "outputs": []
    },
    {
      "cell_type": "markdown",
      "source": [
        "Let's create some labels randomly using [torch.randint](https://pytorch.org/docs/stable/generated/torch.randint.html)."
      ],
      "metadata": {
        "id": "AB0z6861E-xG"
      }
    },
    {
      "cell_type": "code",
      "source": [
        "import torch\n",
        "\n",
        "labels = torch.randint(low=0, high=num_labels, size=(1,15))\n",
        "labels.shape"
      ],
      "metadata": {
        "colab": {
          "base_uri": "https://localhost:8080/"
        },
        "id": "_RjqZ1oE8Yah",
        "outputId": "b2ce28ec-f106-48fa-ce88-ffe287678696"
      },
      "execution_count": 5,
      "outputs": [
        {
          "output_type": "execute_result",
          "data": {
            "text/plain": [
              "torch.Size([1, 15])"
            ]
          },
          "metadata": {},
          "execution_count": 5
        }
      ]
    },
    {
      "cell_type": "markdown",
      "source": [
        "For realism, some tokens shouldn't have labels, such as the `[CLS]` and `[SEP]` tokens used in many BERT models. In this case, they are at the beginning and end of this sequence. So to tell the model to ignore these (and not factor them into any calculations), you can set the labels to the special value of `-100`. The loss function that we'll use later ([CrossEntropyLoss](https://pytorch.org/docs/stable/generated/torch.nn.CrossEntropyLoss.html)) knows that -100 denotes a token that should be ignored."
      ],
      "metadata": {
        "id": "OnCtgVn-FVm4"
      }
    },
    {
      "cell_type": "code",
      "source": [
        "labels[0,0] = -100\n",
        "labels[0,-1] = -100"
      ],
      "metadata": {
        "id": "IJlcIeAlFTvX"
      },
      "execution_count": 6,
      "outputs": []
    },
    {
      "cell_type": "markdown",
      "source": [
        "And finally what do our made-up labels look like?"
      ],
      "metadata": {
        "id": "4eLhLJkmFEec"
      }
    },
    {
      "cell_type": "code",
      "source": [
        "labels"
      ],
      "metadata": {
        "colab": {
          "base_uri": "https://localhost:8080/"
        },
        "id": "Iigzaz-98T1Y",
        "outputId": "24dd6c00-a6d3-4376-ab72-ef165de74654"
      },
      "execution_count": 7,
      "outputs": [
        {
          "output_type": "execute_result",
          "data": {
            "text/plain": [
              "tensor([[-100,    2,    1,    1,    2,    8,    2,    5,    5,    5,    8,    7,\n",
              "            8,    4, -100]])"
            ]
          },
          "metadata": {},
          "execution_count": 7
        }
      ]
    },
    {
      "cell_type": "markdown",
      "source": [
        "## Examining the AutoModelForTokenClassification"
      ],
      "metadata": {
        "id": "_okImOj64ji2"
      }
    },
    {
      "cell_type": "markdown",
      "source": [
        "Now we've got some tokenized text and some made-up labels, let's see what happens when we put them through a standard `AutoModelForTokenClassification`. Our eventual model should give a similar output type as this.\n",
        "\n",
        "Let's create a `AutoModelForTokenClassification` and pass in the number of labels to be predicted."
      ],
      "metadata": {
        "id": "r1nopeWpGAhl"
      }
    },
    {
      "cell_type": "code",
      "source": [
        "from transformers import AutoModelForTokenClassification\n",
        "\n",
        "model = AutoModelForTokenClassification.from_pretrained(MODEL_NAME, num_labels=num_labels)"
      ],
      "metadata": {
        "colab": {
          "base_uri": "https://localhost:8080/",
          "height": 105,
          "referenced_widgets": [
            "3033471cec1e41408cc38909aaf3f5fb",
            "ea7baf3c09984fa2847312c8f00b4931",
            "e0b841b1dfce4a77a8ed6649871b383f",
            "4cb60dcb368f44369d9749feec9c3db5",
            "b49e67c928834ea1a888402968fe36c7",
            "3cb82fbfdc3549b6afb7872da7ed52ce",
            "cf3381fc44314505b004c02a732c41b5",
            "68636ee2992948bda3be43ad516d40e5",
            "1867c3956187478ba29634c5be174ebe",
            "ca9be9041a914b6aafb7305b897871b7",
            "175dfc7f44a74725a8172583d7bbeaf1"
          ]
        },
        "id": "cZZJGsC_34Se",
        "outputId": "64d33481-a537-49b2-c005-66c1fbc6505a"
      },
      "execution_count": 8,
      "outputs": [
        {
          "output_type": "display_data",
          "data": {
            "text/plain": [
              "pytorch_model.bin:   0%|          | 0.00/440M [00:00<?, ?B/s]"
            ],
            "application/vnd.jupyter.widget-view+json": {
              "version_major": 2,
              "version_minor": 0,
              "model_id": "3033471cec1e41408cc38909aaf3f5fb"
            }
          },
          "metadata": {}
        },
        {
          "output_type": "stream",
          "name": "stderr",
          "text": [
            "Some weights of BertForTokenClassification were not initialized from the model checkpoint at microsoft/BiomedNLP-PubMedBERT-base-uncased-abstract and are newly initialized: ['classifier.bias', 'classifier.weight']\n",
            "You should probably TRAIN this model on a down-stream task to be able to use it for predictions and inference.\n"
          ]
        }
      ]
    },
    {
      "cell_type": "markdown",
      "source": [
        "Normally, you would then fine-tune this model with data before using it. But let's just use it now and see the type of the output. The actual output will be nonsense as there hasn't been any fine-tuning.\n",
        "\n",
        "Practically, when a model is trained, it is given data along with the labels. So let's take the tokenized text and add in the labels."
      ],
      "metadata": {
        "id": "a2uWJFh5GY75"
      }
    },
    {
      "cell_type": "code",
      "source": [
        "encoded_with_labels = dict(encoded)\n",
        "encoded_with_labels['labels'] = labels"
      ],
      "metadata": {
        "id": "UB5BXW-O9BU1"
      },
      "execution_count": 9,
      "outputs": []
    },
    {
      "cell_type": "markdown",
      "source": [
        "Then we pass in the tokenized text with the labels and let's examine what it returns"
      ],
      "metadata": {
        "id": "1whqFEsfGzKk"
      }
    },
    {
      "cell_type": "code",
      "source": [
        "output = model(**encoded_with_labels)"
      ],
      "metadata": {
        "id": "UImzqLZS4rOU"
      },
      "execution_count": 10,
      "outputs": []
    },
    {
      "cell_type": "markdown",
      "source": [
        "First, what is the type of the object returned?"
      ],
      "metadata": {
        "id": "s-HqWwnfG5zj"
      }
    },
    {
      "cell_type": "code",
      "source": [
        "type(output)"
      ],
      "metadata": {
        "colab": {
          "base_uri": "https://localhost:8080/"
        },
        "id": "A5qGTGET44kO",
        "outputId": "0ca30d80-fadd-451f-bfcf-45c50e545582"
      },
      "execution_count": 11,
      "outputs": [
        {
          "output_type": "execute_result",
          "data": {
            "text/plain": [
              "transformers.modeling_outputs.TokenClassifierOutput"
            ]
          },
          "metadata": {},
          "execution_count": 11
        }
      ]
    },
    {
      "cell_type": "markdown",
      "source": [
        "It is a [TokenClassifierOutput](https://huggingface.co/docs/transformers/main_classes/output#transformers.modeling_outputs.TokenClassifierOutput) which wraps various bits of information.\n",
        "\n",
        "Let's just print it out and see what it gives:"
      ],
      "metadata": {
        "id": "96w4PDHvG9aV"
      }
    },
    {
      "cell_type": "code",
      "source": [
        "output"
      ],
      "metadata": {
        "colab": {
          "base_uri": "https://localhost:8080/"
        },
        "id": "LQHCwExW8Iw5",
        "outputId": "7b55cf59-9a07-45d9-d039-f643a801cc86"
      },
      "execution_count": 12,
      "outputs": [
        {
          "output_type": "execute_result",
          "data": {
            "text/plain": [
              "TokenClassifierOutput(loss=tensor(2.7876, grad_fn=<NllLossBackward0>), logits=tensor([[[ 1.6239,  0.4530, -0.2071, -0.0514, -0.4117,  0.5804,  0.4853,\n",
              "          -2.3014, -1.7350],\n",
              "         [ 0.9774,  0.3130,  0.0528,  0.1127, -0.5041,  0.4156,  0.4323,\n",
              "          -2.0229, -1.5194],\n",
              "         [ 2.1344,  0.5107, -0.3481, -0.2140, -0.1960,  0.7112,  0.2396,\n",
              "          -2.1424, -1.4772],\n",
              "         [ 1.4910,  0.4706, -0.1716,  0.1899, -0.3729,  0.3282,  0.3491,\n",
              "          -1.8324, -1.7708],\n",
              "         [ 1.0691,  0.6996, -0.2954,  0.4707, -0.2819,  0.5988,  0.4125,\n",
              "          -1.9505, -1.3610],\n",
              "         [ 1.1215,  0.5364,  0.0738,  0.3399, -0.4563,  0.1871,  0.4104,\n",
              "          -2.1555, -1.7678],\n",
              "         [ 1.0024,  0.4320,  0.0317,  0.3498, -0.6502,  0.4121,  0.1683,\n",
              "          -2.0321, -1.6957],\n",
              "         [ 1.2773,  0.2202,  0.0600,  0.0503, -0.6146,  0.5854,  0.6330,\n",
              "          -1.7299, -0.7957],\n",
              "         [ 1.3225,  0.2818,  0.0949,  0.0964, -0.5555,  0.2897,  0.3718,\n",
              "          -2.0948, -1.4673],\n",
              "         [ 1.5844,  0.3311, -0.4572,  0.1289, -0.1662,  0.7493,  0.5094,\n",
              "          -2.1356, -1.3217],\n",
              "         [ 1.4417,  0.7327, -0.4075,  0.5497, -0.5079,  0.4935,  0.1801,\n",
              "          -1.9806, -1.1482],\n",
              "         [ 1.1472,  0.4693, -0.2040,  0.5344, -0.4866,  0.3859,  0.3272,\n",
              "          -1.9156, -1.3841],\n",
              "         [ 1.3234,  0.8839, -0.2515,  0.2512, -0.0698,  0.5871,  0.7182,\n",
              "          -2.1594, -1.2706],\n",
              "         [ 1.0345,  0.6972, -0.0493,  0.5630, -0.3253,  0.0839,  0.7363,\n",
              "          -1.7673, -1.4460],\n",
              "         [ 0.5613,  0.6279, -0.0458,  1.0116,  0.0473, -0.1784,  0.8300,\n",
              "          -1.1473, -1.1018]]], grad_fn=<ViewBackward0>), hidden_states=None, attentions=None)"
            ]
          },
          "metadata": {},
          "execution_count": 12
        }
      ]
    },
    {
      "cell_type": "markdown",
      "source": [
        "There are two important things in this object:\n",
        " - **loss**: This is the loss that the fine-tuning will try to minimise.\n",
        " - **logits**: This is the output of the whole model\n",
        "\n",
        "Let's examine each. First the logits is a [pytorch.tensor](https://pytorch.org/docs/stable/tensors.html). Let's see it's dimensions"
      ],
      "metadata": {
        "id": "wofd48P_HQlj"
      }
    },
    {
      "cell_type": "code",
      "source": [
        "output.logits.shape"
      ],
      "metadata": {
        "colab": {
          "base_uri": "https://localhost:8080/"
        },
        "id": "rzbUSIoh5u-M",
        "outputId": "cbdadfe0-052f-47b7-ebef-c0362babd657"
      },
      "execution_count": 13,
      "outputs": [
        {
          "output_type": "execute_result",
          "data": {
            "text/plain": [
              "torch.Size([1, 15, 9])"
            ]
          },
          "metadata": {},
          "execution_count": 13
        }
      ]
    },
    {
      "cell_type": "markdown",
      "source": [
        "The dimensions are explained below:\n",
        "  - 1: We've only given a single input text\n",
        "  - 15: The length of the input sequence\n",
        "  - 9: The number of labels\n",
        "\n",
        "For our custom model, we will want to output a tensor of this same dimension for the same input: `[1, 15, 9]`\n",
        "\n",
        "There is a score for each of the possible nine labels. Let's see the scores for the first token in the sequence:"
      ],
      "metadata": {
        "id": "VTvruT9NHv2N"
      }
    },
    {
      "cell_type": "code",
      "source": [
        "output.logits[0,0,:]"
      ],
      "metadata": {
        "colab": {
          "base_uri": "https://localhost:8080/"
        },
        "id": "a4NWGtNb7ds-",
        "outputId": "4c9beef3-90af-4742-c706-8845a0c6ce0e"
      },
      "execution_count": 14,
      "outputs": [
        {
          "output_type": "execute_result",
          "data": {
            "text/plain": [
              "tensor([ 1.6239,  0.4530, -0.2071, -0.0514, -0.4117,  0.5804,  0.4853, -2.3014,\n",
              "        -1.7350], grad_fn=<SliceBackward0>)"
            ]
          },
          "metadata": {},
          "execution_count": 14
        }
      ]
    },
    {
      "cell_type": "markdown",
      "source": [
        "You could use `.argmax` to find the label that has the highest score. We don't need to do that here.\n",
        "\n",
        "As an aside, these scores are often [softmaxxed](https://pytorch.org/docs/stable/generated/torch.nn.Softmax.html) to get nice scores between 0 and 1."
      ],
      "metadata": {
        "id": "aYIEFByiIAKk"
      }
    },
    {
      "cell_type": "code",
      "source": [
        "from scipy.special import softmax\n",
        "\n",
        "softmax(output.logits[0,0,:].tolist())"
      ],
      "metadata": {
        "colab": {
          "base_uri": "https://localhost:8080/"
        },
        "id": "S1mnv7gf9R2e",
        "outputId": "67f5c056-cbf0-48f1-a169-165cd66e4b74"
      },
      "execution_count": 15,
      "outputs": [
        {
          "output_type": "execute_result",
          "data": {
            "text/plain": [
              "array([0.39757951, 0.12328794, 0.06371286, 0.07444804, 0.05192478,\n",
              "       0.14003358, 0.1273403 , 0.00784731, 0.01382568])"
            ]
          },
          "metadata": {},
          "execution_count": 15
        }
      ]
    },
    {
      "cell_type": "markdown",
      "source": [
        "The other important output from this `AutoModelForTokenClassification` is the loss. This is a single number that the fine-tuning tries to minimise. It is calculated using the `logits` above when compared against the provided target `labels`."
      ],
      "metadata": {
        "id": "zgWbI8rtIc5N"
      }
    },
    {
      "cell_type": "code",
      "source": [
        "output.loss"
      ],
      "metadata": {
        "colab": {
          "base_uri": "https://localhost:8080/"
        },
        "id": "I61oXb3n9N2C",
        "outputId": "8949a6f4-f1c7-4b80-835b-ba469e8cf44a"
      },
      "execution_count": 16,
      "outputs": [
        {
          "output_type": "execute_result",
          "data": {
            "text/plain": [
              "tensor(2.7876, grad_fn=<NllLossBackward0>)"
            ]
          },
          "metadata": {},
          "execution_count": 16
        }
      ]
    },
    {
      "cell_type": "markdown",
      "source": [
        "## Create a custom TokenClassifierOutput\n",
        "\n",
        "Now let's say that we want to make our own model that can be used for TokenClassification but does things slightly differently.\n",
        "\n",
        "We might start off with a general-purpose `AutoModel` that doesn't have a final task-specific layer on it. If we wanted access to all the hidden layers, we can provide `output_hidden_states=True`."
      ],
      "metadata": {
        "id": "oMu3xApe4s-a"
      }
    },
    {
      "cell_type": "code",
      "source": [
        "from transformers import AutoModel\n",
        "\n",
        "model = AutoModel.from_pretrained(MODEL_NAME, output_hidden_states=True)"
      ],
      "metadata": {
        "id": "AbuMz2duEPm2"
      },
      "execution_count": 17,
      "outputs": []
    },
    {
      "cell_type": "markdown",
      "source": [
        "Then we can get the output of this model and rework it for what we need it to do."
      ],
      "metadata": {
        "id": "AbV6a05fJC-k"
      }
    },
    {
      "cell_type": "code",
      "source": [
        "output = model(**encoded)"
      ],
      "metadata": {
        "id": "gtrN2VFAE07F"
      },
      "execution_count": 18,
      "outputs": []
    },
    {
      "cell_type": "markdown",
      "source": [
        "We can get access to all the hidden states. Let's see how many and their dimensions."
      ],
      "metadata": {
        "id": "AQLibNHTJJ0x"
      }
    },
    {
      "cell_type": "code",
      "source": [
        "for i,hidden_state in enumerate(output.hidden_states):\n",
        "  print(i, hidden_state.shape)"
      ],
      "metadata": {
        "colab": {
          "base_uri": "https://localhost:8080/"
        },
        "id": "Zlj6Wr7rE12M",
        "outputId": "947bdafd-2b02-4843-ebf0-4ec3e3d712d6"
      },
      "execution_count": 19,
      "outputs": [
        {
          "output_type": "stream",
          "name": "stdout",
          "text": [
            "0 torch.Size([1, 15, 768])\n",
            "1 torch.Size([1, 15, 768])\n",
            "2 torch.Size([1, 15, 768])\n",
            "3 torch.Size([1, 15, 768])\n",
            "4 torch.Size([1, 15, 768])\n",
            "5 torch.Size([1, 15, 768])\n",
            "6 torch.Size([1, 15, 768])\n",
            "7 torch.Size([1, 15, 768])\n",
            "8 torch.Size([1, 15, 768])\n",
            "9 torch.Size([1, 15, 768])\n",
            "10 torch.Size([1, 15, 768])\n",
            "11 torch.Size([1, 15, 768])\n",
            "12 torch.Size([1, 15, 768])\n"
          ]
        }
      ]
    },
    {
      "cell_type": "markdown",
      "source": [
        "There are 12 hidden layers in a standard BERT model, but there are 13 hidden states? Why? Well, we've got the input and output of all 12 layers which comes to 13 sets of context vectors. And all the context vectors are of dimension 768 which is common for standard BERT models.\n",
        "\n",
        "Now our target shape is `[1, 15, 9]`. One of the hidden layers is almost there, but we need to make it a bit smaller. For this, we can use a fully-connected linear layer to go from 768 down to 9:"
      ],
      "metadata": {
        "id": "b4oLSGaxJcyh"
      }
    },
    {
      "cell_type": "code",
      "source": [
        "import torch\n",
        "\n",
        "linear = torch.nn.Linear(768, num_labels)"
      ],
      "metadata": {
        "id": "-OboPx513s_n"
      },
      "execution_count": 20,
      "outputs": []
    },
    {
      "cell_type": "markdown",
      "source": [
        "If we apply the linear layer to the final hidden state, we get the logits with the desired shape."
      ],
      "metadata": {
        "id": "3ryYSTksKOPG"
      }
    },
    {
      "cell_type": "code",
      "source": [
        "logits = linear(output.hidden_states[-1])\n",
        "logits.shape"
      ],
      "metadata": {
        "colab": {
          "base_uri": "https://localhost:8080/"
        },
        "id": "uzvyhRQr6KT1",
        "outputId": "f83d15bc-1636-423a-cb41-c07f3ce2950b"
      },
      "execution_count": 21,
      "outputs": [
        {
          "output_type": "execute_result",
          "data": {
            "text/plain": [
              "torch.Size([1, 15, 9])"
            ]
          },
          "metadata": {},
          "execution_count": 21
        }
      ]
    },
    {
      "cell_type": "markdown",
      "source": [
        "But we could also apply it to one of the intermediate hidden states!"
      ],
      "metadata": {
        "id": "IY4wM5q8KVUt"
      }
    },
    {
      "cell_type": "code",
      "source": [
        "logits = linear(output.hidden_states[5])\n",
        "logits.shape"
      ],
      "metadata": {
        "colab": {
          "base_uri": "https://localhost:8080/"
        },
        "id": "-3ukCpv_60La",
        "outputId": "b5c53a3b-885f-4d3e-a818-3e9ad020f00c"
      },
      "execution_count": 22,
      "outputs": [
        {
          "output_type": "execute_result",
          "data": {
            "text/plain": [
              "torch.Size([1, 15, 9])"
            ]
          },
          "metadata": {},
          "execution_count": 22
        }
      ]
    },
    {
      "cell_type": "markdown",
      "source": [
        "At the moment, the linear layer is not fine-tuned, so the output logits would be meaningless. But with fine-tuning, these logits could give us the scores for each of the nine labels, with the highest score being the predicted label for that token.\n",
        "\n",
        "To effectively train it, we need to calculate the loss between provided labels and the model's current logits for that input. Then the training process can slowly move the logits towards the desired labels. So how do we calculate the loss?\n",
        "\n",
        "First, remember what the labels look like. We've got one input sequence and an integer representing the labels for each of the fifteen tokens."
      ],
      "metadata": {
        "id": "nL7TJuewKZRG"
      }
    },
    {
      "cell_type": "code",
      "source": [
        "labels.shape"
      ],
      "metadata": {
        "colab": {
          "base_uri": "https://localhost:8080/"
        },
        "id": "sNxhq6Zc78PR",
        "outputId": "ceecf9db-c130-4c69-c8d0-a7a40058f803"
      },
      "execution_count": 23,
      "outputs": [
        {
          "output_type": "execute_result",
          "data": {
            "text/plain": [
              "torch.Size([1, 15])"
            ]
          },
          "metadata": {},
          "execution_count": 23
        }
      ]
    },
    {
      "cell_type": "markdown",
      "source": [
        "Now to calculate the loss, we use [CrossEntropyLoss](https://pytorch.org/docs/stable/generated/torch.nn.CrossEntropyLoss.html) which is used for multi-class classification problems. It expects two inputs:\n",
        "\n",
        "- The logits in the shape of (sample_count, num_labels)\n",
        "- The labels (as integers) in the shape (sample_count).\n",
        "\n",
        "We can use [.reshape](https://pytorch.org/docs/stable/generated/torch.reshape.html) as below to adjust the shapes accordingly. And recall that CrossEntropyLoss will nicely ignore the tokens with `-100` labels as they shouldn't contribute to the loss."
      ],
      "metadata": {
        "id": "vDzNVaN2MHfv"
      }
    },
    {
      "cell_type": "code",
      "source": [
        "loss_func = torch.nn.CrossEntropyLoss()\n",
        "loss = loss_func(logits.reshape(-1,num_labels), labels.reshape(-1))\n",
        "loss"
      ],
      "metadata": {
        "colab": {
          "base_uri": "https://localhost:8080/"
        },
        "id": "b95d_IHv7hHZ",
        "outputId": "49bae4fa-a8f4-4ec2-ef26-cfec1d6205c9"
      },
      "execution_count": 24,
      "outputs": [
        {
          "output_type": "execute_result",
          "data": {
            "text/plain": [
              "tensor(2.3545, grad_fn=<NllLossBackward0>)"
            ]
          },
          "metadata": {},
          "execution_count": 24
        }
      ]
    },
    {
      "cell_type": "markdown",
      "source": [
        "Now we've calculate the logits and loss, we can create a `TokenClassifierOutput` object that encapsulates them. Now it looks like we have an output similar to `AutoModelForTokenClassification`."
      ],
      "metadata": {
        "id": "58SFUViTMxf8"
      }
    },
    {
      "cell_type": "code",
      "source": [
        "from transformers.modeling_outputs import TokenClassifierOutput\n",
        "\n",
        "TokenClassifierOutput(loss=loss, logits=logits)"
      ],
      "metadata": {
        "colab": {
          "base_uri": "https://localhost:8080/"
        },
        "id": "vCsuDgf9_Oh5",
        "outputId": "0b71f6bc-a000-4490-b30b-b90ea54c7bf2"
      },
      "execution_count": 25,
      "outputs": [
        {
          "output_type": "execute_result",
          "data": {
            "text/plain": [
              "TokenClassifierOutput(loss=tensor(2.3545, grad_fn=<NllLossBackward0>), logits=tensor([[[-0.7257,  0.1261,  0.2513, -0.1950, -0.4206, -0.0177,  0.9735,\n",
              "          -0.7954, -0.6908],\n",
              "         [-0.5863,  0.3909,  0.3255, -0.6236, -0.1923,  0.0904,  0.8039,\n",
              "          -0.6539, -0.8246],\n",
              "         [ 0.1443,  0.1452,  0.0357, -0.5384,  0.4453, -0.2895,  0.1985,\n",
              "          -0.8318, -0.6544],\n",
              "         [-0.6492, -0.0659,  0.7838, -0.2551, -0.1202,  0.0188,  1.1917,\n",
              "          -0.5900, -0.9259],\n",
              "         [-0.5200,  0.4048,  0.4674, -0.5886, -0.1336,  0.2274,  0.8792,\n",
              "          -0.5888, -0.5039],\n",
              "         [-0.1510, -0.3334, -0.0940, -1.3177, -0.0819,  0.2822,  0.5376,\n",
              "          -0.7423, -0.6280],\n",
              "         [-0.2342, -0.2151, -0.1154, -1.1312, -0.4490,  0.6518,  1.0108,\n",
              "           0.0335, -0.6501],\n",
              "         [-0.6722, -0.3545, -0.1431, -0.9318, -0.0070, -0.0715,  1.0794,\n",
              "          -0.7420, -0.7918],\n",
              "         [-0.5958,  0.0806,  0.3105, -0.6504, -0.2293,  0.0511,  0.8867,\n",
              "          -0.7367, -0.8476],\n",
              "         [-0.5799, -0.9298,  0.5336, -0.3483, -0.1875,  0.4622,  0.0896,\n",
              "          -0.2034, -0.4833],\n",
              "         [-0.3941, -1.0358,  0.4985, -0.7733, -0.7757,  0.5775,  1.0032,\n",
              "          -0.2704, -0.9546],\n",
              "         [-0.4854, -0.5941,  0.3261, -0.2162, -0.4276,  0.6127,  1.1100,\n",
              "          -0.5463, -0.4043],\n",
              "         [-0.5122,  0.2121,  0.1786, -0.1346, -0.2611,  0.2363,  0.4328,\n",
              "          -0.6482, -0.7033],\n",
              "         [-0.6784,  0.3180,  0.0185, -0.3674, -0.4002,  0.0456,  0.9609,\n",
              "          -0.5953, -0.6600],\n",
              "         [-0.4239,  0.0460,  0.0075, -0.6956, -0.5457,  0.2184,  0.5404,\n",
              "          -0.6993, -0.5966]]], grad_fn=<ViewBackward0>), hidden_states=None, attentions=None)"
            ]
          },
          "metadata": {},
          "execution_count": 25
        }
      ]
    },
    {
      "cell_type": "markdown",
      "source": [
        "## Creating a custom model\n",
        "\n",
        "To actually use this custom approach, we need to wrap it up as a `torch.nn.Module`. The example class below takes the various steps from before and puts them into a single class"
      ],
      "metadata": {
        "id": "0gfAJQzg62Cl"
      }
    },
    {
      "cell_type": "code",
      "source": [
        "class CustomModel(torch.nn.Module):\n",
        "  def __init__(self, num_labels, hidden_layer):\n",
        "    super().__init__()\n",
        "    self.base_model = AutoModel.from_pretrained(MODEL_NAME, output_hidden_states = True)\n",
        "\n",
        "    self.num_labels = num_labels\n",
        "    self.hidden_layer = hidden_layer\n",
        "\n",
        "    self.linear = torch.nn.Linear(768, num_labels)\n",
        "    self.loss_func = torch.nn.CrossEntropyLoss()\n",
        "\n",
        "  def forward(self, input_ids, token_type_ids=None, attention_mask=None, labels=None):\n",
        "    output = self.base_model(input_ids=input_ids, token_type_ids=token_type_ids, attention_mask=attention_mask)\n",
        "\n",
        "    logits = self.linear(output.hidden_states[self.hidden_layer])\n",
        "\n",
        "    loss = None\n",
        "    if labels is not None: # If we're provided with labels, use them to calculate the loss\n",
        "      loss = self.loss_func(logits.reshape(-1,self.num_labels), labels.reshape(-1))\n",
        "\n",
        "    return TokenClassifierOutput(loss=loss, logits=logits)"
      ],
      "metadata": {
        "id": "VEbIa7gUFCw8"
      },
      "execution_count": 26,
      "outputs": []
    },
    {
      "cell_type": "markdown",
      "source": [
        "Note that the above class works very similarly to the actual implementation for the `AutoModelForTokenClassification`. You can have a look at `BertModelForTokenClassification` in the [HuggingFace source code](https://github.com/huggingface/transformers/blob/main/src/transformers/models/bert/modeling_bert.py#L1714)\n",
        "\n",
        "One key difference is that this implementation does not use [dropout](https://pytorch.org/docs/stable/generated/torch.nn.Dropout.html) which may be beneficial.\n",
        "\n",
        "Now we can create a model and even select which hidden_layer to connect to the output (and thereby removing some final layers from the calculation)."
      ],
      "metadata": {
        "id": "IS5HlCUkND5E"
      }
    },
    {
      "cell_type": "code",
      "source": [
        "model = CustomModel(num_labels=num_labels, hidden_layer=5)"
      ],
      "metadata": {
        "id": "B0BCKEbE_nqR"
      },
      "execution_count": 27,
      "outputs": []
    },
    {
      "cell_type": "markdown",
      "source": [
        "Let's pass in the tokenized text with the labels and see what we get"
      ],
      "metadata": {
        "id": "XILbUblONrjF"
      }
    },
    {
      "cell_type": "code",
      "source": [
        "output = model(**encoded_with_labels)\n",
        "output"
      ],
      "metadata": {
        "id": "JiHErUuvGAHU",
        "colab": {
          "base_uri": "https://localhost:8080/"
        },
        "outputId": "f17e854e-c28c-4d3d-dd88-a0a2fc606b50"
      },
      "execution_count": 28,
      "outputs": [
        {
          "output_type": "execute_result",
          "data": {
            "text/plain": [
              "TokenClassifierOutput(loss=tensor(2.2885, grad_fn=<NllLossBackward0>), logits=tensor([[[ 0.4321, -0.5317,  0.8398,  0.1393, -0.4323,  0.2329, -0.3783,\n",
              "           0.1467, -0.5762],\n",
              "         [ 0.5527, -0.6231,  1.2532,  0.4491,  0.1198,  0.0828, -0.0640,\n",
              "           0.1872, -0.6063],\n",
              "         [ 1.1288, -0.2954,  1.3737,  0.4369,  0.2266,  0.3522, -0.2014,\n",
              "           0.6996, -0.6206],\n",
              "         [ 0.7409, -0.3621,  0.7774,  0.8140, -0.2069,  0.0141, -0.4136,\n",
              "          -0.3533, -0.1180],\n",
              "         [ 1.1722, -0.6568,  1.1027,  0.2157, -0.1164,  0.0153, -0.0832,\n",
              "          -0.3034,  0.0688],\n",
              "         [ 0.2826, -0.1435,  0.7772,  0.6200,  0.2144,  0.1037, -0.1978,\n",
              "           0.1359, -0.0591],\n",
              "         [ 0.2379,  0.0087,  0.9060,  0.0091,  0.0130,  0.3740, -0.1898,\n",
              "           0.1617, -0.1956],\n",
              "         [ 0.2272, -0.3866,  0.9681,  0.5030, -0.1783,  0.3064, -0.5520,\n",
              "          -0.0882, -0.2468],\n",
              "         [ 0.6588, -0.5525,  1.1593,  0.3387,  0.4629,  0.2235, -0.3387,\n",
              "          -0.0639, -0.2114],\n",
              "         [ 0.0489, -0.6686,  0.7571,  0.3905,  1.2053,  0.1468, -0.5163,\n",
              "          -0.2842, -0.3687],\n",
              "         [ 0.0509, -0.9275,  1.2385, -0.0020,  0.1048,  0.1817, -0.5111,\n",
              "          -0.6547, -0.4313],\n",
              "         [ 0.6501, -0.3034,  1.1094,  0.3314,  0.2181,  0.1818, -0.6467,\n",
              "          -0.1204, -0.1428],\n",
              "         [ 0.3214, -0.9275,  0.6582,  0.0897,  0.3287, -0.3434, -0.3182,\n",
              "          -0.3206, -0.5063],\n",
              "         [ 0.3304, -0.4143,  0.6260,  0.3908, -0.2479,  0.3768, -0.1952,\n",
              "          -0.0849, -0.2899],\n",
              "         [ 0.4272, -0.4949,  0.9211,  0.2438, -0.1772,  0.4618, -0.3644,\n",
              "          -0.1461, -0.2881]]], grad_fn=<ViewBackward0>), hidden_states=None, attentions=None)"
            ]
          },
          "metadata": {},
          "execution_count": 28
        }
      ]
    },
    {
      "cell_type": "markdown",
      "source": [
        "Excellent. The [HuggingFace trainer](https://huggingface.co/docs/transformers/main_classes/trainer) can now be used to fine-tune the model on an appropriate dataset."
      ],
      "metadata": {
        "id": "IzavHjdgNxEi"
      }
    }
  ]
}