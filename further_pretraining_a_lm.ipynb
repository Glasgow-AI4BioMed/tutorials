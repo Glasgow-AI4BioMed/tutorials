{
 "cells": [
  {
   "cell_type": "markdown",
   "metadata": {
    "id": "7mrD64-jCI_n"
   },
   "source": [
    "[![Colab Badge Link](https://img.shields.io/badge/open-in%20colab-blue)](https://colab.research.google.com/github/Glasgow-AI4BioMed/tutorials/blob/main/further_pretraining_a_lm.ipynb)\n",
    "\n",
    "# Further pretraining a language model and generating text with it\n",
    "\n",
    "This Colab demonstrates taking a pretrained language model (distilgpt2 in this case), pretraining it further using the HuggingFace Trainer and then at the end generating new text with it.\n",
    "\n",
    "The first part is largely based on the [HuggingFace language modeling tutorial](https://huggingface.co/docs/transformers/tasks/language_modeling)."
   ]
  },
  {
   "cell_type": "markdown",
   "metadata": {
    "id": "qTPUqbwYCYH2"
   },
   "source": [
    "## Install dependencies\n",
    "\n",
    "If needed, you could install dependencies with the command below:\n",
    "\n",
    "```\n",
    "pip install transformers datasets accelerate\n",
    "```"
   ]
  },
  {
   "cell_type": "markdown",
   "metadata": {
    "id": "Eq7XS2ndC0dc"
   },
   "source": [
    "## Further pretraining a language model\n",
    "\n",
    "The first part is using some new text to further pretrain the language model"
   ]
  },
  {
   "cell_type": "markdown",
   "metadata": {
    "id": "F8XaqNkICcFW"
   },
   "source": [
    "### Get text to further pretrain\n",
    "\n",
    "We'll download [Shakespeare sonnets](https://raw.githubusercontent.com/brunoklein99/deep-learning-notes/master/shakespeare.txt) to further pretrain the language model on."
   ]
  },
  {
   "cell_type": "code",
   "execution_count": null,
   "metadata": {
    "colab": {
     "base_uri": "https://localhost:8080/"
    },
    "id": "Hs8VM88U-d7P",
    "outputId": "61635728-18d0-4e62-ec61-08e993a19839"
   },
   "outputs": [],
   "source": [
    "!wget https://raw.githubusercontent.com/brunoklein99/deep-learning-notes/master/shakespeare.txt"
   ]
  },
  {
   "cell_type": "markdown",
   "metadata": {
    "id": "GCoMptkaCofX"
   },
   "source": [
    "And we'll load it up and store it as one long string."
   ]
  },
  {
   "cell_type": "code",
   "execution_count": null,
   "metadata": {
    "id": "LfvvWD4-_Uf3"
   },
   "outputs": [],
   "source": [
    "with open('shakespeare.txt') as f:\n",
    "  shakespeare = [ line.strip() for line in f ]\n",
    "  shakespeare = shakespeare[4:] # Skip the title\n",
    "  shakespeare = \" \".join(shakespeare)"
   ]
  },
  {
   "cell_type": "markdown",
   "metadata": {
    "id": "PQXpdGBCG6H4"
   },
   "source": [
    "Let's see the beginning of that"
   ]
  },
  {
   "cell_type": "code",
   "execution_count": null,
   "metadata": {
    "colab": {
     "base_uri": "https://localhost:8080/",
     "height": 35
    },
    "id": "RqI4lVvLG6MJ",
    "outputId": "d878e67d-cec7-4f19-8516-1b214a6b293e"
   },
   "outputs": [],
   "source": [
    "shakespeare[:100]"
   ]
  },
  {
   "cell_type": "markdown",
   "metadata": {
    "id": "sDqguDq_CvYw"
   },
   "source": [
    "### Tokenize the text\n",
    "\n",
    "Now we'll tokenize the text and convert it to token IDs. We'll use the `distilgpt2` model here. Notably we're stuck with the previously created tokenizer so if there are new interesting words in our new text, we are unable to adapt the tokenizer to deal with them well and it may split them up strangely."
   ]
  },
  {
   "cell_type": "code",
   "execution_count": null,
   "metadata": {
    "colab": {
     "base_uri": "https://localhost:8080/",
     "height": 284,
     "referenced_widgets": [
      "7d785f4c266045c1bbea1dfa61f67987",
      "e67db7653db0495985b17a530437097b",
      "6ba180fe62a24dbea79bd6799c8eaaf7",
      "bf1fc765666d4160bdaf82765511a2d8",
      "fde23c6aa8c64b5caad763d2dfcc2c41",
      "4c8be9ab1c684468913727246f5df464",
      "72973f963b5848a4aa4ec5d50cb47e77",
      "9e4988da157448878ec3fd3ec00a1ef9",
      "86c3f575b05c402c9b2f4448492ba467",
      "258a2489eaaf42cfa2aea13f3574629e",
      "611c715546a145e08b0bb61cad414514",
      "8348b7a9df1640828642647b3b65d2a4",
      "63ccdeeb47224054b16d889bf1b8f138",
      "4b49ccaf6d184000a04a13037519b805",
      "40516209eb7440fa9c40339b8ae93561",
      "377a050a3efa41de88125dc24839278d",
      "43d3a1dd6fdf49f8b2cd51c907b11138",
      "9ebdc00932c44cc3af3547e6ea883a82",
      "c481a722e53947b5bffa51f63206851e",
      "1cd2eb9ec87a4aabbbde24ef267232e5",
      "09b36b67d0d6435a9640be50ba088231",
      "b95b4835060b4ef1b40f2a89b358ee67",
      "3faadf523ff54dea86845166e6d54665",
      "527f6addb51c449ea2af9195f625343e",
      "fce5dfe7848a46e89ce6b3a09c49a0f0",
      "40a760d0ef144d79a1bc7115bce6c1fb",
      "0aaa8bef49084c339cb7186b2f9432a8",
      "c8c146672aa749b8b173e2eb25e92163",
      "4925300901ba494c9813558f55960913",
      "279866f3500e46f3a433c36a65db0a35",
      "817c3530c67c4816b29e27a35ba44255",
      "f2b3d9312f4b4422ba944ee19b3d24a7",
      "c2db281b236244d8a1eaa9029a6fe63a",
      "986ad12022f04ef1ab02a91bd8a3bafd",
      "2fc64f29a1c04f81b61361824f996c74",
      "55ea38aa66864376bb19434909c32ecc",
      "24b7d3d84f384de8a1cc7d6d2d44ae11",
      "5300253013bf455fad8b41864b6a5521",
      "f948112a9810473892cb54e34973562b",
      "03acd52e9c8d401f9a7c97fa28bd7c8c",
      "cfe90da51c0a48ef8d2ca2462a659d5a",
      "227aaca26fd44ef985c49d32014f5e1d",
      "eac92432d57f4d50bd9f713d3e8c6f02",
      "88d2eeb9a228428993ca463271d5e224",
      "a226d4737d0d418fb36ff14448e203f2",
      "d6eacbae726c4e4d9f7b9ac774374e79",
      "021ecf50d3c34e21b4e5e9568fe3b6a0",
      "73389b55553745389917cdd347d4fb42",
      "827c2d399c7c4bda98e4ee3d71b56661",
      "1535175520a1421390736836889992c7",
      "55b733b46da843be8cf3caeaa7fb7204",
      "9cfa77ba86aa4395af5b376ed3bcdd17",
      "4439c0efa48c40daa2d56108238cd67f",
      "956e113d9d264bc38eb01889f659f005",
      "df128f76019f4b52bfb63145b9c9c108"
     ]
    },
    "id": "aOWlfS0X-50G",
    "outputId": "3e8be102-c216-45c3-f283-2bfbad60ea66"
   },
   "outputs": [],
   "source": [
    "from transformers import AutoTokenizer\n",
    "\n",
    "tokenizer = AutoTokenizer.from_pretrained(\"distilgpt2\")"
   ]
  },
  {
   "cell_type": "markdown",
   "metadata": {
    "id": "wXj7xbLnDejg"
   },
   "source": [
    "For instance, Shakespeare uses the word 'honorificabilitudinitatibus' in Love’s Labour’s Lost. Maybe it would be important that the tokenizer deals with it gracefully. As we're building on an existing language model, we have to keep the already existing tokenizer (and cannot create a new one). Let's see how it does."
   ]
  },
  {
   "cell_type": "code",
   "execution_count": null,
   "metadata": {
    "colab": {
     "base_uri": "https://localhost:8080/"
    },
    "id": "z-9TpehzDcqX",
    "outputId": "fb019eef-4243-4ea3-aad0-67950f9b2ca3"
   },
   "outputs": [],
   "source": [
    "tokenizer.tokenize('honorificabilitudinitatibus')"
   ]
  },
  {
   "cell_type": "markdown",
   "metadata": {
    "id": "fT-b3dyYDvEZ"
   },
   "source": [
    "Not great but probably doesn't matter too much here. This may be more important in domains such as biomedical text where there are a lot of uncommon words that a general-purpose tokenizer badly butchers into unhelpful subword tokens.\n",
    "\n",
    "Now let's tokenize our big bit of text."
   ]
  },
  {
   "cell_type": "code",
   "execution_count": null,
   "metadata": {
    "colab": {
     "base_uri": "https://localhost:8080/"
    },
    "id": "4W0QGv05_a-i",
    "outputId": "3b892c0d-622d-4ca6-8eb4-25143b5867b1"
   },
   "outputs": [],
   "source": [
    "tokenized = tokenizer(shakespeare)"
   ]
  },
  {
   "cell_type": "markdown",
   "metadata": {
    "id": "GraXsnJgEBmo"
   },
   "source": [
    "It gives a warning about the tokenized text being far longer than the maximum sequence for this model (1024). We need to split it into blocks to be processed one at a time.\n",
    "\n",
    "There are a few key fields that we'll examine: `input_ids` and `attention_mask`.\n",
    "\n",
    "First, we've got the `input_ids` that are the numeric token identifiers and the `attention_mask` which is used to tell the Transformer to ignore any padding (which we shouldn't have here). Let's just see the `input_ids`"
   ]
  },
  {
   "cell_type": "code",
   "execution_count": null,
   "metadata": {
    "colab": {
     "base_uri": "https://localhost:8080/"
    },
    "id": "lWHeZGH9ERxX",
    "outputId": "c1f54fef-b500-43f9-f0d9-f45d37315625"
   },
   "outputs": [],
   "source": [
    "tokenized['input_ids'][:10]"
   ]
  },
  {
   "cell_type": "markdown",
   "metadata": {
    "id": "KQeuwchYHLZn"
   },
   "source": [
    "We can check what those `input_ids` translate back to in text using the `.decode` function of the tokenizer."
   ]
  },
  {
   "cell_type": "code",
   "execution_count": null,
   "metadata": {
    "colab": {
     "base_uri": "https://localhost:8080/",
     "height": 35
    },
    "id": "S7Jx0cY8Gpca",
    "outputId": "e47e7196-0784-4972-a213-18d65a43e4c4"
   },
   "outputs": [],
   "source": [
    "tokenizer.decode([4863, 37063, 301, 8109, 356, 6227, 2620, 11, 1320, 12839])"
   ]
  },
  {
   "cell_type": "markdown",
   "metadata": {
    "id": "_UheLJslFP0o"
   },
   "source": [
    "What about the `attention_mask`? We don't have padding so this shouldn't show much. It should contain a `1` for tokens to pay attention to and `0` for tokens to ignore."
   ]
  },
  {
   "cell_type": "code",
   "execution_count": null,
   "metadata": {
    "colab": {
     "base_uri": "https://localhost:8080/"
    },
    "id": "eU1Si_SEFP8m",
    "outputId": "7b9f931c-380a-49e6-a847-ed19b627571e"
   },
   "outputs": [],
   "source": [
    "tokenized['attention_mask'][:10]"
   ]
  },
  {
   "cell_type": "markdown",
   "metadata": {
    "id": "sFWkplOFHd0x"
   },
   "source": [
    "All `1`s. In fact, if we check the whole `attention_mask` there are only 1s as we have no padding and hence no tokens to ignore."
   ]
  },
  {
   "cell_type": "code",
   "execution_count": null,
   "metadata": {
    "colab": {
     "base_uri": "https://localhost:8080/"
    },
    "id": "FfYwGnAWGgcS",
    "outputId": "62c169e1-7579-47b2-bf6b-6b0965e7e4a0"
   },
   "outputs": [],
   "source": [
    "set(tokenized['attention_mask'])"
   ]
  },
  {
   "cell_type": "markdown",
   "metadata": {
    "id": "Ob_u76wmENES"
   },
   "source": [
    "### Splitting the dataset into blocks\n",
    "\n",
    "How many tokens do we have in the whole corpus?"
   ]
  },
  {
   "cell_type": "code",
   "execution_count": null,
   "metadata": {
    "colab": {
     "base_uri": "https://localhost:8080/"
    },
    "id": "5ByVNSTyEVko",
    "outputId": "72a0ce02-2dd3-4c9b-ec0e-39317f3952f4"
   },
   "outputs": [],
   "source": [
    "total_length = len(tokenized['input_ids'])\n",
    "total_length"
   ]
  },
  {
   "cell_type": "markdown",
   "metadata": {
    "id": "VXnuWcUmEVFH"
   },
   "source": [
    "As noted in a warning when we tokenized the text, it's too long to process in one go. We need to split it into chunks. Let's follow the [HuggingFace tutorial](https://huggingface.co/docs/transformers/tasks/language_modeling)'s choice of 128."
   ]
  },
  {
   "cell_type": "code",
   "execution_count": null,
   "metadata": {
    "id": "2bvek8SGEWg-"
   },
   "outputs": [],
   "source": [
    "block_size = 128"
   ]
  },
  {
   "cell_type": "markdown",
   "metadata": {
    "id": "uKxNQSJ7Ezsn"
   },
   "source": [
    "And for simplicity, we want our total length to be an exact multiple of the block size, so let's make that happen:"
   ]
  },
  {
   "cell_type": "code",
   "execution_count": null,
   "metadata": {
    "colab": {
     "base_uri": "https://localhost:8080/"
    },
    "id": "Iq5x1ZHpEWtf",
    "outputId": "09d031db-c12e-42ad-85f1-862d65dbeab8"
   },
   "outputs": [],
   "source": [
    "total_length = (total_length // block_size) * block_size\n",
    "total_length"
   ]
  },
  {
   "cell_type": "markdown",
   "metadata": {
    "id": "ieo6-I6oFbpY"
   },
   "source": [
    "Now we block up the `input_ids` and `attention_mask` in `tokenized` into blocks of length 128"
   ]
  },
  {
   "cell_type": "code",
   "execution_count": null,
   "metadata": {
    "id": "d15N7Px6ADBe"
   },
   "outputs": [],
   "source": [
    "tokenized_blocks = {\n",
    "    k: [t[i : i + block_size] for i in range(0, total_length, block_size)] for k, t in tokenized.items()\n",
    "}"
   ]
  },
  {
   "cell_type": "markdown",
   "metadata": {
    "id": "GdZke46LFll3"
   },
   "source": [
    "How many blocks have we got?"
   ]
  },
  {
   "cell_type": "code",
   "execution_count": null,
   "metadata": {
    "colab": {
     "base_uri": "https://localhost:8080/"
    },
    "id": "HXLaGYWWFlD_",
    "outputId": "50c047f3-28f7-40c1-c743-2282696128b6"
   },
   "outputs": [],
   "source": [
    "len(tokenized_blocks['input_ids'])"
   ]
  },
  {
   "cell_type": "markdown",
   "metadata": {
    "id": "IRrx7uXwE8-K"
   },
   "source": [
    "We're going to be training using this data so we need to tell the system what the expected output is. In causal language modelling, we're doing next token prediction. Hence the tokens that are used as input are effectively the intended outputs as well. Practically, they are shifted over by one, so that the target output token for an input token is the next one (and not itself). But HuggingFace does that shift for us, and we just copy the `input_ids` in as a field called `labels` that the Trainer picks up."
   ]
  },
  {
   "cell_type": "code",
   "execution_count": null,
   "metadata": {
    "id": "D2D04zhBE9DB"
   },
   "outputs": [],
   "source": [
    "tokenized_blocks[\"labels\"] = tokenized_blocks[\"input_ids\"].copy()"
   ]
  },
  {
   "cell_type": "markdown",
   "metadata": {
    "id": "Dyob-iu0GQXX"
   },
   "source": [
    "### Creating a Dataset object\n",
    "\n",
    "Before we can start running this, we need to turn this data into a `Dataset` object that HuggingFace is happy to play with. We can use the `from_dict` function for that"
   ]
  },
  {
   "cell_type": "code",
   "execution_count": null,
   "metadata": {
    "colab": {
     "base_uri": "https://localhost:8080/"
    },
    "id": "ZE01hUe9A7bI",
    "outputId": "ff37d1ac-2362-4b82-d8e2-a20d4e5a476c"
   },
   "outputs": [],
   "source": [
    "from datasets import Dataset\n",
    "\n",
    "lm_dataset = Dataset.from_dict(tokenized_blocks)\n",
    "lm_dataset"
   ]
  },
  {
   "cell_type": "markdown",
   "metadata": {
    "id": "Q2jUPLizGT4h"
   },
   "source": [
    "And practically we want a training set and a validation set so that we can watch the various metrics to understand how well the model is training and generalizing. We can use the `.train_test_split` function of the `Dataset` object for this."
   ]
  },
  {
   "cell_type": "code",
   "execution_count": null,
   "metadata": {
    "colab": {
     "base_uri": "https://localhost:8080/"
    },
    "id": "OAk_KIAiGV8H",
    "outputId": "0e8a7782-c80d-4de9-f230-6d7391023d8a"
   },
   "outputs": [],
   "source": [
    "lm_dataset = lm_dataset.train_test_split(test_size=0.2, shuffle=True)\n",
    "lm_dataset"
   ]
  },
  {
   "cell_type": "markdown",
   "metadata": {
    "id": "zF3n94-HIboh"
   },
   "source": [
    "### Training!\n",
    "\n",
    "Now we get ready to actually train the language model. First we set up a `DataCollatorForLanguageModeling` which does the nice job of moving data around and getting things in the right place and right form for our task (language modelling). We use `mlm=False` which tells it we are not doing a masked language modeling task, instead we are doing causal language modeling."
   ]
  },
  {
   "cell_type": "code",
   "execution_count": null,
   "metadata": {
    "id": "bsFt6lbBARcx"
   },
   "outputs": [],
   "source": [
    "from transformers import DataCollatorForLanguageModeling\n",
    "\n",
    "tokenizer.pad_token = tokenizer.eos_token\n",
    "\n",
    "data_collator = DataCollatorForLanguageModeling(tokenizer=tokenizer, mlm=False)"
   ]
  },
  {
   "cell_type": "markdown",
   "metadata": {
    "id": "3m2ERfQKIynM"
   },
   "source": [
    "Now we load the pretrained `distilgpt2` model. This has already been trained on lots of text, and we're going to take it a bit further and trained it with the Shakespeare text."
   ]
  },
  {
   "cell_type": "code",
   "execution_count": null,
   "metadata": {
    "colab": {
     "base_uri": "https://localhost:8080/",
     "height": 81,
     "referenced_widgets": [
      "d813ba2de2b643aab7fab41c8d66986c",
      "55f7a9cb03ed44189d9ffe9c86bef505",
      "9171b6b1d6a64e92aafdda1b6a010bdc",
      "ded782e3ddf8406190299ba06cfd81ea",
      "bc7d662528c64ff6a3c4357c838534e5",
      "b759a7ad859549c8b7804d00992a5bc2",
      "a344ddf07e3d469d9756876fa76ad14a",
      "678edb1a08294e9791a0ffa0425d8498",
      "712f00dd33d542eb8617b15605d5e287",
      "e12c61fc89a040bab81f0f6c87054573",
      "1ef97c9c1bf54cabb751e3b2ff705858",
      "010ed6a0c0ba4c2baac64b3dd51a851c",
      "a862ea3a10124b66baf9ad0ce6079e94",
      "45fe17e0dfab400ca92334ca17b854ff",
      "d0ad386f88a44871892ac2eca4931799",
      "29c064c82f1b406382904f545b139eb2",
      "4ca842315bdb406d92c66d513e442d20",
      "ae52a0795ce341f8ad1cdd15755b632b",
      "d54b869d4a474546bad939fcaf9149f8",
      "3537ef4212934388ac954e7d880c4397",
      "04627fa6beea4cb2b1dc55dfeb07b0f1",
      "cf496377b9664ab6a08447b4cee63e85"
     ]
    },
    "id": "ybMN3gkIAk9G",
    "outputId": "0564350b-b5cc-42a0-fe52-1c29d65f1591"
   },
   "outputs": [],
   "source": [
    "from transformers import AutoModelForCausalLM, TrainingArguments, Trainer\n",
    "\n",
    "model = AutoModelForCausalLM.from_pretrained(\"distilgpt2\")"
   ]
  },
  {
   "cell_type": "markdown",
   "metadata": {
    "id": "IHA2NbslJFBI"
   },
   "source": [
    "And now for some actual training. Realistically, you would need to try many parameter settings, monitor the validation loss and decide the best set up. But for now, we'll just pick some values.\n",
    "\n",
    "**Importantly:** We haven't told HuggingFace anything about GPUs, but it will, by default, check if one is available and use it. This lab should have a GPU so should run quickly."
   ]
  },
  {
   "cell_type": "code",
   "execution_count": null,
   "metadata": {
    "colab": {
     "base_uri": "https://localhost:8080/",
     "height": 225
    },
    "id": "I9c91EojAa6K",
    "outputId": "0762fcf9-9887-41ef-8cba-7f57430c4654"
   },
   "outputs": [],
   "source": [
    "training_args = TrainingArguments(\n",
    "    output_dir=\"notused\", # Use save_strategy=\"no\" to not dump out to file\n",
    "    save_strategy=\"no\", # We'll save the model ourselves at the end (but may want to when longer slower training)\n",
    "    eval_strategy=\"epoch\",\n",
    "    learning_rate=2e-5,\n",
    "    weight_decay=0.01,\n",
    "    num_train_epochs=3,\n",
    "    report_to=\"none\" # Let's not use wandb here\n",
    ")\n",
    "\n",
    "trainer = Trainer(\n",
    "    model=model,\n",
    "    args=training_args,\n",
    "    train_dataset=lm_dataset[\"train\"],\n",
    "    eval_dataset=lm_dataset[\"test\"],\n",
    "    data_collator=data_collator,\n",
    ")\n",
    "\n",
    "trainer.train()"
   ]
  },
  {
   "cell_type": "markdown",
   "metadata": {
    "id": "LXetvTM-Ja_K"
   },
   "source": [
    "Yay, we've trained a model. It would be a good idea to try different hyperparameters (e.g. more epochs, different learning rate, etc) to see what extra performance can be achieved.\n",
    "\n",
    "Now we'll save the model to disk where it could be loaded in another process and used for generation. You could also use the `trainer.save_model` function here."
   ]
  },
  {
   "cell_type": "code",
   "execution_count": null,
   "metadata": {
    "id": "pMHImCigBeAe"
   },
   "outputs": [],
   "source": [
    "model.save_pretrained(\"shakespeare_model\")"
   ]
  },
  {
   "cell_type": "markdown",
   "metadata": {
    "id": "ffxH4IWOLyMI"
   },
   "source": [
    "You can also save the tokenizer (though nothing has changed as we used an unchanged `distilgpt2` tokenizer)."
   ]
  },
  {
   "cell_type": "code",
   "execution_count": null,
   "metadata": {
    "colab": {
     "base_uri": "https://localhost:8080/"
    },
    "id": "jZmkgHzZNL0j",
    "outputId": "62cba3db-479d-4704-f8a5-cb29c8398707"
   },
   "outputs": [],
   "source": [
    "tokenizer.save_pretrained(\"shakespeare_model\")"
   ]
  },
  {
   "cell_type": "markdown",
   "metadata": {
    "id": "-jlll8OoNXw7"
   },
   "source": [
    "Let's see what the files look like. The important one is `config.json` that HuggingFace looks for when it tries to load a model."
   ]
  },
  {
   "cell_type": "code",
   "execution_count": null,
   "metadata": {
    "colab": {
     "base_uri": "https://localhost:8080/"
    },
    "id": "-w156WkdL3BY",
    "outputId": "fb98e845-e268-4a24-e0ec-bf91b50d8d78"
   },
   "outputs": [],
   "source": [
    "!ls shakespeare_model"
   ]
  },
  {
   "cell_type": "markdown",
   "metadata": {
    "id": "tTEGO8sRJ-TY"
   },
   "source": [
    "## Using a language model for generating text\n",
    "\n",
    "We'll use a text generation pipeline now. We can either provide a specific model & tokenizer (which may be helpful if we need to do some custom things) or give it the name for it to load itself.\n",
    "\n",
    "Now let's do the longer way first where we loaded the model/tokenizer ourselves:\n",
    "\n",
    "**Importantly:** We do need to tell the pipeline to use the GPU here (with `device='cuda:0'`)"
   ]
  },
  {
   "cell_type": "code",
   "execution_count": null,
   "metadata": {
    "colab": {
     "base_uri": "https://localhost:8080/"
    },
    "id": "bEalpqj3JQ7y",
    "outputId": "83127de9-1353-482e-eb9d-dbf626729628"
   },
   "outputs": [],
   "source": [
    "from transformers import AutoModelForCausalLM, AutoTokenizer, pipeline\n",
    "\n",
    "# This loads the model and tokenizer from disk\n",
    "model = AutoModelForCausalLM.from_pretrained(\"shakespeare_model\")\n",
    "tokenizer = AutoTokenizer.from_pretrained(\"shakespeare_model\") # Could also have loaded the `distilgpt2` tokenizer as it is the same\n",
    "\n",
    "generator = pipeline(\"text-generation\", model=model, tokenizer=tokenizer, device='cuda:0')"
   ]
  },
  {
   "cell_type": "markdown",
   "metadata": {
    "id": "OlGZhuijsRZ5"
   },
   "source": [
    "Alternatively the equivalent way of loading it is below by giving the name (`\"shakespeare_model\"`) that we saved it with earlier. HuggingFace will always search the local directory first for that model before going to the [Huggingface Hub](https://huggingface.co/docs/hub/index) and downloading it (if one there matches)."
   ]
  },
  {
   "cell_type": "code",
   "execution_count": null,
   "metadata": {
    "colab": {
     "base_uri": "https://localhost:8080/"
    },
    "id": "aZMGx2NusGhf",
    "outputId": "1cbb3a6e-d3df-4808-d82e-272c3b44d965"
   },
   "outputs": [],
   "source": [
    "generator = pipeline(\"text-generation\", model=\"shakespeare_model\", device='cuda:0')"
   ]
  },
  {
   "cell_type": "markdown",
   "metadata": {
    "id": "aN2UugtnN_w6"
   },
   "source": [
    "Now we can pass in some text to the text generation pipeline. We need to tell it how many extra tokens to generate with `max_new_tokens`."
   ]
  },
  {
   "cell_type": "code",
   "execution_count": null,
   "metadata": {
    "colab": {
     "base_uri": "https://localhost:8080/"
    },
    "id": "_2ReLgDvN2fe",
    "outputId": "eb500a2c-a71d-41e0-ecde-a82a1f51ee75"
   },
   "outputs": [],
   "source": [
    "generator(\"Is that a dagger which I see\", max_new_tokens=20)"
   ]
  },
  {
   "cell_type": "markdown",
   "metadata": {
    "id": "JRfJ9nKKOSMp"
   },
   "source": [
    "We can also pass in a few sequences:"
   ]
  },
  {
   "cell_type": "code",
   "execution_count": null,
   "metadata": {
    "colab": {
     "base_uri": "https://localhost:8080/"
    },
    "id": "_ZrcjXEdN8a2",
    "outputId": "0797ba06-a027-4935-e691-564c73150ecf"
   },
   "outputs": [],
   "source": [
    "several_sequences = [\n",
    "    \"To be, or not to\",\n",
    "    \"All the world's a\",\n",
    "    \"A horse! a horse! my kingdom for a\",\n",
    "    \"Friends, Romans, countrymen, lend me your\"\n",
    "]\n",
    "\n",
    "generator(several_sequences, max_new_tokens=20)"
   ]
  },
  {
   "cell_type": "markdown",
   "metadata": {
    "id": "1w0O3JQfPJlM"
   },
   "source": [
    "There are various parameters for text generation. The defaults may be set in `model.generation_config` or fallback to the defaults in the [GenerationConfig documentation](https://huggingface.co/docs/transformers/v4.30.0/main_classes/text_generation).\n",
    "\n",
    "Let's examine setting a few of them manually. We'll explicitly ask for three possible sequences (using `num_return_sequences=3`) using sampling (`do_sample=True`) so that there is a random factor in generation. Sampling works well for making interesting text, but for experiments with a language model it is more typical to not use sampling."
   ]
  },
  {
   "cell_type": "code",
   "execution_count": null,
   "metadata": {
    "colab": {
     "base_uri": "https://localhost:8080/"
    },
    "id": "X3xDx5_UTHUK",
    "outputId": "d4d2e5fa-1960-4873-8a15-4e64fc24669a"
   },
   "outputs": [],
   "source": [
    "generator(\"Is that a dagger which I see\", max_new_tokens=20, do_sample=True, num_return_sequences=3)"
   ]
  },
  {
   "cell_type": "markdown",
   "metadata": {
    "id": "4zgHDVxETxi6"
   },
   "source": [
    "To generate some text deterministically without sampling (which is often the approach for experiments on language models), use `do_sample=False`. This outputs the most likely token each time."
   ]
  },
  {
   "cell_type": "code",
   "execution_count": null,
   "metadata": {
    "colab": {
     "base_uri": "https://localhost:8080/"
    },
    "id": "W0FtlmiXTVaS",
    "outputId": "0246f72f-2f44-4d13-d03a-3111f681ea1b"
   },
   "outputs": [],
   "source": [
    "generator(\"Is that a dagger which I see\", max_new_tokens=20, do_sample=False)"
   ]
  },
  {
   "cell_type": "markdown",
   "metadata": {
    "id": "8VIfgHwuUBcr"
   },
   "source": [
    "You can also set `top_p` which is one factor to filter out less common tokens (and reduce the likelihood of it generating really odd looking text)."
   ]
  },
  {
   "cell_type": "code",
   "execution_count": null,
   "metadata": {
    "colab": {
     "base_uri": "https://localhost:8080/"
    },
    "id": "7WBKaYU0O4QC",
    "outputId": "75ef85b9-4e71-4de7-b0ac-91c23159756f"
   },
   "outputs": [],
   "source": [
    "generator(\"Is that a dagger which I see\", max_new_tokens=20, do_sample=True, top_p=0.7)"
   ]
  },
  {
   "cell_type": "markdown",
   "metadata": {
    "id": "6vt55wEoUKKK"
   },
   "source": [
    "Or `temperature`. See [this page](https://lukesalamone.github.io/posts/what-is-temperature/) for more of an explanation. Low temperature makes it more deterministic, higher temperature makes it more \"creative\"."
   ]
  },
  {
   "cell_type": "code",
   "execution_count": null,
   "metadata": {
    "colab": {
     "base_uri": "https://localhost:8080/"
    },
    "id": "Zhcw9ULrPW51",
    "outputId": "dec771f1-885a-4675-c0ff-720cd7559a78"
   },
   "outputs": [],
   "source": [
    "generator(\"Is that a dagger which I see\", max_new_tokens=20, do_sample=True, temperature=0.1)"
   ]
  },
  {
   "cell_type": "markdown",
   "metadata": {
    "id": "wTzgKv6cVmCs"
   },
   "source": [
    "You could also use `return_full_text=False` to only get the new generated text (instead of it all)."
   ]
  },
  {
   "cell_type": "code",
   "execution_count": null,
   "metadata": {
    "colab": {
     "base_uri": "https://localhost:8080/"
    },
    "id": "PZOfodrqVmaT",
    "outputId": "8b6c0b17-96ce-4788-e55b-0a1a26720415"
   },
   "outputs": [],
   "source": [
    "generator(\"Is that a dagger which I see\", max_new_tokens=20, do_sample=False, return_full_text=False)"
   ]
  },
  {
   "cell_type": "markdown",
   "metadata": {
    "id": "vAmxa4M0Ufcr"
   },
   "source": [
    "There are lot of different parameters that can be explored for using sampling in text (with `do_sample=True`). However, there are plenty of scenarios where you don't want sampling. The parameters can be examined on the [GenerationConfig documentation page](https://huggingface.co/docs/transformers/v4.30.0/main_classes/text_generation)."
   ]
  },
  {
   "cell_type": "markdown",
   "metadata": {
    "id": "I6tXxCPFUgpq"
   },
   "source": [
    "## Further Reading\n",
    "\n",
    "HuggingFace provides a good [blog post](https://huggingface.co/blog/how-to-generate) about language generation that goes over many of the techniques including beam search. Note again that many of these techniques use sampling (and will be non-deterministic) which isn't always what is desired. It depends on the problem. There's also details of the different generation algorithms on [this page](https://huggingface.co/docs/transformers/v4.30.0/generation_strategies)."
   ]
  }
 ],
 "metadata": {
  "accelerator": "GPU",
  "colab": {
   "gpuType": "T4",
   "provenance": [],
   "toc_visible": true
  },
  "kernelspec": {
   "display_name": "Python 3",
   "name": "python3"
  },
  "language_info": {
   "name": "python"
  },
  "widgets": {
   "application/vnd.jupyter.widget-state+json": {
    "010ed6a0c0ba4c2baac64b3dd51a851c": {
     "model_module": "@jupyter-widgets/controls",
     "model_module_version": "1.5.0",
     "model_name": "HBoxModel",
     "state": {
      "_dom_classes": [],
      "_model_module": "@jupyter-widgets/controls",
      "_model_module_version": "1.5.0",
      "_model_name": "HBoxModel",
      "_view_count": null,
      "_view_module": "@jupyter-widgets/controls",
      "_view_module_version": "1.5.0",
      "_view_name": "HBoxView",
      "box_style": "",
      "children": [
       "IPY_MODEL_a862ea3a10124b66baf9ad0ce6079e94",
       "IPY_MODEL_45fe17e0dfab400ca92334ca17b854ff",
       "IPY_MODEL_d0ad386f88a44871892ac2eca4931799"
      ],
      "layout": "IPY_MODEL_29c064c82f1b406382904f545b139eb2"
     }
    },
    "021ecf50d3c34e21b4e5e9568fe3b6a0": {
     "model_module": "@jupyter-widgets/controls",
     "model_module_version": "1.5.0",
     "model_name": "FloatProgressModel",
     "state": {
      "_dom_classes": [],
      "_model_module": "@jupyter-widgets/controls",
      "_model_module_version": "1.5.0",
      "_model_name": "FloatProgressModel",
      "_view_count": null,
      "_view_module": "@jupyter-widgets/controls",
      "_view_module_version": "1.5.0",
      "_view_name": "ProgressView",
      "bar_style": "success",
      "description": "",
      "description_tooltip": null,
      "layout": "IPY_MODEL_9cfa77ba86aa4395af5b376ed3bcdd17",
      "max": 1355256,
      "min": 0,
      "orientation": "horizontal",
      "style": "IPY_MODEL_4439c0efa48c40daa2d56108238cd67f",
      "value": 1355256
     }
    },
    "03acd52e9c8d401f9a7c97fa28bd7c8c": {
     "model_module": "@jupyter-widgets/controls",
     "model_module_version": "1.5.0",
     "model_name": "DescriptionStyleModel",
     "state": {
      "_model_module": "@jupyter-widgets/controls",
      "_model_module_version": "1.5.0",
      "_model_name": "DescriptionStyleModel",
      "_view_count": null,
      "_view_module": "@jupyter-widgets/base",
      "_view_module_version": "1.2.0",
      "_view_name": "StyleView",
      "description_width": ""
     }
    },
    "04627fa6beea4cb2b1dc55dfeb07b0f1": {
     "model_module": "@jupyter-widgets/base",
     "model_module_version": "1.2.0",
     "model_name": "LayoutModel",
     "state": {
      "_model_module": "@jupyter-widgets/base",
      "_model_module_version": "1.2.0",
      "_model_name": "LayoutModel",
      "_view_count": null,
      "_view_module": "@jupyter-widgets/base",
      "_view_module_version": "1.2.0",
      "_view_name": "LayoutView",
      "align_content": null,
      "align_items": null,
      "align_self": null,
      "border": null,
      "bottom": null,
      "display": null,
      "flex": null,
      "flex_flow": null,
      "grid_area": null,
      "grid_auto_columns": null,
      "grid_auto_flow": null,
      "grid_auto_rows": null,
      "grid_column": null,
      "grid_gap": null,
      "grid_row": null,
      "grid_template_areas": null,
      "grid_template_columns": null,
      "grid_template_rows": null,
      "height": null,
      "justify_content": null,
      "justify_items": null,
      "left": null,
      "margin": null,
      "max_height": null,
      "max_width": null,
      "min_height": null,
      "min_width": null,
      "object_fit": null,
      "object_position": null,
      "order": null,
      "overflow": null,
      "overflow_x": null,
      "overflow_y": null,
      "padding": null,
      "right": null,
      "top": null,
      "visibility": null,
      "width": null
     }
    },
    "09b36b67d0d6435a9640be50ba088231": {
     "model_module": "@jupyter-widgets/base",
     "model_module_version": "1.2.0",
     "model_name": "LayoutModel",
     "state": {
      "_model_module": "@jupyter-widgets/base",
      "_model_module_version": "1.2.0",
      "_model_name": "LayoutModel",
      "_view_count": null,
      "_view_module": "@jupyter-widgets/base",
      "_view_module_version": "1.2.0",
      "_view_name": "LayoutView",
      "align_content": null,
      "align_items": null,
      "align_self": null,
      "border": null,
      "bottom": null,
      "display": null,
      "flex": null,
      "flex_flow": null,
      "grid_area": null,
      "grid_auto_columns": null,
      "grid_auto_flow": null,
      "grid_auto_rows": null,
      "grid_column": null,
      "grid_gap": null,
      "grid_row": null,
      "grid_template_areas": null,
      "grid_template_columns": null,
      "grid_template_rows": null,
      "height": null,
      "justify_content": null,
      "justify_items": null,
      "left": null,
      "margin": null,
      "max_height": null,
      "max_width": null,
      "min_height": null,
      "min_width": null,
      "object_fit": null,
      "object_position": null,
      "order": null,
      "overflow": null,
      "overflow_x": null,
      "overflow_y": null,
      "padding": null,
      "right": null,
      "top": null,
      "visibility": null,
      "width": null
     }
    },
    "0aaa8bef49084c339cb7186b2f9432a8": {
     "model_module": "@jupyter-widgets/base",
     "model_module_version": "1.2.0",
     "model_name": "LayoutModel",
     "state": {
      "_model_module": "@jupyter-widgets/base",
      "_model_module_version": "1.2.0",
      "_model_name": "LayoutModel",
      "_view_count": null,
      "_view_module": "@jupyter-widgets/base",
      "_view_module_version": "1.2.0",
      "_view_name": "LayoutView",
      "align_content": null,
      "align_items": null,
      "align_self": null,
      "border": null,
      "bottom": null,
      "display": null,
      "flex": null,
      "flex_flow": null,
      "grid_area": null,
      "grid_auto_columns": null,
      "grid_auto_flow": null,
      "grid_auto_rows": null,
      "grid_column": null,
      "grid_gap": null,
      "grid_row": null,
      "grid_template_areas": null,
      "grid_template_columns": null,
      "grid_template_rows": null,
      "height": null,
      "justify_content": null,
      "justify_items": null,
      "left": null,
      "margin": null,
      "max_height": null,
      "max_width": null,
      "min_height": null,
      "min_width": null,
      "object_fit": null,
      "object_position": null,
      "order": null,
      "overflow": null,
      "overflow_x": null,
      "overflow_y": null,
      "padding": null,
      "right": null,
      "top": null,
      "visibility": null,
      "width": null
     }
    },
    "1535175520a1421390736836889992c7": {
     "model_module": "@jupyter-widgets/base",
     "model_module_version": "1.2.0",
     "model_name": "LayoutModel",
     "state": {
      "_model_module": "@jupyter-widgets/base",
      "_model_module_version": "1.2.0",
      "_model_name": "LayoutModel",
      "_view_count": null,
      "_view_module": "@jupyter-widgets/base",
      "_view_module_version": "1.2.0",
      "_view_name": "LayoutView",
      "align_content": null,
      "align_items": null,
      "align_self": null,
      "border": null,
      "bottom": null,
      "display": null,
      "flex": null,
      "flex_flow": null,
      "grid_area": null,
      "grid_auto_columns": null,
      "grid_auto_flow": null,
      "grid_auto_rows": null,
      "grid_column": null,
      "grid_gap": null,
      "grid_row": null,
      "grid_template_areas": null,
      "grid_template_columns": null,
      "grid_template_rows": null,
      "height": null,
      "justify_content": null,
      "justify_items": null,
      "left": null,
      "margin": null,
      "max_height": null,
      "max_width": null,
      "min_height": null,
      "min_width": null,
      "object_fit": null,
      "object_position": null,
      "order": null,
      "overflow": null,
      "overflow_x": null,
      "overflow_y": null,
      "padding": null,
      "right": null,
      "top": null,
      "visibility": null,
      "width": null
     }
    },
    "1cd2eb9ec87a4aabbbde24ef267232e5": {
     "model_module": "@jupyter-widgets/controls",
     "model_module_version": "1.5.0",
     "model_name": "ProgressStyleModel",
     "state": {
      "_model_module": "@jupyter-widgets/controls",
      "_model_module_version": "1.5.0",
      "_model_name": "ProgressStyleModel",
      "_view_count": null,
      "_view_module": "@jupyter-widgets/base",
      "_view_module_version": "1.2.0",
      "_view_name": "StyleView",
      "bar_color": null,
      "description_width": ""
     }
    },
    "1ef97c9c1bf54cabb751e3b2ff705858": {
     "model_module": "@jupyter-widgets/controls",
     "model_module_version": "1.5.0",
     "model_name": "DescriptionStyleModel",
     "state": {
      "_model_module": "@jupyter-widgets/controls",
      "_model_module_version": "1.5.0",
      "_model_name": "DescriptionStyleModel",
      "_view_count": null,
      "_view_module": "@jupyter-widgets/base",
      "_view_module_version": "1.2.0",
      "_view_name": "StyleView",
      "description_width": ""
     }
    },
    "227aaca26fd44ef985c49d32014f5e1d": {
     "model_module": "@jupyter-widgets/controls",
     "model_module_version": "1.5.0",
     "model_name": "ProgressStyleModel",
     "state": {
      "_model_module": "@jupyter-widgets/controls",
      "_model_module_version": "1.5.0",
      "_model_name": "ProgressStyleModel",
      "_view_count": null,
      "_view_module": "@jupyter-widgets/base",
      "_view_module_version": "1.2.0",
      "_view_name": "StyleView",
      "bar_color": null,
      "description_width": ""
     }
    },
    "24b7d3d84f384de8a1cc7d6d2d44ae11": {
     "model_module": "@jupyter-widgets/controls",
     "model_module_version": "1.5.0",
     "model_name": "HTMLModel",
     "state": {
      "_dom_classes": [],
      "_model_module": "@jupyter-widgets/controls",
      "_model_module_version": "1.5.0",
      "_model_name": "HTMLModel",
      "_view_count": null,
      "_view_module": "@jupyter-widgets/controls",
      "_view_module_version": "1.5.0",
      "_view_name": "HTMLView",
      "description": "",
      "description_tooltip": null,
      "layout": "IPY_MODEL_eac92432d57f4d50bd9f713d3e8c6f02",
      "placeholder": "​",
      "style": "IPY_MODEL_88d2eeb9a228428993ca463271d5e224",
      "value": " 456k/456k [00:00&lt;00:00, 2.78MB/s]"
     }
    },
    "258a2489eaaf42cfa2aea13f3574629e": {
     "model_module": "@jupyter-widgets/base",
     "model_module_version": "1.2.0",
     "model_name": "LayoutModel",
     "state": {
      "_model_module": "@jupyter-widgets/base",
      "_model_module_version": "1.2.0",
      "_model_name": "LayoutModel",
      "_view_count": null,
      "_view_module": "@jupyter-widgets/base",
      "_view_module_version": "1.2.0",
      "_view_name": "LayoutView",
      "align_content": null,
      "align_items": null,
      "align_self": null,
      "border": null,
      "bottom": null,
      "display": null,
      "flex": null,
      "flex_flow": null,
      "grid_area": null,
      "grid_auto_columns": null,
      "grid_auto_flow": null,
      "grid_auto_rows": null,
      "grid_column": null,
      "grid_gap": null,
      "grid_row": null,
      "grid_template_areas": null,
      "grid_template_columns": null,
      "grid_template_rows": null,
      "height": null,
      "justify_content": null,
      "justify_items": null,
      "left": null,
      "margin": null,
      "max_height": null,
      "max_width": null,
      "min_height": null,
      "min_width": null,
      "object_fit": null,
      "object_position": null,
      "order": null,
      "overflow": null,
      "overflow_x": null,
      "overflow_y": null,
      "padding": null,
      "right": null,
      "top": null,
      "visibility": null,
      "width": null
     }
    },
    "279866f3500e46f3a433c36a65db0a35": {
     "model_module": "@jupyter-widgets/base",
     "model_module_version": "1.2.0",
     "model_name": "LayoutModel",
     "state": {
      "_model_module": "@jupyter-widgets/base",
      "_model_module_version": "1.2.0",
      "_model_name": "LayoutModel",
      "_view_count": null,
      "_view_module": "@jupyter-widgets/base",
      "_view_module_version": "1.2.0",
      "_view_name": "LayoutView",
      "align_content": null,
      "align_items": null,
      "align_self": null,
      "border": null,
      "bottom": null,
      "display": null,
      "flex": null,
      "flex_flow": null,
      "grid_area": null,
      "grid_auto_columns": null,
      "grid_auto_flow": null,
      "grid_auto_rows": null,
      "grid_column": null,
      "grid_gap": null,
      "grid_row": null,
      "grid_template_areas": null,
      "grid_template_columns": null,
      "grid_template_rows": null,
      "height": null,
      "justify_content": null,
      "justify_items": null,
      "left": null,
      "margin": null,
      "max_height": null,
      "max_width": null,
      "min_height": null,
      "min_width": null,
      "object_fit": null,
      "object_position": null,
      "order": null,
      "overflow": null,
      "overflow_x": null,
      "overflow_y": null,
      "padding": null,
      "right": null,
      "top": null,
      "visibility": null,
      "width": null
     }
    },
    "29c064c82f1b406382904f545b139eb2": {
     "model_module": "@jupyter-widgets/base",
     "model_module_version": "1.2.0",
     "model_name": "LayoutModel",
     "state": {
      "_model_module": "@jupyter-widgets/base",
      "_model_module_version": "1.2.0",
      "_model_name": "LayoutModel",
      "_view_count": null,
      "_view_module": "@jupyter-widgets/base",
      "_view_module_version": "1.2.0",
      "_view_name": "LayoutView",
      "align_content": null,
      "align_items": null,
      "align_self": null,
      "border": null,
      "bottom": null,
      "display": null,
      "flex": null,
      "flex_flow": null,
      "grid_area": null,
      "grid_auto_columns": null,
      "grid_auto_flow": null,
      "grid_auto_rows": null,
      "grid_column": null,
      "grid_gap": null,
      "grid_row": null,
      "grid_template_areas": null,
      "grid_template_columns": null,
      "grid_template_rows": null,
      "height": null,
      "justify_content": null,
      "justify_items": null,
      "left": null,
      "margin": null,
      "max_height": null,
      "max_width": null,
      "min_height": null,
      "min_width": null,
      "object_fit": null,
      "object_position": null,
      "order": null,
      "overflow": null,
      "overflow_x": null,
      "overflow_y": null,
      "padding": null,
      "right": null,
      "top": null,
      "visibility": null,
      "width": null
     }
    },
    "2fc64f29a1c04f81b61361824f996c74": {
     "model_module": "@jupyter-widgets/controls",
     "model_module_version": "1.5.0",
     "model_name": "HTMLModel",
     "state": {
      "_dom_classes": [],
      "_model_module": "@jupyter-widgets/controls",
      "_model_module_version": "1.5.0",
      "_model_name": "HTMLModel",
      "_view_count": null,
      "_view_module": "@jupyter-widgets/controls",
      "_view_module_version": "1.5.0",
      "_view_name": "HTMLView",
      "description": "",
      "description_tooltip": null,
      "layout": "IPY_MODEL_f948112a9810473892cb54e34973562b",
      "placeholder": "​",
      "style": "IPY_MODEL_03acd52e9c8d401f9a7c97fa28bd7c8c",
      "value": "merges.txt: 100%"
     }
    },
    "3537ef4212934388ac954e7d880c4397": {
     "model_module": "@jupyter-widgets/controls",
     "model_module_version": "1.5.0",
     "model_name": "ProgressStyleModel",
     "state": {
      "_model_module": "@jupyter-widgets/controls",
      "_model_module_version": "1.5.0",
      "_model_name": "ProgressStyleModel",
      "_view_count": null,
      "_view_module": "@jupyter-widgets/base",
      "_view_module_version": "1.2.0",
      "_view_name": "StyleView",
      "bar_color": null,
      "description_width": ""
     }
    },
    "377a050a3efa41de88125dc24839278d": {
     "model_module": "@jupyter-widgets/base",
     "model_module_version": "1.2.0",
     "model_name": "LayoutModel",
     "state": {
      "_model_module": "@jupyter-widgets/base",
      "_model_module_version": "1.2.0",
      "_model_name": "LayoutModel",
      "_view_count": null,
      "_view_module": "@jupyter-widgets/base",
      "_view_module_version": "1.2.0",
      "_view_name": "LayoutView",
      "align_content": null,
      "align_items": null,
      "align_self": null,
      "border": null,
      "bottom": null,
      "display": null,
      "flex": null,
      "flex_flow": null,
      "grid_area": null,
      "grid_auto_columns": null,
      "grid_auto_flow": null,
      "grid_auto_rows": null,
      "grid_column": null,
      "grid_gap": null,
      "grid_row": null,
      "grid_template_areas": null,
      "grid_template_columns": null,
      "grid_template_rows": null,
      "height": null,
      "justify_content": null,
      "justify_items": null,
      "left": null,
      "margin": null,
      "max_height": null,
      "max_width": null,
      "min_height": null,
      "min_width": null,
      "object_fit": null,
      "object_position": null,
      "order": null,
      "overflow": null,
      "overflow_x": null,
      "overflow_y": null,
      "padding": null,
      "right": null,
      "top": null,
      "visibility": null,
      "width": null
     }
    },
    "3faadf523ff54dea86845166e6d54665": {
     "model_module": "@jupyter-widgets/controls",
     "model_module_version": "1.5.0",
     "model_name": "HBoxModel",
     "state": {
      "_dom_classes": [],
      "_model_module": "@jupyter-widgets/controls",
      "_model_module_version": "1.5.0",
      "_model_name": "HBoxModel",
      "_view_count": null,
      "_view_module": "@jupyter-widgets/controls",
      "_view_module_version": "1.5.0",
      "_view_name": "HBoxView",
      "box_style": "",
      "children": [
       "IPY_MODEL_527f6addb51c449ea2af9195f625343e",
       "IPY_MODEL_fce5dfe7848a46e89ce6b3a09c49a0f0",
       "IPY_MODEL_40a760d0ef144d79a1bc7115bce6c1fb"
      ],
      "layout": "IPY_MODEL_0aaa8bef49084c339cb7186b2f9432a8"
     }
    },
    "40516209eb7440fa9c40339b8ae93561": {
     "model_module": "@jupyter-widgets/controls",
     "model_module_version": "1.5.0",
     "model_name": "HTMLModel",
     "state": {
      "_dom_classes": [],
      "_model_module": "@jupyter-widgets/controls",
      "_model_module_version": "1.5.0",
      "_model_name": "HTMLModel",
      "_view_count": null,
      "_view_module": "@jupyter-widgets/controls",
      "_view_module_version": "1.5.0",
      "_view_name": "HTMLView",
      "description": "",
      "description_tooltip": null,
      "layout": "IPY_MODEL_09b36b67d0d6435a9640be50ba088231",
      "placeholder": "​",
      "style": "IPY_MODEL_b95b4835060b4ef1b40f2a89b358ee67",
      "value": " 762/762 [00:00&lt;00:00, 26.3kB/s]"
     }
    },
    "40a760d0ef144d79a1bc7115bce6c1fb": {
     "model_module": "@jupyter-widgets/controls",
     "model_module_version": "1.5.0",
     "model_name": "HTMLModel",
     "state": {
      "_dom_classes": [],
      "_model_module": "@jupyter-widgets/controls",
      "_model_module_version": "1.5.0",
      "_model_name": "HTMLModel",
      "_view_count": null,
      "_view_module": "@jupyter-widgets/controls",
      "_view_module_version": "1.5.0",
      "_view_name": "HTMLView",
      "description": "",
      "description_tooltip": null,
      "layout": "IPY_MODEL_f2b3d9312f4b4422ba944ee19b3d24a7",
      "placeholder": "​",
      "style": "IPY_MODEL_c2db281b236244d8a1eaa9029a6fe63a",
      "value": " 1.04M/1.04M [00:00&lt;00:00, 4.20MB/s]"
     }
    },
    "43d3a1dd6fdf49f8b2cd51c907b11138": {
     "model_module": "@jupyter-widgets/base",
     "model_module_version": "1.2.0",
     "model_name": "LayoutModel",
     "state": {
      "_model_module": "@jupyter-widgets/base",
      "_model_module_version": "1.2.0",
      "_model_name": "LayoutModel",
      "_view_count": null,
      "_view_module": "@jupyter-widgets/base",
      "_view_module_version": "1.2.0",
      "_view_name": "LayoutView",
      "align_content": null,
      "align_items": null,
      "align_self": null,
      "border": null,
      "bottom": null,
      "display": null,
      "flex": null,
      "flex_flow": null,
      "grid_area": null,
      "grid_auto_columns": null,
      "grid_auto_flow": null,
      "grid_auto_rows": null,
      "grid_column": null,
      "grid_gap": null,
      "grid_row": null,
      "grid_template_areas": null,
      "grid_template_columns": null,
      "grid_template_rows": null,
      "height": null,
      "justify_content": null,
      "justify_items": null,
      "left": null,
      "margin": null,
      "max_height": null,
      "max_width": null,
      "min_height": null,
      "min_width": null,
      "object_fit": null,
      "object_position": null,
      "order": null,
      "overflow": null,
      "overflow_x": null,
      "overflow_y": null,
      "padding": null,
      "right": null,
      "top": null,
      "visibility": null,
      "width": null
     }
    },
    "4439c0efa48c40daa2d56108238cd67f": {
     "model_module": "@jupyter-widgets/controls",
     "model_module_version": "1.5.0",
     "model_name": "ProgressStyleModel",
     "state": {
      "_model_module": "@jupyter-widgets/controls",
      "_model_module_version": "1.5.0",
      "_model_name": "ProgressStyleModel",
      "_view_count": null,
      "_view_module": "@jupyter-widgets/base",
      "_view_module_version": "1.2.0",
      "_view_name": "StyleView",
      "bar_color": null,
      "description_width": ""
     }
    },
    "45fe17e0dfab400ca92334ca17b854ff": {
     "model_module": "@jupyter-widgets/controls",
     "model_module_version": "1.5.0",
     "model_name": "FloatProgressModel",
     "state": {
      "_dom_classes": [],
      "_model_module": "@jupyter-widgets/controls",
      "_model_module_version": "1.5.0",
      "_model_name": "FloatProgressModel",
      "_view_count": null,
      "_view_module": "@jupyter-widgets/controls",
      "_view_module_version": "1.5.0",
      "_view_name": "ProgressView",
      "bar_style": "success",
      "description": "",
      "description_tooltip": null,
      "layout": "IPY_MODEL_d54b869d4a474546bad939fcaf9149f8",
      "max": 124,
      "min": 0,
      "orientation": "horizontal",
      "style": "IPY_MODEL_3537ef4212934388ac954e7d880c4397",
      "value": 124
     }
    },
    "4925300901ba494c9813558f55960913": {
     "model_module": "@jupyter-widgets/controls",
     "model_module_version": "1.5.0",
     "model_name": "DescriptionStyleModel",
     "state": {
      "_model_module": "@jupyter-widgets/controls",
      "_model_module_version": "1.5.0",
      "_model_name": "DescriptionStyleModel",
      "_view_count": null,
      "_view_module": "@jupyter-widgets/base",
      "_view_module_version": "1.2.0",
      "_view_name": "StyleView",
      "description_width": ""
     }
    },
    "4b49ccaf6d184000a04a13037519b805": {
     "model_module": "@jupyter-widgets/controls",
     "model_module_version": "1.5.0",
     "model_name": "FloatProgressModel",
     "state": {
      "_dom_classes": [],
      "_model_module": "@jupyter-widgets/controls",
      "_model_module_version": "1.5.0",
      "_model_name": "FloatProgressModel",
      "_view_count": null,
      "_view_module": "@jupyter-widgets/controls",
      "_view_module_version": "1.5.0",
      "_view_name": "ProgressView",
      "bar_style": "success",
      "description": "",
      "description_tooltip": null,
      "layout": "IPY_MODEL_c481a722e53947b5bffa51f63206851e",
      "max": 762,
      "min": 0,
      "orientation": "horizontal",
      "style": "IPY_MODEL_1cd2eb9ec87a4aabbbde24ef267232e5",
      "value": 762
     }
    },
    "4c8be9ab1c684468913727246f5df464": {
     "model_module": "@jupyter-widgets/base",
     "model_module_version": "1.2.0",
     "model_name": "LayoutModel",
     "state": {
      "_model_module": "@jupyter-widgets/base",
      "_model_module_version": "1.2.0",
      "_model_name": "LayoutModel",
      "_view_count": null,
      "_view_module": "@jupyter-widgets/base",
      "_view_module_version": "1.2.0",
      "_view_name": "LayoutView",
      "align_content": null,
      "align_items": null,
      "align_self": null,
      "border": null,
      "bottom": null,
      "display": null,
      "flex": null,
      "flex_flow": null,
      "grid_area": null,
      "grid_auto_columns": null,
      "grid_auto_flow": null,
      "grid_auto_rows": null,
      "grid_column": null,
      "grid_gap": null,
      "grid_row": null,
      "grid_template_areas": null,
      "grid_template_columns": null,
      "grid_template_rows": null,
      "height": null,
      "justify_content": null,
      "justify_items": null,
      "left": null,
      "margin": null,
      "max_height": null,
      "max_width": null,
      "min_height": null,
      "min_width": null,
      "object_fit": null,
      "object_position": null,
      "order": null,
      "overflow": null,
      "overflow_x": null,
      "overflow_y": null,
      "padding": null,
      "right": null,
      "top": null,
      "visibility": null,
      "width": null
     }
    },
    "4ca842315bdb406d92c66d513e442d20": {
     "model_module": "@jupyter-widgets/base",
     "model_module_version": "1.2.0",
     "model_name": "LayoutModel",
     "state": {
      "_model_module": "@jupyter-widgets/base",
      "_model_module_version": "1.2.0",
      "_model_name": "LayoutModel",
      "_view_count": null,
      "_view_module": "@jupyter-widgets/base",
      "_view_module_version": "1.2.0",
      "_view_name": "LayoutView",
      "align_content": null,
      "align_items": null,
      "align_self": null,
      "border": null,
      "bottom": null,
      "display": null,
      "flex": null,
      "flex_flow": null,
      "grid_area": null,
      "grid_auto_columns": null,
      "grid_auto_flow": null,
      "grid_auto_rows": null,
      "grid_column": null,
      "grid_gap": null,
      "grid_row": null,
      "grid_template_areas": null,
      "grid_template_columns": null,
      "grid_template_rows": null,
      "height": null,
      "justify_content": null,
      "justify_items": null,
      "left": null,
      "margin": null,
      "max_height": null,
      "max_width": null,
      "min_height": null,
      "min_width": null,
      "object_fit": null,
      "object_position": null,
      "order": null,
      "overflow": null,
      "overflow_x": null,
      "overflow_y": null,
      "padding": null,
      "right": null,
      "top": null,
      "visibility": null,
      "width": null
     }
    },
    "527f6addb51c449ea2af9195f625343e": {
     "model_module": "@jupyter-widgets/controls",
     "model_module_version": "1.5.0",
     "model_name": "HTMLModel",
     "state": {
      "_dom_classes": [],
      "_model_module": "@jupyter-widgets/controls",
      "_model_module_version": "1.5.0",
      "_model_name": "HTMLModel",
      "_view_count": null,
      "_view_module": "@jupyter-widgets/controls",
      "_view_module_version": "1.5.0",
      "_view_name": "HTMLView",
      "description": "",
      "description_tooltip": null,
      "layout": "IPY_MODEL_c8c146672aa749b8b173e2eb25e92163",
      "placeholder": "​",
      "style": "IPY_MODEL_4925300901ba494c9813558f55960913",
      "value": "vocab.json: 100%"
     }
    },
    "5300253013bf455fad8b41864b6a5521": {
     "model_module": "@jupyter-widgets/base",
     "model_module_version": "1.2.0",
     "model_name": "LayoutModel",
     "state": {
      "_model_module": "@jupyter-widgets/base",
      "_model_module_version": "1.2.0",
      "_model_name": "LayoutModel",
      "_view_count": null,
      "_view_module": "@jupyter-widgets/base",
      "_view_module_version": "1.2.0",
      "_view_name": "LayoutView",
      "align_content": null,
      "align_items": null,
      "align_self": null,
      "border": null,
      "bottom": null,
      "display": null,
      "flex": null,
      "flex_flow": null,
      "grid_area": null,
      "grid_auto_columns": null,
      "grid_auto_flow": null,
      "grid_auto_rows": null,
      "grid_column": null,
      "grid_gap": null,
      "grid_row": null,
      "grid_template_areas": null,
      "grid_template_columns": null,
      "grid_template_rows": null,
      "height": null,
      "justify_content": null,
      "justify_items": null,
      "left": null,
      "margin": null,
      "max_height": null,
      "max_width": null,
      "min_height": null,
      "min_width": null,
      "object_fit": null,
      "object_position": null,
      "order": null,
      "overflow": null,
      "overflow_x": null,
      "overflow_y": null,
      "padding": null,
      "right": null,
      "top": null,
      "visibility": null,
      "width": null
     }
    },
    "55b733b46da843be8cf3caeaa7fb7204": {
     "model_module": "@jupyter-widgets/controls",
     "model_module_version": "1.5.0",
     "model_name": "DescriptionStyleModel",
     "state": {
      "_model_module": "@jupyter-widgets/controls",
      "_model_module_version": "1.5.0",
      "_model_name": "DescriptionStyleModel",
      "_view_count": null,
      "_view_module": "@jupyter-widgets/base",
      "_view_module_version": "1.2.0",
      "_view_name": "StyleView",
      "description_width": ""
     }
    },
    "55ea38aa66864376bb19434909c32ecc": {
     "model_module": "@jupyter-widgets/controls",
     "model_module_version": "1.5.0",
     "model_name": "FloatProgressModel",
     "state": {
      "_dom_classes": [],
      "_model_module": "@jupyter-widgets/controls",
      "_model_module_version": "1.5.0",
      "_model_name": "FloatProgressModel",
      "_view_count": null,
      "_view_module": "@jupyter-widgets/controls",
      "_view_module_version": "1.5.0",
      "_view_name": "ProgressView",
      "bar_style": "success",
      "description": "",
      "description_tooltip": null,
      "layout": "IPY_MODEL_cfe90da51c0a48ef8d2ca2462a659d5a",
      "max": 456318,
      "min": 0,
      "orientation": "horizontal",
      "style": "IPY_MODEL_227aaca26fd44ef985c49d32014f5e1d",
      "value": 456318
     }
    },
    "55f7a9cb03ed44189d9ffe9c86bef505": {
     "model_module": "@jupyter-widgets/controls",
     "model_module_version": "1.5.0",
     "model_name": "HTMLModel",
     "state": {
      "_dom_classes": [],
      "_model_module": "@jupyter-widgets/controls",
      "_model_module_version": "1.5.0",
      "_model_name": "HTMLModel",
      "_view_count": null,
      "_view_module": "@jupyter-widgets/controls",
      "_view_module_version": "1.5.0",
      "_view_name": "HTMLView",
      "description": "",
      "description_tooltip": null,
      "layout": "IPY_MODEL_b759a7ad859549c8b7804d00992a5bc2",
      "placeholder": "​",
      "style": "IPY_MODEL_a344ddf07e3d469d9756876fa76ad14a",
      "value": "model.safetensors: 100%"
     }
    },
    "611c715546a145e08b0bb61cad414514": {
     "model_module": "@jupyter-widgets/controls",
     "model_module_version": "1.5.0",
     "model_name": "DescriptionStyleModel",
     "state": {
      "_model_module": "@jupyter-widgets/controls",
      "_model_module_version": "1.5.0",
      "_model_name": "DescriptionStyleModel",
      "_view_count": null,
      "_view_module": "@jupyter-widgets/base",
      "_view_module_version": "1.2.0",
      "_view_name": "StyleView",
      "description_width": ""
     }
    },
    "63ccdeeb47224054b16d889bf1b8f138": {
     "model_module": "@jupyter-widgets/controls",
     "model_module_version": "1.5.0",
     "model_name": "HTMLModel",
     "state": {
      "_dom_classes": [],
      "_model_module": "@jupyter-widgets/controls",
      "_model_module_version": "1.5.0",
      "_model_name": "HTMLModel",
      "_view_count": null,
      "_view_module": "@jupyter-widgets/controls",
      "_view_module_version": "1.5.0",
      "_view_name": "HTMLView",
      "description": "",
      "description_tooltip": null,
      "layout": "IPY_MODEL_43d3a1dd6fdf49f8b2cd51c907b11138",
      "placeholder": "​",
      "style": "IPY_MODEL_9ebdc00932c44cc3af3547e6ea883a82",
      "value": "config.json: 100%"
     }
    },
    "678edb1a08294e9791a0ffa0425d8498": {
     "model_module": "@jupyter-widgets/base",
     "model_module_version": "1.2.0",
     "model_name": "LayoutModel",
     "state": {
      "_model_module": "@jupyter-widgets/base",
      "_model_module_version": "1.2.0",
      "_model_name": "LayoutModel",
      "_view_count": null,
      "_view_module": "@jupyter-widgets/base",
      "_view_module_version": "1.2.0",
      "_view_name": "LayoutView",
      "align_content": null,
      "align_items": null,
      "align_self": null,
      "border": null,
      "bottom": null,
      "display": null,
      "flex": null,
      "flex_flow": null,
      "grid_area": null,
      "grid_auto_columns": null,
      "grid_auto_flow": null,
      "grid_auto_rows": null,
      "grid_column": null,
      "grid_gap": null,
      "grid_row": null,
      "grid_template_areas": null,
      "grid_template_columns": null,
      "grid_template_rows": null,
      "height": null,
      "justify_content": null,
      "justify_items": null,
      "left": null,
      "margin": null,
      "max_height": null,
      "max_width": null,
      "min_height": null,
      "min_width": null,
      "object_fit": null,
      "object_position": null,
      "order": null,
      "overflow": null,
      "overflow_x": null,
      "overflow_y": null,
      "padding": null,
      "right": null,
      "top": null,
      "visibility": null,
      "width": null
     }
    },
    "6ba180fe62a24dbea79bd6799c8eaaf7": {
     "model_module": "@jupyter-widgets/controls",
     "model_module_version": "1.5.0",
     "model_name": "FloatProgressModel",
     "state": {
      "_dom_classes": [],
      "_model_module": "@jupyter-widgets/controls",
      "_model_module_version": "1.5.0",
      "_model_name": "FloatProgressModel",
      "_view_count": null,
      "_view_module": "@jupyter-widgets/controls",
      "_view_module_version": "1.5.0",
      "_view_name": "ProgressView",
      "bar_style": "success",
      "description": "",
      "description_tooltip": null,
      "layout": "IPY_MODEL_9e4988da157448878ec3fd3ec00a1ef9",
      "max": 26,
      "min": 0,
      "orientation": "horizontal",
      "style": "IPY_MODEL_86c3f575b05c402c9b2f4448492ba467",
      "value": 26
     }
    },
    "712f00dd33d542eb8617b15605d5e287": {
     "model_module": "@jupyter-widgets/controls",
     "model_module_version": "1.5.0",
     "model_name": "ProgressStyleModel",
     "state": {
      "_model_module": "@jupyter-widgets/controls",
      "_model_module_version": "1.5.0",
      "_model_name": "ProgressStyleModel",
      "_view_count": null,
      "_view_module": "@jupyter-widgets/base",
      "_view_module_version": "1.2.0",
      "_view_name": "StyleView",
      "bar_color": null,
      "description_width": ""
     }
    },
    "72973f963b5848a4aa4ec5d50cb47e77": {
     "model_module": "@jupyter-widgets/controls",
     "model_module_version": "1.5.0",
     "model_name": "DescriptionStyleModel",
     "state": {
      "_model_module": "@jupyter-widgets/controls",
      "_model_module_version": "1.5.0",
      "_model_name": "DescriptionStyleModel",
      "_view_count": null,
      "_view_module": "@jupyter-widgets/base",
      "_view_module_version": "1.2.0",
      "_view_name": "StyleView",
      "description_width": ""
     }
    },
    "73389b55553745389917cdd347d4fb42": {
     "model_module": "@jupyter-widgets/controls",
     "model_module_version": "1.5.0",
     "model_name": "HTMLModel",
     "state": {
      "_dom_classes": [],
      "_model_module": "@jupyter-widgets/controls",
      "_model_module_version": "1.5.0",
      "_model_name": "HTMLModel",
      "_view_count": null,
      "_view_module": "@jupyter-widgets/controls",
      "_view_module_version": "1.5.0",
      "_view_name": "HTMLView",
      "description": "",
      "description_tooltip": null,
      "layout": "IPY_MODEL_956e113d9d264bc38eb01889f659f005",
      "placeholder": "​",
      "style": "IPY_MODEL_df128f76019f4b52bfb63145b9c9c108",
      "value": " 1.36M/1.36M [00:00&lt;00:00, 4.11MB/s]"
     }
    },
    "7d785f4c266045c1bbea1dfa61f67987": {
     "model_module": "@jupyter-widgets/controls",
     "model_module_version": "1.5.0",
     "model_name": "HBoxModel",
     "state": {
      "_dom_classes": [],
      "_model_module": "@jupyter-widgets/controls",
      "_model_module_version": "1.5.0",
      "_model_name": "HBoxModel",
      "_view_count": null,
      "_view_module": "@jupyter-widgets/controls",
      "_view_module_version": "1.5.0",
      "_view_name": "HBoxView",
      "box_style": "",
      "children": [
       "IPY_MODEL_e67db7653db0495985b17a530437097b",
       "IPY_MODEL_6ba180fe62a24dbea79bd6799c8eaaf7",
       "IPY_MODEL_bf1fc765666d4160bdaf82765511a2d8"
      ],
      "layout": "IPY_MODEL_fde23c6aa8c64b5caad763d2dfcc2c41"
     }
    },
    "817c3530c67c4816b29e27a35ba44255": {
     "model_module": "@jupyter-widgets/controls",
     "model_module_version": "1.5.0",
     "model_name": "ProgressStyleModel",
     "state": {
      "_model_module": "@jupyter-widgets/controls",
      "_model_module_version": "1.5.0",
      "_model_name": "ProgressStyleModel",
      "_view_count": null,
      "_view_module": "@jupyter-widgets/base",
      "_view_module_version": "1.2.0",
      "_view_name": "StyleView",
      "bar_color": null,
      "description_width": ""
     }
    },
    "827c2d399c7c4bda98e4ee3d71b56661": {
     "model_module": "@jupyter-widgets/base",
     "model_module_version": "1.2.0",
     "model_name": "LayoutModel",
     "state": {
      "_model_module": "@jupyter-widgets/base",
      "_model_module_version": "1.2.0",
      "_model_name": "LayoutModel",
      "_view_count": null,
      "_view_module": "@jupyter-widgets/base",
      "_view_module_version": "1.2.0",
      "_view_name": "LayoutView",
      "align_content": null,
      "align_items": null,
      "align_self": null,
      "border": null,
      "bottom": null,
      "display": null,
      "flex": null,
      "flex_flow": null,
      "grid_area": null,
      "grid_auto_columns": null,
      "grid_auto_flow": null,
      "grid_auto_rows": null,
      "grid_column": null,
      "grid_gap": null,
      "grid_row": null,
      "grid_template_areas": null,
      "grid_template_columns": null,
      "grid_template_rows": null,
      "height": null,
      "justify_content": null,
      "justify_items": null,
      "left": null,
      "margin": null,
      "max_height": null,
      "max_width": null,
      "min_height": null,
      "min_width": null,
      "object_fit": null,
      "object_position": null,
      "order": null,
      "overflow": null,
      "overflow_x": null,
      "overflow_y": null,
      "padding": null,
      "right": null,
      "top": null,
      "visibility": null,
      "width": null
     }
    },
    "8348b7a9df1640828642647b3b65d2a4": {
     "model_module": "@jupyter-widgets/controls",
     "model_module_version": "1.5.0",
     "model_name": "HBoxModel",
     "state": {
      "_dom_classes": [],
      "_model_module": "@jupyter-widgets/controls",
      "_model_module_version": "1.5.0",
      "_model_name": "HBoxModel",
      "_view_count": null,
      "_view_module": "@jupyter-widgets/controls",
      "_view_module_version": "1.5.0",
      "_view_name": "HBoxView",
      "box_style": "",
      "children": [
       "IPY_MODEL_63ccdeeb47224054b16d889bf1b8f138",
       "IPY_MODEL_4b49ccaf6d184000a04a13037519b805",
       "IPY_MODEL_40516209eb7440fa9c40339b8ae93561"
      ],
      "layout": "IPY_MODEL_377a050a3efa41de88125dc24839278d"
     }
    },
    "86c3f575b05c402c9b2f4448492ba467": {
     "model_module": "@jupyter-widgets/controls",
     "model_module_version": "1.5.0",
     "model_name": "ProgressStyleModel",
     "state": {
      "_model_module": "@jupyter-widgets/controls",
      "_model_module_version": "1.5.0",
      "_model_name": "ProgressStyleModel",
      "_view_count": null,
      "_view_module": "@jupyter-widgets/base",
      "_view_module_version": "1.2.0",
      "_view_name": "StyleView",
      "bar_color": null,
      "description_width": ""
     }
    },
    "88d2eeb9a228428993ca463271d5e224": {
     "model_module": "@jupyter-widgets/controls",
     "model_module_version": "1.5.0",
     "model_name": "DescriptionStyleModel",
     "state": {
      "_model_module": "@jupyter-widgets/controls",
      "_model_module_version": "1.5.0",
      "_model_name": "DescriptionStyleModel",
      "_view_count": null,
      "_view_module": "@jupyter-widgets/base",
      "_view_module_version": "1.2.0",
      "_view_name": "StyleView",
      "description_width": ""
     }
    },
    "9171b6b1d6a64e92aafdda1b6a010bdc": {
     "model_module": "@jupyter-widgets/controls",
     "model_module_version": "1.5.0",
     "model_name": "FloatProgressModel",
     "state": {
      "_dom_classes": [],
      "_model_module": "@jupyter-widgets/controls",
      "_model_module_version": "1.5.0",
      "_model_name": "FloatProgressModel",
      "_view_count": null,
      "_view_module": "@jupyter-widgets/controls",
      "_view_module_version": "1.5.0",
      "_view_name": "ProgressView",
      "bar_style": "success",
      "description": "",
      "description_tooltip": null,
      "layout": "IPY_MODEL_678edb1a08294e9791a0ffa0425d8498",
      "max": 352824413,
      "min": 0,
      "orientation": "horizontal",
      "style": "IPY_MODEL_712f00dd33d542eb8617b15605d5e287",
      "value": 352824413
     }
    },
    "956e113d9d264bc38eb01889f659f005": {
     "model_module": "@jupyter-widgets/base",
     "model_module_version": "1.2.0",
     "model_name": "LayoutModel",
     "state": {
      "_model_module": "@jupyter-widgets/base",
      "_model_module_version": "1.2.0",
      "_model_name": "LayoutModel",
      "_view_count": null,
      "_view_module": "@jupyter-widgets/base",
      "_view_module_version": "1.2.0",
      "_view_name": "LayoutView",
      "align_content": null,
      "align_items": null,
      "align_self": null,
      "border": null,
      "bottom": null,
      "display": null,
      "flex": null,
      "flex_flow": null,
      "grid_area": null,
      "grid_auto_columns": null,
      "grid_auto_flow": null,
      "grid_auto_rows": null,
      "grid_column": null,
      "grid_gap": null,
      "grid_row": null,
      "grid_template_areas": null,
      "grid_template_columns": null,
      "grid_template_rows": null,
      "height": null,
      "justify_content": null,
      "justify_items": null,
      "left": null,
      "margin": null,
      "max_height": null,
      "max_width": null,
      "min_height": null,
      "min_width": null,
      "object_fit": null,
      "object_position": null,
      "order": null,
      "overflow": null,
      "overflow_x": null,
      "overflow_y": null,
      "padding": null,
      "right": null,
      "top": null,
      "visibility": null,
      "width": null
     }
    },
    "986ad12022f04ef1ab02a91bd8a3bafd": {
     "model_module": "@jupyter-widgets/controls",
     "model_module_version": "1.5.0",
     "model_name": "HBoxModel",
     "state": {
      "_dom_classes": [],
      "_model_module": "@jupyter-widgets/controls",
      "_model_module_version": "1.5.0",
      "_model_name": "HBoxModel",
      "_view_count": null,
      "_view_module": "@jupyter-widgets/controls",
      "_view_module_version": "1.5.0",
      "_view_name": "HBoxView",
      "box_style": "",
      "children": [
       "IPY_MODEL_2fc64f29a1c04f81b61361824f996c74",
       "IPY_MODEL_55ea38aa66864376bb19434909c32ecc",
       "IPY_MODEL_24b7d3d84f384de8a1cc7d6d2d44ae11"
      ],
      "layout": "IPY_MODEL_5300253013bf455fad8b41864b6a5521"
     }
    },
    "9cfa77ba86aa4395af5b376ed3bcdd17": {
     "model_module": "@jupyter-widgets/base",
     "model_module_version": "1.2.0",
     "model_name": "LayoutModel",
     "state": {
      "_model_module": "@jupyter-widgets/base",
      "_model_module_version": "1.2.0",
      "_model_name": "LayoutModel",
      "_view_count": null,
      "_view_module": "@jupyter-widgets/base",
      "_view_module_version": "1.2.0",
      "_view_name": "LayoutView",
      "align_content": null,
      "align_items": null,
      "align_self": null,
      "border": null,
      "bottom": null,
      "display": null,
      "flex": null,
      "flex_flow": null,
      "grid_area": null,
      "grid_auto_columns": null,
      "grid_auto_flow": null,
      "grid_auto_rows": null,
      "grid_column": null,
      "grid_gap": null,
      "grid_row": null,
      "grid_template_areas": null,
      "grid_template_columns": null,
      "grid_template_rows": null,
      "height": null,
      "justify_content": null,
      "justify_items": null,
      "left": null,
      "margin": null,
      "max_height": null,
      "max_width": null,
      "min_height": null,
      "min_width": null,
      "object_fit": null,
      "object_position": null,
      "order": null,
      "overflow": null,
      "overflow_x": null,
      "overflow_y": null,
      "padding": null,
      "right": null,
      "top": null,
      "visibility": null,
      "width": null
     }
    },
    "9e4988da157448878ec3fd3ec00a1ef9": {
     "model_module": "@jupyter-widgets/base",
     "model_module_version": "1.2.0",
     "model_name": "LayoutModel",
     "state": {
      "_model_module": "@jupyter-widgets/base",
      "_model_module_version": "1.2.0",
      "_model_name": "LayoutModel",
      "_view_count": null,
      "_view_module": "@jupyter-widgets/base",
      "_view_module_version": "1.2.0",
      "_view_name": "LayoutView",
      "align_content": null,
      "align_items": null,
      "align_self": null,
      "border": null,
      "bottom": null,
      "display": null,
      "flex": null,
      "flex_flow": null,
      "grid_area": null,
      "grid_auto_columns": null,
      "grid_auto_flow": null,
      "grid_auto_rows": null,
      "grid_column": null,
      "grid_gap": null,
      "grid_row": null,
      "grid_template_areas": null,
      "grid_template_columns": null,
      "grid_template_rows": null,
      "height": null,
      "justify_content": null,
      "justify_items": null,
      "left": null,
      "margin": null,
      "max_height": null,
      "max_width": null,
      "min_height": null,
      "min_width": null,
      "object_fit": null,
      "object_position": null,
      "order": null,
      "overflow": null,
      "overflow_x": null,
      "overflow_y": null,
      "padding": null,
      "right": null,
      "top": null,
      "visibility": null,
      "width": null
     }
    },
    "9ebdc00932c44cc3af3547e6ea883a82": {
     "model_module": "@jupyter-widgets/controls",
     "model_module_version": "1.5.0",
     "model_name": "DescriptionStyleModel",
     "state": {
      "_model_module": "@jupyter-widgets/controls",
      "_model_module_version": "1.5.0",
      "_model_name": "DescriptionStyleModel",
      "_view_count": null,
      "_view_module": "@jupyter-widgets/base",
      "_view_module_version": "1.2.0",
      "_view_name": "StyleView",
      "description_width": ""
     }
    },
    "a226d4737d0d418fb36ff14448e203f2": {
     "model_module": "@jupyter-widgets/controls",
     "model_module_version": "1.5.0",
     "model_name": "HBoxModel",
     "state": {
      "_dom_classes": [],
      "_model_module": "@jupyter-widgets/controls",
      "_model_module_version": "1.5.0",
      "_model_name": "HBoxModel",
      "_view_count": null,
      "_view_module": "@jupyter-widgets/controls",
      "_view_module_version": "1.5.0",
      "_view_name": "HBoxView",
      "box_style": "",
      "children": [
       "IPY_MODEL_d6eacbae726c4e4d9f7b9ac774374e79",
       "IPY_MODEL_021ecf50d3c34e21b4e5e9568fe3b6a0",
       "IPY_MODEL_73389b55553745389917cdd347d4fb42"
      ],
      "layout": "IPY_MODEL_827c2d399c7c4bda98e4ee3d71b56661"
     }
    },
    "a344ddf07e3d469d9756876fa76ad14a": {
     "model_module": "@jupyter-widgets/controls",
     "model_module_version": "1.5.0",
     "model_name": "DescriptionStyleModel",
     "state": {
      "_model_module": "@jupyter-widgets/controls",
      "_model_module_version": "1.5.0",
      "_model_name": "DescriptionStyleModel",
      "_view_count": null,
      "_view_module": "@jupyter-widgets/base",
      "_view_module_version": "1.2.0",
      "_view_name": "StyleView",
      "description_width": ""
     }
    },
    "a862ea3a10124b66baf9ad0ce6079e94": {
     "model_module": "@jupyter-widgets/controls",
     "model_module_version": "1.5.0",
     "model_name": "HTMLModel",
     "state": {
      "_dom_classes": [],
      "_model_module": "@jupyter-widgets/controls",
      "_model_module_version": "1.5.0",
      "_model_name": "HTMLModel",
      "_view_count": null,
      "_view_module": "@jupyter-widgets/controls",
      "_view_module_version": "1.5.0",
      "_view_name": "HTMLView",
      "description": "",
      "description_tooltip": null,
      "layout": "IPY_MODEL_4ca842315bdb406d92c66d513e442d20",
      "placeholder": "​",
      "style": "IPY_MODEL_ae52a0795ce341f8ad1cdd15755b632b",
      "value": "generation_config.json: 100%"
     }
    },
    "ae52a0795ce341f8ad1cdd15755b632b": {
     "model_module": "@jupyter-widgets/controls",
     "model_module_version": "1.5.0",
     "model_name": "DescriptionStyleModel",
     "state": {
      "_model_module": "@jupyter-widgets/controls",
      "_model_module_version": "1.5.0",
      "_model_name": "DescriptionStyleModel",
      "_view_count": null,
      "_view_module": "@jupyter-widgets/base",
      "_view_module_version": "1.2.0",
      "_view_name": "StyleView",
      "description_width": ""
     }
    },
    "b759a7ad859549c8b7804d00992a5bc2": {
     "model_module": "@jupyter-widgets/base",
     "model_module_version": "1.2.0",
     "model_name": "LayoutModel",
     "state": {
      "_model_module": "@jupyter-widgets/base",
      "_model_module_version": "1.2.0",
      "_model_name": "LayoutModel",
      "_view_count": null,
      "_view_module": "@jupyter-widgets/base",
      "_view_module_version": "1.2.0",
      "_view_name": "LayoutView",
      "align_content": null,
      "align_items": null,
      "align_self": null,
      "border": null,
      "bottom": null,
      "display": null,
      "flex": null,
      "flex_flow": null,
      "grid_area": null,
      "grid_auto_columns": null,
      "grid_auto_flow": null,
      "grid_auto_rows": null,
      "grid_column": null,
      "grid_gap": null,
      "grid_row": null,
      "grid_template_areas": null,
      "grid_template_columns": null,
      "grid_template_rows": null,
      "height": null,
      "justify_content": null,
      "justify_items": null,
      "left": null,
      "margin": null,
      "max_height": null,
      "max_width": null,
      "min_height": null,
      "min_width": null,
      "object_fit": null,
      "object_position": null,
      "order": null,
      "overflow": null,
      "overflow_x": null,
      "overflow_y": null,
      "padding": null,
      "right": null,
      "top": null,
      "visibility": null,
      "width": null
     }
    },
    "b95b4835060b4ef1b40f2a89b358ee67": {
     "model_module": "@jupyter-widgets/controls",
     "model_module_version": "1.5.0",
     "model_name": "DescriptionStyleModel",
     "state": {
      "_model_module": "@jupyter-widgets/controls",
      "_model_module_version": "1.5.0",
      "_model_name": "DescriptionStyleModel",
      "_view_count": null,
      "_view_module": "@jupyter-widgets/base",
      "_view_module_version": "1.2.0",
      "_view_name": "StyleView",
      "description_width": ""
     }
    },
    "bc7d662528c64ff6a3c4357c838534e5": {
     "model_module": "@jupyter-widgets/base",
     "model_module_version": "1.2.0",
     "model_name": "LayoutModel",
     "state": {
      "_model_module": "@jupyter-widgets/base",
      "_model_module_version": "1.2.0",
      "_model_name": "LayoutModel",
      "_view_count": null,
      "_view_module": "@jupyter-widgets/base",
      "_view_module_version": "1.2.0",
      "_view_name": "LayoutView",
      "align_content": null,
      "align_items": null,
      "align_self": null,
      "border": null,
      "bottom": null,
      "display": null,
      "flex": null,
      "flex_flow": null,
      "grid_area": null,
      "grid_auto_columns": null,
      "grid_auto_flow": null,
      "grid_auto_rows": null,
      "grid_column": null,
      "grid_gap": null,
      "grid_row": null,
      "grid_template_areas": null,
      "grid_template_columns": null,
      "grid_template_rows": null,
      "height": null,
      "justify_content": null,
      "justify_items": null,
      "left": null,
      "margin": null,
      "max_height": null,
      "max_width": null,
      "min_height": null,
      "min_width": null,
      "object_fit": null,
      "object_position": null,
      "order": null,
      "overflow": null,
      "overflow_x": null,
      "overflow_y": null,
      "padding": null,
      "right": null,
      "top": null,
      "visibility": null,
      "width": null
     }
    },
    "bf1fc765666d4160bdaf82765511a2d8": {
     "model_module": "@jupyter-widgets/controls",
     "model_module_version": "1.5.0",
     "model_name": "HTMLModel",
     "state": {
      "_dom_classes": [],
      "_model_module": "@jupyter-widgets/controls",
      "_model_module_version": "1.5.0",
      "_model_name": "HTMLModel",
      "_view_count": null,
      "_view_module": "@jupyter-widgets/controls",
      "_view_module_version": "1.5.0",
      "_view_name": "HTMLView",
      "description": "",
      "description_tooltip": null,
      "layout": "IPY_MODEL_258a2489eaaf42cfa2aea13f3574629e",
      "placeholder": "​",
      "style": "IPY_MODEL_611c715546a145e08b0bb61cad414514",
      "value": " 26.0/26.0 [00:00&lt;00:00, 1.48kB/s]"
     }
    },
    "c2db281b236244d8a1eaa9029a6fe63a": {
     "model_module": "@jupyter-widgets/controls",
     "model_module_version": "1.5.0",
     "model_name": "DescriptionStyleModel",
     "state": {
      "_model_module": "@jupyter-widgets/controls",
      "_model_module_version": "1.5.0",
      "_model_name": "DescriptionStyleModel",
      "_view_count": null,
      "_view_module": "@jupyter-widgets/base",
      "_view_module_version": "1.2.0",
      "_view_name": "StyleView",
      "description_width": ""
     }
    },
    "c481a722e53947b5bffa51f63206851e": {
     "model_module": "@jupyter-widgets/base",
     "model_module_version": "1.2.0",
     "model_name": "LayoutModel",
     "state": {
      "_model_module": "@jupyter-widgets/base",
      "_model_module_version": "1.2.0",
      "_model_name": "LayoutModel",
      "_view_count": null,
      "_view_module": "@jupyter-widgets/base",
      "_view_module_version": "1.2.0",
      "_view_name": "LayoutView",
      "align_content": null,
      "align_items": null,
      "align_self": null,
      "border": null,
      "bottom": null,
      "display": null,
      "flex": null,
      "flex_flow": null,
      "grid_area": null,
      "grid_auto_columns": null,
      "grid_auto_flow": null,
      "grid_auto_rows": null,
      "grid_column": null,
      "grid_gap": null,
      "grid_row": null,
      "grid_template_areas": null,
      "grid_template_columns": null,
      "grid_template_rows": null,
      "height": null,
      "justify_content": null,
      "justify_items": null,
      "left": null,
      "margin": null,
      "max_height": null,
      "max_width": null,
      "min_height": null,
      "min_width": null,
      "object_fit": null,
      "object_position": null,
      "order": null,
      "overflow": null,
      "overflow_x": null,
      "overflow_y": null,
      "padding": null,
      "right": null,
      "top": null,
      "visibility": null,
      "width": null
     }
    },
    "c8c146672aa749b8b173e2eb25e92163": {
     "model_module": "@jupyter-widgets/base",
     "model_module_version": "1.2.0",
     "model_name": "LayoutModel",
     "state": {
      "_model_module": "@jupyter-widgets/base",
      "_model_module_version": "1.2.0",
      "_model_name": "LayoutModel",
      "_view_count": null,
      "_view_module": "@jupyter-widgets/base",
      "_view_module_version": "1.2.0",
      "_view_name": "LayoutView",
      "align_content": null,
      "align_items": null,
      "align_self": null,
      "border": null,
      "bottom": null,
      "display": null,
      "flex": null,
      "flex_flow": null,
      "grid_area": null,
      "grid_auto_columns": null,
      "grid_auto_flow": null,
      "grid_auto_rows": null,
      "grid_column": null,
      "grid_gap": null,
      "grid_row": null,
      "grid_template_areas": null,
      "grid_template_columns": null,
      "grid_template_rows": null,
      "height": null,
      "justify_content": null,
      "justify_items": null,
      "left": null,
      "margin": null,
      "max_height": null,
      "max_width": null,
      "min_height": null,
      "min_width": null,
      "object_fit": null,
      "object_position": null,
      "order": null,
      "overflow": null,
      "overflow_x": null,
      "overflow_y": null,
      "padding": null,
      "right": null,
      "top": null,
      "visibility": null,
      "width": null
     }
    },
    "cf496377b9664ab6a08447b4cee63e85": {
     "model_module": "@jupyter-widgets/controls",
     "model_module_version": "1.5.0",
     "model_name": "DescriptionStyleModel",
     "state": {
      "_model_module": "@jupyter-widgets/controls",
      "_model_module_version": "1.5.0",
      "_model_name": "DescriptionStyleModel",
      "_view_count": null,
      "_view_module": "@jupyter-widgets/base",
      "_view_module_version": "1.2.0",
      "_view_name": "StyleView",
      "description_width": ""
     }
    },
    "cfe90da51c0a48ef8d2ca2462a659d5a": {
     "model_module": "@jupyter-widgets/base",
     "model_module_version": "1.2.0",
     "model_name": "LayoutModel",
     "state": {
      "_model_module": "@jupyter-widgets/base",
      "_model_module_version": "1.2.0",
      "_model_name": "LayoutModel",
      "_view_count": null,
      "_view_module": "@jupyter-widgets/base",
      "_view_module_version": "1.2.0",
      "_view_name": "LayoutView",
      "align_content": null,
      "align_items": null,
      "align_self": null,
      "border": null,
      "bottom": null,
      "display": null,
      "flex": null,
      "flex_flow": null,
      "grid_area": null,
      "grid_auto_columns": null,
      "grid_auto_flow": null,
      "grid_auto_rows": null,
      "grid_column": null,
      "grid_gap": null,
      "grid_row": null,
      "grid_template_areas": null,
      "grid_template_columns": null,
      "grid_template_rows": null,
      "height": null,
      "justify_content": null,
      "justify_items": null,
      "left": null,
      "margin": null,
      "max_height": null,
      "max_width": null,
      "min_height": null,
      "min_width": null,
      "object_fit": null,
      "object_position": null,
      "order": null,
      "overflow": null,
      "overflow_x": null,
      "overflow_y": null,
      "padding": null,
      "right": null,
      "top": null,
      "visibility": null,
      "width": null
     }
    },
    "d0ad386f88a44871892ac2eca4931799": {
     "model_module": "@jupyter-widgets/controls",
     "model_module_version": "1.5.0",
     "model_name": "HTMLModel",
     "state": {
      "_dom_classes": [],
      "_model_module": "@jupyter-widgets/controls",
      "_model_module_version": "1.5.0",
      "_model_name": "HTMLModel",
      "_view_count": null,
      "_view_module": "@jupyter-widgets/controls",
      "_view_module_version": "1.5.0",
      "_view_name": "HTMLView",
      "description": "",
      "description_tooltip": null,
      "layout": "IPY_MODEL_04627fa6beea4cb2b1dc55dfeb07b0f1",
      "placeholder": "​",
      "style": "IPY_MODEL_cf496377b9664ab6a08447b4cee63e85",
      "value": " 124/124 [00:00&lt;00:00, 6.94kB/s]"
     }
    },
    "d54b869d4a474546bad939fcaf9149f8": {
     "model_module": "@jupyter-widgets/base",
     "model_module_version": "1.2.0",
     "model_name": "LayoutModel",
     "state": {
      "_model_module": "@jupyter-widgets/base",
      "_model_module_version": "1.2.0",
      "_model_name": "LayoutModel",
      "_view_count": null,
      "_view_module": "@jupyter-widgets/base",
      "_view_module_version": "1.2.0",
      "_view_name": "LayoutView",
      "align_content": null,
      "align_items": null,
      "align_self": null,
      "border": null,
      "bottom": null,
      "display": null,
      "flex": null,
      "flex_flow": null,
      "grid_area": null,
      "grid_auto_columns": null,
      "grid_auto_flow": null,
      "grid_auto_rows": null,
      "grid_column": null,
      "grid_gap": null,
      "grid_row": null,
      "grid_template_areas": null,
      "grid_template_columns": null,
      "grid_template_rows": null,
      "height": null,
      "justify_content": null,
      "justify_items": null,
      "left": null,
      "margin": null,
      "max_height": null,
      "max_width": null,
      "min_height": null,
      "min_width": null,
      "object_fit": null,
      "object_position": null,
      "order": null,
      "overflow": null,
      "overflow_x": null,
      "overflow_y": null,
      "padding": null,
      "right": null,
      "top": null,
      "visibility": null,
      "width": null
     }
    },
    "d6eacbae726c4e4d9f7b9ac774374e79": {
     "model_module": "@jupyter-widgets/controls",
     "model_module_version": "1.5.0",
     "model_name": "HTMLModel",
     "state": {
      "_dom_classes": [],
      "_model_module": "@jupyter-widgets/controls",
      "_model_module_version": "1.5.0",
      "_model_name": "HTMLModel",
      "_view_count": null,
      "_view_module": "@jupyter-widgets/controls",
      "_view_module_version": "1.5.0",
      "_view_name": "HTMLView",
      "description": "",
      "description_tooltip": null,
      "layout": "IPY_MODEL_1535175520a1421390736836889992c7",
      "placeholder": "​",
      "style": "IPY_MODEL_55b733b46da843be8cf3caeaa7fb7204",
      "value": "tokenizer.json: 100%"
     }
    },
    "d813ba2de2b643aab7fab41c8d66986c": {
     "model_module": "@jupyter-widgets/controls",
     "model_module_version": "1.5.0",
     "model_name": "HBoxModel",
     "state": {
      "_dom_classes": [],
      "_model_module": "@jupyter-widgets/controls",
      "_model_module_version": "1.5.0",
      "_model_name": "HBoxModel",
      "_view_count": null,
      "_view_module": "@jupyter-widgets/controls",
      "_view_module_version": "1.5.0",
      "_view_name": "HBoxView",
      "box_style": "",
      "children": [
       "IPY_MODEL_55f7a9cb03ed44189d9ffe9c86bef505",
       "IPY_MODEL_9171b6b1d6a64e92aafdda1b6a010bdc",
       "IPY_MODEL_ded782e3ddf8406190299ba06cfd81ea"
      ],
      "layout": "IPY_MODEL_bc7d662528c64ff6a3c4357c838534e5"
     }
    },
    "ded782e3ddf8406190299ba06cfd81ea": {
     "model_module": "@jupyter-widgets/controls",
     "model_module_version": "1.5.0",
     "model_name": "HTMLModel",
     "state": {
      "_dom_classes": [],
      "_model_module": "@jupyter-widgets/controls",
      "_model_module_version": "1.5.0",
      "_model_name": "HTMLModel",
      "_view_count": null,
      "_view_module": "@jupyter-widgets/controls",
      "_view_module_version": "1.5.0",
      "_view_name": "HTMLView",
      "description": "",
      "description_tooltip": null,
      "layout": "IPY_MODEL_e12c61fc89a040bab81f0f6c87054573",
      "placeholder": "​",
      "style": "IPY_MODEL_1ef97c9c1bf54cabb751e3b2ff705858",
      "value": " 353M/353M [00:06&lt;00:00, 65.9MB/s]"
     }
    },
    "df128f76019f4b52bfb63145b9c9c108": {
     "model_module": "@jupyter-widgets/controls",
     "model_module_version": "1.5.0",
     "model_name": "DescriptionStyleModel",
     "state": {
      "_model_module": "@jupyter-widgets/controls",
      "_model_module_version": "1.5.0",
      "_model_name": "DescriptionStyleModel",
      "_view_count": null,
      "_view_module": "@jupyter-widgets/base",
      "_view_module_version": "1.2.0",
      "_view_name": "StyleView",
      "description_width": ""
     }
    },
    "e12c61fc89a040bab81f0f6c87054573": {
     "model_module": "@jupyter-widgets/base",
     "model_module_version": "1.2.0",
     "model_name": "LayoutModel",
     "state": {
      "_model_module": "@jupyter-widgets/base",
      "_model_module_version": "1.2.0",
      "_model_name": "LayoutModel",
      "_view_count": null,
      "_view_module": "@jupyter-widgets/base",
      "_view_module_version": "1.2.0",
      "_view_name": "LayoutView",
      "align_content": null,
      "align_items": null,
      "align_self": null,
      "border": null,
      "bottom": null,
      "display": null,
      "flex": null,
      "flex_flow": null,
      "grid_area": null,
      "grid_auto_columns": null,
      "grid_auto_flow": null,
      "grid_auto_rows": null,
      "grid_column": null,
      "grid_gap": null,
      "grid_row": null,
      "grid_template_areas": null,
      "grid_template_columns": null,
      "grid_template_rows": null,
      "height": null,
      "justify_content": null,
      "justify_items": null,
      "left": null,
      "margin": null,
      "max_height": null,
      "max_width": null,
      "min_height": null,
      "min_width": null,
      "object_fit": null,
      "object_position": null,
      "order": null,
      "overflow": null,
      "overflow_x": null,
      "overflow_y": null,
      "padding": null,
      "right": null,
      "top": null,
      "visibility": null,
      "width": null
     }
    },
    "e67db7653db0495985b17a530437097b": {
     "model_module": "@jupyter-widgets/controls",
     "model_module_version": "1.5.0",
     "model_name": "HTMLModel",
     "state": {
      "_dom_classes": [],
      "_model_module": "@jupyter-widgets/controls",
      "_model_module_version": "1.5.0",
      "_model_name": "HTMLModel",
      "_view_count": null,
      "_view_module": "@jupyter-widgets/controls",
      "_view_module_version": "1.5.0",
      "_view_name": "HTMLView",
      "description": "",
      "description_tooltip": null,
      "layout": "IPY_MODEL_4c8be9ab1c684468913727246f5df464",
      "placeholder": "​",
      "style": "IPY_MODEL_72973f963b5848a4aa4ec5d50cb47e77",
      "value": "tokenizer_config.json: 100%"
     }
    },
    "eac92432d57f4d50bd9f713d3e8c6f02": {
     "model_module": "@jupyter-widgets/base",
     "model_module_version": "1.2.0",
     "model_name": "LayoutModel",
     "state": {
      "_model_module": "@jupyter-widgets/base",
      "_model_module_version": "1.2.0",
      "_model_name": "LayoutModel",
      "_view_count": null,
      "_view_module": "@jupyter-widgets/base",
      "_view_module_version": "1.2.0",
      "_view_name": "LayoutView",
      "align_content": null,
      "align_items": null,
      "align_self": null,
      "border": null,
      "bottom": null,
      "display": null,
      "flex": null,
      "flex_flow": null,
      "grid_area": null,
      "grid_auto_columns": null,
      "grid_auto_flow": null,
      "grid_auto_rows": null,
      "grid_column": null,
      "grid_gap": null,
      "grid_row": null,
      "grid_template_areas": null,
      "grid_template_columns": null,
      "grid_template_rows": null,
      "height": null,
      "justify_content": null,
      "justify_items": null,
      "left": null,
      "margin": null,
      "max_height": null,
      "max_width": null,
      "min_height": null,
      "min_width": null,
      "object_fit": null,
      "object_position": null,
      "order": null,
      "overflow": null,
      "overflow_x": null,
      "overflow_y": null,
      "padding": null,
      "right": null,
      "top": null,
      "visibility": null,
      "width": null
     }
    },
    "f2b3d9312f4b4422ba944ee19b3d24a7": {
     "model_module": "@jupyter-widgets/base",
     "model_module_version": "1.2.0",
     "model_name": "LayoutModel",
     "state": {
      "_model_module": "@jupyter-widgets/base",
      "_model_module_version": "1.2.0",
      "_model_name": "LayoutModel",
      "_view_count": null,
      "_view_module": "@jupyter-widgets/base",
      "_view_module_version": "1.2.0",
      "_view_name": "LayoutView",
      "align_content": null,
      "align_items": null,
      "align_self": null,
      "border": null,
      "bottom": null,
      "display": null,
      "flex": null,
      "flex_flow": null,
      "grid_area": null,
      "grid_auto_columns": null,
      "grid_auto_flow": null,
      "grid_auto_rows": null,
      "grid_column": null,
      "grid_gap": null,
      "grid_row": null,
      "grid_template_areas": null,
      "grid_template_columns": null,
      "grid_template_rows": null,
      "height": null,
      "justify_content": null,
      "justify_items": null,
      "left": null,
      "margin": null,
      "max_height": null,
      "max_width": null,
      "min_height": null,
      "min_width": null,
      "object_fit": null,
      "object_position": null,
      "order": null,
      "overflow": null,
      "overflow_x": null,
      "overflow_y": null,
      "padding": null,
      "right": null,
      "top": null,
      "visibility": null,
      "width": null
     }
    },
    "f948112a9810473892cb54e34973562b": {
     "model_module": "@jupyter-widgets/base",
     "model_module_version": "1.2.0",
     "model_name": "LayoutModel",
     "state": {
      "_model_module": "@jupyter-widgets/base",
      "_model_module_version": "1.2.0",
      "_model_name": "LayoutModel",
      "_view_count": null,
      "_view_module": "@jupyter-widgets/base",
      "_view_module_version": "1.2.0",
      "_view_name": "LayoutView",
      "align_content": null,
      "align_items": null,
      "align_self": null,
      "border": null,
      "bottom": null,
      "display": null,
      "flex": null,
      "flex_flow": null,
      "grid_area": null,
      "grid_auto_columns": null,
      "grid_auto_flow": null,
      "grid_auto_rows": null,
      "grid_column": null,
      "grid_gap": null,
      "grid_row": null,
      "grid_template_areas": null,
      "grid_template_columns": null,
      "grid_template_rows": null,
      "height": null,
      "justify_content": null,
      "justify_items": null,
      "left": null,
      "margin": null,
      "max_height": null,
      "max_width": null,
      "min_height": null,
      "min_width": null,
      "object_fit": null,
      "object_position": null,
      "order": null,
      "overflow": null,
      "overflow_x": null,
      "overflow_y": null,
      "padding": null,
      "right": null,
      "top": null,
      "visibility": null,
      "width": null
     }
    },
    "fce5dfe7848a46e89ce6b3a09c49a0f0": {
     "model_module": "@jupyter-widgets/controls",
     "model_module_version": "1.5.0",
     "model_name": "FloatProgressModel",
     "state": {
      "_dom_classes": [],
      "_model_module": "@jupyter-widgets/controls",
      "_model_module_version": "1.5.0",
      "_model_name": "FloatProgressModel",
      "_view_count": null,
      "_view_module": "@jupyter-widgets/controls",
      "_view_module_version": "1.5.0",
      "_view_name": "ProgressView",
      "bar_style": "success",
      "description": "",
      "description_tooltip": null,
      "layout": "IPY_MODEL_279866f3500e46f3a433c36a65db0a35",
      "max": 1042301,
      "min": 0,
      "orientation": "horizontal",
      "style": "IPY_MODEL_817c3530c67c4816b29e27a35ba44255",
      "value": 1042301
     }
    },
    "fde23c6aa8c64b5caad763d2dfcc2c41": {
     "model_module": "@jupyter-widgets/base",
     "model_module_version": "1.2.0",
     "model_name": "LayoutModel",
     "state": {
      "_model_module": "@jupyter-widgets/base",
      "_model_module_version": "1.2.0",
      "_model_name": "LayoutModel",
      "_view_count": null,
      "_view_module": "@jupyter-widgets/base",
      "_view_module_version": "1.2.0",
      "_view_name": "LayoutView",
      "align_content": null,
      "align_items": null,
      "align_self": null,
      "border": null,
      "bottom": null,
      "display": null,
      "flex": null,
      "flex_flow": null,
      "grid_area": null,
      "grid_auto_columns": null,
      "grid_auto_flow": null,
      "grid_auto_rows": null,
      "grid_column": null,
      "grid_gap": null,
      "grid_row": null,
      "grid_template_areas": null,
      "grid_template_columns": null,
      "grid_template_rows": null,
      "height": null,
      "justify_content": null,
      "justify_items": null,
      "left": null,
      "margin": null,
      "max_height": null,
      "max_width": null,
      "min_height": null,
      "min_width": null,
      "object_fit": null,
      "object_position": null,
      "order": null,
      "overflow": null,
      "overflow_x": null,
      "overflow_y": null,
      "padding": null,
      "right": null,
      "top": null,
      "visibility": null,
      "width": null
     }
    }
   }
  }
 },
 "nbformat": 4,
 "nbformat_minor": 0
}
